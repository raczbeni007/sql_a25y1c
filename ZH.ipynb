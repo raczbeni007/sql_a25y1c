{
    "metadata": {
        "kernelspec": {
            "name": "SQL",
            "display_name": "SQL",
            "language": "sql"
        },
        "language_info": {
            "name": "sql",
            "version": ""
        }
    },
    "nbformat_minor": 2,
    "nbformat": 4,
    "cells": [
        {
            "cell_type": "markdown",
            "source": [
                "Teszt"
            ],
            "metadata": {
                "azdata_cell_guid": "e7999d68-3d0b-46a7-a371-da99163a8a60"
            },
            "attachments": {}
        }
    ]
}