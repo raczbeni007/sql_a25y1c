{
    "metadata": {
        "kernelspec": {
            "name": "SQL",
            "display_name": "SQL",
            "language": "sql"
        },
        "language_info": {
            "name": "sql",
            "version": ""
        }
    },
    "nbformat_minor": 2,
    "nbformat": 4,
    "cells": [
        {
            "cell_type": "markdown",
            "source": [
                "Teszt"
            ],
            "metadata": {
                "azdata_cell_guid": "e7999d68-3d0b-46a7-a371-da99163a8a60"
            },
            "attachments": {}
        },
        {
            "cell_type": "markdown",
            "source": [
                "**1\\. feladat**\n",
                "\n",
                "Készítsünk listát az egyes szálláshelyek átlagos csillagszámáról típus, illetve hely szerint csoportosítva (külön-külön)!\n",
                "\n",
                "- Az átlag 2 tizedesre kerekítve jelenjen meg\n",
                "- Hagyjuk ki azokat a szálláshelyeket, amelyek nevében kötőjel (-) van!"
            ],
            "metadata": {
                "azdata_cell_guid": "3637ad86-bbfe-42e4-bebe-902a7b497677"
            },
            "attachments": {}
        },
        {
            "cell_type": "code",
            "source": [
                "select tipus, hely, round(avg(csillagok_szama),2) as 'Átlagos csillagszám'\r\n",
                "from szallashely\r\n",
                "where szallas_nev not like '%-%'\r\n",
                "group by tipus, hely"
            ],
            "metadata": {
                "azdata_cell_guid": "76b1a554-7c95-44f9-bc1f-fb38daf82b13",
                "language": "sql"
            },
            "outputs": [
                {
                    "output_type": "display_data",
                    "data": {
                        "text/html": "(16 rows affected)"
                    },
                    "metadata": {}
                },
                {
                    "output_type": "display_data",
                    "data": {
                        "text/html": "Total execution time: 00:00:00.008"
                    },
                    "metadata": {}
                },
                {
                    "output_type": "execute_result",
                    "metadata": {},
                    "execution_count": 16,
                    "data": {
                        "application/vnd.dataresource+json": {
                            "schema": {
                                "fields": [
                                    {
                                        "name": "tipus"
                                    },
                                    {
                                        "name": "hely"
                                    },
                                    {
                                        "name": "Átlagos csillagszám"
                                    }
                                ]
                            },
                            "data": [
                                {
                                    "tipus": "Apartman",
                                    "hely": "Balaton-dél",
                                    "Átlagos csillagszám": "0"
                                },
                                {
                                    "tipus": "Hotel",
                                    "hely": "Balaton-dél",
                                    "Átlagos csillagszám": "3"
                                },
                                {
                                    "tipus": "panzió",
                                    "hely": "Balaton-dél",
                                    "Átlagos csillagszám": "3"
                                },
                                {
                                    "tipus": "vendégház",
                                    "hely": "Balaton-dél",
                                    "Átlagos csillagszám": "0"
                                },
                                {
                                    "tipus": "vendégház",
                                    "hely": "Balaton-észak",
                                    "Átlagos csillagszám": "0"
                                },
                                {
                                    "tipus": "panzió",
                                    "hely": "Békés megye",
                                    "Átlagos csillagszám": "3"
                                },
                                {
                                    "tipus": "Diákszálló",
                                    "hely": "Budapest",
                                    "Átlagos csillagszám": "0"
                                },
                                {
                                    "tipus": "Hotel",
                                    "hely": "Budapest",
                                    "Átlagos csillagszám": "3"
                                },
                                {
                                    "tipus": "panzió",
                                    "hely": "Budapest",
                                    "Átlagos csillagszám": "3"
                                },
                                {
                                    "tipus": "panzió",
                                    "hely": "Csongrád megye",
                                    "Átlagos csillagszám": "3"
                                },
                                {
                                    "tipus": "vendégház",
                                    "hely": "Csongrád megye",
                                    "Átlagos csillagszám": "0"
                                },
                                {
                                    "tipus": "Apartman",
                                    "hely": "Dél-Somogy",
                                    "Átlagos csillagszám": "0"
                                },
                                {
                                    "tipus": "vendégház",
                                    "hely": "Dél-Somogy",
                                    "Átlagos csillagszám": "0"
                                },
                                {
                                    "tipus": "Apartman",
                                    "hely": "Hajdúbihar megye",
                                    "Átlagos csillagszám": "0"
                                },
                                {
                                    "tipus": "Hotel",
                                    "hely": "Pest megye",
                                    "Átlagos csillagszám": "3"
                                },
                                {
                                    "tipus": "Hotel",
                                    "hely": "Tolna megye",
                                    "Átlagos csillagszám": "4"
                                }
                            ]
                        },
                        "text/html": [
                            "<table>",
                            "<tr><th>tipus</th><th>hely</th><th>Átlagos csillagszám</th></tr>",
                            "<tr><td>Apartman</td><td>Balaton-dél</td><td>0</td></tr>",
                            "<tr><td>Hotel</td><td>Balaton-dél</td><td>3</td></tr>",
                            "<tr><td>panzió</td><td>Balaton-dél</td><td>3</td></tr>",
                            "<tr><td>vendégház</td><td>Balaton-dél</td><td>0</td></tr>",
                            "<tr><td>vendégház</td><td>Balaton-észak</td><td>0</td></tr>",
                            "<tr><td>panzió</td><td>Békés megye</td><td>3</td></tr>",
                            "<tr><td>Diákszálló</td><td>Budapest</td><td>0</td></tr>",
                            "<tr><td>Hotel</td><td>Budapest</td><td>3</td></tr>",
                            "<tr><td>panzió</td><td>Budapest</td><td>3</td></tr>",
                            "<tr><td>panzió</td><td>Csongrád megye</td><td>3</td></tr>",
                            "<tr><td>vendégház</td><td>Csongrád megye</td><td>0</td></tr>",
                            "<tr><td>Apartman</td><td>Dél-Somogy</td><td>0</td></tr>",
                            "<tr><td>vendégház</td><td>Dél-Somogy</td><td>0</td></tr>",
                            "<tr><td>Apartman</td><td>Hajdúbihar megye</td><td>0</td></tr>",
                            "<tr><td>Hotel</td><td>Pest megye</td><td>3</td></tr>",
                            "<tr><td>Hotel</td><td>Tolna megye</td><td>4</td></tr>",
                            "</table>"
                        ]
                    }
                }
            ],
            "execution_count": 16
        },
        {
            "cell_type": "markdown",
            "source": [
                "**2\\. feladat**"
            ],
            "metadata": {
                "azdata_cell_guid": "3e0f22f9-29ee-4807-bb75-9ebb91fa6ae1"
            },
            "attachments": {}
        },
        {
            "cell_type": "markdown",
            "source": [
                "**3\\. feladat**"
            ],
            "metadata": {
                "azdata_cell_guid": "3eb6c852-d83e-4260-b8d7-1d7becdb53ba"
            },
            "attachments": {}
        }
    ]
}