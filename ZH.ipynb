{
    "metadata": {
        "kernelspec": {
            "name": "SQL",
            "display_name": "SQL",
            "language": "sql"
        },
        "language_info": {
            "name": "sql",
            "version": ""
        }
    },
    "nbformat_minor": 2,
    "nbformat": 4,
    "cells": [
        {
            "cell_type": "markdown",
            "source": [
                "Teszt"
            ],
            "metadata": {
                "azdata_cell_guid": "e7999d68-3d0b-46a7-a371-da99163a8a60"
            },
            "attachments": {}
        },
        {
            "cell_type": "markdown",
            "source": [
                "**1\\. feladat**"
            ],
            "metadata": {
                "azdata_cell_guid": "3637ad86-bbfe-42e4-bebe-902a7b497677"
            },
            "attachments": {}
        },
        {
            "cell_type": "markdown",
            "source": [
                "**2\\. feladat**"
            ],
            "metadata": {
                "azdata_cell_guid": "3e0f22f9-29ee-4807-bb75-9ebb91fa6ae1"
            },
            "attachments": {}
        },
        {
            "cell_type": "markdown",
            "source": [
                "**3\\. feladat**"
            ],
            "metadata": {
                "azdata_cell_guid": "3eb6c852-d83e-4260-b8d7-1d7becdb53ba"
            },
            "attachments": {}
        }
    ]
}