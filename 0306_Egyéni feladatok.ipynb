{
    "metadata": {
        "kernelspec": {
            "name": "SQL",
            "display_name": "SQL",
            "language": "sql"
        },
        "language_info": {
            "name": "sql",
            "version": ""
        }
    },
    "nbformat_minor": 2,
    "nbformat": 4,
    "cells": [
        {
            "cell_type": "code",
            "source": [
                "WITH atlagar\n",
                "AS (\n",
                "    SELECT AVG(listaar) AS atlagar\n",
                "    FROM termek\n",
                "    )\n",
                "SELECT count(CASE \n",
                "            WHEN listaar > atlagar * 1.5\n",
                "                OR listaar < atlagar * 0.5\n",
                "                THEN 1\n",
                "            END) AS 'Átlagártól jelentősen eltérő termékek száma'\n",
                "    , count(*) - count(CASE \n",
                "            WHEN listaar > atlagar * 1.5\n",
                "                OR listaar < atlagar * 0.5\n",
                "                THEN 1\n",
                "            END) AS 'Átlagáras termékek száma'\n",
                "FROM termek\n",
                "    , atlagar\n",
                ""
            ],
            "metadata": {
                "azdata_cell_guid": "75dab5fe-4f4f-4832-a63a-e0a356e95663",
                "language": "sql"
            },
            "outputs": [
                {
                    "output_type": "display_data",
                    "data": {
                        "text/html": "Warning: Null value is eliminated by an aggregate or other SET operation."
                    },
                    "metadata": {}
                },
                {
                    "output_type": "display_data",
                    "data": {
                        "text/html": "(1 row affected)"
                    },
                    "metadata": {}
                },
                {
                    "output_type": "display_data",
                    "data": {
                        "text/html": "Total execution time: 00:00:00.049"
                    },
                    "metadata": {}
                },
                {
                    "output_type": "execute_result",
                    "metadata": {},
                    "execution_count": 27,
                    "data": {
                        "application/vnd.dataresource+json": {
                            "schema": {
                                "fields": [
                                    {
                                        "name": "Átlagártól jelentősen eltérő termékek száma"
                                    },
                                    {
                                        "name": "Átlagáras termékek száma"
                                    }
                                ]
                            },
                            "data": [
                                {
                                    "Átlagártól jelentősen eltérő termékek száma": "489",
                                    "Átlagáras termékek száma": "62"
                                }
                            ]
                        },
                        "text/html": [
                            "<table>",
                            "<tr><th>Átlagártól jelentősen eltérő termékek száma</th><th>Átlagáras termékek száma</th></tr>",
                            "<tr><td>489</td><td>62</td></tr>",
                            "</table>"
                        ]
                    }
                }
            ],
            "execution_count": 27
        },
        {
            "cell_type": "code",
            "source": [
                "SELECT COUNT(CASE \n",
                "            WHEN leiras IS NULL\n",
                "                THEN 1\n",
                "            END) AS 'Üres leírások száma'\n",
                "    , COUNT(CASE \n",
                "            WHEN leiras IS NOT NULL\n",
                "                THEN 1\n",
                "            END) AS 'Nem üres leírások száma'\n",
                "    , round(COUNT(CASE \n",
                "                WHEN leiras IS NULL\n",
                "                    THEN 1\n",
                "                END) * 100 / COUNT(*), 0) AS 'Üres leírások aránya (%)'\n",
                "FROM termek;\n",
                ""
            ],
            "metadata": {
                "azdata_cell_guid": "fee31db5-468c-4116-91dc-8cfc2148ceb9",
                "language": "sql"
            },
            "outputs": [
                {
                    "output_type": "display_data",
                    "data": {
                        "text/html": "Warning: Null value is eliminated by an aggregate or other SET operation."
                    },
                    "metadata": {}
                },
                {
                    "output_type": "display_data",
                    "data": {
                        "text/html": "(1 row affected)"
                    },
                    "metadata": {}
                },
                {
                    "output_type": "display_data",
                    "data": {
                        "text/html": "Total execution time: 00:00:00.074"
                    },
                    "metadata": {}
                },
                {
                    "output_type": "execute_result",
                    "metadata": {},
                    "execution_count": 28,
                    "data": {
                        "application/vnd.dataresource+json": {
                            "schema": {
                                "fields": [
                                    {
                                        "name": "Üres leírások száma"
                                    },
                                    {
                                        "name": "Nem üres leírások száma"
                                    },
                                    {
                                        "name": "Üres leírások aránya (%)"
                                    }
                                ]
                            },
                            "data": [
                                {
                                    "Üres leírások száma": "527",
                                    "Nem üres leírások száma": "24",
                                    "Üres leírások aránya (%)": "95"
                                }
                            ]
                        },
                        "text/html": [
                            "<table>",
                            "<tr><th>Üres leírások száma</th><th>Nem üres leírások száma</th><th>Üres leírások aránya (%)</th></tr>",
                            "<tr><td>527</td><td>24</td><td>95</td></tr>",
                            "</table>"
                        ]
                    }
                }
            ],
            "execution_count": 28
        },
        {
            "cell_type": "code",
            "source": [
                "SELECT megys AS 'Mennyiségi egység'\n",
                "    , count(*) AS 'Termékek száma'\n",
                "    , round(avg(listaar), 0) AS 'Átlagos ár'\n",
                "FROM termek\n",
                "GROUP BY megys\n",
                ""
            ],
            "metadata": {
                "language": "sql",
                "azdata_cell_guid": "3df592f7-2785-4fc2-b502-6a9d7522e26c"
            },
            "outputs": [
                {
                    "output_type": "display_data",
                    "data": {
                        "text/html": "(6 rows affected)"
                    },
                    "metadata": {}
                },
                {
                    "output_type": "display_data",
                    "data": {
                        "text/html": "Total execution time: 00:00:00.061"
                    },
                    "metadata": {}
                },
                {
                    "output_type": "execute_result",
                    "execution_count": 32,
                    "data": {
                        "application/vnd.dataresource+json": {
                            "schema": {
                                "fields": [
                                    {
                                        "name": "Mennyiségi egység"
                                    },
                                    {
                                        "name": "Termékek száma"
                                    },
                                    {
                                        "name": "Átlagos ár"
                                    }
                                ]
                            },
                            "data": [
                                {
                                    "Mennyiségi egység": "csomag",
                                    "Termékek száma": "44",
                                    "Átlagos ár": "257"
                                },
                                {
                                    "Mennyiségi egység": "db",
                                    "Termékek száma": "483",
                                    "Átlagos ár": "861"
                                },
                                {
                                    "Mennyiségi egység": "doboz",
                                    "Termékek száma": "1",
                                    "Átlagos ár": "4575"
                                },
                                {
                                    "Mennyiségi egység": "ív",
                                    "Termékek száma": "21",
                                    "Átlagos ár": "32"
                                },
                                {
                                    "Mennyiségi egység": "tekercs",
                                    "Termékek száma": "1",
                                    "Átlagos ár": "148"
                                },
                                {
                                    "Mennyiségi egység": "üveg",
                                    "Termékek száma": "1",
                                    "Átlagos ár": "493"
                                }
                            ]
                        },
                        "text/html": "<table><tr><th>Mennyiségi egység</th><th>Termékek száma</th><th>Átlagos ár</th></tr><tr><td>csomag</td><td>44</td><td>257</td></tr><tr><td>db</td><td>483</td><td>861</td></tr><tr><td>doboz</td><td>1</td><td>4575</td></tr><tr><td>ív</td><td>21</td><td>32</td></tr><tr><td>tekercs</td><td>1</td><td>148</td></tr><tr><td>üveg</td><td>1</td><td>493</td></tr></table>"
                    },
                    "metadata": {}
                }
            ],
            "execution_count": 32
        },
        {
            "cell_type": "code",
            "source": [
                "WITH atlagar\n",
                "AS (\n",
                "    SELECT AVG(listaar) AS atlagar\n",
                "    FROM termek\n",
                "    )\n",
                "SELECT MAX(listaar) - MIN(listaar) AS 'Terjedelem'\n",
                "    , round(AVG(listaar), 0) AS 'Átlagár'\n",
                "    , COUNT(CASE \n",
                "            WHEN listaar < atlagar\n",
                "                THEN 1\n",
                "            END) AS 'Átlagár alatti termékek száma'\n",
                "    , COUNT(CASE \n",
                "            WHEN listaar > atlagar\n",
                "                THEN 1\n",
                "            END) AS 'Átlagár feletti termékek száma'\n",
                "FROM termek\n",
                "    , atlagar;\n",
                ""
            ],
            "metadata": {
                "language": "sql",
                "azdata_cell_guid": "3bb9ee04-4c23-4cd2-8e0a-6922ee32b942",
                "tags": []
            },
            "outputs": [
                {
                    "output_type": "display_data",
                    "data": {
                        "text/html": "Warning: Null value is eliminated by an aggregate or other SET operation."
                    },
                    "metadata": {}
                },
                {
                    "output_type": "display_data",
                    "data": {
                        "text/html": "(1 row affected)"
                    },
                    "metadata": {}
                },
                {
                    "output_type": "display_data",
                    "data": {
                        "text/html": "Total execution time: 00:00:00.066"
                    },
                    "metadata": {}
                },
                {
                    "output_type": "execute_result",
                    "metadata": {},
                    "execution_count": 29,
                    "data": {
                        "application/vnd.dataresource+json": {
                            "schema": {
                                "fields": [
                                    {
                                        "name": "Terjedelem"
                                    },
                                    {
                                        "name": "Átlagár"
                                    },
                                    {
                                        "name": "Átlagár alatti termékek száma"
                                    },
                                    {
                                        "name": "Átlagár feletti termékek száma"
                                    }
                                ]
                            },
                            "data": [
                                {
                                    "Terjedelem": "46000",
                                    "Átlagár": "786",
                                    "Átlagár alatti termékek száma": "505",
                                    "Átlagár feletti termékek száma": "46"
                                }
                            ]
                        },
                        "text/html": [
                            "<table>",
                            "<tr><th>Terjedelem</th><th>Átlagár</th><th>Átlagár alatti termékek száma</th><th>Átlagár feletti termékek száma</th></tr>",
                            "<tr><td>46000</td><td>786</td><td>505</td><td>46</td></tr>",
                            "</table>"
                        ]
                    }
                }
            ],
            "execution_count": 29
        },
        {
            "cell_type": "code",
            "source": [
                "SELECT megys AS 'Mennyiségi egység'\n",
                "    , sum(listaar) AS 'Termékek értéke mennyiségi egység szerint összesítve'\n",
                "FROM Termek\n",
                "GROUP BY megys\n",
                "ORDER BY sum(listaar) DESC\n",
                ""
            ],
            "metadata": {
                "language": "sql",
                "azdata_cell_guid": "9a5a2bde-32c8-4718-baa7-29d80d5630d3"
            },
            "outputs": [
                {
                    "output_type": "display_data",
                    "data": {
                        "text/html": "(6 rows affected)"
                    },
                    "metadata": {}
                },
                {
                    "output_type": "display_data",
                    "data": {
                        "text/html": "Total execution time: 00:00:00.044"
                    },
                    "metadata": {}
                },
                {
                    "output_type": "execute_result",
                    "metadata": {},
                    "execution_count": 30,
                    "data": {
                        "application/vnd.dataresource+json": {
                            "schema": {
                                "fields": [
                                    {
                                        "name": "Mennyiségi egység"
                                    },
                                    {
                                        "name": "Termékek értéke mennyiségi egység szerint összesítve"
                                    }
                                ]
                            },
                            "data": [
                                {
                                    "Mennyiségi egység": "db",
                                    "Termékek értéke mennyiségi egység szerint összesítve": "416027"
                                },
                                {
                                    "Mennyiségi egység": "csomag",
                                    "Termékek értéke mennyiségi egység szerint összesítve": "11328"
                                },
                                {
                                    "Mennyiségi egység": "doboz",
                                    "Termékek értéke mennyiségi egység szerint összesítve": "4575"
                                },
                                {
                                    "Mennyiségi egység": "ív",
                                    "Termékek értéke mennyiségi egység szerint összesítve": "670"
                                },
                                {
                                    "Mennyiségi egység": "üveg",
                                    "Termékek értéke mennyiségi egység szerint összesítve": "493"
                                },
                                {
                                    "Mennyiségi egység": "tekercs",
                                    "Termékek értéke mennyiségi egység szerint összesítve": "148"
                                }
                            ]
                        },
                        "text/html": [
                            "<table>",
                            "<tr><th>Mennyiségi egység</th><th>Termékek értéke mennyiségi egység szerint összesítve</th></tr>",
                            "<tr><td>db</td><td>416027</td></tr>",
                            "<tr><td>csomag</td><td>11328</td></tr>",
                            "<tr><td>doboz</td><td>4575</td></tr>",
                            "<tr><td>ív</td><td>670</td></tr>",
                            "<tr><td>üveg</td><td>493</td></tr>",
                            "<tr><td>tekercs</td><td>148</td></tr>",
                            "</table>"
                        ]
                    }
                }
            ],
            "execution_count": 30
        },
        {
            "cell_type": "code",
            "source": [
                "SELECT sum(listaar * keszlet) AS 'Raktárkészlet értéke'\n",
                "FROM termek\n",
                ""
            ],
            "metadata": {
                "language": "sql",
                "azdata_cell_guid": "ce9d93f2-c22b-47d6-85ad-d4cdd60f297f"
            },
            "outputs": [
                {
                    "output_type": "display_data",
                    "data": {
                        "text/html": "(1 row affected)"
                    },
                    "metadata": {}
                },
                {
                    "output_type": "display_data",
                    "data": {
                        "text/html": "Total execution time: 00:00:00.091"
                    },
                    "metadata": {}
                },
                {
                    "output_type": "execute_result",
                    "metadata": {},
                    "execution_count": 31,
                    "data": {
                        "application/vnd.dataresource+json": {
                            "schema": {
                                "fields": [
                                    {
                                        "name": "Raktárkészlet értéke"
                                    }
                                ]
                            },
                            "data": [
                                {
                                    "Raktárkészlet értéke": "254149100"
                                }
                            ]
                        },
                        "text/html": [
                            "<table>",
                            "<tr><th>Raktárkészlet értéke</th></tr>",
                            "<tr><td>254149100</td></tr>",
                            "</table>"
                        ]
                    }
                }
            ],
            "execution_count": 31
        },
        {
            "cell_type": "code",
            "source": [
                "SELECT round(stdev(listaar), 0) AS 'Átlagtól való átlagos eltérés'\n",
                "    , round(var(listaar), 0) AS 'Variancia'\n",
                "FROM termek\n",
                ""
            ],
            "metadata": {
                "language": "sql",
                "azdata_cell_guid": "0b61520f-6975-4bc0-bc57-d700c53a403f",
                "tags": []
            },
            "outputs": [
                {
                    "output_type": "display_data",
                    "data": {
                        "text/html": "(1 row affected)"
                    },
                    "metadata": {}
                },
                {
                    "output_type": "display_data",
                    "data": {
                        "text/html": "Total execution time: 00:00:00.059"
                    },
                    "metadata": {}
                },
                {
                    "output_type": "execute_result",
                    "metadata": {},
                    "execution_count": 32,
                    "data": {
                        "application/vnd.dataresource+json": {
                            "schema": {
                                "fields": [
                                    {
                                        "name": "Átlagtól való átlagos eltérés"
                                    },
                                    {
                                        "name": "Variancia"
                                    }
                                ]
                            },
                            "data": [
                                {
                                    "Átlagtól való átlagos eltérés": "3602",
                                    "Variancia": "12977871"
                                }
                            ]
                        },
                        "text/html": [
                            "<table>",
                            "<tr><th>Átlagtól való átlagos eltérés</th><th>Variancia</th></tr>",
                            "<tr><td>3602</td><td>12977871</td></tr>",
                            "</table>"
                        ]
                    }
                }
            ],
            "execution_count": 32
        },
        {
            "cell_type": "code",
            "source": [
                "SELECT LEN(megnevezes) AS 'Terméknévhossz',\n",
                "       count(*) AS 'Ilyen hosszú leírással rendelkező termékek száma'\n",
                "FROM Termek\n",
                "GROUP BY LEN(megnevezes)\n",
                "ORDER BY 1"
            ],
            "metadata": {
                "language": "sql",
                "azdata_cell_guid": "eeb20479-0110-436f-9983-b8cd96d1e9cf"
            },
            "outputs": [
                {
                    "output_type": "display_data",
                    "data": {
                        "text/html": "(33 rows affected)"
                    },
                    "metadata": {}
                },
                {
                    "output_type": "display_data",
                    "data": {
                        "text/html": "Total execution time: 00:00:00.047"
                    },
                    "metadata": {}
                },
                {
                    "output_type": "execute_result",
                    "metadata": {},
                    "execution_count": 33,
                    "data": {
                        "application/vnd.dataresource+json": {
                            "schema": {
                                "fields": [
                                    {
                                        "name": "Terméknévhossz"
                                    },
                                    {
                                        "name": "Ilyen hosszú leírással rendelkező termékek száma"
                                    }
                                ]
                            },
                            "data": [
                                {
                                    "Terméknévhossz": "3",
                                    "Ilyen hosszú leírással rendelkező termékek száma": "2"
                                },
                                {
                                    "Terméknévhossz": "5",
                                    "Ilyen hosszú leírással rendelkező termékek száma": "2"
                                },
                                {
                                    "Terméknévhossz": "6",
                                    "Ilyen hosszú leírással rendelkező termékek száma": "1"
                                },
                                {
                                    "Terméknévhossz": "7",
                                    "Ilyen hosszú leírással rendelkező termékek száma": "2"
                                },
                                {
                                    "Terméknévhossz": "8",
                                    "Ilyen hosszú leírással rendelkező termékek száma": "5"
                                },
                                {
                                    "Terméknévhossz": "9",
                                    "Ilyen hosszú leírással rendelkező termékek száma": "8"
                                },
                                {
                                    "Terméknévhossz": "10",
                                    "Ilyen hosszú leírással rendelkező termékek száma": "15"
                                },
                                {
                                    "Terméknévhossz": "11",
                                    "Ilyen hosszú leírással rendelkező termékek száma": "18"
                                },
                                {
                                    "Terméknévhossz": "12",
                                    "Ilyen hosszú leírással rendelkező termékek száma": "23"
                                },
                                {
                                    "Terméknévhossz": "13",
                                    "Ilyen hosszú leírással rendelkező termékek száma": "30"
                                },
                                {
                                    "Terméknévhossz": "14",
                                    "Ilyen hosszú leírással rendelkező termékek száma": "35"
                                },
                                {
                                    "Terméknévhossz": "15",
                                    "Ilyen hosszú leírással rendelkező termékek száma": "32"
                                },
                                {
                                    "Terméknévhossz": "16",
                                    "Ilyen hosszú leírással rendelkező termékek száma": "42"
                                },
                                {
                                    "Terméknévhossz": "17",
                                    "Ilyen hosszú leírással rendelkező termékek száma": "32"
                                },
                                {
                                    "Terméknévhossz": "18",
                                    "Ilyen hosszú leírással rendelkező termékek száma": "38"
                                },
                                {
                                    "Terméknévhossz": "19",
                                    "Ilyen hosszú leírással rendelkező termékek száma": "37"
                                },
                                {
                                    "Terméknévhossz": "20",
                                    "Ilyen hosszú leírással rendelkező termékek száma": "35"
                                },
                                {
                                    "Terméknévhossz": "21",
                                    "Ilyen hosszú leírással rendelkező termékek száma": "37"
                                },
                                {
                                    "Terméknévhossz": "22",
                                    "Ilyen hosszú leírással rendelkező termékek száma": "26"
                                },
                                {
                                    "Terméknévhossz": "23",
                                    "Ilyen hosszú leírással rendelkező termékek száma": "20"
                                },
                                {
                                    "Terméknévhossz": "24",
                                    "Ilyen hosszú leírással rendelkező termékek száma": "29"
                                },
                                {
                                    "Terméknévhossz": "25",
                                    "Ilyen hosszú leírással rendelkező termékek száma": "16"
                                },
                                {
                                    "Terméknévhossz": "26",
                                    "Ilyen hosszú leírással rendelkező termékek száma": "12"
                                },
                                {
                                    "Terméknévhossz": "27",
                                    "Ilyen hosszú leírással rendelkező termékek száma": "10"
                                },
                                {
                                    "Terméknévhossz": "28",
                                    "Ilyen hosszú leírással rendelkező termékek száma": "8"
                                },
                                {
                                    "Terméknévhossz": "29",
                                    "Ilyen hosszú leírással rendelkező termékek száma": "11"
                                },
                                {
                                    "Terméknévhossz": "30",
                                    "Ilyen hosszú leírással rendelkező termékek száma": "11"
                                },
                                {
                                    "Terméknévhossz": "31",
                                    "Ilyen hosszú leírással rendelkező termékek száma": "5"
                                },
                                {
                                    "Terméknévhossz": "32",
                                    "Ilyen hosszú leírással rendelkező termékek száma": "1"
                                },
                                {
                                    "Terméknévhossz": "33",
                                    "Ilyen hosszú leírással rendelkező termékek száma": "2"
                                },
                                {
                                    "Terméknévhossz": "36",
                                    "Ilyen hosszú leírással rendelkező termékek száma": "2"
                                },
                                {
                                    "Terméknévhossz": "39",
                                    "Ilyen hosszú leírással rendelkező termékek száma": "2"
                                },
                                {
                                    "Terméknévhossz": "40",
                                    "Ilyen hosszú leírással rendelkező termékek száma": "2"
                                }
                            ]
                        },
                        "text/html": [
                            "<table>",
                            "<tr><th>Terméknévhossz</th><th>Ilyen hosszú leírással rendelkező termékek száma</th></tr>",
                            "<tr><td>3</td><td>2</td></tr>",
                            "<tr><td>5</td><td>2</td></tr>",
                            "<tr><td>6</td><td>1</td></tr>",
                            "<tr><td>7</td><td>2</td></tr>",
                            "<tr><td>8</td><td>5</td></tr>",
                            "<tr><td>9</td><td>8</td></tr>",
                            "<tr><td>10</td><td>15</td></tr>",
                            "<tr><td>11</td><td>18</td></tr>",
                            "<tr><td>12</td><td>23</td></tr>",
                            "<tr><td>13</td><td>30</td></tr>",
                            "<tr><td>14</td><td>35</td></tr>",
                            "<tr><td>15</td><td>32</td></tr>",
                            "<tr><td>16</td><td>42</td></tr>",
                            "<tr><td>17</td><td>32</td></tr>",
                            "<tr><td>18</td><td>38</td></tr>",
                            "<tr><td>19</td><td>37</td></tr>",
                            "<tr><td>20</td><td>35</td></tr>",
                            "<tr><td>21</td><td>37</td></tr>",
                            "<tr><td>22</td><td>26</td></tr>",
                            "<tr><td>23</td><td>20</td></tr>",
                            "<tr><td>24</td><td>29</td></tr>",
                            "<tr><td>25</td><td>16</td></tr>",
                            "<tr><td>26</td><td>12</td></tr>",
                            "<tr><td>27</td><td>10</td></tr>",
                            "<tr><td>28</td><td>8</td></tr>",
                            "<tr><td>29</td><td>11</td></tr>",
                            "<tr><td>30</td><td>11</td></tr>",
                            "<tr><td>31</td><td>5</td></tr>",
                            "<tr><td>32</td><td>1</td></tr>",
                            "<tr><td>33</td><td>2</td></tr>",
                            "<tr><td>36</td><td>2</td></tr>",
                            "<tr><td>39</td><td>2</td></tr>",
                            "<tr><td>40</td><td>2</td></tr>",
                            "</table>"
                        ]
                    }
                }
            ],
            "execution_count": 33
        },
        {
            "cell_type": "markdown",
            "source": [
                ""
            ],
            "metadata": {
                "azdata_cell_guid": "c6861dfa-b68f-4ab2-b5b3-cc6131231ef5"
            }
        }
    ]
}