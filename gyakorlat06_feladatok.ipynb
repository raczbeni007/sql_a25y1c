{
    "metadata": {
        "kernelspec": {
            "name": "SQL",
            "display_name": "SQL",
            "language": "sql"
        },
        "language_info": {
            "name": "sql",
            "version": ""
        }
    },
    "nbformat_minor": 2,
    "nbformat": 4,
    "cells": [
        {
            "cell_type": "markdown",
            "source": [
                "1. <span style=\"background-color: rgb(255, 255, 255); color: rgb(0, 0, 0); font-family: &quot;Open Sans&quot;, sans-serif; font-size: 14.44px;\">Készítsünk sorszámozott listát a szálláshelyek adatairól!&nbsp;</span> \n",
                "\n",
                "a. A lista legyen a szálláshely típusa szerint, azon belül hely szerint, majd a neve szerint növekvően rendezve! \n",
                "\n",
                "b. A számozás típusonként kezdődjön újra!"
            ],
            "metadata": {
                "azdata_cell_guid": "363cd270-6577-449b-9c89-d4b7c7972d52"
            },
            "attachments": {}
        },
        {
            "cell_type": "code",
            "source": [
                "SELECT ROW_Number() over(partition by tipus order by tipus, hely, szallas_nev) as 'Sorszám', *\r\n",
                "from Szallashely"
            ],
            "metadata": {
                "azdata_cell_guid": "6ab9f633-a3b5-48c9-a1dc-4fb8235ae85b",
                "language": "sql",
                "tags": []
            },
            "outputs": [
                {
                    "output_type": "display_data",
                    "data": {
                        "text/html": "(21 rows affected)"
                    },
                    "metadata": {}
                },
                {
                    "output_type": "display_data",
                    "data": {
                        "text/html": "Total execution time: 00:00:00.010"
                    },
                    "metadata": {}
                },
                {
                    "output_type": "execute_result",
                    "metadata": {},
                    "execution_count": 7,
                    "data": {
                        "application/vnd.dataresource+json": {
                            "schema": {
                                "fields": [
                                    {
                                        "name": "Sorszám"
                                    },
                                    {
                                        "name": "SZALLAS_ID"
                                    },
                                    {
                                        "name": "SZALLAS_NEV"
                                    },
                                    {
                                        "name": "HELY"
                                    },
                                    {
                                        "name": "CSILLAGOK_SZAMA"
                                    },
                                    {
                                        "name": "TIPUS"
                                    },
                                    {
                                        "name": "ROGZITETTE"
                                    },
                                    {
                                        "name": "ROGZ_IDO"
                                    },
                                    {
                                        "name": "CIM"
                                    }
                                ]
                            },
                            "data": [
                                {
                                    "Sorszám": "1",
                                    "SZALLAS_ID": "7",
                                    "SZALLAS_NEV": "Szieszta Apartmanház",
                                    "HELY": "Balaton-dél",
                                    "CSILLAGOK_SZAMA": "0",
                                    "TIPUS": "Apartman",
                                    "ROGZITETTE": "Mari",
                                    "ROGZ_IDO": "2016-03-11",
                                    "CIM": "8630 Balatonboglár, Dózsa György utca 108"
                                },
                                {
                                    "Sorszám": "2",
                                    "SZALLAS_ID": "18",
                                    "SZALLAS_NEV": "Fortuna Apartman",
                                    "HELY": "Dél-Somogy",
                                    "CSILLAGOK_SZAMA": "0",
                                    "TIPUS": "Apartman",
                                    "ROGZITETTE": "Béla",
                                    "ROGZ_IDO": "2016-04-07",
                                    "CIM": "7570 Barcs, Kossuth u. 13."
                                },
                                {
                                    "Sorszám": "3",
                                    "SZALLAS_ID": "3",
                                    "SZALLAS_NEV": "Fortuna Apartman",
                                    "HELY": "Hajdúbihar megye",
                                    "CSILLAGOK_SZAMA": "0",
                                    "TIPUS": "Apartman",
                                    "ROGZITETTE": "Sára",
                                    "ROGZ_IDO": "2016-03-06",
                                    "CIM": "4200 Hajdúszoboszló, Wesselényi utca 56."
                                },
                                {
                                    "Sorszám": "1",
                                    "SZALLAS_ID": "20",
                                    "SZALLAS_NEV": "Kollégium",
                                    "HELY": "Budapest",
                                    "CSILLAGOK_SZAMA": "0",
                                    "TIPUS": "Diákszálló",
                                    "ROGZITETTE": "Sára",
                                    "ROGZ_IDO": "2016-04-07",
                                    "CIM": "1146 Budapest, Ajtósi Dürer sor 23."
                                },
                                {
                                    "Sorszám": "1",
                                    "SZALLAS_ID": "8",
                                    "SZALLAS_NEV": "Hotel Három Hattyú",
                                    "HELY": "Balaton-dél",
                                    "CSILLAGOK_SZAMA": "4",
                                    "TIPUS": "Hotel",
                                    "ROGZITETTE": "Béla",
                                    "ROGZ_IDO": "2016-03-13",
                                    "CIM": "8623 Balatonföldvár, Rákóczi Ferenc út 45."
                                },
                                {
                                    "Sorszám": "2",
                                    "SZALLAS_ID": "6",
                                    "SZALLAS_NEV": "Kentaur Hotel",
                                    "HELY": "Balaton-dél",
                                    "CSILLAGOK_SZAMA": "3",
                                    "TIPUS": "Hotel",
                                    "ROGZITETTE": "Béla",
                                    "ROGZ_IDO": "2016-03-08",
                                    "CIM": "8600 Siófok (Széplak), Akácfa utca 1"
                                },
                                {
                                    "Sorszám": "3",
                                    "SZALLAS_ID": "12",
                                    "SZALLAS_NEV": "Gold Hotel",
                                    "HELY": "Budapest",
                                    "CSILLAGOK_SZAMA": "3",
                                    "TIPUS": "Hotel",
                                    "ROGZITETTE": "Béla",
                                    "ROGZ_IDO": "2016-03-24",
                                    "CIM": "1016 Budapest, Hegyalja út 12"
                                },
                                {
                                    "Sorszám": "4",
                                    "SZALLAS_ID": "10",
                                    "SZALLAS_NEV": "Lagúna Hotel",
                                    "HELY": "Budapest",
                                    "CSILLAGOK_SZAMA": "4",
                                    "TIPUS": "Hotel",
                                    "ROGZITETTE": "Sára",
                                    "ROGZ_IDO": "2016-03-20",
                                    "CIM": "1097 Budapest, Albert Flórián út 3"
                                },
                                {
                                    "Sorszám": "5",
                                    "SZALLAS_ID": "16",
                                    "SZALLAS_NEV": "Bagoly Hotel",
                                    "HELY": "Pest megye",
                                    "CSILLAGOK_SZAMA": "3",
                                    "TIPUS": "Hotel",
                                    "ROGZITETTE": "Mari",
                                    "ROGZ_IDO": "2016-04-01",
                                    "CIM": "2230 Gyömrő, Bergszász u. 5."
                                },
                                {
                                    "Sorszám": "6",
                                    "SZALLAS_ID": "17",
                                    "SZALLAS_NEV": "Szarvas Hotel",
                                    "HELY": "Tolna megye",
                                    "CSILLAGOK_SZAMA": "4",
                                    "TIPUS": "Hotel",
                                    "ROGZITETTE": "Béla",
                                    "ROGZ_IDO": "2016-04-04",
                                    "CIM": "7121 Szálka, Petőfi Sándor u."
                                },
                                {
                                    "Sorszám": "1",
                                    "SZALLAS_ID": "9",
                                    "SZALLAS_NEV": "Jáde panzió",
                                    "HELY": "Balaton-dél",
                                    "CSILLAGOK_SZAMA": "3",
                                    "TIPUS": "panzió",
                                    "ROGZITETTE": "Mari",
                                    "ROGZ_IDO": "2016-03-16",
                                    "CIM": "8624 Balatonföldvár, Kiss u.2."
                                },
                                {
                                    "Sorszám": "2",
                                    "SZALLAS_ID": "15",
                                    "SZALLAS_NEV": "Tímárház Panzió",
                                    "HELY": "Balaton-dél",
                                    "CSILLAGOK_SZAMA": "3",
                                    "TIPUS": "panzió",
                                    "ROGZITETTE": "Béla",
                                    "ROGZ_IDO": "2016-03-29",
                                    "CIM": "8600 Siófok, Virág utca 1"
                                },
                                {
                                    "Sorszám": "3",
                                    "SZALLAS_ID": "5",
                                    "SZALLAS_NEV": "Fortuna Panzió",
                                    "HELY": "Békés megye",
                                    "CSILLAGOK_SZAMA": "3",
                                    "TIPUS": "panzió",
                                    "ROGZITETTE": "Sára",
                                    "ROGZ_IDO": "2016-03-08",
                                    "CIM": "5900 Orosháza, Gyopárosfürdő Tópart utca 3."
                                },
                                {
                                    "Sorszám": "4",
                                    "SZALLAS_ID": "4",
                                    "SZALLAS_NEV": "Fortuna panzió",
                                    "HELY": "Budapest",
                                    "CSILLAGOK_SZAMA": "3",
                                    "TIPUS": "panzió",
                                    "ROGZITETTE": "Béla",
                                    "ROGZ_IDO": "2016-03-07",
                                    "CIM": "1019 Budapest XIV. Cinkotai út 86."
                                },
                                {
                                    "Sorszám": "5",
                                    "SZALLAS_ID": "13",
                                    "SZALLAS_NEV": "Riviéra Panzió",
                                    "HELY": "Csongrád megye",
                                    "CSILLAGOK_SZAMA": "3",
                                    "TIPUS": "panzió",
                                    "ROGZITETTE": "Sára",
                                    "ROGZ_IDO": "2016-03-27",
                                    "CIM": "6722 Szeged, Petőfi Sándor út 3."
                                },
                                {
                                    "Sorszám": "1",
                                    "SZALLAS_ID": "2",
                                    "SZALLAS_NEV": "Családi Ház",
                                    "HELY": "Balaton-dél",
                                    "CSILLAGOK_SZAMA": "0",
                                    "TIPUS": "vendégház",
                                    "ROGZITETTE": "Béla",
                                    "ROGZ_IDO": "2016-03-02",
                                    "CIM": "8630 Balatonboglár, József Attila utca 25"
                                },
                                {
                                    "Sorszám": "2",
                                    "SZALLAS_ID": "1",
                                    "SZALLAS_NEV": "Sába-Ház",
                                    "HELY": "Balaton-dél",
                                    "CSILLAGOK_SZAMA": "0",
                                    "TIPUS": "vendégház",
                                    "ROGZITETTE": "Béla",
                                    "ROGZ_IDO": "2016-02-28",
                                    "CIM": "8630 Balatonboglár, Radnóti Miklós utca 8"
                                },
                                {
                                    "Sorszám": "3",
                                    "SZALLAS_ID": "11",
                                    "SZALLAS_NEV": "Partiszél Vendégház",
                                    "HELY": "Balaton-észak",
                                    "CSILLAGOK_SZAMA": "0",
                                    "TIPUS": "vendégház",
                                    "ROGZITETTE": "Béla",
                                    "ROGZ_IDO": "2016-03-22",
                                    "CIM": "8220 Balatonalmádi Neptun u. 23."
                                },
                                {
                                    "Sorszám": "4",
                                    "SZALLAS_ID": "14",
                                    "SZALLAS_NEV": "Nyárfás Vendégház",
                                    "HELY": "Csongrád megye",
                                    "CSILLAGOK_SZAMA": "0",
                                    "TIPUS": "vendégház",
                                    "ROGZITETTE": "Béla",
                                    "ROGZ_IDO": "2016-03-27",
                                    "CIM": "6723 Szeged, Nagy u. 12."
                                },
                                {
                                    "Sorszám": "5",
                                    "SZALLAS_ID": "21",
                                    "SZALLAS_NEV": "Müller Vendégház",
                                    "HELY": "Dél-Somogy",
                                    "CSILLAGOK_SZAMA": "0",
                                    "TIPUS": "vendégház",
                                    "ROGZITETTE": "Béla",
                                    "ROGZ_IDO": "2016-04-07",
                                    "CIM": "7570 Barcs, Magyar u. 10."
                                },
                                {
                                    "Sorszám": "6",
                                    "SZALLAS_ID": "19",
                                    "SZALLAS_NEV": "Nyárfás Vendégház",
                                    "HELY": "Dél-Somogy",
                                    "CSILLAGOK_SZAMA": "0",
                                    "TIPUS": "vendégház",
                                    "ROGZITETTE": "Sára",
                                    "ROGZ_IDO": "2016-04-07",
                                    "CIM": "7570 Barcs, Bajcsy-Zs. u. 53"
                                }
                            ]
                        },
                        "text/html": [
                            "<table>",
                            "<tr><th>Sorszám</th><th>SZALLAS_ID</th><th>SZALLAS_NEV</th><th>HELY</th><th>CSILLAGOK_SZAMA</th><th>TIPUS</th><th>ROGZITETTE</th><th>ROGZ_IDO</th><th>CIM</th></tr>",
                            "<tr><td>1</td><td>7</td><td>Szieszta Apartmanház</td><td>Balaton-dél</td><td>0</td><td>Apartman</td><td>Mari</td><td>2016-03-11</td><td>8630 Balatonboglár, Dózsa György utca 108</td></tr>",
                            "<tr><td>2</td><td>18</td><td>Fortuna Apartman</td><td>Dél-Somogy</td><td>0</td><td>Apartman</td><td>Béla</td><td>2016-04-07</td><td>7570 Barcs, Kossuth u. 13.</td></tr>",
                            "<tr><td>3</td><td>3</td><td>Fortuna Apartman</td><td>Hajdúbihar megye</td><td>0</td><td>Apartman</td><td>Sára</td><td>2016-03-06</td><td>4200 Hajdúszoboszló, Wesselényi utca 56.</td></tr>",
                            "<tr><td>1</td><td>20</td><td>Kollégium</td><td>Budapest</td><td>0</td><td>Diákszálló</td><td>Sára</td><td>2016-04-07</td><td>1146 Budapest, Ajtósi Dürer sor 23.</td></tr>",
                            "<tr><td>1</td><td>8</td><td>Hotel Három Hattyú</td><td>Balaton-dél</td><td>4</td><td>Hotel</td><td>Béla</td><td>2016-03-13</td><td>8623 Balatonföldvár, Rákóczi Ferenc út 45.</td></tr>",
                            "<tr><td>2</td><td>6</td><td>Kentaur Hotel</td><td>Balaton-dél</td><td>3</td><td>Hotel</td><td>Béla</td><td>2016-03-08</td><td>8600 Siófok (Széplak), Akácfa utca 1</td></tr>",
                            "<tr><td>3</td><td>12</td><td>Gold Hotel</td><td>Budapest</td><td>3</td><td>Hotel</td><td>Béla</td><td>2016-03-24</td><td>1016 Budapest, Hegyalja út 12</td></tr>",
                            "<tr><td>4</td><td>10</td><td>Lagúna Hotel</td><td>Budapest</td><td>4</td><td>Hotel</td><td>Sára</td><td>2016-03-20</td><td>1097 Budapest, Albert Flórián út 3</td></tr>",
                            "<tr><td>5</td><td>16</td><td>Bagoly Hotel</td><td>Pest megye</td><td>3</td><td>Hotel</td><td>Mari</td><td>2016-04-01</td><td>2230 Gyömrő, Bergszász u. 5.</td></tr>",
                            "<tr><td>6</td><td>17</td><td>Szarvas Hotel</td><td>Tolna megye</td><td>4</td><td>Hotel</td><td>Béla</td><td>2016-04-04</td><td>7121 Szálka, Petőfi Sándor u.</td></tr>",
                            "<tr><td>1</td><td>9</td><td>Jáde panzió</td><td>Balaton-dél</td><td>3</td><td>panzió</td><td>Mari</td><td>2016-03-16</td><td>8624 Balatonföldvár, Kiss u.2.</td></tr>",
                            "<tr><td>2</td><td>15</td><td>Tímárház Panzió</td><td>Balaton-dél</td><td>3</td><td>panzió</td><td>Béla</td><td>2016-03-29</td><td>8600 Siófok, Virág utca 1</td></tr>",
                            "<tr><td>3</td><td>5</td><td>Fortuna Panzió</td><td>Békés megye</td><td>3</td><td>panzió</td><td>Sára</td><td>2016-03-08</td><td>5900 Orosháza, Gyopárosfürdő Tópart utca 3.</td></tr>",
                            "<tr><td>4</td><td>4</td><td>Fortuna panzió</td><td>Budapest</td><td>3</td><td>panzió</td><td>Béla</td><td>2016-03-07</td><td>1019 Budapest XIV. Cinkotai út 86.</td></tr>",
                            "<tr><td>5</td><td>13</td><td>Riviéra Panzió</td><td>Csongrád megye</td><td>3</td><td>panzió</td><td>Sára</td><td>2016-03-27</td><td>6722 Szeged, Petőfi Sándor út 3.</td></tr>",
                            "<tr><td>1</td><td>2</td><td>Családi Ház</td><td>Balaton-dél</td><td>0</td><td>vendégház</td><td>Béla</td><td>2016-03-02</td><td>8630 Balatonboglár, József Attila utca 25</td></tr>",
                            "<tr><td>2</td><td>1</td><td>Sába-Ház</td><td>Balaton-dél</td><td>0</td><td>vendégház</td><td>Béla</td><td>2016-02-28</td><td>8630 Balatonboglár, Radnóti Miklós utca 8</td></tr>",
                            "<tr><td>3</td><td>11</td><td>Partiszél Vendégház</td><td>Balaton-észak</td><td>0</td><td>vendégház</td><td>Béla</td><td>2016-03-22</td><td>8220 Balatonalmádi Neptun u. 23.</td></tr>",
                            "<tr><td>4</td><td>14</td><td>Nyárfás Vendégház</td><td>Csongrád megye</td><td>0</td><td>vendégház</td><td>Béla</td><td>2016-03-27</td><td>6723 Szeged, Nagy u. 12.</td></tr>",
                            "<tr><td>5</td><td>21</td><td>Müller Vendégház</td><td>Dél-Somogy</td><td>0</td><td>vendégház</td><td>Béla</td><td>2016-04-07</td><td>7570 Barcs, Magyar u. 10.</td></tr>",
                            "<tr><td>6</td><td>19</td><td>Nyárfás Vendégház</td><td>Dél-Somogy</td><td>0</td><td>vendégház</td><td>Sára</td><td>2016-04-07</td><td>7570 Barcs, Bajcsy-Zs. u. 53</td></tr>",
                            "</table>"
                        ]
                    }
                }
            ],
            "execution_count": 7
        },
        {
            "cell_type": "markdown",
            "source": [
                "2. <span style=\"background-color: rgb(255, 255, 255); color: rgb(0, 0, 0); font-family: &quot;Open Sans&quot;, sans-serif; font-size: 14.44px;\">Készítsünk lekérdezést, amely a foglalások adatait jeleníti meg!&nbsp;</span> \n",
                "\n",
                "a. A lista tartalmazzon két új oszlopot, amelyek az adott ügyfél legrövidebb, illetve leghosszabb foglalásának hosszát (a foglalt napok számát) mutatják meg! \n",
                "\n",
                "b. Az oszlopokat nevezzük el értelemszerűen!"
            ],
            "metadata": {
                "azdata_cell_guid": "ea75c103-911f-41a3-a32c-3d40fb3e4e4a"
            },
            "attachments": {}
        },
        {
            "cell_type": "code",
            "source": [
                "select * \r\n",
                "from szallashely"
            ],
            "metadata": {
                "azdata_cell_guid": "222b9618-a8e8-42b4-a8e8-d002257122b7",
                "language": "sql"
            },
            "outputs": [
                {
                    "output_type": "display_data",
                    "data": {
                        "text/html": "(21 rows affected)"
                    },
                    "metadata": {}
                },
                {
                    "output_type": "display_data",
                    "data": {
                        "text/html": "Total execution time: 00:00:00.087"
                    },
                    "metadata": {}
                },
                {
                    "output_type": "execute_result",
                    "metadata": {},
                    "execution_count": 4,
                    "data": {
                        "application/vnd.dataresource+json": {
                            "schema": {
                                "fields": [
                                    {
                                        "name": "SZALLAS_ID"
                                    },
                                    {
                                        "name": "SZALLAS_NEV"
                                    },
                                    {
                                        "name": "HELY"
                                    },
                                    {
                                        "name": "CSILLAGOK_SZAMA"
                                    },
                                    {
                                        "name": "TIPUS"
                                    },
                                    {
                                        "name": "ROGZITETTE"
                                    },
                                    {
                                        "name": "ROGZ_IDO"
                                    },
                                    {
                                        "name": "CIM"
                                    }
                                ]
                            },
                            "data": [
                                {
                                    "SZALLAS_ID": "1",
                                    "SZALLAS_NEV": "Sába-Ház",
                                    "HELY": "Balaton-dél",
                                    "CSILLAGOK_SZAMA": "0",
                                    "TIPUS": "vendégház",
                                    "ROGZITETTE": "Béla",
                                    "ROGZ_IDO": "2016-02-28",
                                    "CIM": "8630 Balatonboglár, Radnóti Miklós utca 8"
                                },
                                {
                                    "SZALLAS_ID": "2",
                                    "SZALLAS_NEV": "Családi Ház",
                                    "HELY": "Balaton-dél",
                                    "CSILLAGOK_SZAMA": "0",
                                    "TIPUS": "vendégház",
                                    "ROGZITETTE": "Béla",
                                    "ROGZ_IDO": "2016-03-02",
                                    "CIM": "8630 Balatonboglár, József Attila utca 25"
                                },
                                {
                                    "SZALLAS_ID": "3",
                                    "SZALLAS_NEV": "Fortuna Apartman",
                                    "HELY": "Hajdúbihar megye",
                                    "CSILLAGOK_SZAMA": "0",
                                    "TIPUS": "Apartman",
                                    "ROGZITETTE": "Sára",
                                    "ROGZ_IDO": "2016-03-06",
                                    "CIM": "4200 Hajdúszoboszló, Wesselényi utca 56."
                                },
                                {
                                    "SZALLAS_ID": "4",
                                    "SZALLAS_NEV": "Fortuna panzió",
                                    "HELY": "Budapest",
                                    "CSILLAGOK_SZAMA": "3",
                                    "TIPUS": "panzió",
                                    "ROGZITETTE": "Béla",
                                    "ROGZ_IDO": "2016-03-07",
                                    "CIM": "1019 Budapest XIV. Cinkotai út 86."
                                },
                                {
                                    "SZALLAS_ID": "5",
                                    "SZALLAS_NEV": "Fortuna Panzió",
                                    "HELY": "Békés megye",
                                    "CSILLAGOK_SZAMA": "3",
                                    "TIPUS": "panzió",
                                    "ROGZITETTE": "Sára",
                                    "ROGZ_IDO": "2016-03-08",
                                    "CIM": "5900 Orosháza, Gyopárosfürdő Tópart utca 3."
                                },
                                {
                                    "SZALLAS_ID": "6",
                                    "SZALLAS_NEV": "Kentaur Hotel",
                                    "HELY": "Balaton-dél",
                                    "CSILLAGOK_SZAMA": "3",
                                    "TIPUS": "Hotel",
                                    "ROGZITETTE": "Béla",
                                    "ROGZ_IDO": "2016-03-08",
                                    "CIM": "8600 Siófok (Széplak), Akácfa utca 1"
                                },
                                {
                                    "SZALLAS_ID": "7",
                                    "SZALLAS_NEV": "Szieszta Apartmanház",
                                    "HELY": "Balaton-dél",
                                    "CSILLAGOK_SZAMA": "0",
                                    "TIPUS": "Apartman",
                                    "ROGZITETTE": "Mari",
                                    "ROGZ_IDO": "2016-03-11",
                                    "CIM": "8630 Balatonboglár, Dózsa György utca 108"
                                },
                                {
                                    "SZALLAS_ID": "8",
                                    "SZALLAS_NEV": "Hotel Három Hattyú",
                                    "HELY": "Balaton-dél",
                                    "CSILLAGOK_SZAMA": "4",
                                    "TIPUS": "Hotel",
                                    "ROGZITETTE": "Béla",
                                    "ROGZ_IDO": "2016-03-13",
                                    "CIM": "8623 Balatonföldvár, Rákóczi Ferenc út 45."
                                },
                                {
                                    "SZALLAS_ID": "9",
                                    "SZALLAS_NEV": "Jáde panzió",
                                    "HELY": "Balaton-dél",
                                    "CSILLAGOK_SZAMA": "3",
                                    "TIPUS": "panzió",
                                    "ROGZITETTE": "Mari",
                                    "ROGZ_IDO": "2016-03-16",
                                    "CIM": "8624 Balatonföldvár, Kiss u.2."
                                },
                                {
                                    "SZALLAS_ID": "10",
                                    "SZALLAS_NEV": "Lagúna Hotel",
                                    "HELY": "Budapest",
                                    "CSILLAGOK_SZAMA": "4",
                                    "TIPUS": "Hotel",
                                    "ROGZITETTE": "Sára",
                                    "ROGZ_IDO": "2016-03-20",
                                    "CIM": "1097 Budapest, Albert Flórián út 3"
                                },
                                {
                                    "SZALLAS_ID": "11",
                                    "SZALLAS_NEV": "Partiszél Vendégház",
                                    "HELY": "Balaton-észak",
                                    "CSILLAGOK_SZAMA": "0",
                                    "TIPUS": "vendégház",
                                    "ROGZITETTE": "Béla",
                                    "ROGZ_IDO": "2016-03-22",
                                    "CIM": "8220 Balatonalmádi Neptun u. 23."
                                },
                                {
                                    "SZALLAS_ID": "12",
                                    "SZALLAS_NEV": "Gold Hotel",
                                    "HELY": "Budapest",
                                    "CSILLAGOK_SZAMA": "3",
                                    "TIPUS": "Hotel",
                                    "ROGZITETTE": "Béla",
                                    "ROGZ_IDO": "2016-03-24",
                                    "CIM": "1016 Budapest, Hegyalja út 12"
                                },
                                {
                                    "SZALLAS_ID": "13",
                                    "SZALLAS_NEV": "Riviéra Panzió",
                                    "HELY": "Csongrád megye",
                                    "CSILLAGOK_SZAMA": "3",
                                    "TIPUS": "panzió",
                                    "ROGZITETTE": "Sára",
                                    "ROGZ_IDO": "2016-03-27",
                                    "CIM": "6722 Szeged, Petőfi Sándor út 3."
                                },
                                {
                                    "SZALLAS_ID": "14",
                                    "SZALLAS_NEV": "Nyárfás Vendégház",
                                    "HELY": "Csongrád megye",
                                    "CSILLAGOK_SZAMA": "0",
                                    "TIPUS": "vendégház",
                                    "ROGZITETTE": "Béla",
                                    "ROGZ_IDO": "2016-03-27",
                                    "CIM": "6723 Szeged, Nagy u. 12."
                                },
                                {
                                    "SZALLAS_ID": "15",
                                    "SZALLAS_NEV": "Tímárház Panzió",
                                    "HELY": "Balaton-dél",
                                    "CSILLAGOK_SZAMA": "3",
                                    "TIPUS": "panzió",
                                    "ROGZITETTE": "Béla",
                                    "ROGZ_IDO": "2016-03-29",
                                    "CIM": "8600 Siófok, Virág utca 1"
                                },
                                {
                                    "SZALLAS_ID": "16",
                                    "SZALLAS_NEV": "Bagoly Hotel",
                                    "HELY": "Pest megye",
                                    "CSILLAGOK_SZAMA": "3",
                                    "TIPUS": "Hotel",
                                    "ROGZITETTE": "Mari",
                                    "ROGZ_IDO": "2016-04-01",
                                    "CIM": "2230 Gyömrő, Bergszász u. 5."
                                },
                                {
                                    "SZALLAS_ID": "17",
                                    "SZALLAS_NEV": "Szarvas Hotel",
                                    "HELY": "Tolna megye",
                                    "CSILLAGOK_SZAMA": "4",
                                    "TIPUS": "Hotel",
                                    "ROGZITETTE": "Béla",
                                    "ROGZ_IDO": "2016-04-04",
                                    "CIM": "7121 Szálka, Petőfi Sándor u."
                                },
                                {
                                    "SZALLAS_ID": "18",
                                    "SZALLAS_NEV": "Fortuna Apartman",
                                    "HELY": "Dél-Somogy",
                                    "CSILLAGOK_SZAMA": "0",
                                    "TIPUS": "Apartman",
                                    "ROGZITETTE": "Béla",
                                    "ROGZ_IDO": "2016-04-07",
                                    "CIM": "7570 Barcs, Kossuth u. 13."
                                },
                                {
                                    "SZALLAS_ID": "19",
                                    "SZALLAS_NEV": "Nyárfás Vendégház",
                                    "HELY": "Dél-Somogy",
                                    "CSILLAGOK_SZAMA": "0",
                                    "TIPUS": "vendégház",
                                    "ROGZITETTE": "Sára",
                                    "ROGZ_IDO": "2016-04-07",
                                    "CIM": "7570 Barcs, Bajcsy-Zs. u. 53"
                                },
                                {
                                    "SZALLAS_ID": "20",
                                    "SZALLAS_NEV": "Kollégium",
                                    "HELY": "Budapest",
                                    "CSILLAGOK_SZAMA": "0",
                                    "TIPUS": "Diákszálló",
                                    "ROGZITETTE": "Sára",
                                    "ROGZ_IDO": "2016-04-07",
                                    "CIM": "1146 Budapest, Ajtósi Dürer sor 23."
                                },
                                {
                                    "SZALLAS_ID": "21",
                                    "SZALLAS_NEV": "Müller Vendégház",
                                    "HELY": "Dél-Somogy",
                                    "CSILLAGOK_SZAMA": "0",
                                    "TIPUS": "vendégház",
                                    "ROGZITETTE": "Béla",
                                    "ROGZ_IDO": "2016-04-07",
                                    "CIM": "7570 Barcs, Magyar u. 10."
                                }
                            ]
                        },
                        "text/html": [
                            "<table>",
                            "<tr><th>SZALLAS_ID</th><th>SZALLAS_NEV</th><th>HELY</th><th>CSILLAGOK_SZAMA</th><th>TIPUS</th><th>ROGZITETTE</th><th>ROGZ_IDO</th><th>CIM</th></tr>",
                            "<tr><td>1</td><td>Sába-Ház</td><td>Balaton-dél</td><td>0</td><td>vendégház</td><td>Béla</td><td>2016-02-28</td><td>8630 Balatonboglár, Radnóti Miklós utca 8</td></tr>",
                            "<tr><td>2</td><td>Családi Ház</td><td>Balaton-dél</td><td>0</td><td>vendégház</td><td>Béla</td><td>2016-03-02</td><td>8630 Balatonboglár, József Attila utca 25</td></tr>",
                            "<tr><td>3</td><td>Fortuna Apartman</td><td>Hajdúbihar megye</td><td>0</td><td>Apartman</td><td>Sára</td><td>2016-03-06</td><td>4200 Hajdúszoboszló, Wesselényi utca 56.</td></tr>",
                            "<tr><td>4</td><td>Fortuna panzió</td><td>Budapest</td><td>3</td><td>panzió</td><td>Béla</td><td>2016-03-07</td><td>1019 Budapest XIV. Cinkotai út 86.</td></tr>",
                            "<tr><td>5</td><td>Fortuna Panzió</td><td>Békés megye</td><td>3</td><td>panzió</td><td>Sára</td><td>2016-03-08</td><td>5900 Orosháza, Gyopárosfürdő Tópart utca 3.</td></tr>",
                            "<tr><td>6</td><td>Kentaur Hotel</td><td>Balaton-dél</td><td>3</td><td>Hotel</td><td>Béla</td><td>2016-03-08</td><td>8600 Siófok (Széplak), Akácfa utca 1</td></tr>",
                            "<tr><td>7</td><td>Szieszta Apartmanház</td><td>Balaton-dél</td><td>0</td><td>Apartman</td><td>Mari</td><td>2016-03-11</td><td>8630 Balatonboglár, Dózsa György utca 108</td></tr>",
                            "<tr><td>8</td><td>Hotel Három Hattyú</td><td>Balaton-dél</td><td>4</td><td>Hotel</td><td>Béla</td><td>2016-03-13</td><td>8623 Balatonföldvár, Rákóczi Ferenc út 45.</td></tr>",
                            "<tr><td>9</td><td>Jáde panzió</td><td>Balaton-dél</td><td>3</td><td>panzió</td><td>Mari</td><td>2016-03-16</td><td>8624 Balatonföldvár, Kiss u.2.</td></tr>",
                            "<tr><td>10</td><td>Lagúna Hotel</td><td>Budapest</td><td>4</td><td>Hotel</td><td>Sára</td><td>2016-03-20</td><td>1097 Budapest, Albert Flórián út 3</td></tr>",
                            "<tr><td>11</td><td>Partiszél Vendégház</td><td>Balaton-észak</td><td>0</td><td>vendégház</td><td>Béla</td><td>2016-03-22</td><td>8220 Balatonalmádi Neptun u. 23.</td></tr>",
                            "<tr><td>12</td><td>Gold Hotel</td><td>Budapest</td><td>3</td><td>Hotel</td><td>Béla</td><td>2016-03-24</td><td>1016 Budapest, Hegyalja út 12</td></tr>",
                            "<tr><td>13</td><td>Riviéra Panzió</td><td>Csongrád megye</td><td>3</td><td>panzió</td><td>Sára</td><td>2016-03-27</td><td>6722 Szeged, Petőfi Sándor út 3.</td></tr>",
                            "<tr><td>14</td><td>Nyárfás Vendégház</td><td>Csongrád megye</td><td>0</td><td>vendégház</td><td>Béla</td><td>2016-03-27</td><td>6723 Szeged, Nagy u. 12.</td></tr>",
                            "<tr><td>15</td><td>Tímárház Panzió</td><td>Balaton-dél</td><td>3</td><td>panzió</td><td>Béla</td><td>2016-03-29</td><td>8600 Siófok, Virág utca 1</td></tr>",
                            "<tr><td>16</td><td>Bagoly Hotel</td><td>Pest megye</td><td>3</td><td>Hotel</td><td>Mari</td><td>2016-04-01</td><td>2230 Gyömrő, Bergszász u. 5.</td></tr>",
                            "<tr><td>17</td><td>Szarvas Hotel</td><td>Tolna megye</td><td>4</td><td>Hotel</td><td>Béla</td><td>2016-04-04</td><td>7121 Szálka, Petőfi Sándor u.</td></tr>",
                            "<tr><td>18</td><td>Fortuna Apartman</td><td>Dél-Somogy</td><td>0</td><td>Apartman</td><td>Béla</td><td>2016-04-07</td><td>7570 Barcs, Kossuth u. 13.</td></tr>",
                            "<tr><td>19</td><td>Nyárfás Vendégház</td><td>Dél-Somogy</td><td>0</td><td>vendégház</td><td>Sára</td><td>2016-04-07</td><td>7570 Barcs, Bajcsy-Zs. u. 53</td></tr>",
                            "<tr><td>20</td><td>Kollégium</td><td>Budapest</td><td>0</td><td>Diákszálló</td><td>Sára</td><td>2016-04-07</td><td>1146 Budapest, Ajtósi Dürer sor 23.</td></tr>",
                            "<tr><td>21</td><td>Müller Vendégház</td><td>Dél-Somogy</td><td>0</td><td>vendégház</td><td>Béla</td><td>2016-04-07</td><td>7570 Barcs, Magyar u. 10.</td></tr>",
                            "</table>"
                        ]
                    }
                }
            ],
            "execution_count": 4
        },
        {
            "cell_type": "markdown",
            "source": [
                "```\n",
                "3. Készítsük listát, amely megjeleníti az ügyfelek azonosítóját, nevét és a foglalásainak kezdő- és befejező dátumát, valamint azt, hogy a foglalás összesen hány főre történt! \n",
                "```\n",
                "\n",
                "a. Egy új oszlopban jelenítsük meg azt is, hogy az ügyfél előző három foglalása összesen hány főre történt!\n",
                "\n",
                "![](https://moodle.uni-corvinus.hu/theme/image.php/adaptable/atto_h5p/1709548862/icon)"
            ],
            "metadata": {
                "azdata_cell_guid": "d7876bb9-76d0-4d07-baed-3cb17b2f96c3"
            },
            "attachments": {}
        },
        {
            "cell_type": "code",
            "source": [
                "select f.UGYFEL_FK,  v.nev,f.mettol, f.meddig, f.FELNOTT_SZAM+f.GYERMEK_SZAM, sum(f.FELNOTT_SZAM+f.GYERMEK_SZAM) over (partition by f.UGYFEL_FK)\r\n",
                "from Foglalas f join Vendeg v on f.UGYFEL_FK = v.usernev"
            ],
            "metadata": {
                "azdata_cell_guid": "56ec19ce-e249-4551-b2a8-f17569765acc",
                "language": "sql"
            },
            "outputs": [
                {
                    "output_type": "display_data",
                    "data": {
                        "text/html": "(1027 rows affected)"
                    },
                    "metadata": {}
                },
                {
                    "output_type": "display_data",
                    "data": {
                        "text/html": "Total execution time: 00:00:00.019"
                    },
                    "metadata": {}
                },
                {
                    "output_type": "execute_result",
                    "metadata": {},
                    "execution_count": 11,
                    "data": {
                        "application/vnd.dataresource+json": {
                            "schema": {
                                "fields": [
                                    {
                                        "name": "UGYFEL_FK"
                                    },
                                    {
                                        "name": "nev"
                                    },
                                    {
                                        "name": "mettol"
                                    },
                                    {
                                        "name": "meddig"
                                    },
                                    {
                                        "name": "(No column name)"
                                    },
                                    {
                                        "name": "(No column name)"
                                    }
                                ]
                            },
                            "data": [
                                {
                                    "UGYFEL_FK": "adam1",
                                    "nev": "Kiss Ádám",
                                    "mettol": "2016-08-20",
                                    "meddig": "2016-08-24",
                                    "(No column name)": "6"
                                },
                                {
                                    "UGYFEL_FK": "adam1",
                                    "nev": "Kiss Ádám",
                                    "mettol": "2016-05-28",
                                    "meddig": "2016-06-03",
                                    "(No column name)": "6"
                                },
                                {
                                    "UGYFEL_FK": "adam1",
                                    "nev": "Kiss Ádám",
                                    "mettol": "2016-10-19",
                                    "meddig": "2016-10-24",
                                    "(No column name)": "6"
                                },
                                {
                                    "UGYFEL_FK": "adam3",
                                    "nev": "Barkóci Ádám",
                                    "mettol": "2017-02-06",
                                    "meddig": "2017-02-10",
                                    "(No column name)": "3"
                                },
                                {
                                    "UGYFEL_FK": "adam3",
                                    "nev": "Barkóci Ádám",
                                    "mettol": "2016-09-12",
                                    "meddig": "2016-09-16",
                                    "(No column name)": "3"
                                },
                                {
                                    "UGYFEL_FK": "adam4",
                                    "nev": "Bieniek Ádám",
                                    "mettol": "2016-08-28",
                                    "meddig": "2016-08-30",
                                    "(No column name)": "16"
                                },
                                {
                                    "UGYFEL_FK": "adam4",
                                    "nev": "Bieniek Ádám",
                                    "mettol": "2017-01-12",
                                    "meddig": "2017-01-19",
                                    "(No column name)": "16"
                                },
                                {
                                    "UGYFEL_FK": "adam4",
                                    "nev": "Bieniek Ádám",
                                    "mettol": "2017-02-23",
                                    "meddig": "2017-02-27",
                                    "(No column name)": "16"
                                },
                                {
                                    "UGYFEL_FK": "adam4",
                                    "nev": "Bieniek Ádám",
                                    "mettol": "2016-10-27",
                                    "meddig": "2016-11-02",
                                    "(No column name)": "16"
                                },
                                {
                                    "UGYFEL_FK": "adam4",
                                    "nev": "Bieniek Ádám",
                                    "mettol": "2016-11-15",
                                    "meddig": "2016-11-18",
                                    "(No column name)": "16"
                                },
                                {
                                    "UGYFEL_FK": "adam4",
                                    "nev": "Bieniek Ádám",
                                    "mettol": "2016-12-06",
                                    "meddig": "2016-12-09",
                                    "(No column name)": "16"
                                },
                                {
                                    "UGYFEL_FK": "agnes",
                                    "nev": "Lengyel Ágnes",
                                    "mettol": "2016-11-07",
                                    "meddig": "2016-11-13",
                                    "(No column name)": "12"
                                },
                                {
                                    "UGYFEL_FK": "agnes",
                                    "nev": "Lengyel Ágnes",
                                    "mettol": "2016-07-30",
                                    "meddig": "2016-08-06",
                                    "(No column name)": "12"
                                },
                                {
                                    "UGYFEL_FK": "agnes",
                                    "nev": "Lengyel Ágnes",
                                    "mettol": "2016-05-09",
                                    "meddig": "2016-05-11",
                                    "(No column name)": "12"
                                },
                                {
                                    "UGYFEL_FK": "agnes",
                                    "nev": "Lengyel Ágnes",
                                    "mettol": "2016-07-13",
                                    "meddig": "2016-07-19",
                                    "(No column name)": "12"
                                },
                                {
                                    "UGYFEL_FK": "agnes",
                                    "nev": "Lengyel Ágnes",
                                    "mettol": "2016-05-25",
                                    "meddig": "2016-05-30",
                                    "(No column name)": "12"
                                },
                                {
                                    "UGYFEL_FK": "agnes3",
                                    "nev": "Hartyánszky Ágnes",
                                    "mettol": "2016-08-04",
                                    "meddig": "2016-08-10",
                                    "(No column name)": "7"
                                },
                                {
                                    "UGYFEL_FK": "agnes3",
                                    "nev": "Hartyánszky Ágnes",
                                    "mettol": "2016-10-22",
                                    "meddig": "2016-10-23",
                                    "(No column name)": "7"
                                },
                                {
                                    "UGYFEL_FK": "agnes3",
                                    "nev": "Hartyánszky Ágnes",
                                    "mettol": "2017-02-16",
                                    "meddig": "2017-02-21",
                                    "(No column name)": "7"
                                },
                                {
                                    "UGYFEL_FK": "AGNESH",
                                    "nev": "Horváth Ágnes",
                                    "mettol": "2017-01-16",
                                    "meddig": "2017-01-23",
                                    "(No column name)": "13"
                                },
                                {
                                    "UGYFEL_FK": "AGNESH",
                                    "nev": "Horváth Ágnes",
                                    "mettol": "2017-01-03",
                                    "meddig": "2017-01-10",
                                    "(No column name)": "13"
                                },
                                {
                                    "UGYFEL_FK": "AGNESH",
                                    "nev": "Horváth Ágnes",
                                    "mettol": "2016-10-30",
                                    "meddig": "2016-11-04",
                                    "(No column name)": "13"
                                },
                                {
                                    "UGYFEL_FK": "AGNESH",
                                    "nev": "Horváth Ágnes",
                                    "mettol": "2016-04-27",
                                    "meddig": "2016-04-28",
                                    "(No column name)": "13"
                                },
                                {
                                    "UGYFEL_FK": "AGNESH",
                                    "nev": "Horváth Ágnes",
                                    "mettol": "2016-04-10",
                                    "meddig": "2016-04-12",
                                    "(No column name)": "13"
                                },
                                {
                                    "UGYFEL_FK": "AGNESH",
                                    "nev": "Horváth Ágnes",
                                    "mettol": "2016-06-23",
                                    "meddig": "2016-06-26",
                                    "(No column name)": "13"
                                },
                                {
                                    "UGYFEL_FK": "AGNESK",
                                    "nev": "Kovács Ágnes",
                                    "mettol": "2016-07-29",
                                    "meddig": "2016-08-01",
                                    "(No column name)": "7"
                                },
                                {
                                    "UGYFEL_FK": "AGNESK",
                                    "nev": "Kovács Ágnes",
                                    "mettol": "2016-10-17",
                                    "meddig": "2016-10-19",
                                    "(No column name)": "7"
                                },
                                {
                                    "UGYFEL_FK": "AGNESK",
                                    "nev": "Kovács Ágnes",
                                    "mettol": "2016-12-17",
                                    "meddig": "2016-12-18",
                                    "(No column name)": "7"
                                },
                                {
                                    "UGYFEL_FK": "akos",
                                    "nev": "Bíró Ákos",
                                    "mettol": "2016-12-15",
                                    "meddig": "2016-12-21",
                                    "(No column name)": "19"
                                },
                                {
                                    "UGYFEL_FK": "akos",
                                    "nev": "Bíró Ákos",
                                    "mettol": "2016-12-29",
                                    "meddig": "2016-12-30",
                                    "(No column name)": "19"
                                },
                                {
                                    "UGYFEL_FK": "akos",
                                    "nev": "Bíró Ákos",
                                    "mettol": "2016-11-21",
                                    "meddig": "2016-11-27",
                                    "(No column name)": "19"
                                },
                                {
                                    "UGYFEL_FK": "akos",
                                    "nev": "Bíró Ákos",
                                    "mettol": "2016-10-18",
                                    "meddig": "2016-10-23",
                                    "(No column name)": "19"
                                },
                                {
                                    "UGYFEL_FK": "akos",
                                    "nev": "Bíró Ákos",
                                    "mettol": "2016-07-22",
                                    "meddig": "2016-07-26",
                                    "(No column name)": "19"
                                },
                                {
                                    "UGYFEL_FK": "akos",
                                    "nev": "Bíró Ákos",
                                    "mettol": "2016-07-14",
                                    "meddig": "2016-07-19",
                                    "(No column name)": "19"
                                },
                                {
                                    "UGYFEL_FK": "akos",
                                    "nev": "Bíró Ákos",
                                    "mettol": "2016-07-16",
                                    "meddig": "2016-07-18",
                                    "(No column name)": "19"
                                },
                                {
                                    "UGYFEL_FK": "akos",
                                    "nev": "Bíró Ákos",
                                    "mettol": "2016-05-18",
                                    "meddig": "2016-05-19",
                                    "(No column name)": "19"
                                },
                                {
                                    "UGYFEL_FK": "akos",
                                    "nev": "Bíró Ákos",
                                    "mettol": "2016-09-06",
                                    "meddig": "2016-09-12",
                                    "(No column name)": "19"
                                },
                                {
                                    "UGYFEL_FK": "akos",
                                    "nev": "Bíró Ákos",
                                    "mettol": "2016-10-05",
                                    "meddig": "2016-10-09",
                                    "(No column name)": "19"
                                },
                                {
                                    "UGYFEL_FK": "aladar",
                                    "nev": "Dunai Aladár",
                                    "mettol": "2016-09-24",
                                    "meddig": "2016-09-28",
                                    "(No column name)": "4"
                                },
                                {
                                    "UGYFEL_FK": "aladar",
                                    "nev": "Dunai Aladár",
                                    "mettol": "2016-05-17",
                                    "meddig": "2016-05-24",
                                    "(No column name)": "4"
                                },
                                {
                                    "UGYFEL_FK": "aladar",
                                    "nev": "Dunai Aladár",
                                    "mettol": "2016-11-22",
                                    "meddig": "2016-11-23",
                                    "(No column name)": "4"
                                },
                                {
                                    "UGYFEL_FK": "alexandra",
                                    "nev": "Bagóczki Alexandra",
                                    "mettol": "2016-11-29",
                                    "meddig": "2016-12-05",
                                    "(No column name)": "15"
                                },
                                {
                                    "UGYFEL_FK": "alexandra",
                                    "nev": "Bagóczki Alexandra",
                                    "mettol": "2016-10-21",
                                    "meddig": "2016-10-25",
                                    "(No column name)": "15"
                                },
                                {
                                    "UGYFEL_FK": "alexandra",
                                    "nev": "Bagóczki Alexandra",
                                    "mettol": "2017-01-13",
                                    "meddig": "2017-01-14",
                                    "(No column name)": "15"
                                },
                                {
                                    "UGYFEL_FK": "alexandra",
                                    "nev": "Bagóczki Alexandra",
                                    "mettol": "2017-01-19",
                                    "meddig": "2017-01-26",
                                    "(No column name)": "15"
                                },
                                {
                                    "UGYFEL_FK": "alexandra",
                                    "nev": "Bagóczki Alexandra",
                                    "mettol": "2016-05-21",
                                    "meddig": "2016-05-27",
                                    "(No column name)": "15"
                                },
                                {
                                    "UGYFEL_FK": "alexandra",
                                    "nev": "Bagóczki Alexandra",
                                    "mettol": "2016-07-27",
                                    "meddig": "2016-07-30",
                                    "(No column name)": "15"
                                },
                                {
                                    "UGYFEL_FK": "alexandra",
                                    "nev": "Bagóczki Alexandra",
                                    "mettol": "2016-06-08",
                                    "meddig": "2016-06-11",
                                    "(No column name)": "15"
                                },
                                {
                                    "UGYFEL_FK": "andi",
                                    "nev": "Maródi Andrea",
                                    "mettol": "2016-06-13",
                                    "meddig": "2016-06-14",
                                    "(No column name)": "13"
                                },
                                {
                                    "UGYFEL_FK": "andi",
                                    "nev": "Maródi Andrea",
                                    "mettol": "2016-09-13",
                                    "meddig": "2016-09-16",
                                    "(No column name)": "13"
                                },
                                {
                                    "UGYFEL_FK": "andi",
                                    "nev": "Maródi Andrea",
                                    "mettol": "2016-05-08",
                                    "meddig": "2016-05-14",
                                    "(No column name)": "13"
                                },
                                {
                                    "UGYFEL_FK": "andi",
                                    "nev": "Maródi Andrea",
                                    "mettol": "2017-01-13",
                                    "meddig": "2017-01-17",
                                    "(No column name)": "13"
                                },
                                {
                                    "UGYFEL_FK": "andi",
                                    "nev": "Maródi Andrea",
                                    "mettol": "2016-11-16",
                                    "meddig": "2016-11-17",
                                    "(No column name)": "13"
                                },
                                {
                                    "UGYFEL_FK": "andras2",
                                    "nev": "Tóth András",
                                    "mettol": "2017-02-08",
                                    "meddig": "2017-02-10",
                                    "(No column name)": "12"
                                },
                                {
                                    "UGYFEL_FK": "andras2",
                                    "nev": "Tóth András",
                                    "mettol": "2016-07-20",
                                    "meddig": "2016-07-22",
                                    "(No column name)": "12"
                                },
                                {
                                    "UGYFEL_FK": "andras2",
                                    "nev": "Tóth András",
                                    "mettol": "2016-09-30",
                                    "meddig": "2016-10-03",
                                    "(No column name)": "12"
                                },
                                {
                                    "UGYFEL_FK": "andras2",
                                    "nev": "Tóth András",
                                    "mettol": "2016-10-07",
                                    "meddig": "2016-10-10",
                                    "(No column name)": "12"
                                },
                                {
                                    "UGYFEL_FK": "andras2",
                                    "nev": "Tóth András",
                                    "mettol": "2016-05-30",
                                    "meddig": "2016-06-04",
                                    "(No column name)": "12"
                                },
                                {
                                    "UGYFEL_FK": "andras21",
                                    "nev": "Molnár András",
                                    "mettol": "2016-06-21",
                                    "meddig": "2016-06-26",
                                    "(No column name)": "18"
                                },
                                {
                                    "UGYFEL_FK": "andras21",
                                    "nev": "Molnár András",
                                    "mettol": "2016-10-04",
                                    "meddig": "2016-10-11",
                                    "(No column name)": "18"
                                },
                                {
                                    "UGYFEL_FK": "andras21",
                                    "nev": "Molnár András",
                                    "mettol": "2016-10-01",
                                    "meddig": "2016-10-06",
                                    "(No column name)": "18"
                                },
                                {
                                    "UGYFEL_FK": "andras21",
                                    "nev": "Molnár András",
                                    "mettol": "2016-07-04",
                                    "meddig": "2016-07-05",
                                    "(No column name)": "18"
                                },
                                {
                                    "UGYFEL_FK": "andras21",
                                    "nev": "Molnár András",
                                    "mettol": "2016-07-20",
                                    "meddig": "2016-07-22",
                                    "(No column name)": "18"
                                },
                                {
                                    "UGYFEL_FK": "andras21",
                                    "nev": "Molnár András",
                                    "mettol": "2017-01-28",
                                    "meddig": "2017-02-01",
                                    "(No column name)": "18"
                                },
                                {
                                    "UGYFEL_FK": "andras21",
                                    "nev": "Molnár András",
                                    "mettol": "2016-11-23",
                                    "meddig": "2016-11-24",
                                    "(No column name)": "18"
                                },
                                {
                                    "UGYFEL_FK": "andras3",
                                    "nev": "Vígh András",
                                    "mettol": "2016-11-28",
                                    "meddig": "2016-12-02",
                                    "(No column name)": "16"
                                },
                                {
                                    "UGYFEL_FK": "andras3",
                                    "nev": "Vígh András",
                                    "mettol": "2017-02-02",
                                    "meddig": "2017-02-08",
                                    "(No column name)": "16"
                                },
                                {
                                    "UGYFEL_FK": "andras3",
                                    "nev": "Vígh András",
                                    "mettol": "2016-07-15",
                                    "meddig": "2016-07-19",
                                    "(No column name)": "16"
                                },
                                {
                                    "UGYFEL_FK": "andras3",
                                    "nev": "Vígh András",
                                    "mettol": "2016-05-01",
                                    "meddig": "2016-05-06",
                                    "(No column name)": "16"
                                },
                                {
                                    "UGYFEL_FK": "andras3",
                                    "nev": "Vígh András",
                                    "mettol": "2016-07-21",
                                    "meddig": "2016-07-23",
                                    "(No column name)": "16"
                                },
                                {
                                    "UGYFEL_FK": "andras3",
                                    "nev": "Vígh András",
                                    "mettol": "2016-08-29",
                                    "meddig": "2016-09-02",
                                    "(No column name)": "16"
                                },
                                {
                                    "UGYFEL_FK": "andras3",
                                    "nev": "Vígh András",
                                    "mettol": "2016-06-10",
                                    "meddig": "2016-06-11",
                                    "(No column name)": "16"
                                },
                                {
                                    "UGYFEL_FK": "andras3",
                                    "nev": "Vígh András",
                                    "mettol": "2016-05-30",
                                    "meddig": "2016-06-03",
                                    "(No column name)": "16"
                                },
                                {
                                    "UGYFEL_FK": "andras4",
                                    "nev": "Back András",
                                    "mettol": "2016-09-17",
                                    "meddig": "2016-09-20",
                                    "(No column name)": "6"
                                },
                                {
                                    "UGYFEL_FK": "andras4",
                                    "nev": "Back András",
                                    "mettol": "2017-01-09",
                                    "meddig": "2017-01-10",
                                    "(No column name)": "6"
                                },
                                {
                                    "UGYFEL_FK": "andras4",
                                    "nev": "Back András",
                                    "mettol": "2016-11-25",
                                    "meddig": "2016-11-28",
                                    "(No column name)": "6"
                                },
                                {
                                    "UGYFEL_FK": "andras41",
                                    "nev": "Komjáti András",
                                    "mettol": "2016-11-20",
                                    "meddig": "2016-11-24",
                                    "(No column name)": "30"
                                },
                                {
                                    "UGYFEL_FK": "andras41",
                                    "nev": "Komjáti András",
                                    "mettol": "2016-11-23",
                                    "meddig": "2016-11-24",
                                    "(No column name)": "30"
                                },
                                {
                                    "UGYFEL_FK": "andras41",
                                    "nev": "Komjáti András",
                                    "mettol": "2016-10-15",
                                    "meddig": "2016-10-18",
                                    "(No column name)": "30"
                                },
                                {
                                    "UGYFEL_FK": "andras41",
                                    "nev": "Komjáti András",
                                    "mettol": "2016-10-09",
                                    "meddig": "2016-10-13",
                                    "(No column name)": "30"
                                },
                                {
                                    "UGYFEL_FK": "andras41",
                                    "nev": "Komjáti András",
                                    "mettol": "2016-09-30",
                                    "meddig": "2016-10-05",
                                    "(No column name)": "30"
                                },
                                {
                                    "UGYFEL_FK": "andras41",
                                    "nev": "Komjáti András",
                                    "mettol": "2016-09-22",
                                    "meddig": "2016-09-29",
                                    "(No column name)": "30"
                                },
                                {
                                    "UGYFEL_FK": "andras41",
                                    "nev": "Komjáti András",
                                    "mettol": "2016-06-07",
                                    "meddig": "2016-06-11",
                                    "(No column name)": "30"
                                },
                                {
                                    "UGYFEL_FK": "andras41",
                                    "nev": "Komjáti András",
                                    "mettol": "2016-06-23",
                                    "meddig": "2016-06-29",
                                    "(No column name)": "30"
                                },
                                {
                                    "UGYFEL_FK": "andras41",
                                    "nev": "Komjáti András",
                                    "mettol": "2016-08-17",
                                    "meddig": "2016-08-21",
                                    "(No column name)": "30"
                                },
                                {
                                    "UGYFEL_FK": "andras41",
                                    "nev": "Komjáti András",
                                    "mettol": "2016-08-19",
                                    "meddig": "2016-08-23",
                                    "(No column name)": "30"
                                },
                                {
                                    "UGYFEL_FK": "andras41",
                                    "nev": "Komjáti András",
                                    "mettol": "2016-07-28",
                                    "meddig": "2016-08-03",
                                    "(No column name)": "30"
                                },
                                {
                                    "UGYFEL_FK": "andras41",
                                    "nev": "Komjáti András",
                                    "mettol": "2016-05-21",
                                    "meddig": "2016-05-23",
                                    "(No column name)": "30"
                                },
                                {
                                    "UGYFEL_FK": "andras41",
                                    "nev": "Komjáti András",
                                    "mettol": "2016-05-14",
                                    "meddig": "2016-05-16",
                                    "(No column name)": "30"
                                },
                                {
                                    "UGYFEL_FK": "ANDRASE",
                                    "nev": "Erdei András",
                                    "mettol": "2016-04-24",
                                    "meddig": "2016-05-01",
                                    "(No column name)": "12"
                                },
                                {
                                    "UGYFEL_FK": "ANDRASE",
                                    "nev": "Erdei András",
                                    "mettol": "2016-08-16",
                                    "meddig": "2016-08-20",
                                    "(No column name)": "12"
                                },
                                {
                                    "UGYFEL_FK": "ANDRASE",
                                    "nev": "Erdei András",
                                    "mettol": "2016-07-06",
                                    "meddig": "2016-07-07",
                                    "(No column name)": "12"
                                },
                                {
                                    "UGYFEL_FK": "ANDRASE",
                                    "nev": "Erdei András",
                                    "mettol": "2016-11-29",
                                    "meddig": "2016-12-06",
                                    "(No column name)": "12"
                                },
                                {
                                    "UGYFEL_FK": "ANDRASE",
                                    "nev": "Erdei András",
                                    "mettol": "2016-11-19",
                                    "meddig": "2016-11-20",
                                    "(No column name)": "12"
                                },
                                {
                                    "UGYFEL_FK": "ANDRASN",
                                    "nev": "Nagy András",
                                    "mettol": "2016-11-25",
                                    "meddig": "2016-12-01",
                                    "(No column name)": "2"
                                },
                                {
                                    "UGYFEL_FK": "andrea",
                                    "nev": "Kiss Andrea",
                                    "mettol": "2016-10-21",
                                    "meddig": "2016-10-27",
                                    "(No column name)": "15"
                                },
                                {
                                    "UGYFEL_FK": "andrea",
                                    "nev": "Kiss Andrea",
                                    "mettol": "2017-02-09",
                                    "meddig": "2017-02-14",
                                    "(No column name)": "15"
                                },
                                {
                                    "UGYFEL_FK": "andrea",
                                    "nev": "Kiss Andrea",
                                    "mettol": "2016-08-23",
                                    "meddig": "2016-08-26",
                                    "(No column name)": "15"
                                },
                                {
                                    "UGYFEL_FK": "andrea",
                                    "nev": "Kiss Andrea",
                                    "mettol": "2016-08-26",
                                    "meddig": "2016-08-30",
                                    "(No column name)": "15"
                                },
                                {
                                    "UGYFEL_FK": "andrea",
                                    "nev": "Kiss Andrea",
                                    "mettol": "2016-07-27",
                                    "meddig": "2016-07-28",
                                    "(No column name)": "15"
                                },
                                {
                                    "UGYFEL_FK": "andrea",
                                    "nev": "Kiss Andrea",
                                    "mettol": "2016-08-01",
                                    "meddig": "2016-08-02",
                                    "(No column name)": "15"
                                },
                                {
                                    "UGYFEL_FK": "andrea3",
                                    "nev": "Szomor Andrea",
                                    "mettol": "2016-11-19",
                                    "meddig": "2016-11-21",
                                    "(No column name)": "3"
                                },
                                {
                                    "UGYFEL_FK": "andrea4",
                                    "nev": "Neizer Andrea",
                                    "mettol": "2016-10-30",
                                    "meddig": "2016-11-06",
                                    "(No column name)": "8"
                                },
                                {
                                    "UGYFEL_FK": "andrea4",
                                    "nev": "Neizer Andrea",
                                    "mettol": "2017-01-22",
                                    "meddig": "2017-01-29",
                                    "(No column name)": "8"
                                },
                                {
                                    "UGYFEL_FK": "andrea4",
                                    "nev": "Neizer Andrea",
                                    "mettol": "2016-09-13",
                                    "meddig": "2016-09-17",
                                    "(No column name)": "8"
                                },
                                {
                                    "UGYFEL_FK": "andrea4",
                                    "nev": "Neizer Andrea",
                                    "mettol": "2016-05-27",
                                    "meddig": "2016-05-29",
                                    "(No column name)": "8"
                                },
                                {
                                    "UGYFEL_FK": "ANDREAT",
                                    "nev": "Tornyos Andrea",
                                    "mettol": "2016-09-15",
                                    "meddig": "2016-09-16",
                                    "(No column name)": "7"
                                },
                                {
                                    "UGYFEL_FK": "ANDREAT",
                                    "nev": "Tornyos Andrea",
                                    "mettol": "2016-10-08",
                                    "meddig": "2016-10-12",
                                    "(No column name)": "7"
                                },
                                {
                                    "UGYFEL_FK": "ANDREAT",
                                    "nev": "Tornyos Andrea",
                                    "mettol": "2016-07-27",
                                    "meddig": "2016-08-01",
                                    "(No column name)": "7"
                                },
                                {
                                    "UGYFEL_FK": "anett3",
                                    "nev": "Pivarcsi Anett",
                                    "mettol": "2016-08-17",
                                    "meddig": "2016-08-23",
                                    "(No column name)": "19"
                                },
                                {
                                    "UGYFEL_FK": "anett3",
                                    "nev": "Pivarcsi Anett",
                                    "mettol": "2016-08-15",
                                    "meddig": "2016-08-16",
                                    "(No column name)": "19"
                                },
                                {
                                    "UGYFEL_FK": "anett3",
                                    "nev": "Pivarcsi Anett",
                                    "mettol": "2016-04-28",
                                    "meddig": "2016-05-02",
                                    "(No column name)": "19"
                                },
                                {
                                    "UGYFEL_FK": "anett3",
                                    "nev": "Pivarcsi Anett",
                                    "mettol": "2016-04-10",
                                    "meddig": "2016-04-17",
                                    "(No column name)": "19"
                                },
                                {
                                    "UGYFEL_FK": "anett3",
                                    "nev": "Pivarcsi Anett",
                                    "mettol": "2016-04-13",
                                    "meddig": "2016-04-19",
                                    "(No column name)": "19"
                                },
                                {
                                    "UGYFEL_FK": "anett3",
                                    "nev": "Pivarcsi Anett",
                                    "mettol": "2016-04-15",
                                    "meddig": "2016-04-19",
                                    "(No column name)": "19"
                                },
                                {
                                    "UGYFEL_FK": "anett3",
                                    "nev": "Pivarcsi Anett",
                                    "mettol": "2016-10-12",
                                    "meddig": "2016-10-19",
                                    "(No column name)": "19"
                                },
                                {
                                    "UGYFEL_FK": "anett3",
                                    "nev": "Pivarcsi Anett",
                                    "mettol": "2016-10-16",
                                    "meddig": "2016-10-21",
                                    "(No column name)": "19"
                                },
                                {
                                    "UGYFEL_FK": "aniko",
                                    "nev": "Tóth Anikó",
                                    "mettol": "2017-02-12",
                                    "meddig": "2017-02-14",
                                    "(No column name)": "8"
                                },
                                {
                                    "UGYFEL_FK": "aniko",
                                    "nev": "Tóth Anikó",
                                    "mettol": "2017-02-23",
                                    "meddig": "2017-02-24",
                                    "(No column name)": "8"
                                },
                                {
                                    "UGYFEL_FK": "aniko",
                                    "nev": "Tóth Anikó",
                                    "mettol": "2016-06-25",
                                    "meddig": "2016-06-30",
                                    "(No column name)": "8"
                                },
                                {
                                    "UGYFEL_FK": "aniko4",
                                    "nev": "Böröcz Anikó",
                                    "mettol": "2016-07-02",
                                    "meddig": "2016-07-09",
                                    "(No column name)": "11"
                                },
                                {
                                    "UGYFEL_FK": "aniko4",
                                    "nev": "Böröcz Anikó",
                                    "mettol": "2016-09-05",
                                    "meddig": "2016-09-07",
                                    "(No column name)": "11"
                                },
                                {
                                    "UGYFEL_FK": "aniko4",
                                    "nev": "Böröcz Anikó",
                                    "mettol": "2016-07-22",
                                    "meddig": "2016-07-25",
                                    "(No column name)": "11"
                                },
                                {
                                    "UGYFEL_FK": "aniko4",
                                    "nev": "Böröcz Anikó",
                                    "mettol": "2016-10-16",
                                    "meddig": "2016-10-18",
                                    "(No column name)": "11"
                                },
                                {
                                    "UGYFEL_FK": "ANIKOS",
                                    "nev": "Simon Anikó",
                                    "mettol": "2016-10-08",
                                    "meddig": "2016-10-14",
                                    "(No column name)": "20"
                                },
                                {
                                    "UGYFEL_FK": "ANIKOS",
                                    "nev": "Simon Anikó",
                                    "mettol": "2016-10-29",
                                    "meddig": "2016-11-05",
                                    "(No column name)": "20"
                                },
                                {
                                    "UGYFEL_FK": "ANIKOS",
                                    "nev": "Simon Anikó",
                                    "mettol": "2016-11-10",
                                    "meddig": "2016-11-15",
                                    "(No column name)": "20"
                                },
                                {
                                    "UGYFEL_FK": "ANIKOS",
                                    "nev": "Simon Anikó",
                                    "mettol": "2016-08-26",
                                    "meddig": "2016-09-02",
                                    "(No column name)": "20"
                                },
                                {
                                    "UGYFEL_FK": "ANIKOS",
                                    "nev": "Simon Anikó",
                                    "mettol": "2016-04-19",
                                    "meddig": "2016-04-24",
                                    "(No column name)": "20"
                                },
                                {
                                    "UGYFEL_FK": "ANIKOS",
                                    "nev": "Simon Anikó",
                                    "mettol": "2016-07-17",
                                    "meddig": "2016-07-22",
                                    "(No column name)": "20"
                                },
                                {
                                    "UGYFEL_FK": "ANIKOS",
                                    "nev": "Simon Anikó",
                                    "mettol": "2016-05-24",
                                    "meddig": "2016-05-25",
                                    "(No column name)": "20"
                                },
                                {
                                    "UGYFEL_FK": "ANIKOS",
                                    "nev": "Simon Anikó",
                                    "mettol": "2016-06-27",
                                    "meddig": "2016-06-30",
                                    "(No column name)": "20"
                                },
                                {
                                    "UGYFEL_FK": "ANIKOS",
                                    "nev": "Simon Anikó",
                                    "mettol": "2016-06-16",
                                    "meddig": "2016-06-23",
                                    "(No column name)": "20"
                                },
                                {
                                    "UGYFEL_FK": "anita",
                                    "nev": "Hamvay-Kovács Anita",
                                    "mettol": "2016-10-01",
                                    "meddig": "2016-10-04",
                                    "(No column name)": "10"
                                },
                                {
                                    "UGYFEL_FK": "anita",
                                    "nev": "Hamvay-Kovács Anita",
                                    "mettol": "2016-09-28",
                                    "meddig": "2016-10-02",
                                    "(No column name)": "10"
                                },
                                {
                                    "UGYFEL_FK": "anita",
                                    "nev": "Hamvay-Kovács Anita",
                                    "mettol": "2017-02-19",
                                    "meddig": "2017-02-22",
                                    "(No column name)": "10"
                                },
                                {
                                    "UGYFEL_FK": "anita",
                                    "nev": "Hamvay-Kovács Anita",
                                    "mettol": "2017-02-20",
                                    "meddig": "2017-02-25",
                                    "(No column name)": "10"
                                },
                                {
                                    "UGYFEL_FK": "annamaria1",
                                    "nev": "Szűcs Annamária",
                                    "mettol": "2017-01-30",
                                    "meddig": "2017-01-31",
                                    "(No column name)": "7"
                                },
                                {
                                    "UGYFEL_FK": "annamaria1",
                                    "nev": "Szűcs Annamária",
                                    "mettol": "2016-06-06",
                                    "meddig": "2016-06-07",
                                    "(No column name)": "7"
                                },
                                {
                                    "UGYFEL_FK": "ANNAMARIAR",
                                    "nev": "Regős Annamária",
                                    "mettol": "2016-06-08",
                                    "meddig": "2016-06-11",
                                    "(No column name)": "12"
                                },
                                {
                                    "UGYFEL_FK": "ANNAMARIAR",
                                    "nev": "Regős Annamária",
                                    "mettol": "2016-09-23",
                                    "meddig": "2016-09-27",
                                    "(No column name)": "12"
                                },
                                {
                                    "UGYFEL_FK": "ANNAMARIAR",
                                    "nev": "Regős Annamária",
                                    "mettol": "2016-07-18",
                                    "meddig": "2016-07-21",
                                    "(No column name)": "12"
                                },
                                {
                                    "UGYFEL_FK": "ANNAMARIAR",
                                    "nev": "Regős Annamária",
                                    "mettol": "2017-02-16",
                                    "meddig": "2017-02-18",
                                    "(No column name)": "12"
                                },
                                {
                                    "UGYFEL_FK": "ANNAMARIAR",
                                    "nev": "Regős Annamária",
                                    "mettol": "2017-01-10",
                                    "meddig": "2017-01-13",
                                    "(No column name)": "12"
                                },
                                {
                                    "UGYFEL_FK": "ANNAMARIAR",
                                    "nev": "Regős Annamária",
                                    "mettol": "2016-11-11",
                                    "meddig": "2016-11-12",
                                    "(No column name)": "12"
                                },
                                {
                                    "UGYFEL_FK": "aron2",
                                    "nev": "Jakab Áron",
                                    "mettol": "2016-11-05",
                                    "meddig": "2016-11-09",
                                    "(No column name)": "16"
                                },
                                {
                                    "UGYFEL_FK": "aron2",
                                    "nev": "Jakab Áron",
                                    "mettol": "2016-10-23",
                                    "meddig": "2016-10-27",
                                    "(No column name)": "16"
                                },
                                {
                                    "UGYFEL_FK": "aron2",
                                    "nev": "Jakab Áron",
                                    "mettol": "2017-01-17",
                                    "meddig": "2017-01-18",
                                    "(No column name)": "16"
                                },
                                {
                                    "UGYFEL_FK": "aron2",
                                    "nev": "Jakab Áron",
                                    "mettol": "2017-02-26",
                                    "meddig": "2017-02-27",
                                    "(No column name)": "16"
                                },
                                {
                                    "UGYFEL_FK": "aron2",
                                    "nev": "Jakab Áron",
                                    "mettol": "2016-04-11",
                                    "meddig": "2016-04-12",
                                    "(No column name)": "16"
                                },
                                {
                                    "UGYFEL_FK": "aron2",
                                    "nev": "Jakab Áron",
                                    "mettol": "2016-07-04",
                                    "meddig": "2016-07-06",
                                    "(No column name)": "16"
                                },
                                {
                                    "UGYFEL_FK": "ARONK",
                                    "nev": "Kelemen Áron",
                                    "mettol": "2016-07-03",
                                    "meddig": "2016-07-07",
                                    "(No column name)": "32"
                                },
                                {
                                    "UGYFEL_FK": "ARONK",
                                    "nev": "Kelemen Áron",
                                    "mettol": "2016-09-08",
                                    "meddig": "2016-09-15",
                                    "(No column name)": "32"
                                },
                                {
                                    "UGYFEL_FK": "ARONK",
                                    "nev": "Kelemen Áron",
                                    "mettol": "2016-06-07",
                                    "meddig": "2016-06-13",
                                    "(No column name)": "32"
                                },
                                {
                                    "UGYFEL_FK": "ARONK",
                                    "nev": "Kelemen Áron",
                                    "mettol": "2016-06-04",
                                    "meddig": "2016-06-09",
                                    "(No column name)": "32"
                                },
                                {
                                    "UGYFEL_FK": "ARONK",
                                    "nev": "Kelemen Áron",
                                    "mettol": "2016-04-06",
                                    "meddig": "2016-04-08",
                                    "(No column name)": "32"
                                },
                                {
                                    "UGYFEL_FK": "ARONK",
                                    "nev": "Kelemen Áron",
                                    "mettol": "2016-05-14",
                                    "meddig": "2016-05-20",
                                    "(No column name)": "32"
                                },
                                {
                                    "UGYFEL_FK": "ARONK",
                                    "nev": "Kelemen Áron",
                                    "mettol": "2016-08-05",
                                    "meddig": "2016-08-08",
                                    "(No column name)": "32"
                                },
                                {
                                    "UGYFEL_FK": "ARONK",
                                    "nev": "Kelemen Áron",
                                    "mettol": "2017-02-21",
                                    "meddig": "2017-02-23",
                                    "(No column name)": "32"
                                },
                                {
                                    "UGYFEL_FK": "ARONK",
                                    "nev": "Kelemen Áron",
                                    "mettol": "2017-01-01",
                                    "meddig": "2017-01-03",
                                    "(No column name)": "32"
                                },
                                {
                                    "UGYFEL_FK": "ARONK",
                                    "nev": "Kelemen Áron",
                                    "mettol": "2017-01-30",
                                    "meddig": "2017-02-03",
                                    "(No column name)": "32"
                                },
                                {
                                    "UGYFEL_FK": "ARONK",
                                    "nev": "Kelemen Áron",
                                    "mettol": "2016-11-05",
                                    "meddig": "2016-11-07",
                                    "(No column name)": "32"
                                },
                                {
                                    "UGYFEL_FK": "ARONK",
                                    "nev": "Kelemen Áron",
                                    "mettol": "2016-11-03",
                                    "meddig": "2016-11-10",
                                    "(No column name)": "32"
                                },
                                {
                                    "UGYFEL_FK": "ARONK",
                                    "nev": "Kelemen Áron",
                                    "mettol": "2016-12-07",
                                    "meddig": "2016-12-12",
                                    "(No column name)": "32"
                                },
                                {
                                    "UGYFEL_FK": "arpad2",
                                    "nev": "Ötvös Árpád",
                                    "mettol": "2016-12-24",
                                    "meddig": "2016-12-27",
                                    "(No column name)": "18"
                                },
                                {
                                    "UGYFEL_FK": "arpad2",
                                    "nev": "Ötvös Árpád",
                                    "mettol": "2016-11-06",
                                    "meddig": "2016-11-10",
                                    "(No column name)": "18"
                                },
                                {
                                    "UGYFEL_FK": "arpad2",
                                    "nev": "Ötvös Árpád",
                                    "mettol": "2016-10-13",
                                    "meddig": "2016-10-19",
                                    "(No column name)": "18"
                                },
                                {
                                    "UGYFEL_FK": "arpad2",
                                    "nev": "Ötvös Árpád",
                                    "mettol": "2017-02-18",
                                    "meddig": "2017-02-19",
                                    "(No column name)": "18"
                                },
                                {
                                    "UGYFEL_FK": "arpad2",
                                    "nev": "Ötvös Árpád",
                                    "mettol": "2016-08-23",
                                    "meddig": "2016-08-25",
                                    "(No column name)": "18"
                                },
                                {
                                    "UGYFEL_FK": "arpad2",
                                    "nev": "Ötvös Árpád",
                                    "mettol": "2016-06-05",
                                    "meddig": "2016-06-07",
                                    "(No column name)": "18"
                                },
                                {
                                    "UGYFEL_FK": "arpad2",
                                    "nev": "Ötvös Árpád",
                                    "mettol": "2016-09-28",
                                    "meddig": "2016-09-30",
                                    "(No column name)": "18"
                                },
                                {
                                    "UGYFEL_FK": "ARPADH",
                                    "nev": "Horváth Árpád",
                                    "mettol": "2016-09-18",
                                    "meddig": "2016-09-25",
                                    "(No column name)": "13"
                                },
                                {
                                    "UGYFEL_FK": "ARPADH",
                                    "nev": "Horváth Árpád",
                                    "mettol": "2016-09-16",
                                    "meddig": "2016-09-23",
                                    "(No column name)": "13"
                                },
                                {
                                    "UGYFEL_FK": "ARPADH",
                                    "nev": "Horváth Árpád",
                                    "mettol": "2016-06-06",
                                    "meddig": "2016-06-07",
                                    "(No column name)": "13"
                                },
                                {
                                    "UGYFEL_FK": "ARPADH",
                                    "nev": "Horváth Árpád",
                                    "mettol": "2016-07-14",
                                    "meddig": "2016-07-18",
                                    "(No column name)": "13"
                                },
                                {
                                    "UGYFEL_FK": "ARPADH",
                                    "nev": "Horváth Árpád",
                                    "mettol": "2017-02-16",
                                    "meddig": "2017-02-18",
                                    "(No column name)": "13"
                                },
                                {
                                    "UGYFEL_FK": "ARPADH",
                                    "nev": "Horváth Árpád",
                                    "mettol": "2016-12-18",
                                    "meddig": "2016-12-19",
                                    "(No column name)": "13"
                                },
                                {
                                    "UGYFEL_FK": "ARPADH",
                                    "nev": "Horváth Árpád",
                                    "mettol": "2016-12-04",
                                    "meddig": "2016-12-10",
                                    "(No column name)": "13"
                                },
                                {
                                    "UGYFEL_FK": "ARPADM",
                                    "nev": "Móricz Árpád",
                                    "mettol": "2016-12-14",
                                    "meddig": "2016-12-17",
                                    "(No column name)": "13"
                                },
                                {
                                    "UGYFEL_FK": "ARPADM",
                                    "nev": "Móricz Árpád",
                                    "mettol": "2016-11-09",
                                    "meddig": "2016-11-11",
                                    "(No column name)": "13"
                                },
                                {
                                    "UGYFEL_FK": "ARPADM",
                                    "nev": "Móricz Árpád",
                                    "mettol": "2017-02-12",
                                    "meddig": "2017-02-14",
                                    "(No column name)": "13"
                                },
                                {
                                    "UGYFEL_FK": "ARPADM",
                                    "nev": "Móricz Árpád",
                                    "mettol": "2017-01-05",
                                    "meddig": "2017-01-10",
                                    "(No column name)": "13"
                                },
                                {
                                    "UGYFEL_FK": "ARPADM",
                                    "nev": "Móricz Árpád",
                                    "mettol": "2016-08-12",
                                    "meddig": "2016-08-16",
                                    "(No column name)": "13"
                                },
                                {
                                    "UGYFEL_FK": "ARPADM",
                                    "nev": "Móricz Árpád",
                                    "mettol": "2016-05-29",
                                    "meddig": "2016-06-01",
                                    "(No column name)": "13"
                                },
                                {
                                    "UGYFEL_FK": "attila",
                                    "nev": "Csóti Attila",
                                    "mettol": "2016-09-30",
                                    "meddig": "2016-10-07",
                                    "(No column name)": "6"
                                },
                                {
                                    "UGYFEL_FK": "attila",
                                    "nev": "Csóti Attila",
                                    "mettol": "2016-10-15",
                                    "meddig": "2016-10-19",
                                    "(No column name)": "6"
                                },
                                {
                                    "UGYFEL_FK": "attila",
                                    "nev": "Csóti Attila",
                                    "mettol": "2016-12-22",
                                    "meddig": "2016-12-26",
                                    "(No column name)": "6"
                                },
                                {
                                    "UGYFEL_FK": "attila1",
                                    "nev": "Gulyás Attila",
                                    "mettol": "2016-10-15",
                                    "meddig": "2016-10-16",
                                    "(No column name)": "14"
                                },
                                {
                                    "UGYFEL_FK": "attila1",
                                    "nev": "Gulyás Attila",
                                    "mettol": "2016-10-09",
                                    "meddig": "2016-10-12",
                                    "(No column name)": "14"
                                },
                                {
                                    "UGYFEL_FK": "attila1",
                                    "nev": "Gulyás Attila",
                                    "mettol": "2016-11-10",
                                    "meddig": "2016-11-14",
                                    "(No column name)": "14"
                                },
                                {
                                    "UGYFEL_FK": "attila1",
                                    "nev": "Gulyás Attila",
                                    "mettol": "2016-10-30",
                                    "meddig": "2016-11-05",
                                    "(No column name)": "14"
                                },
                                {
                                    "UGYFEL_FK": "attila1",
                                    "nev": "Gulyás Attila",
                                    "mettol": "2017-01-23",
                                    "meddig": "2017-01-30",
                                    "(No column name)": "14"
                                },
                                {
                                    "UGYFEL_FK": "attila1",
                                    "nev": "Gulyás Attila",
                                    "mettol": "2016-05-20",
                                    "meddig": "2016-05-26",
                                    "(No column name)": "14"
                                },
                                {
                                    "UGYFEL_FK": "attila4",
                                    "nev": "Baróti Attila",
                                    "mettol": "2016-08-18",
                                    "meddig": "2016-08-23",
                                    "(No column name)": "8"
                                },
                                {
                                    "UGYFEL_FK": "attila4",
                                    "nev": "Baróti Attila",
                                    "mettol": "2017-02-15",
                                    "meddig": "2017-02-22",
                                    "(No column name)": "8"
                                },
                                {
                                    "UGYFEL_FK": "attila4",
                                    "nev": "Baróti Attila",
                                    "mettol": "2016-12-31",
                                    "meddig": "2017-01-01",
                                    "(No column name)": "8"
                                },
                                {
                                    "UGYFEL_FK": "ATTILAO",
                                    "nev": "Opra Attila",
                                    "mettol": "2016-10-30",
                                    "meddig": "2016-11-03",
                                    "(No column name)": "11"
                                },
                                {
                                    "UGYFEL_FK": "ATTILAO",
                                    "nev": "Opra Attila",
                                    "mettol": "2017-02-22",
                                    "meddig": "2017-02-25",
                                    "(No column name)": "11"
                                },
                                {
                                    "UGYFEL_FK": "ATTILAO",
                                    "nev": "Opra Attila",
                                    "mettol": "2016-05-21",
                                    "meddig": "2016-05-26",
                                    "(No column name)": "11"
                                },
                                {
                                    "UGYFEL_FK": "ATTILAO",
                                    "nev": "Opra Attila",
                                    "mettol": "2016-06-04",
                                    "meddig": "2016-06-11",
                                    "(No column name)": "11"
                                },
                                {
                                    "UGYFEL_FK": "balazs1",
                                    "nev": "Bozsik Balázs",
                                    "mettol": "2016-05-07",
                                    "meddig": "2016-05-14",
                                    "(No column name)": "16"
                                },
                                {
                                    "UGYFEL_FK": "balazs1",
                                    "nev": "Bozsik Balázs",
                                    "mettol": "2016-07-22",
                                    "meddig": "2016-07-26",
                                    "(No column name)": "16"
                                },
                                {
                                    "UGYFEL_FK": "balazs1",
                                    "nev": "Bozsik Balázs",
                                    "mettol": "2017-02-12",
                                    "meddig": "2017-02-14",
                                    "(No column name)": "16"
                                },
                                {
                                    "UGYFEL_FK": "balazs1",
                                    "nev": "Bozsik Balázs",
                                    "mettol": "2017-02-10",
                                    "meddig": "2017-02-14",
                                    "(No column name)": "16"
                                },
                                {
                                    "UGYFEL_FK": "balazs1",
                                    "nev": "Bozsik Balázs",
                                    "mettol": "2017-01-01",
                                    "meddig": "2017-01-05",
                                    "(No column name)": "16"
                                },
                                {
                                    "UGYFEL_FK": "balazs1",
                                    "nev": "Bozsik Balázs",
                                    "mettol": "2016-12-26",
                                    "meddig": "2016-12-28",
                                    "(No column name)": "16"
                                },
                                {
                                    "UGYFEL_FK": "balazs2",
                                    "nev": "Szűcs Balázs",
                                    "mettol": "2016-11-03",
                                    "meddig": "2016-11-05",
                                    "(No column name)": "26"
                                },
                                {
                                    "UGYFEL_FK": "balazs2",
                                    "nev": "Szűcs Balázs",
                                    "mettol": "2017-02-27",
                                    "meddig": "2017-03-06",
                                    "(No column name)": "26"
                                },
                                {
                                    "UGYFEL_FK": "balazs2",
                                    "nev": "Szűcs Balázs",
                                    "mettol": "2016-08-21",
                                    "meddig": "2016-08-22",
                                    "(No column name)": "26"
                                },
                                {
                                    "UGYFEL_FK": "balazs2",
                                    "nev": "Szűcs Balázs",
                                    "mettol": "2016-04-16",
                                    "meddig": "2016-04-19",
                                    "(No column name)": "26"
                                },
                                {
                                    "UGYFEL_FK": "balazs2",
                                    "nev": "Szűcs Balázs",
                                    "mettol": "2016-07-20",
                                    "meddig": "2016-07-25",
                                    "(No column name)": "26"
                                },
                                {
                                    "UGYFEL_FK": "balazs2",
                                    "nev": "Szűcs Balázs",
                                    "mettol": "2016-05-22",
                                    "meddig": "2016-05-29",
                                    "(No column name)": "26"
                                },
                                {
                                    "UGYFEL_FK": "balazs2",
                                    "nev": "Szűcs Balázs",
                                    "mettol": "2016-05-28",
                                    "meddig": "2016-06-01",
                                    "(No column name)": "26"
                                },
                                {
                                    "UGYFEL_FK": "balazs2",
                                    "nev": "Szűcs Balázs",
                                    "mettol": "2016-09-12",
                                    "meddig": "2016-09-14",
                                    "(No column name)": "26"
                                },
                                {
                                    "UGYFEL_FK": "balazs2",
                                    "nev": "Szűcs Balázs",
                                    "mettol": "2016-07-10",
                                    "meddig": "2016-07-17",
                                    "(No column name)": "26"
                                },
                                {
                                    "UGYFEL_FK": "balazs2",
                                    "nev": "Szűcs Balázs",
                                    "mettol": "2016-07-08",
                                    "meddig": "2016-07-12",
                                    "(No column name)": "26"
                                },
                                {
                                    "UGYFEL_FK": "balazs3",
                                    "nev": "Bakódy Balázs",
                                    "mettol": "2016-09-15",
                                    "meddig": "2016-09-16",
                                    "(No column name)": "17"
                                },
                                {
                                    "UGYFEL_FK": "balazs3",
                                    "nev": "Bakódy Balázs",
                                    "mettol": "2016-07-17",
                                    "meddig": "2016-07-21",
                                    "(No column name)": "17"
                                },
                                {
                                    "UGYFEL_FK": "balazs3",
                                    "nev": "Bakódy Balázs",
                                    "mettol": "2016-08-24",
                                    "meddig": "2016-08-28",
                                    "(No column name)": "17"
                                },
                                {
                                    "UGYFEL_FK": "balazs3",
                                    "nev": "Bakódy Balázs",
                                    "mettol": "2016-07-27",
                                    "meddig": "2016-07-31",
                                    "(No column name)": "17"
                                },
                                {
                                    "UGYFEL_FK": "balazs3",
                                    "nev": "Bakódy Balázs",
                                    "mettol": "2017-01-20",
                                    "meddig": "2017-01-22",
                                    "(No column name)": "17"
                                },
                                {
                                    "UGYFEL_FK": "balazs3",
                                    "nev": "Bakódy Balázs",
                                    "mettol": "2016-12-05",
                                    "meddig": "2016-12-11",
                                    "(No column name)": "17"
                                },
                                {
                                    "UGYFEL_FK": "balint",
                                    "nev": "Horváth Bálint",
                                    "mettol": "2016-11-24",
                                    "meddig": "2016-11-29",
                                    "(No column name)": "7"
                                },
                                {
                                    "UGYFEL_FK": "balint",
                                    "nev": "Horváth Bálint",
                                    "mettol": "2016-10-09",
                                    "meddig": "2016-10-11",
                                    "(No column name)": "7"
                                },
                                {
                                    "UGYFEL_FK": "balint",
                                    "nev": "Horváth Bálint",
                                    "mettol": "2016-04-22",
                                    "meddig": "2016-04-29",
                                    "(No column name)": "7"
                                },
                                {
                                    "UGYFEL_FK": "balint1",
                                    "nev": "Molnár Bálint",
                                    "mettol": "2016-07-26",
                                    "meddig": "2016-07-28",
                                    "(No column name)": "22"
                                },
                                {
                                    "UGYFEL_FK": "balint1",
                                    "nev": "Molnár Bálint",
                                    "mettol": "2016-08-03",
                                    "meddig": "2016-08-08",
                                    "(No column name)": "22"
                                },
                                {
                                    "UGYFEL_FK": "balint1",
                                    "nev": "Molnár Bálint",
                                    "mettol": "2016-09-16",
                                    "meddig": "2016-09-21",
                                    "(No column name)": "22"
                                },
                                {
                                    "UGYFEL_FK": "balint1",
                                    "nev": "Molnár Bálint",
                                    "mettol": "2016-06-07",
                                    "meddig": "2016-06-11",
                                    "(No column name)": "22"
                                },
                                {
                                    "UGYFEL_FK": "balint1",
                                    "nev": "Molnár Bálint",
                                    "mettol": "2016-06-07",
                                    "meddig": "2016-06-12",
                                    "(No column name)": "22"
                                },
                                {
                                    "UGYFEL_FK": "balint1",
                                    "nev": "Molnár Bálint",
                                    "mettol": "2016-06-10",
                                    "meddig": "2016-06-12",
                                    "(No column name)": "22"
                                },
                                {
                                    "UGYFEL_FK": "balint1",
                                    "nev": "Molnár Bálint",
                                    "mettol": "2016-11-07",
                                    "meddig": "2016-11-10",
                                    "(No column name)": "22"
                                },
                                {
                                    "UGYFEL_FK": "balint1",
                                    "nev": "Molnár Bálint",
                                    "mettol": "2016-12-29",
                                    "meddig": "2016-12-31",
                                    "(No column name)": "22"
                                },
                                {
                                    "UGYFEL_FK": "balint1",
                                    "nev": "Molnár Bálint",
                                    "mettol": "2016-12-17",
                                    "meddig": "2016-12-22",
                                    "(No column name)": "22"
                                },
                                {
                                    "UGYFEL_FK": "balint1",
                                    "nev": "Molnár Bálint",
                                    "mettol": "2017-01-03",
                                    "meddig": "2017-01-08",
                                    "(No column name)": "22"
                                },
                                {
                                    "UGYFEL_FK": "balint2",
                                    "nev": "Vukasinovity Bálint",
                                    "mettol": "2016-12-04",
                                    "meddig": "2016-12-06",
                                    "(No column name)": "4"
                                },
                                {
                                    "UGYFEL_FK": "balint2",
                                    "nev": "Vukasinovity Bálint",
                                    "mettol": "2016-07-21",
                                    "meddig": "2016-07-26",
                                    "(No column name)": "4"
                                },
                                {
                                    "UGYFEL_FK": "balu",
                                    "nev": "Endresz Bálint",
                                    "mettol": "2016-08-06",
                                    "meddig": "2016-08-10",
                                    "(No column name)": "4"
                                },
                                {
                                    "UGYFEL_FK": "balu",
                                    "nev": "Endresz Bálint",
                                    "mettol": "2016-12-22",
                                    "meddig": "2016-12-23",
                                    "(No column name)": "4"
                                },
                                {
                                    "UGYFEL_FK": "beata4",
                                    "nev": "Bagi Beáta",
                                    "mettol": "2016-08-25",
                                    "meddig": "2016-08-27",
                                    "(No column name)": "12"
                                },
                                {
                                    "UGYFEL_FK": "beata4",
                                    "nev": "Bagi Beáta",
                                    "mettol": "2016-04-20",
                                    "meddig": "2016-04-21",
                                    "(No column name)": "12"
                                },
                                {
                                    "UGYFEL_FK": "beata4",
                                    "nev": "Bagi Beáta",
                                    "mettol": "2016-06-03",
                                    "meddig": "2016-06-04",
                                    "(No column name)": "12"
                                },
                                {
                                    "UGYFEL_FK": "beata4",
                                    "nev": "Bagi Beáta",
                                    "mettol": "2016-07-03",
                                    "meddig": "2016-07-06",
                                    "(No column name)": "12"
                                },
                                {
                                    "UGYFEL_FK": "beata4",
                                    "nev": "Bagi Beáta",
                                    "mettol": "2016-10-01",
                                    "meddig": "2016-10-05",
                                    "(No column name)": "12"
                                },
                                {
                                    "UGYFEL_FK": "beata4",
                                    "nev": "Bagi Beáta",
                                    "mettol": "2016-10-03",
                                    "meddig": "2016-10-06",
                                    "(No column name)": "12"
                                },
                                {
                                    "UGYFEL_FK": "BEATRIXK",
                                    "nev": "Kerényi Beatrix",
                                    "mettol": "2016-06-10",
                                    "meddig": "2016-06-11",
                                    "(No column name)": "25"
                                },
                                {
                                    "UGYFEL_FK": "BEATRIXK",
                                    "nev": "Kerényi Beatrix",
                                    "mettol": "2016-06-10",
                                    "meddig": "2016-06-14",
                                    "(No column name)": "25"
                                },
                                {
                                    "UGYFEL_FK": "BEATRIXK",
                                    "nev": "Kerényi Beatrix",
                                    "mettol": "2016-06-19",
                                    "meddig": "2016-06-21",
                                    "(No column name)": "25"
                                },
                                {
                                    "UGYFEL_FK": "BEATRIXK",
                                    "nev": "Kerényi Beatrix",
                                    "mettol": "2016-08-12",
                                    "meddig": "2016-08-18",
                                    "(No column name)": "25"
                                },
                                {
                                    "UGYFEL_FK": "BEATRIXK",
                                    "nev": "Kerényi Beatrix",
                                    "mettol": "2016-12-17",
                                    "meddig": "2016-12-22",
                                    "(No column name)": "25"
                                },
                                {
                                    "UGYFEL_FK": "BEATRIXK",
                                    "nev": "Kerényi Beatrix",
                                    "mettol": "2016-12-12",
                                    "meddig": "2016-12-14",
                                    "(No column name)": "25"
                                },
                                {
                                    "UGYFEL_FK": "BEATRIXK",
                                    "nev": "Kerényi Beatrix",
                                    "mettol": "2016-11-14",
                                    "meddig": "2016-11-19",
                                    "(No column name)": "25"
                                },
                                {
                                    "UGYFEL_FK": "BEATRIXK",
                                    "nev": "Kerényi Beatrix",
                                    "mettol": "2016-10-23",
                                    "meddig": "2016-10-28",
                                    "(No column name)": "25"
                                },
                                {
                                    "UGYFEL_FK": "BEATRIXK",
                                    "nev": "Kerényi Beatrix",
                                    "mettol": "2017-02-08",
                                    "meddig": "2017-02-09",
                                    "(No column name)": "25"
                                },
                                {
                                    "UGYFEL_FK": "BEATRIXS",
                                    "nev": "Szekendi Beatrix",
                                    "mettol": "2017-02-03",
                                    "meddig": "2017-02-04",
                                    "(No column name)": "14"
                                },
                                {
                                    "UGYFEL_FK": "BEATRIXS",
                                    "nev": "Szekendi Beatrix",
                                    "mettol": "2016-12-21",
                                    "meddig": "2016-12-27",
                                    "(No column name)": "14"
                                },
                                {
                                    "UGYFEL_FK": "BEATRIXS",
                                    "nev": "Szekendi Beatrix",
                                    "mettol": "2016-04-18",
                                    "meddig": "2016-04-24",
                                    "(No column name)": "14"
                                },
                                {
                                    "UGYFEL_FK": "BEATRIXS",
                                    "nev": "Szekendi Beatrix",
                                    "mettol": "2016-06-11",
                                    "meddig": "2016-06-14",
                                    "(No column name)": "14"
                                },
                                {
                                    "UGYFEL_FK": "BEATRIXS",
                                    "nev": "Szekendi Beatrix",
                                    "mettol": "2016-10-01",
                                    "meddig": "2016-10-03",
                                    "(No column name)": "14"
                                },
                                {
                                    "UGYFEL_FK": "BEATRIXS",
                                    "nev": "Szekendi Beatrix",
                                    "mettol": "2016-10-01",
                                    "meddig": "2016-10-05",
                                    "(No column name)": "14"
                                },
                                {
                                    "UGYFEL_FK": "BELAF",
                                    "nev": "Farkas Béla",
                                    "mettol": "2016-07-27",
                                    "meddig": "2016-07-30",
                                    "(No column name)": "15"
                                },
                                {
                                    "UGYFEL_FK": "BELAF",
                                    "nev": "Farkas Béla",
                                    "mettol": "2016-07-29",
                                    "meddig": "2016-07-31",
                                    "(No column name)": "15"
                                },
                                {
                                    "UGYFEL_FK": "BELAF",
                                    "nev": "Farkas Béla",
                                    "mettol": "2016-08-29",
                                    "meddig": "2016-08-31",
                                    "(No column name)": "15"
                                },
                                {
                                    "UGYFEL_FK": "BELAF",
                                    "nev": "Farkas Béla",
                                    "mettol": "2016-12-06",
                                    "meddig": "2016-12-09",
                                    "(No column name)": "15"
                                },
                                {
                                    "UGYFEL_FK": "BELAF",
                                    "nev": "Farkas Béla",
                                    "mettol": "2016-12-02",
                                    "meddig": "2016-12-04",
                                    "(No column name)": "15"
                                },
                                {
                                    "UGYFEL_FK": "BELAF",
                                    "nev": "Farkas Béla",
                                    "mettol": "2016-11-03",
                                    "meddig": "2016-11-09",
                                    "(No column name)": "15"
                                },
                                {
                                    "UGYFEL_FK": "bence",
                                    "nev": "Győrffy Bence",
                                    "mettol": "2016-10-30",
                                    "meddig": "2016-11-02",
                                    "(No column name)": "22"
                                },
                                {
                                    "UGYFEL_FK": "bence",
                                    "nev": "Győrffy Bence",
                                    "mettol": "2016-12-17",
                                    "meddig": "2016-12-18",
                                    "(No column name)": "22"
                                },
                                {
                                    "UGYFEL_FK": "bence",
                                    "nev": "Győrffy Bence",
                                    "mettol": "2016-12-26",
                                    "meddig": "2016-12-27",
                                    "(No column name)": "22"
                                },
                                {
                                    "UGYFEL_FK": "bence",
                                    "nev": "Győrffy Bence",
                                    "mettol": "2017-02-05",
                                    "meddig": "2017-02-09",
                                    "(No column name)": "22"
                                },
                                {
                                    "UGYFEL_FK": "bence",
                                    "nev": "Győrffy Bence",
                                    "mettol": "2016-07-24",
                                    "meddig": "2016-07-30",
                                    "(No column name)": "22"
                                },
                                {
                                    "UGYFEL_FK": "bence",
                                    "nev": "Győrffy Bence",
                                    "mettol": "2016-07-25",
                                    "meddig": "2016-08-01",
                                    "(No column name)": "22"
                                },
                                {
                                    "UGYFEL_FK": "bence",
                                    "nev": "Győrffy Bence",
                                    "mettol": "2016-05-08",
                                    "meddig": "2016-05-11",
                                    "(No column name)": "22"
                                },
                                {
                                    "UGYFEL_FK": "bence",
                                    "nev": "Győrffy Bence",
                                    "mettol": "2016-09-03",
                                    "meddig": "2016-09-06",
                                    "(No column name)": "22"
                                },
                                {
                                    "UGYFEL_FK": "bence",
                                    "nev": "Győrffy Bence",
                                    "mettol": "2016-05-29",
                                    "meddig": "2016-06-03",
                                    "(No column name)": "22"
                                },
                                {
                                    "UGYFEL_FK": "BENCEB",
                                    "nev": "Bajusz Bence",
                                    "mettol": "2016-06-03",
                                    "meddig": "2016-06-09",
                                    "(No column name)": "15"
                                },
                                {
                                    "UGYFEL_FK": "BENCEB",
                                    "nev": "Bajusz Bence",
                                    "mettol": "2016-05-14",
                                    "meddig": "2016-05-17",
                                    "(No column name)": "15"
                                },
                                {
                                    "UGYFEL_FK": "BENCEB",
                                    "nev": "Bajusz Bence",
                                    "mettol": "2016-08-01",
                                    "meddig": "2016-08-02",
                                    "(No column name)": "15"
                                },
                                {
                                    "UGYFEL_FK": "BENCEB",
                                    "nev": "Bajusz Bence",
                                    "mettol": "2017-02-12",
                                    "meddig": "2017-02-19",
                                    "(No column name)": "15"
                                },
                                {
                                    "UGYFEL_FK": "BENCEB",
                                    "nev": "Bajusz Bence",
                                    "mettol": "2016-11-28",
                                    "meddig": "2016-12-02",
                                    "(No column name)": "15"
                                },
                                {
                                    "UGYFEL_FK": "BENCEB",
                                    "nev": "Bajusz Bence",
                                    "mettol": "2016-10-22",
                                    "meddig": "2016-10-29",
                                    "(No column name)": "15"
                                },
                                {
                                    "UGYFEL_FK": "bernadett1",
                                    "nev": "Simon Bernadett",
                                    "mettol": "2016-10-15",
                                    "meddig": "2016-10-22",
                                    "(No column name)": "20"
                                },
                                {
                                    "UGYFEL_FK": "bernadett1",
                                    "nev": "Simon Bernadett",
                                    "mettol": "2016-10-28",
                                    "meddig": "2016-11-01",
                                    "(No column name)": "20"
                                },
                                {
                                    "UGYFEL_FK": "bernadett1",
                                    "nev": "Simon Bernadett",
                                    "mettol": "2016-10-26",
                                    "meddig": "2016-11-02",
                                    "(No column name)": "20"
                                },
                                {
                                    "UGYFEL_FK": "bernadett1",
                                    "nev": "Simon Bernadett",
                                    "mettol": "2017-02-14",
                                    "meddig": "2017-02-15",
                                    "(No column name)": "20"
                                },
                                {
                                    "UGYFEL_FK": "bernadett1",
                                    "nev": "Simon Bernadett",
                                    "mettol": "2017-02-24",
                                    "meddig": "2017-03-03",
                                    "(No column name)": "20"
                                },
                                {
                                    "UGYFEL_FK": "bernadett1",
                                    "nev": "Simon Bernadett",
                                    "mettol": "2016-06-12",
                                    "meddig": "2016-06-17",
                                    "(No column name)": "20"
                                },
                                {
                                    "UGYFEL_FK": "bernadett1",
                                    "nev": "Simon Bernadett",
                                    "mettol": "2016-10-08",
                                    "meddig": "2016-10-09",
                                    "(No column name)": "20"
                                },
                                {
                                    "UGYFEL_FK": "bernadett2",
                                    "nev": "Kovács Bernadett",
                                    "mettol": "2016-09-07",
                                    "meddig": "2016-09-13",
                                    "(No column name)": "20"
                                },
                                {
                                    "UGYFEL_FK": "bernadett2",
                                    "nev": "Kovács Bernadett",
                                    "mettol": "2016-06-17",
                                    "meddig": "2016-06-23",
                                    "(No column name)": "20"
                                },
                                {
                                    "UGYFEL_FK": "bernadett2",
                                    "nev": "Kovács Bernadett",
                                    "mettol": "2016-08-25",
                                    "meddig": "2016-08-27",
                                    "(No column name)": "20"
                                },
                                {
                                    "UGYFEL_FK": "bernadett2",
                                    "nev": "Kovács Bernadett",
                                    "mettol": "2016-08-23",
                                    "meddig": "2016-08-29",
                                    "(No column name)": "20"
                                },
                                {
                                    "UGYFEL_FK": "bernadett2",
                                    "nev": "Kovács Bernadett",
                                    "mettol": "2016-05-01",
                                    "meddig": "2016-05-03",
                                    "(No column name)": "20"
                                },
                                {
                                    "UGYFEL_FK": "bernadett2",
                                    "nev": "Kovács Bernadett",
                                    "mettol": "2017-01-24",
                                    "meddig": "2017-01-30",
                                    "(No column name)": "20"
                                },
                                {
                                    "UGYFEL_FK": "bernadett2",
                                    "nev": "Kovács Bernadett",
                                    "mettol": "2016-10-30",
                                    "meddig": "2016-11-06",
                                    "(No column name)": "20"
                                },
                                {
                                    "UGYFEL_FK": "bernadett2",
                                    "nev": "Kovács Bernadett",
                                    "mettol": "2016-12-17",
                                    "meddig": "2016-12-20",
                                    "(No column name)": "20"
                                },
                                {
                                    "UGYFEL_FK": "BERNADETTO",
                                    "nev": "Orbán Bernadett",
                                    "mettol": "2017-01-28",
                                    "meddig": "2017-02-03",
                                    "(No column name)": "18"
                                },
                                {
                                    "UGYFEL_FK": "BERNADETTO",
                                    "nev": "Orbán Bernadett",
                                    "mettol": "2017-01-01",
                                    "meddig": "2017-01-02",
                                    "(No column name)": "18"
                                },
                                {
                                    "UGYFEL_FK": "BERNADETTO",
                                    "nev": "Orbán Bernadett",
                                    "mettol": "2016-04-17",
                                    "meddig": "2016-04-19",
                                    "(No column name)": "18"
                                },
                                {
                                    "UGYFEL_FK": "BERNADETTO",
                                    "nev": "Orbán Bernadett",
                                    "mettol": "2016-04-10",
                                    "meddig": "2016-04-17",
                                    "(No column name)": "18"
                                },
                                {
                                    "UGYFEL_FK": "BERNADETTO",
                                    "nev": "Orbán Bernadett",
                                    "mettol": "2016-06-10",
                                    "meddig": "2016-06-16",
                                    "(No column name)": "18"
                                },
                                {
                                    "UGYFEL_FK": "BERNADETTO",
                                    "nev": "Orbán Bernadett",
                                    "mettol": "2016-06-07",
                                    "meddig": "2016-06-13",
                                    "(No column name)": "18"
                                },
                                {
                                    "UGYFEL_FK": "BERNADETTO",
                                    "nev": "Orbán Bernadett",
                                    "mettol": "2016-10-04",
                                    "meddig": "2016-10-05",
                                    "(No column name)": "18"
                                },
                                {
                                    "UGYFEL_FK": "bertalan",
                                    "nev": "Csiger Bertalan",
                                    "mettol": "2016-06-20",
                                    "meddig": "2016-06-21",
                                    "(No column name)": "14"
                                },
                                {
                                    "UGYFEL_FK": "bertalan",
                                    "nev": "Csiger Bertalan",
                                    "mettol": "2016-05-18",
                                    "meddig": "2016-05-23",
                                    "(No column name)": "14"
                                },
                                {
                                    "UGYFEL_FK": "bertalan",
                                    "nev": "Csiger Bertalan",
                                    "mettol": "2017-02-16",
                                    "meddig": "2017-02-22",
                                    "(No column name)": "14"
                                },
                                {
                                    "UGYFEL_FK": "bertalan",
                                    "nev": "Csiger Bertalan",
                                    "mettol": "2017-02-20",
                                    "meddig": "2017-02-24",
                                    "(No column name)": "14"
                                },
                                {
                                    "UGYFEL_FK": "bertalan",
                                    "nev": "Csiger Bertalan",
                                    "mettol": "2016-11-26",
                                    "meddig": "2016-11-29",
                                    "(No column name)": "14"
                                },
                                {
                                    "UGYFEL_FK": "bertalan",
                                    "nev": "Csiger Bertalan",
                                    "mettol": "2016-11-03",
                                    "meddig": "2016-11-10",
                                    "(No column name)": "14"
                                },
                                {
                                    "UGYFEL_FK": "brigitta",
                                    "nev": "Székely Brigitta",
                                    "mettol": "2016-10-21",
                                    "meddig": "2016-10-28",
                                    "(No column name)": "12"
                                },
                                {
                                    "UGYFEL_FK": "brigitta",
                                    "nev": "Székely Brigitta",
                                    "mettol": "2016-12-17",
                                    "meddig": "2016-12-22",
                                    "(No column name)": "12"
                                },
                                {
                                    "UGYFEL_FK": "brigitta",
                                    "nev": "Székely Brigitta",
                                    "mettol": "2017-01-23",
                                    "meddig": "2017-01-25",
                                    "(No column name)": "12"
                                },
                                {
                                    "UGYFEL_FK": "brigitta",
                                    "nev": "Székely Brigitta",
                                    "mettol": "2016-08-28",
                                    "meddig": "2016-09-01",
                                    "(No column name)": "12"
                                },
                                {
                                    "UGYFEL_FK": "brigitta",
                                    "nev": "Székely Brigitta",
                                    "mettol": "2016-05-30",
                                    "meddig": "2016-06-06",
                                    "(No column name)": "12"
                                },
                                {
                                    "UGYFEL_FK": "brigitta3",
                                    "nev": "Pataki Brigitta",
                                    "mettol": "2016-06-01",
                                    "meddig": "2016-06-05",
                                    "(No column name)": "12"
                                },
                                {
                                    "UGYFEL_FK": "brigitta3",
                                    "nev": "Pataki Brigitta",
                                    "mettol": "2016-06-13",
                                    "meddig": "2016-06-17",
                                    "(No column name)": "12"
                                },
                                {
                                    "UGYFEL_FK": "brigitta3",
                                    "nev": "Pataki Brigitta",
                                    "mettol": "2017-02-09",
                                    "meddig": "2017-02-16",
                                    "(No column name)": "12"
                                },
                                {
                                    "UGYFEL_FK": "brigitta3",
                                    "nev": "Pataki Brigitta",
                                    "mettol": "2016-10-10",
                                    "meddig": "2016-10-14",
                                    "(No column name)": "12"
                                },
                                {
                                    "UGYFEL_FK": "brigitta3",
                                    "nev": "Pataki Brigitta",
                                    "mettol": "2016-11-03",
                                    "meddig": "2016-11-09",
                                    "(No column name)": "12"
                                },
                                {
                                    "UGYFEL_FK": "csongor3",
                                    "nev": "Nagymihály Csongor",
                                    "mettol": "2016-11-12",
                                    "meddig": "2016-11-17",
                                    "(No column name)": "22"
                                },
                                {
                                    "UGYFEL_FK": "csongor3",
                                    "nev": "Nagymihály Csongor",
                                    "mettol": "2017-02-13",
                                    "meddig": "2017-02-19",
                                    "(No column name)": "22"
                                },
                                {
                                    "UGYFEL_FK": "csongor3",
                                    "nev": "Nagymihály Csongor",
                                    "mettol": "2016-06-10",
                                    "meddig": "2016-06-17",
                                    "(No column name)": "22"
                                },
                                {
                                    "UGYFEL_FK": "csongor3",
                                    "nev": "Nagymihály Csongor",
                                    "mettol": "2016-06-11",
                                    "meddig": "2016-06-14",
                                    "(No column name)": "22"
                                },
                                {
                                    "UGYFEL_FK": "csongor3",
                                    "nev": "Nagymihály Csongor",
                                    "mettol": "2016-06-04",
                                    "meddig": "2016-06-05",
                                    "(No column name)": "22"
                                },
                                {
                                    "UGYFEL_FK": "csongor3",
                                    "nev": "Nagymihály Csongor",
                                    "mettol": "2016-07-09",
                                    "meddig": "2016-07-10",
                                    "(No column name)": "22"
                                },
                                {
                                    "UGYFEL_FK": "csongor3",
                                    "nev": "Nagymihály Csongor",
                                    "mettol": "2016-05-01",
                                    "meddig": "2016-05-04",
                                    "(No column name)": "22"
                                },
                                {
                                    "UGYFEL_FK": "csongor3",
                                    "nev": "Nagymihály Csongor",
                                    "mettol": "2016-05-08",
                                    "meddig": "2016-05-15",
                                    "(No column name)": "22"
                                },
                                {
                                    "UGYFEL_FK": "dani",
                                    "nev": "Vörös Dániel",
                                    "mettol": "2016-08-06",
                                    "meddig": "2016-08-09",
                                    "(No column name)": "21"
                                },
                                {
                                    "UGYFEL_FK": "dani",
                                    "nev": "Vörös Dániel",
                                    "mettol": "2016-07-11",
                                    "meddig": "2016-07-12",
                                    "(No column name)": "21"
                                },
                                {
                                    "UGYFEL_FK": "dani",
                                    "nev": "Vörös Dániel",
                                    "mettol": "2016-10-01",
                                    "meddig": "2016-10-02",
                                    "(No column name)": "21"
                                },
                                {
                                    "UGYFEL_FK": "dani",
                                    "nev": "Vörös Dániel",
                                    "mettol": "2016-09-19",
                                    "meddig": "2016-09-25",
                                    "(No column name)": "21"
                                },
                                {
                                    "UGYFEL_FK": "dani",
                                    "nev": "Vörös Dániel",
                                    "mettol": "2016-06-06",
                                    "meddig": "2016-06-10",
                                    "(No column name)": "21"
                                },
                                {
                                    "UGYFEL_FK": "dani",
                                    "nev": "Vörös Dániel",
                                    "mettol": "2017-01-22",
                                    "meddig": "2017-01-29",
                                    "(No column name)": "21"
                                },
                                {
                                    "UGYFEL_FK": "dani",
                                    "nev": "Vörös Dániel",
                                    "mettol": "2017-01-17",
                                    "meddig": "2017-01-23",
                                    "(No column name)": "21"
                                },
                                {
                                    "UGYFEL_FK": "dani",
                                    "nev": "Vörös Dániel",
                                    "mettol": "2017-02-25",
                                    "meddig": "2017-03-01",
                                    "(No column name)": "21"
                                },
                                {
                                    "UGYFEL_FK": "dani",
                                    "nev": "Vörös Dániel",
                                    "mettol": "2016-11-22",
                                    "meddig": "2016-11-24",
                                    "(No column name)": "21"
                                },
                                {
                                    "UGYFEL_FK": "daniel",
                                    "nev": "Rácz Dániel",
                                    "mettol": "2016-11-13",
                                    "meddig": "2016-11-19",
                                    "(No column name)": "26"
                                },
                                {
                                    "UGYFEL_FK": "daniel",
                                    "nev": "Rácz Dániel",
                                    "mettol": "2016-12-25",
                                    "meddig": "2016-12-26",
                                    "(No column name)": "26"
                                },
                                {
                                    "UGYFEL_FK": "daniel",
                                    "nev": "Rácz Dániel",
                                    "mettol": "2017-02-20",
                                    "meddig": "2017-02-23",
                                    "(No column name)": "26"
                                },
                                {
                                    "UGYFEL_FK": "daniel",
                                    "nev": "Rácz Dániel",
                                    "mettol": "2017-01-09",
                                    "meddig": "2017-01-11",
                                    "(No column name)": "26"
                                },
                                {
                                    "UGYFEL_FK": "daniel",
                                    "nev": "Rácz Dániel",
                                    "mettol": "2017-02-12",
                                    "meddig": "2017-02-13",
                                    "(No column name)": "26"
                                },
                                {
                                    "UGYFEL_FK": "daniel",
                                    "nev": "Rácz Dániel",
                                    "mettol": "2016-09-08",
                                    "meddig": "2016-09-10",
                                    "(No column name)": "26"
                                },
                                {
                                    "UGYFEL_FK": "daniel",
                                    "nev": "Rácz Dániel",
                                    "mettol": "2016-05-09",
                                    "meddig": "2016-05-13",
                                    "(No column name)": "26"
                                },
                                {
                                    "UGYFEL_FK": "daniel",
                                    "nev": "Rácz Dániel",
                                    "mettol": "2016-04-22",
                                    "meddig": "2016-04-25",
                                    "(No column name)": "26"
                                },
                                {
                                    "UGYFEL_FK": "daniel",
                                    "nev": "Rácz Dániel",
                                    "mettol": "2016-04-10",
                                    "meddig": "2016-04-11",
                                    "(No column name)": "26"
                                },
                                {
                                    "UGYFEL_FK": "daniel1",
                                    "nev": "Keszler Dániel",
                                    "mettol": "2016-04-10",
                                    "meddig": "2016-04-15",
                                    "(No column name)": "20"
                                },
                                {
                                    "UGYFEL_FK": "daniel1",
                                    "nev": "Keszler Dániel",
                                    "mettol": "2016-05-10",
                                    "meddig": "2016-05-13",
                                    "(No column name)": "20"
                                },
                                {
                                    "UGYFEL_FK": "daniel1",
                                    "nev": "Keszler Dániel",
                                    "mettol": "2016-05-26",
                                    "meddig": "2016-05-27",
                                    "(No column name)": "20"
                                },
                                {
                                    "UGYFEL_FK": "daniel1",
                                    "nev": "Keszler Dániel",
                                    "mettol": "2017-01-05",
                                    "meddig": "2017-01-08",
                                    "(No column name)": "20"
                                },
                                {
                                    "UGYFEL_FK": "daniel1",
                                    "nev": "Keszler Dániel",
                                    "mettol": "2017-03-01",
                                    "meddig": "2017-03-06",
                                    "(No column name)": "20"
                                },
                                {
                                    "UGYFEL_FK": "daniel1",
                                    "nev": "Keszler Dániel",
                                    "mettol": "2016-11-23",
                                    "meddig": "2016-11-25",
                                    "(No column name)": "20"
                                },
                                {
                                    "UGYFEL_FK": "daniel1",
                                    "nev": "Keszler Dániel",
                                    "mettol": "2016-11-09",
                                    "meddig": "2016-11-11",
                                    "(No column name)": "20"
                                },
                                {
                                    "UGYFEL_FK": "david",
                                    "nev": "Ambrus Dávid",
                                    "mettol": "2016-10-30",
                                    "meddig": "2016-11-04",
                                    "(No column name)": "19"
                                },
                                {
                                    "UGYFEL_FK": "david",
                                    "nev": "Ambrus Dávid",
                                    "mettol": "2017-01-18",
                                    "meddig": "2017-01-19",
                                    "(No column name)": "19"
                                },
                                {
                                    "UGYFEL_FK": "david",
                                    "nev": "Ambrus Dávid",
                                    "mettol": "2016-06-09",
                                    "meddig": "2016-06-10",
                                    "(No column name)": "19"
                                },
                                {
                                    "UGYFEL_FK": "david",
                                    "nev": "Ambrus Dávid",
                                    "mettol": "2016-06-30",
                                    "meddig": "2016-07-07",
                                    "(No column name)": "19"
                                },
                                {
                                    "UGYFEL_FK": "david",
                                    "nev": "Ambrus Dávid",
                                    "mettol": "2016-05-18",
                                    "meddig": "2016-05-25",
                                    "(No column name)": "19"
                                },
                                {
                                    "UGYFEL_FK": "david",
                                    "nev": "Ambrus Dávid",
                                    "mettol": "2016-07-18",
                                    "meddig": "2016-07-21",
                                    "(No column name)": "19"
                                },
                                {
                                    "UGYFEL_FK": "david",
                                    "nev": "Ambrus Dávid",
                                    "mettol": "2016-08-05",
                                    "meddig": "2016-08-12",
                                    "(No column name)": "19"
                                },
                                {
                                    "UGYFEL_FK": "david",
                                    "nev": "Ambrus Dávid",
                                    "mettol": "2016-08-22",
                                    "meddig": "2016-08-24",
                                    "(No column name)": "19"
                                },
                                {
                                    "UGYFEL_FK": "david",
                                    "nev": "Ambrus Dávid",
                                    "mettol": "2016-08-20",
                                    "meddig": "2016-08-25",
                                    "(No column name)": "19"
                                },
                                {
                                    "UGYFEL_FK": "david1",
                                    "nev": "Sobják Dávid",
                                    "mettol": "2016-09-20",
                                    "meddig": "2016-09-21",
                                    "(No column name)": "15"
                                },
                                {
                                    "UGYFEL_FK": "david1",
                                    "nev": "Sobják Dávid",
                                    "mettol": "2016-10-01",
                                    "meddig": "2016-10-02",
                                    "(No column name)": "15"
                                },
                                {
                                    "UGYFEL_FK": "david1",
                                    "nev": "Sobják Dávid",
                                    "mettol": "2017-02-17",
                                    "meddig": "2017-02-20",
                                    "(No column name)": "15"
                                },
                                {
                                    "UGYFEL_FK": "david1",
                                    "nev": "Sobják Dávid",
                                    "mettol": "2017-02-25",
                                    "meddig": "2017-02-27",
                                    "(No column name)": "15"
                                },
                                {
                                    "UGYFEL_FK": "david1",
                                    "nev": "Sobják Dávid",
                                    "mettol": "2016-11-19",
                                    "meddig": "2016-11-22",
                                    "(No column name)": "15"
                                },
                                {
                                    "UGYFEL_FK": "david1",
                                    "nev": "Sobják Dávid",
                                    "mettol": "2016-12-30",
                                    "meddig": "2017-01-06",
                                    "(No column name)": "15"
                                },
                                {
                                    "UGYFEL_FK": "david4",
                                    "nev": "Berta Dávid",
                                    "mettol": "2017-02-16",
                                    "meddig": "2017-02-19",
                                    "(No column name)": "3"
                                },
                                {
                                    "UGYFEL_FK": "debora",
                                    "nev": "Barna Debóra",
                                    "mettol": "2017-02-04",
                                    "meddig": "2017-02-06",
                                    "(No column name)": "13"
                                },
                                {
                                    "UGYFEL_FK": "debora",
                                    "nev": "Barna Debóra",
                                    "mettol": "2017-01-23",
                                    "meddig": "2017-01-28",
                                    "(No column name)": "13"
                                },
                                {
                                    "UGYFEL_FK": "debora",
                                    "nev": "Barna Debóra",
                                    "mettol": "2016-10-29",
                                    "meddig": "2016-11-03",
                                    "(No column name)": "13"
                                },
                                {
                                    "UGYFEL_FK": "debora",
                                    "nev": "Barna Debóra",
                                    "mettol": "2016-06-22",
                                    "meddig": "2016-06-24",
                                    "(No column name)": "13"
                                },
                                {
                                    "UGYFEL_FK": "denes",
                                    "nev": "Tömböly Dénes",
                                    "mettol": "2016-05-27",
                                    "meddig": "2016-05-31",
                                    "(No column name)": "15"
                                },
                                {
                                    "UGYFEL_FK": "denes",
                                    "nev": "Tömböly Dénes",
                                    "mettol": "2016-08-20",
                                    "meddig": "2016-08-27",
                                    "(No column name)": "15"
                                },
                                {
                                    "UGYFEL_FK": "denes",
                                    "nev": "Tömböly Dénes",
                                    "mettol": "2016-08-16",
                                    "meddig": "2016-08-23",
                                    "(No column name)": "15"
                                },
                                {
                                    "UGYFEL_FK": "denes",
                                    "nev": "Tömböly Dénes",
                                    "mettol": "2016-08-01",
                                    "meddig": "2016-08-08",
                                    "(No column name)": "15"
                                },
                                {
                                    "UGYFEL_FK": "denes",
                                    "nev": "Tömböly Dénes",
                                    "mettol": "2016-07-19",
                                    "meddig": "2016-07-23",
                                    "(No column name)": "15"
                                },
                                {
                                    "UGYFEL_FK": "denes",
                                    "nev": "Tömböly Dénes",
                                    "mettol": "2016-11-06",
                                    "meddig": "2016-11-10",
                                    "(No column name)": "15"
                                },
                                {
                                    "UGYFEL_FK": "dora3",
                                    "nev": "Sarodi Dóra",
                                    "mettol": "2016-10-29",
                                    "meddig": "2016-11-02",
                                    "(No column name)": "16"
                                },
                                {
                                    "UGYFEL_FK": "dora3",
                                    "nev": "Sarodi Dóra",
                                    "mettol": "2016-10-09",
                                    "meddig": "2016-10-12",
                                    "(No column name)": "16"
                                },
                                {
                                    "UGYFEL_FK": "dora3",
                                    "nev": "Sarodi Dóra",
                                    "mettol": "2016-11-22",
                                    "meddig": "2016-11-29",
                                    "(No column name)": "16"
                                },
                                {
                                    "UGYFEL_FK": "dora3",
                                    "nev": "Sarodi Dóra",
                                    "mettol": "2016-08-16",
                                    "meddig": "2016-08-19",
                                    "(No column name)": "16"
                                },
                                {
                                    "UGYFEL_FK": "dora3",
                                    "nev": "Sarodi Dóra",
                                    "mettol": "2016-08-25",
                                    "meddig": "2016-08-29",
                                    "(No column name)": "16"
                                },
                                {
                                    "UGYFEL_FK": "edit",
                                    "nev": "Bittmann Edit",
                                    "mettol": "2016-08-03",
                                    "meddig": "2016-08-09",
                                    "(No column name)": "21"
                                },
                                {
                                    "UGYFEL_FK": "edit",
                                    "nev": "Bittmann Edit",
                                    "mettol": "2016-08-12",
                                    "meddig": "2016-08-14",
                                    "(No column name)": "21"
                                },
                                {
                                    "UGYFEL_FK": "edit",
                                    "nev": "Bittmann Edit",
                                    "mettol": "2016-07-14",
                                    "meddig": "2016-07-17",
                                    "(No column name)": "21"
                                },
                                {
                                    "UGYFEL_FK": "edit",
                                    "nev": "Bittmann Edit",
                                    "mettol": "2016-09-18",
                                    "meddig": "2016-09-21",
                                    "(No column name)": "21"
                                },
                                {
                                    "UGYFEL_FK": "edit",
                                    "nev": "Bittmann Edit",
                                    "mettol": "2016-09-17",
                                    "meddig": "2016-09-24",
                                    "(No column name)": "21"
                                },
                                {
                                    "UGYFEL_FK": "edit",
                                    "nev": "Bittmann Edit",
                                    "mettol": "2017-01-15",
                                    "meddig": "2017-01-18",
                                    "(No column name)": "21"
                                },
                                {
                                    "UGYFEL_FK": "edit",
                                    "nev": "Bittmann Edit",
                                    "mettol": "2017-02-08",
                                    "meddig": "2017-02-14",
                                    "(No column name)": "21"
                                },
                                {
                                    "UGYFEL_FK": "emese",
                                    "nev": "Kuruc Emese",
                                    "mettol": "2017-01-30",
                                    "meddig": "2017-01-31",
                                    "(No column name)": "17"
                                },
                                {
                                    "UGYFEL_FK": "emese",
                                    "nev": "Kuruc Emese",
                                    "mettol": "2016-11-23",
                                    "meddig": "2016-11-27",
                                    "(No column name)": "17"
                                },
                                {
                                    "UGYFEL_FK": "emese",
                                    "nev": "Kuruc Emese",
                                    "mettol": "2016-12-07",
                                    "meddig": "2016-12-08",
                                    "(No column name)": "17"
                                },
                                {
                                    "UGYFEL_FK": "emese",
                                    "nev": "Kuruc Emese",
                                    "mettol": "2016-11-05",
                                    "meddig": "2016-11-09",
                                    "(No column name)": "17"
                                },
                                {
                                    "UGYFEL_FK": "emese",
                                    "nev": "Kuruc Emese",
                                    "mettol": "2016-09-27",
                                    "meddig": "2016-09-28",
                                    "(No column name)": "17"
                                },
                                {
                                    "UGYFEL_FK": "emese",
                                    "nev": "Kuruc Emese",
                                    "mettol": "2016-08-09",
                                    "meddig": "2016-08-12",
                                    "(No column name)": "17"
                                },
                                {
                                    "UGYFEL_FK": "emese",
                                    "nev": "Kuruc Emese",
                                    "mettol": "2016-07-22",
                                    "meddig": "2016-07-24",
                                    "(No column name)": "17"
                                },
                                {
                                    "UGYFEL_FK": "eszter",
                                    "nev": "Molnár Eszter",
                                    "mettol": "2016-08-12",
                                    "meddig": "2016-08-18",
                                    "(No column name)": "11"
                                },
                                {
                                    "UGYFEL_FK": "eszter",
                                    "nev": "Molnár Eszter",
                                    "mettol": "2016-10-04",
                                    "meddig": "2016-10-10",
                                    "(No column name)": "11"
                                },
                                {
                                    "UGYFEL_FK": "eszter",
                                    "nev": "Molnár Eszter",
                                    "mettol": "2016-10-26",
                                    "meddig": "2016-11-01",
                                    "(No column name)": "11"
                                },
                                {
                                    "UGYFEL_FK": "eszter",
                                    "nev": "Molnár Eszter",
                                    "mettol": "2016-12-23",
                                    "meddig": "2016-12-28",
                                    "(No column name)": "11"
                                },
                                {
                                    "UGYFEL_FK": "eszter2",
                                    "nev": "Balogh Eszter",
                                    "mettol": "2016-12-05",
                                    "meddig": "2016-12-08",
                                    "(No column name)": "18"
                                },
                                {
                                    "UGYFEL_FK": "eszter2",
                                    "nev": "Balogh Eszter",
                                    "mettol": "2016-12-02",
                                    "meddig": "2016-12-07",
                                    "(No column name)": "18"
                                },
                                {
                                    "UGYFEL_FK": "eszter2",
                                    "nev": "Balogh Eszter",
                                    "mettol": "2016-10-23",
                                    "meddig": "2016-10-30",
                                    "(No column name)": "18"
                                },
                                {
                                    "UGYFEL_FK": "eszter2",
                                    "nev": "Balogh Eszter",
                                    "mettol": "2016-10-20",
                                    "meddig": "2016-10-25",
                                    "(No column name)": "18"
                                },
                                {
                                    "UGYFEL_FK": "eszter2",
                                    "nev": "Balogh Eszter",
                                    "mettol": "2016-11-05",
                                    "meddig": "2016-11-12",
                                    "(No column name)": "18"
                                },
                                {
                                    "UGYFEL_FK": "eszter2",
                                    "nev": "Balogh Eszter",
                                    "mettol": "2016-12-29",
                                    "meddig": "2017-02-04",
                                    "(No column name)": "18"
                                },
                                {
                                    "UGYFEL_FK": "eszter2",
                                    "nev": "Balogh Eszter",
                                    "mettol": "2016-10-01",
                                    "meddig": "2016-10-05",
                                    "(No column name)": "18"
                                },
                                {
                                    "UGYFEL_FK": "eszter2",
                                    "nev": "Balogh Eszter",
                                    "mettol": "2016-10-01",
                                    "meddig": "2016-10-06",
                                    "(No column name)": "18"
                                },
                                {
                                    "UGYFEL_FK": "eszter2",
                                    "nev": "Balogh Eszter",
                                    "mettol": "2016-06-30",
                                    "meddig": "2016-07-07",
                                    "(No column name)": "18"
                                },
                                {
                                    "UGYFEL_FK": "eszter2",
                                    "nev": "Balogh Eszter",
                                    "mettol": "2016-07-08",
                                    "meddig": "2016-07-09",
                                    "(No column name)": "18"
                                },
                                {
                                    "UGYFEL_FK": "eszter4",
                                    "nev": "Fülöp Eszter",
                                    "mettol": "2017-01-26",
                                    "meddig": "2017-02-02",
                                    "(No column name)": "7"
                                },
                                {
                                    "UGYFEL_FK": "eszter4",
                                    "nev": "Fülöp Eszter",
                                    "mettol": "2017-01-05",
                                    "meddig": "2017-01-10",
                                    "(No column name)": "7"
                                },
                                {
                                    "UGYFEL_FK": "eszter4",
                                    "nev": "Fülöp Eszter",
                                    "mettol": "2017-02-26",
                                    "meddig": "2017-02-27",
                                    "(No column name)": "7"
                                },
                                {
                                    "UGYFEL_FK": "ESZTERE",
                                    "nev": "Érsek Eszter",
                                    "mettol": "2017-02-10",
                                    "meddig": "2017-02-14",
                                    "(No column name)": "8"
                                },
                                {
                                    "UGYFEL_FK": "ESZTERE",
                                    "nev": "Érsek Eszter",
                                    "mettol": "2016-11-01",
                                    "meddig": "2016-11-08",
                                    "(No column name)": "8"
                                },
                                {
                                    "UGYFEL_FK": "ESZTERE",
                                    "nev": "Érsek Eszter",
                                    "mettol": "2016-05-30",
                                    "meddig": "2016-06-05",
                                    "(No column name)": "8"
                                },
                                {
                                    "UGYFEL_FK": "ESZTERE",
                                    "nev": "Érsek Eszter",
                                    "mettol": "2016-07-19",
                                    "meddig": "2016-07-21",
                                    "(No column name)": "8"
                                },
                                {
                                    "UGYFEL_FK": "eva",
                                    "nev": "Enyedi Éva",
                                    "mettol": "2016-10-06",
                                    "meddig": "2016-10-09",
                                    "(No column name)": "5"
                                },
                                {
                                    "UGYFEL_FK": "eva",
                                    "nev": "Enyedi Éva",
                                    "mettol": "2017-01-14",
                                    "meddig": "2017-01-16",
                                    "(No column name)": "5"
                                },
                                {
                                    "UGYFEL_FK": "eva2",
                                    "nev": "Perlinger Éva",
                                    "mettol": "2017-01-06",
                                    "meddig": "2017-01-09",
                                    "(No column name)": "9"
                                },
                                {
                                    "UGYFEL_FK": "eva2",
                                    "nev": "Perlinger Éva",
                                    "mettol": "2016-11-06",
                                    "meddig": "2016-11-13",
                                    "(No column name)": "9"
                                },
                                {
                                    "UGYFEL_FK": "eva2",
                                    "nev": "Perlinger Éva",
                                    "mettol": "2016-12-06",
                                    "meddig": "2016-12-11",
                                    "(No column name)": "9"
                                },
                                {
                                    "UGYFEL_FK": "eva2",
                                    "nev": "Perlinger Éva",
                                    "mettol": "2016-09-02",
                                    "meddig": "2016-09-03",
                                    "(No column name)": "9"
                                },
                                {
                                    "UGYFEL_FK": "EVAV",
                                    "nev": "Viktor Éva",
                                    "mettol": "2016-08-31",
                                    "meddig": "2016-09-04",
                                    "(No column name)": "15"
                                },
                                {
                                    "UGYFEL_FK": "EVAV",
                                    "nev": "Viktor Éva",
                                    "mettol": "2016-05-01",
                                    "meddig": "2016-05-05",
                                    "(No column name)": "15"
                                },
                                {
                                    "UGYFEL_FK": "EVAV",
                                    "nev": "Viktor Éva",
                                    "mettol": "2016-10-15",
                                    "meddig": "2016-10-21",
                                    "(No column name)": "15"
                                },
                                {
                                    "UGYFEL_FK": "EVAV",
                                    "nev": "Viktor Éva",
                                    "mettol": "2016-10-16",
                                    "meddig": "2016-10-23",
                                    "(No column name)": "15"
                                },
                                {
                                    "UGYFEL_FK": "EVAV",
                                    "nev": "Viktor Éva",
                                    "mettol": "2017-02-04",
                                    "meddig": "2017-02-11",
                                    "(No column name)": "15"
                                },
                                {
                                    "UGYFEL_FK": "ferenc1",
                                    "nev": "Orosz Ferenc",
                                    "mettol": "2016-11-07",
                                    "meddig": "2016-11-08",
                                    "(No column name)": "9"
                                },
                                {
                                    "UGYFEL_FK": "ferenc1",
                                    "nev": "Orosz Ferenc",
                                    "mettol": "2016-05-08",
                                    "meddig": "2016-05-11",
                                    "(No column name)": "9"
                                },
                                {
                                    "UGYFEL_FK": "ferenc1",
                                    "nev": "Orosz Ferenc",
                                    "mettol": "2016-10-08",
                                    "meddig": "2016-10-09",
                                    "(No column name)": "9"
                                },
                                {
                                    "UGYFEL_FK": "ferenc1",
                                    "nev": "Orosz Ferenc",
                                    "mettol": "2016-06-16",
                                    "meddig": "2016-06-22",
                                    "(No column name)": "9"
                                },
                                {
                                    "UGYFEL_FK": "fruzsina4",
                                    "nev": "Frank Fruzsina",
                                    "mettol": "2016-06-02",
                                    "meddig": "2016-06-04",
                                    "(No column name)": "22"
                                },
                                {
                                    "UGYFEL_FK": "fruzsina4",
                                    "nev": "Frank Fruzsina",
                                    "mettol": "2016-09-29",
                                    "meddig": "2016-10-01",
                                    "(No column name)": "22"
                                },
                                {
                                    "UGYFEL_FK": "fruzsina4",
                                    "nev": "Frank Fruzsina",
                                    "mettol": "2016-07-01",
                                    "meddig": "2016-07-04",
                                    "(No column name)": "22"
                                },
                                {
                                    "UGYFEL_FK": "fruzsina4",
                                    "nev": "Frank Fruzsina",
                                    "mettol": "2016-07-13",
                                    "meddig": "2016-07-19",
                                    "(No column name)": "22"
                                },
                                {
                                    "UGYFEL_FK": "fruzsina4",
                                    "nev": "Frank Fruzsina",
                                    "mettol": "2016-08-27",
                                    "meddig": "2016-08-30",
                                    "(No column name)": "22"
                                },
                                {
                                    "UGYFEL_FK": "fruzsina4",
                                    "nev": "Frank Fruzsina",
                                    "mettol": "2016-12-16",
                                    "meddig": "2016-12-21",
                                    "(No column name)": "22"
                                },
                                {
                                    "UGYFEL_FK": "fruzsina4",
                                    "nev": "Frank Fruzsina",
                                    "mettol": "2016-11-22",
                                    "meddig": "2016-11-24",
                                    "(No column name)": "22"
                                },
                                {
                                    "UGYFEL_FK": "fruzsina4",
                                    "nev": "Frank Fruzsina",
                                    "mettol": "2017-01-22",
                                    "meddig": "2017-01-25",
                                    "(No column name)": "22"
                                },
                                {
                                    "UGYFEL_FK": "gabor1",
                                    "nev": "Köves Gábor",
                                    "mettol": "2016-11-19",
                                    "meddig": "2016-11-22",
                                    "(No column name)": "13"
                                },
                                {
                                    "UGYFEL_FK": "gabor1",
                                    "nev": "Köves Gábor",
                                    "mettol": "2016-10-20",
                                    "meddig": "2016-10-24",
                                    "(No column name)": "13"
                                },
                                {
                                    "UGYFEL_FK": "gabor1",
                                    "nev": "Köves Gábor",
                                    "mettol": "2016-09-02",
                                    "meddig": "2016-09-03",
                                    "(No column name)": "13"
                                },
                                {
                                    "UGYFEL_FK": "gabor1",
                                    "nev": "Köves Gábor",
                                    "mettol": "2016-07-28",
                                    "meddig": "2016-07-30",
                                    "(No column name)": "13"
                                },
                                {
                                    "UGYFEL_FK": "gabor1",
                                    "nev": "Köves Gábor",
                                    "mettol": "2016-07-12",
                                    "meddig": "2016-07-15",
                                    "(No column name)": "13"
                                },
                                {
                                    "UGYFEL_FK": "gabor1",
                                    "nev": "Köves Gábor",
                                    "mettol": "2016-06-20",
                                    "meddig": "2016-06-21",
                                    "(No column name)": "13"
                                },
                                {
                                    "UGYFEL_FK": "gabor4",
                                    "nev": "Telek Gábor",
                                    "mettol": "2016-05-30",
                                    "meddig": "2016-06-05",
                                    "(No column name)": "12"
                                },
                                {
                                    "UGYFEL_FK": "gabor4",
                                    "nev": "Telek Gábor",
                                    "mettol": "2016-08-31",
                                    "meddig": "2016-09-06",
                                    "(No column name)": "12"
                                },
                                {
                                    "UGYFEL_FK": "gabor4",
                                    "nev": "Telek Gábor",
                                    "mettol": "2016-04-26",
                                    "meddig": "2016-04-29",
                                    "(No column name)": "12"
                                },
                                {
                                    "UGYFEL_FK": "gabor4",
                                    "nev": "Telek Gábor",
                                    "mettol": "2016-11-07",
                                    "meddig": "2016-11-13",
                                    "(No column name)": "12"
                                },
                                {
                                    "UGYFEL_FK": "gabriella1",
                                    "nev": "Nagy Gabriella",
                                    "mettol": "2017-02-04",
                                    "meddig": "2017-02-11",
                                    "(No column name)": "16"
                                },
                                {
                                    "UGYFEL_FK": "gabriella1",
                                    "nev": "Nagy Gabriella",
                                    "mettol": "2017-02-12",
                                    "meddig": "2017-02-13",
                                    "(No column name)": "16"
                                },
                                {
                                    "UGYFEL_FK": "gabriella1",
                                    "nev": "Nagy Gabriella",
                                    "mettol": "2017-02-21",
                                    "meddig": "2017-02-27",
                                    "(No column name)": "16"
                                },
                                {
                                    "UGYFEL_FK": "gabriella1",
                                    "nev": "Nagy Gabriella",
                                    "mettol": "2016-04-21",
                                    "meddig": "2016-04-24",
                                    "(No column name)": "16"
                                },
                                {
                                    "UGYFEL_FK": "gabriella1",
                                    "nev": "Nagy Gabriella",
                                    "mettol": "2016-07-24",
                                    "meddig": "2016-07-31",
                                    "(No column name)": "16"
                                },
                                {
                                    "UGYFEL_FK": "gabriella1",
                                    "nev": "Nagy Gabriella",
                                    "mettol": "2016-07-10",
                                    "meddig": "2016-07-11",
                                    "(No column name)": "16"
                                },
                                {
                                    "UGYFEL_FK": "gabriella10",
                                    "nev": "Vida Gabriella",
                                    "mettol": "2016-10-01",
                                    "meddig": "2016-10-06",
                                    "(No column name)": "3"
                                },
                                {
                                    "UGYFEL_FK": "georgij",
                                    "nev": "Nyíri Georgij",
                                    "mettol": "2016-09-18",
                                    "meddig": "2016-09-24",
                                    "(No column name)": "12"
                                },
                                {
                                    "UGYFEL_FK": "georgij",
                                    "nev": "Nyíri Georgij",
                                    "mettol": "2016-06-16",
                                    "meddig": "2016-06-20",
                                    "(No column name)": "12"
                                },
                                {
                                    "UGYFEL_FK": "georgij",
                                    "nev": "Nyíri Georgij",
                                    "mettol": "2016-08-28",
                                    "meddig": "2016-09-04",
                                    "(No column name)": "12"
                                },
                                {
                                    "UGYFEL_FK": "georgij",
                                    "nev": "Nyíri Georgij",
                                    "mettol": "2016-08-16",
                                    "meddig": "2016-08-22",
                                    "(No column name)": "12"
                                },
                                {
                                    "UGYFEL_FK": "gusztav",
                                    "nev": "Bárci Gusztáv",
                                    "mettol": "2016-08-05",
                                    "meddig": "2016-08-11",
                                    "(No column name)": "14"
                                },
                                {
                                    "UGYFEL_FK": "gusztav",
                                    "nev": "Bárci Gusztáv",
                                    "mettol": "2016-05-06",
                                    "meddig": "2016-05-13",
                                    "(No column name)": "14"
                                },
                                {
                                    "UGYFEL_FK": "gusztav",
                                    "nev": "Bárci Gusztáv",
                                    "mettol": "2016-10-01",
                                    "meddig": "2016-10-03",
                                    "(No column name)": "14"
                                },
                                {
                                    "UGYFEL_FK": "gusztav",
                                    "nev": "Bárci Gusztáv",
                                    "mettol": "2017-02-23",
                                    "meddig": "2017-03-01",
                                    "(No column name)": "14"
                                },
                                {
                                    "UGYFEL_FK": "gusztav",
                                    "nev": "Bárci Gusztáv",
                                    "mettol": "2017-02-03",
                                    "meddig": "2017-02-09",
                                    "(No column name)": "14"
                                },
                                {
                                    "UGYFEL_FK": "GYONGYIK",
                                    "nev": "Kornseé Gyöngyi",
                                    "mettol": "2017-01-22",
                                    "meddig": "2017-01-29",
                                    "(No column name)": "16"
                                },
                                {
                                    "UGYFEL_FK": "GYONGYIK",
                                    "nev": "Kornseé Gyöngyi",
                                    "mettol": "2016-11-08",
                                    "meddig": "2016-11-13",
                                    "(No column name)": "16"
                                },
                                {
                                    "UGYFEL_FK": "GYONGYIK",
                                    "nev": "Kornseé Gyöngyi",
                                    "mettol": "2016-12-01",
                                    "meddig": "2016-12-08",
                                    "(No column name)": "16"
                                },
                                {
                                    "UGYFEL_FK": "GYONGYIK",
                                    "nev": "Kornseé Gyöngyi",
                                    "mettol": "2016-07-01",
                                    "meddig": "2016-07-05",
                                    "(No column name)": "16"
                                },
                                {
                                    "UGYFEL_FK": "GYONGYIK",
                                    "nev": "Kornseé Gyöngyi",
                                    "mettol": "2016-06-10",
                                    "meddig": "2016-06-17",
                                    "(No column name)": "16"
                                },
                                {
                                    "UGYFEL_FK": "GYONGYIK",
                                    "nev": "Kornseé Gyöngyi",
                                    "mettol": "2016-06-02",
                                    "meddig": "2016-06-05",
                                    "(No column name)": "16"
                                },
                                {
                                    "UGYFEL_FK": "GYONGYIK",
                                    "nev": "Kornseé Gyöngyi",
                                    "mettol": "2016-08-17",
                                    "meddig": "2016-08-21",
                                    "(No column name)": "16"
                                },
                                {
                                    "UGYFEL_FK": "GYORGYO",
                                    "nev": "Oroszi György",
                                    "mettol": "2016-07-28",
                                    "meddig": "2016-08-03",
                                    "(No column name)": "18"
                                },
                                {
                                    "UGYFEL_FK": "GYORGYO",
                                    "nev": "Oroszi György",
                                    "mettol": "2016-07-18",
                                    "meddig": "2016-07-25",
                                    "(No column name)": "18"
                                },
                                {
                                    "UGYFEL_FK": "GYORGYO",
                                    "nev": "Oroszi György",
                                    "mettol": "2016-06-01",
                                    "meddig": "2016-06-07",
                                    "(No column name)": "18"
                                },
                                {
                                    "UGYFEL_FK": "GYORGYO",
                                    "nev": "Oroszi György",
                                    "mettol": "2016-05-27",
                                    "meddig": "2016-05-28",
                                    "(No column name)": "18"
                                },
                                {
                                    "UGYFEL_FK": "GYORGYO",
                                    "nev": "Oroszi György",
                                    "mettol": "2016-06-10",
                                    "meddig": "2016-06-15",
                                    "(No column name)": "18"
                                },
                                {
                                    "UGYFEL_FK": "GYORGYO",
                                    "nev": "Oroszi György",
                                    "mettol": "2016-10-28",
                                    "meddig": "2016-10-31",
                                    "(No column name)": "18"
                                },
                                {
                                    "UGYFEL_FK": "GYORGYO",
                                    "nev": "Oroszi György",
                                    "mettol": "2017-02-13",
                                    "meddig": "2017-02-15",
                                    "(No column name)": "18"
                                },
                                {
                                    "UGYFEL_FK": "GYORGYO",
                                    "nev": "Oroszi György",
                                    "mettol": "2017-02-24",
                                    "meddig": "2017-02-25",
                                    "(No column name)": "18"
                                },
                                {
                                    "UGYFEL_FK": "henrik3",
                                    "nev": "Nádudvari Henrik",
                                    "mettol": "2017-01-27",
                                    "meddig": "2017-01-28",
                                    "(No column name)": "7"
                                },
                                {
                                    "UGYFEL_FK": "henrik3",
                                    "nev": "Nádudvari Henrik",
                                    "mettol": "2016-12-29",
                                    "meddig": "2017-01-03",
                                    "(No column name)": "7"
                                },
                                {
                                    "UGYFEL_FK": "henrik3",
                                    "nev": "Nádudvari Henrik",
                                    "mettol": "2016-08-24",
                                    "meddig": "2016-08-28",
                                    "(No column name)": "7"
                                },
                                {
                                    "UGYFEL_FK": "IBOLYAA",
                                    "nev": "Andor Ibolya",
                                    "mettol": "2016-08-29",
                                    "meddig": "2016-08-31",
                                    "(No column name)": "10"
                                },
                                {
                                    "UGYFEL_FK": "IBOLYAA",
                                    "nev": "Andor Ibolya",
                                    "mettol": "2016-10-23",
                                    "meddig": "2016-10-28",
                                    "(No column name)": "10"
                                },
                                {
                                    "UGYFEL_FK": "IBOLYAA",
                                    "nev": "Andor Ibolya",
                                    "mettol": "2017-01-17",
                                    "meddig": "2017-01-23",
                                    "(No column name)": "10"
                                },
                                {
                                    "UGYFEL_FK": "ilona3",
                                    "nev": "Bosnyák Ilona",
                                    "mettol": "2016-11-04",
                                    "meddig": "2016-11-06",
                                    "(No column name)": "12"
                                },
                                {
                                    "UGYFEL_FK": "ilona3",
                                    "nev": "Bosnyák Ilona",
                                    "mettol": "2016-12-25",
                                    "meddig": "2016-12-31",
                                    "(No column name)": "12"
                                },
                                {
                                    "UGYFEL_FK": "ilona3",
                                    "nev": "Bosnyák Ilona",
                                    "mettol": "2016-08-04",
                                    "meddig": "2016-08-08",
                                    "(No column name)": "12"
                                },
                                {
                                    "UGYFEL_FK": "ilona3",
                                    "nev": "Bosnyák Ilona",
                                    "mettol": "2016-07-31",
                                    "meddig": "2016-08-06",
                                    "(No column name)": "12"
                                },
                                {
                                    "UGYFEL_FK": "imre",
                                    "nev": "Búza Imre",
                                    "mettol": "2016-09-17",
                                    "meddig": "2016-09-19",
                                    "(No column name)": "7"
                                },
                                {
                                    "UGYFEL_FK": "imre",
                                    "nev": "Búza Imre",
                                    "mettol": "2016-10-28",
                                    "meddig": "2016-10-29",
                                    "(No column name)": "7"
                                },
                                {
                                    "UGYFEL_FK": "imre1",
                                    "nev": "Papp Imre",
                                    "mettol": "2017-02-05",
                                    "meddig": "2017-02-07",
                                    "(No column name)": "19"
                                },
                                {
                                    "UGYFEL_FK": "imre1",
                                    "nev": "Papp Imre",
                                    "mettol": "2017-02-01",
                                    "meddig": "2017-02-04",
                                    "(No column name)": "19"
                                },
                                {
                                    "UGYFEL_FK": "imre1",
                                    "nev": "Papp Imre",
                                    "mettol": "2016-06-27",
                                    "meddig": "2016-06-28",
                                    "(No column name)": "19"
                                },
                                {
                                    "UGYFEL_FK": "imre1",
                                    "nev": "Papp Imre",
                                    "mettol": "2016-06-23",
                                    "meddig": "2016-06-26",
                                    "(No column name)": "19"
                                },
                                {
                                    "UGYFEL_FK": "imre1",
                                    "nev": "Papp Imre",
                                    "mettol": "2016-08-29",
                                    "meddig": "2016-08-31",
                                    "(No column name)": "19"
                                },
                                {
                                    "UGYFEL_FK": "imre1",
                                    "nev": "Papp Imre",
                                    "mettol": "2016-08-21",
                                    "meddig": "2016-08-27",
                                    "(No column name)": "19"
                                },
                                {
                                    "UGYFEL_FK": "imre1",
                                    "nev": "Papp Imre",
                                    "mettol": "2016-08-23",
                                    "meddig": "2016-08-25",
                                    "(No column name)": "19"
                                },
                                {
                                    "UGYFEL_FK": "istvan",
                                    "nev": "Soós István",
                                    "mettol": "2016-10-07",
                                    "meddig": "2016-10-10",
                                    "(No column name)": "7"
                                },
                                {
                                    "UGYFEL_FK": "istvan",
                                    "nev": "Soós István",
                                    "mettol": "2017-01-02",
                                    "meddig": "2017-01-05",
                                    "(No column name)": "7"
                                },
                                {
                                    "UGYFEL_FK": "istvan",
                                    "nev": "Soós István",
                                    "mettol": "2016-11-22",
                                    "meddig": "2016-11-24",
                                    "(No column name)": "7"
                                },
                                {
                                    "UGYFEL_FK": "istvan1",
                                    "nev": "Vizi István",
                                    "mettol": "2017-02-07",
                                    "meddig": "2017-02-10",
                                    "(No column name)": "10"
                                },
                                {
                                    "UGYFEL_FK": "istvan1",
                                    "nev": "Vizi István",
                                    "mettol": "2016-07-19",
                                    "meddig": "2016-07-24",
                                    "(No column name)": "10"
                                },
                                {
                                    "UGYFEL_FK": "istvan1",
                                    "nev": "Vizi István",
                                    "mettol": "2016-04-24",
                                    "meddig": "2016-04-28",
                                    "(No column name)": "10"
                                },
                                {
                                    "UGYFEL_FK": "istvan1",
                                    "nev": "Vizi István",
                                    "mettol": "2016-04-16",
                                    "meddig": "2016-04-22",
                                    "(No column name)": "10"
                                },
                                {
                                    "UGYFEL_FK": "ISTVANV",
                                    "nev": "Varga István",
                                    "mettol": "2016-09-29",
                                    "meddig": "2016-10-01",
                                    "(No column name)": "7"
                                },
                                {
                                    "UGYFEL_FK": "ISTVANV",
                                    "nev": "Varga István",
                                    "mettol": "2016-07-01",
                                    "meddig": "2016-07-04",
                                    "(No column name)": "7"
                                },
                                {
                                    "UGYFEL_FK": "janos3",
                                    "nev": "Harangozó János",
                                    "mettol": "2016-10-03",
                                    "meddig": "2016-10-08",
                                    "(No column name)": "11"
                                },
                                {
                                    "UGYFEL_FK": "janos3",
                                    "nev": "Harangozó János",
                                    "mettol": "2016-06-04",
                                    "meddig": "2016-06-06",
                                    "(No column name)": "11"
                                },
                                {
                                    "UGYFEL_FK": "janos3",
                                    "nev": "Harangozó János",
                                    "mettol": "2016-08-24",
                                    "meddig": "2016-08-25",
                                    "(No column name)": "11"
                                },
                                {
                                    "UGYFEL_FK": "janos3",
                                    "nev": "Harangozó János",
                                    "mettol": "2017-02-12",
                                    "meddig": "2017-02-14",
                                    "(No column name)": "11"
                                },
                                {
                                    "UGYFEL_FK": "janos3",
                                    "nev": "Harangozó János",
                                    "mettol": "2016-10-22",
                                    "meddig": "2016-10-23",
                                    "(No column name)": "11"
                                },
                                {
                                    "UGYFEL_FK": "JANOSG",
                                    "nev": "Giliga János",
                                    "mettol": "2016-11-07",
                                    "meddig": "2016-11-14",
                                    "(No column name)": "16"
                                },
                                {
                                    "UGYFEL_FK": "JANOSG",
                                    "nev": "Giliga János",
                                    "mettol": "2016-12-28",
                                    "meddig": "2016-12-30",
                                    "(No column name)": "16"
                                },
                                {
                                    "UGYFEL_FK": "JANOSG",
                                    "nev": "Giliga János",
                                    "mettol": "2017-01-31",
                                    "meddig": "2017-02-05",
                                    "(No column name)": "16"
                                },
                                {
                                    "UGYFEL_FK": "JANOSG",
                                    "nev": "Giliga János",
                                    "mettol": "2017-01-10",
                                    "meddig": "2017-01-15",
                                    "(No column name)": "16"
                                },
                                {
                                    "UGYFEL_FK": "JANOSG",
                                    "nev": "Giliga János",
                                    "mettol": "2016-08-30",
                                    "meddig": "2016-09-03",
                                    "(No column name)": "16"
                                },
                                {
                                    "UGYFEL_FK": "JANOSG",
                                    "nev": "Giliga János",
                                    "mettol": "2016-08-16",
                                    "meddig": "2016-08-23",
                                    "(No column name)": "16"
                                },
                                {
                                    "UGYFEL_FK": "JANOSG",
                                    "nev": "Giliga János",
                                    "mettol": "2016-05-09",
                                    "meddig": "2016-05-15",
                                    "(No column name)": "16"
                                },
                                {
                                    "UGYFEL_FK": "JANOSP",
                                    "nev": "Pálinkás János",
                                    "mettol": "2016-07-04",
                                    "meddig": "2016-07-11",
                                    "(No column name)": "9"
                                },
                                {
                                    "UGYFEL_FK": "JANOSP",
                                    "nev": "Pálinkás János",
                                    "mettol": "2016-12-18",
                                    "meddig": "2016-12-21",
                                    "(No column name)": "9"
                                },
                                {
                                    "UGYFEL_FK": "JANOSP",
                                    "nev": "Pálinkás János",
                                    "mettol": "2016-11-23",
                                    "meddig": "2016-11-28",
                                    "(No column name)": "9"
                                },
                                {
                                    "UGYFEL_FK": "JANOSP",
                                    "nev": "Pálinkás János",
                                    "mettol": "2016-11-25",
                                    "meddig": "2016-11-27",
                                    "(No column name)": "9"
                                },
                                {
                                    "UGYFEL_FK": "jozsef",
                                    "nev": "Gergely József",
                                    "mettol": "2016-12-06",
                                    "meddig": "2016-12-07",
                                    "(No column name)": "6"
                                },
                                {
                                    "UGYFEL_FK": "jozsef",
                                    "nev": "Gergely József",
                                    "mettol": "2016-10-08",
                                    "meddig": "2016-10-10",
                                    "(No column name)": "6"
                                },
                                {
                                    "UGYFEL_FK": "jozsef",
                                    "nev": "Gergely József",
                                    "mettol": "2016-09-13",
                                    "meddig": "2016-09-19",
                                    "(No column name)": "6"
                                },
                                {
                                    "UGYFEL_FK": "jozsef2",
                                    "nev": "Vajda József",
                                    "mettol": "2016-09-09",
                                    "meddig": "2016-09-15",
                                    "(No column name)": "13"
                                },
                                {
                                    "UGYFEL_FK": "jozsef2",
                                    "nev": "Vajda József",
                                    "mettol": "2016-07-06",
                                    "meddig": "2016-07-11",
                                    "(No column name)": "13"
                                },
                                {
                                    "UGYFEL_FK": "jozsef2",
                                    "nev": "Vajda József",
                                    "mettol": "2016-07-16",
                                    "meddig": "2016-07-20",
                                    "(No column name)": "13"
                                },
                                {
                                    "UGYFEL_FK": "jozsef2",
                                    "nev": "Vajda József",
                                    "mettol": "2016-11-23",
                                    "meddig": "2016-11-29",
                                    "(No column name)": "13"
                                },
                                {
                                    "UGYFEL_FK": "jozsef2",
                                    "nev": "Vajda József",
                                    "mettol": "2016-11-25",
                                    "meddig": "2016-11-29",
                                    "(No column name)": "13"
                                },
                                {
                                    "UGYFEL_FK": "JOZSEFG",
                                    "nev": "Gyuris József",
                                    "mettol": "2017-01-09",
                                    "meddig": "2017-01-13",
                                    "(No column name)": "16"
                                },
                                {
                                    "UGYFEL_FK": "JOZSEFG",
                                    "nev": "Gyuris József",
                                    "mettol": "2017-01-22",
                                    "meddig": "2017-01-26",
                                    "(No column name)": "16"
                                },
                                {
                                    "UGYFEL_FK": "JOZSEFG",
                                    "nev": "Gyuris József",
                                    "mettol": "2017-02-24",
                                    "meddig": "2017-03-03",
                                    "(No column name)": "16"
                                },
                                {
                                    "UGYFEL_FK": "JOZSEFG",
                                    "nev": "Gyuris József",
                                    "mettol": "2016-05-02",
                                    "meddig": "2016-05-06",
                                    "(No column name)": "16"
                                },
                                {
                                    "UGYFEL_FK": "JOZSEFG",
                                    "nev": "Gyuris József",
                                    "mettol": "2016-08-24",
                                    "meddig": "2016-08-27",
                                    "(No column name)": "16"
                                },
                                {
                                    "UGYFEL_FK": "JOZSEFG",
                                    "nev": "Gyuris József",
                                    "mettol": "2016-06-04",
                                    "meddig": "2016-06-09",
                                    "(No column name)": "16"
                                },
                                {
                                    "UGYFEL_FK": "JOZSEFG",
                                    "nev": "Gyuris József",
                                    "mettol": "2016-05-23",
                                    "meddig": "2016-05-25",
                                    "(No column name)": "16"
                                },
                                {
                                    "UGYFEL_FK": "JUDITH",
                                    "nev": "Hídasi Judit",
                                    "mettol": "2016-06-06",
                                    "meddig": "2016-06-10",
                                    "(No column name)": "5"
                                },
                                {
                                    "UGYFEL_FK": "JUDITH",
                                    "nev": "Hídasi Judit",
                                    "mettol": "2016-07-28",
                                    "meddig": "2016-07-30",
                                    "(No column name)": "5"
                                },
                                {
                                    "UGYFEL_FK": "JUDITH",
                                    "nev": "Hídasi Judit",
                                    "mettol": "2016-12-19",
                                    "meddig": "2016-12-26",
                                    "(No column name)": "5"
                                },
                                {
                                    "UGYFEL_FK": "julia",
                                    "nev": "Tóth Júlia",
                                    "mettol": "2017-02-27",
                                    "meddig": "2017-03-06",
                                    "(No column name)": "13"
                                },
                                {
                                    "UGYFEL_FK": "julia",
                                    "nev": "Tóth Júlia",
                                    "mettol": "2016-04-21",
                                    "meddig": "2016-04-26",
                                    "(No column name)": "13"
                                },
                                {
                                    "UGYFEL_FK": "julia",
                                    "nev": "Tóth Júlia",
                                    "mettol": "2016-07-20",
                                    "meddig": "2016-07-22",
                                    "(No column name)": "13"
                                },
                                {
                                    "UGYFEL_FK": "julia",
                                    "nev": "Tóth Júlia",
                                    "mettol": "2016-05-12",
                                    "meddig": "2016-05-17",
                                    "(No column name)": "13"
                                },
                                {
                                    "UGYFEL_FK": "julia",
                                    "nev": "Tóth Júlia",
                                    "mettol": "2016-06-07",
                                    "meddig": "2016-06-08",
                                    "(No column name)": "13"
                                },
                                {
                                    "UGYFEL_FK": "julia4",
                                    "nev": "Nagy Júlia",
                                    "mettol": "2017-02-04",
                                    "meddig": "2017-02-11",
                                    "(No column name)": "5"
                                },
                                {
                                    "UGYFEL_FK": "julia4",
                                    "nev": "Nagy Júlia",
                                    "mettol": "2016-11-07",
                                    "meddig": "2016-11-12",
                                    "(No column name)": "5"
                                },
                                {
                                    "UGYFEL_FK": "julianna4",
                                    "nev": "Szabó Julianna",
                                    "mettol": "2016-11-03",
                                    "meddig": "2016-11-04",
                                    "(No column name)": "10"
                                },
                                {
                                    "UGYFEL_FK": "julianna4",
                                    "nev": "Szabó Julianna",
                                    "mettol": "2016-10-29",
                                    "meddig": "2016-10-31",
                                    "(No column name)": "10"
                                },
                                {
                                    "UGYFEL_FK": "julianna4",
                                    "nev": "Szabó Julianna",
                                    "mettol": "2016-11-27",
                                    "meddig": "2016-12-04",
                                    "(No column name)": "10"
                                },
                                {
                                    "UGYFEL_FK": "julianna4",
                                    "nev": "Szabó Julianna",
                                    "mettol": "2016-07-20",
                                    "meddig": "2016-07-26",
                                    "(No column name)": "10"
                                },
                                {
                                    "UGYFEL_FK": "kata",
                                    "nev": "Gondos Katalin",
                                    "mettol": "2016-04-10",
                                    "meddig": "2016-04-11",
                                    "(No column name)": "23"
                                },
                                {
                                    "UGYFEL_FK": "kata",
                                    "nev": "Gondos Katalin",
                                    "mettol": "2016-04-25",
                                    "meddig": "2016-05-01",
                                    "(No column name)": "23"
                                },
                                {
                                    "UGYFEL_FK": "kata",
                                    "nev": "Gondos Katalin",
                                    "mettol": "2016-08-24",
                                    "meddig": "2016-08-27",
                                    "(No column name)": "23"
                                },
                                {
                                    "UGYFEL_FK": "kata",
                                    "nev": "Gondos Katalin",
                                    "mettol": "2016-06-07",
                                    "meddig": "2016-06-12",
                                    "(No column name)": "23"
                                },
                                {
                                    "UGYFEL_FK": "kata",
                                    "nev": "Gondos Katalin",
                                    "mettol": "2016-05-31",
                                    "meddig": "2016-06-01",
                                    "(No column name)": "23"
                                },
                                {
                                    "UGYFEL_FK": "kata",
                                    "nev": "Gondos Katalin",
                                    "mettol": "2016-07-01",
                                    "meddig": "2016-07-07",
                                    "(No column name)": "23"
                                },
                                {
                                    "UGYFEL_FK": "kata",
                                    "nev": "Gondos Katalin",
                                    "mettol": "2016-07-03",
                                    "meddig": "2016-07-06",
                                    "(No column name)": "23"
                                },
                                {
                                    "UGYFEL_FK": "kata",
                                    "nev": "Gondos Katalin",
                                    "mettol": "2016-07-07",
                                    "meddig": "2016-07-09",
                                    "(No column name)": "23"
                                },
                                {
                                    "UGYFEL_FK": "kata",
                                    "nev": "Gondos Katalin",
                                    "mettol": "2016-09-19",
                                    "meddig": "2016-09-20",
                                    "(No column name)": "23"
                                },
                                {
                                    "UGYFEL_FK": "kata",
                                    "nev": "Gondos Katalin",
                                    "mettol": "2017-01-15",
                                    "meddig": "2017-01-21",
                                    "(No column name)": "23"
                                },
                                {
                                    "UGYFEL_FK": "katalin",
                                    "nev": "Horváth Katalin",
                                    "mettol": "2017-02-24",
                                    "meddig": "2017-02-27",
                                    "(No column name)": "15"
                                },
                                {
                                    "UGYFEL_FK": "katalin",
                                    "nev": "Horváth Katalin",
                                    "mettol": "2016-12-24",
                                    "meddig": "2016-12-27",
                                    "(No column name)": "15"
                                },
                                {
                                    "UGYFEL_FK": "katalin",
                                    "nev": "Horváth Katalin",
                                    "mettol": "2016-12-17",
                                    "meddig": "2016-12-24",
                                    "(No column name)": "15"
                                },
                                {
                                    "UGYFEL_FK": "katalin",
                                    "nev": "Horváth Katalin",
                                    "mettol": "2016-12-13",
                                    "meddig": "2016-12-19",
                                    "(No column name)": "15"
                                },
                                {
                                    "UGYFEL_FK": "katalin",
                                    "nev": "Horváth Katalin",
                                    "mettol": "2016-10-26",
                                    "meddig": "2016-10-30",
                                    "(No column name)": "15"
                                },
                                {
                                    "UGYFEL_FK": "katalin",
                                    "nev": "Horváth Katalin",
                                    "mettol": "2016-07-06",
                                    "meddig": "2016-07-11",
                                    "(No column name)": "15"
                                },
                                {
                                    "UGYFEL_FK": "katalin",
                                    "nev": "Horváth Katalin",
                                    "mettol": "2016-07-28",
                                    "meddig": "2016-07-29",
                                    "(No column name)": "15"
                                },
                                {
                                    "UGYFEL_FK": "katalin",
                                    "nev": "Horváth Katalin",
                                    "mettol": "2016-04-10",
                                    "meddig": "2016-04-17",
                                    "(No column name)": "15"
                                },
                                {
                                    "UGYFEL_FK": "katalin",
                                    "nev": "Horváth Katalin",
                                    "mettol": "2016-05-21",
                                    "meddig": "2016-05-26",
                                    "(No column name)": "15"
                                },
                                {
                                    "UGYFEL_FK": "katalin4",
                                    "nev": "Kertész Katalin",
                                    "mettol": "2016-07-03",
                                    "meddig": "2016-07-04",
                                    "(No column name)": "15"
                                },
                                {
                                    "UGYFEL_FK": "katalin4",
                                    "nev": "Kertész Katalin",
                                    "mettol": "2016-07-01",
                                    "meddig": "2016-07-07",
                                    "(No column name)": "15"
                                },
                                {
                                    "UGYFEL_FK": "katalin4",
                                    "nev": "Kertész Katalin",
                                    "mettol": "2016-12-04",
                                    "meddig": "2016-12-09",
                                    "(No column name)": "15"
                                },
                                {
                                    "UGYFEL_FK": "katalin4",
                                    "nev": "Kertész Katalin",
                                    "mettol": "2016-11-27",
                                    "meddig": "2016-12-04",
                                    "(No column name)": "15"
                                },
                                {
                                    "UGYFEL_FK": "katalin4",
                                    "nev": "Kertész Katalin",
                                    "mettol": "2017-01-24",
                                    "meddig": "2017-01-31",
                                    "(No column name)": "15"
                                },
                                {
                                    "UGYFEL_FK": "katalin4",
                                    "nev": "Kertész Katalin",
                                    "mettol": "2017-01-18",
                                    "meddig": "2017-01-20",
                                    "(No column name)": "15"
                                },
                                {
                                    "UGYFEL_FK": "kati",
                                    "nev": "Zatykó Katalin",
                                    "mettol": "2016-10-26",
                                    "meddig": "2016-10-28",
                                    "(No column name)": "16"
                                },
                                {
                                    "UGYFEL_FK": "kati",
                                    "nev": "Zatykó Katalin",
                                    "mettol": "2016-10-30",
                                    "meddig": "2016-11-01",
                                    "(No column name)": "16"
                                },
                                {
                                    "UGYFEL_FK": "kati",
                                    "nev": "Zatykó Katalin",
                                    "mettol": "2016-06-06",
                                    "meddig": "2016-06-10",
                                    "(No column name)": "16"
                                },
                                {
                                    "UGYFEL_FK": "kati",
                                    "nev": "Zatykó Katalin",
                                    "mettol": "2016-06-06",
                                    "meddig": "2016-06-11",
                                    "(No column name)": "16"
                                },
                                {
                                    "UGYFEL_FK": "kati",
                                    "nev": "Zatykó Katalin",
                                    "mettol": "2016-07-13",
                                    "meddig": "2016-07-20",
                                    "(No column name)": "16"
                                },
                                {
                                    "UGYFEL_FK": "kati",
                                    "nev": "Zatykó Katalin",
                                    "mettol": "2016-08-03",
                                    "meddig": "2016-08-07",
                                    "(No column name)": "16"
                                },
                                {
                                    "UGYFEL_FK": "kati",
                                    "nev": "Zatykó Katalin",
                                    "mettol": "2016-07-27",
                                    "meddig": "2016-08-03",
                                    "(No column name)": "16"
                                },
                                {
                                    "UGYFEL_FK": "katka",
                                    "nev": "Kovács Katalin",
                                    "mettol": "2016-08-24",
                                    "meddig": "2016-08-26",
                                    "(No column name)": "25"
                                },
                                {
                                    "UGYFEL_FK": "katka",
                                    "nev": "Kovács Katalin",
                                    "mettol": "2016-05-09",
                                    "meddig": "2016-05-15",
                                    "(No column name)": "25"
                                },
                                {
                                    "UGYFEL_FK": "katka",
                                    "nev": "Kovács Katalin",
                                    "mettol": "2016-04-10",
                                    "meddig": "2016-04-12",
                                    "(No column name)": "25"
                                },
                                {
                                    "UGYFEL_FK": "katka",
                                    "nev": "Kovács Katalin",
                                    "mettol": "2016-06-13",
                                    "meddig": "2016-06-18",
                                    "(No column name)": "25"
                                },
                                {
                                    "UGYFEL_FK": "katka",
                                    "nev": "Kovács Katalin",
                                    "mettol": "2016-06-13",
                                    "meddig": "2016-06-19",
                                    "(No column name)": "25"
                                },
                                {
                                    "UGYFEL_FK": "katka",
                                    "nev": "Kovács Katalin",
                                    "mettol": "2016-09-05",
                                    "meddig": "2016-09-10",
                                    "(No column name)": "25"
                                },
                                {
                                    "UGYFEL_FK": "katka",
                                    "nev": "Kovács Katalin",
                                    "mettol": "2016-11-05",
                                    "meddig": "2016-11-08",
                                    "(No column name)": "25"
                                },
                                {
                                    "UGYFEL_FK": "katka",
                                    "nev": "Kovács Katalin",
                                    "mettol": "2017-01-19",
                                    "meddig": "2017-01-20",
                                    "(No column name)": "25"
                                },
                                {
                                    "UGYFEL_FK": "katka",
                                    "nev": "Kovács Katalin",
                                    "mettol": "2017-01-02",
                                    "meddig": "2017-01-05",
                                    "(No column name)": "25"
                                },
                                {
                                    "UGYFEL_FK": "klaudia2",
                                    "nev": "Bakó Klaudia",
                                    "mettol": "2016-10-02",
                                    "meddig": "2016-10-05",
                                    "(No column name)": "8"
                                },
                                {
                                    "UGYFEL_FK": "klaudia2",
                                    "nev": "Bakó Klaudia",
                                    "mettol": "2016-10-01",
                                    "meddig": "2016-10-02",
                                    "(No column name)": "8"
                                },
                                {
                                    "UGYFEL_FK": "klaudia2",
                                    "nev": "Bakó Klaudia",
                                    "mettol": "2016-06-06",
                                    "meddig": "2016-06-08",
                                    "(No column name)": "8"
                                },
                                {
                                    "UGYFEL_FK": "kornel4",
                                    "nev": "Lukács Kornél",
                                    "mettol": "2016-06-02",
                                    "meddig": "2016-06-09",
                                    "(No column name)": "9"
                                },
                                {
                                    "UGYFEL_FK": "kornel4",
                                    "nev": "Lukács Kornél",
                                    "mettol": "2016-09-23",
                                    "meddig": "2016-09-24",
                                    "(No column name)": "9"
                                },
                                {
                                    "UGYFEL_FK": "kornel4",
                                    "nev": "Lukács Kornél",
                                    "mettol": "2016-05-08",
                                    "meddig": "2016-05-14",
                                    "(No column name)": "9"
                                },
                                {
                                    "UGYFEL_FK": "kristof4",
                                    "nev": "Poprádi Kristóf",
                                    "mettol": "2016-04-08",
                                    "meddig": "2016-04-14",
                                    "(No column name)": "4"
                                },
                                {
                                    "UGYFEL_FK": "kristof4",
                                    "nev": "Poprádi Kristóf",
                                    "mettol": "2016-09-30",
                                    "meddig": "2016-10-04",
                                    "(No column name)": "4"
                                },
                                {
                                    "UGYFEL_FK": "kriszti",
                                    "nev": "Horváth Krisztina",
                                    "mettol": "2016-09-30",
                                    "meddig": "2016-10-05",
                                    "(No column name)": "17"
                                },
                                {
                                    "UGYFEL_FK": "kriszti",
                                    "nev": "Horváth Krisztina",
                                    "mettol": "2016-10-01",
                                    "meddig": "2016-10-02",
                                    "(No column name)": "17"
                                },
                                {
                                    "UGYFEL_FK": "kriszti",
                                    "nev": "Horváth Krisztina",
                                    "mettol": "2016-05-19",
                                    "meddig": "2016-05-26",
                                    "(No column name)": "17"
                                },
                                {
                                    "UGYFEL_FK": "kriszti",
                                    "nev": "Horváth Krisztina",
                                    "mettol": "2016-08-24",
                                    "meddig": "2016-08-25",
                                    "(No column name)": "17"
                                },
                                {
                                    "UGYFEL_FK": "kriszti",
                                    "nev": "Horváth Krisztina",
                                    "mettol": "2017-02-04",
                                    "meddig": "2017-02-11",
                                    "(No column name)": "17"
                                },
                                {
                                    "UGYFEL_FK": "kriszti",
                                    "nev": "Horváth Krisztina",
                                    "mettol": "2017-03-03",
                                    "meddig": "2017-03-04",
                                    "(No column name)": "17"
                                },
                                {
                                    "UGYFEL_FK": "krisztian4",
                                    "nev": "Czérna Krisztián",
                                    "mettol": "2017-02-23",
                                    "meddig": "2017-03-02",
                                    "(No column name)": "24"
                                },
                                {
                                    "UGYFEL_FK": "krisztian4",
                                    "nev": "Czérna Krisztián",
                                    "mettol": "2017-01-06",
                                    "meddig": "2017-01-09",
                                    "(No column name)": "24"
                                },
                                {
                                    "UGYFEL_FK": "krisztian4",
                                    "nev": "Czérna Krisztián",
                                    "mettol": "2017-01-16",
                                    "meddig": "2017-01-23",
                                    "(No column name)": "24"
                                },
                                {
                                    "UGYFEL_FK": "krisztian4",
                                    "nev": "Czérna Krisztián",
                                    "mettol": "2016-11-02",
                                    "meddig": "2016-11-03",
                                    "(No column name)": "24"
                                },
                                {
                                    "UGYFEL_FK": "krisztian4",
                                    "nev": "Czérna Krisztián",
                                    "mettol": "2016-10-17",
                                    "meddig": "2016-10-22",
                                    "(No column name)": "24"
                                },
                                {
                                    "UGYFEL_FK": "krisztian4",
                                    "nev": "Czérna Krisztián",
                                    "mettol": "2016-12-11",
                                    "meddig": "2016-12-18",
                                    "(No column name)": "24"
                                },
                                {
                                    "UGYFEL_FK": "krisztian4",
                                    "nev": "Czérna Krisztián",
                                    "mettol": "2016-08-29",
                                    "meddig": "2016-09-03",
                                    "(No column name)": "24"
                                },
                                {
                                    "UGYFEL_FK": "krisztian4",
                                    "nev": "Czérna Krisztián",
                                    "mettol": "2016-08-16",
                                    "meddig": "2016-08-19",
                                    "(No column name)": "24"
                                },
                                {
                                    "UGYFEL_FK": "krisztian4",
                                    "nev": "Czérna Krisztián",
                                    "mettol": "2016-07-28",
                                    "meddig": "2016-08-01",
                                    "(No column name)": "24"
                                },
                                {
                                    "UGYFEL_FK": "krisztian4",
                                    "nev": "Czérna Krisztián",
                                    "mettol": "2016-08-01",
                                    "meddig": "2016-08-04",
                                    "(No column name)": "24"
                                },
                                {
                                    "UGYFEL_FK": "krisztian4",
                                    "nev": "Czérna Krisztián",
                                    "mettol": "2016-06-03",
                                    "meddig": "2016-06-04",
                                    "(No column name)": "24"
                                },
                                {
                                    "UGYFEL_FK": "krisztian4",
                                    "nev": "Czérna Krisztián",
                                    "mettol": "2016-06-07",
                                    "meddig": "2016-06-09",
                                    "(No column name)": "24"
                                },
                                {
                                    "UGYFEL_FK": "KRISZTIANM",
                                    "nev": "Mogyródi Krisztián",
                                    "mettol": "2016-06-04",
                                    "meddig": "2016-06-08",
                                    "(No column name)": "14"
                                },
                                {
                                    "UGYFEL_FK": "KRISZTIANM",
                                    "nev": "Mogyródi Krisztián",
                                    "mettol": "2016-07-09",
                                    "meddig": "2016-07-14",
                                    "(No column name)": "14"
                                },
                                {
                                    "UGYFEL_FK": "KRISZTIANM",
                                    "nev": "Mogyródi Krisztián",
                                    "mettol": "2016-08-02",
                                    "meddig": "2016-08-08",
                                    "(No column name)": "14"
                                },
                                {
                                    "UGYFEL_FK": "KRISZTIANM",
                                    "nev": "Mogyródi Krisztián",
                                    "mettol": "2016-04-09",
                                    "meddig": "2016-04-15",
                                    "(No column name)": "14"
                                },
                                {
                                    "UGYFEL_FK": "KRISZTIANM",
                                    "nev": "Mogyródi Krisztián",
                                    "mettol": "2016-12-25",
                                    "meddig": "2016-12-31",
                                    "(No column name)": "14"
                                },
                                {
                                    "UGYFEL_FK": "KRISZTIANM",
                                    "nev": "Mogyródi Krisztián",
                                    "mettol": "2017-01-16",
                                    "meddig": "2017-01-23",
                                    "(No column name)": "14"
                                },
                                {
                                    "UGYFEL_FK": "krisztina",
                                    "nev": "Szedlár Krisztina",
                                    "mettol": "2017-02-05",
                                    "meddig": "2017-02-07",
                                    "(No column name)": "17"
                                },
                                {
                                    "UGYFEL_FK": "krisztina",
                                    "nev": "Szedlár Krisztina",
                                    "mettol": "2017-02-16",
                                    "meddig": "2017-02-20",
                                    "(No column name)": "17"
                                },
                                {
                                    "UGYFEL_FK": "krisztina",
                                    "nev": "Szedlár Krisztina",
                                    "mettol": "2016-11-22",
                                    "meddig": "2016-11-25",
                                    "(No column name)": "17"
                                },
                                {
                                    "UGYFEL_FK": "krisztina",
                                    "nev": "Szedlár Krisztina",
                                    "mettol": "2016-11-08",
                                    "meddig": "2016-11-12",
                                    "(No column name)": "17"
                                },
                                {
                                    "UGYFEL_FK": "krisztina",
                                    "nev": "Szedlár Krisztina",
                                    "mettol": "2016-05-21",
                                    "meddig": "2016-05-27",
                                    "(No column name)": "17"
                                },
                                {
                                    "UGYFEL_FK": "krisztina",
                                    "nev": "Szedlár Krisztina",
                                    "mettol": "2016-07-05",
                                    "meddig": "2016-07-12",
                                    "(No column name)": "17"
                                },
                                {
                                    "UGYFEL_FK": "krisztina",
                                    "nev": "Szedlár Krisztina",
                                    "mettol": "2016-09-13",
                                    "meddig": "2016-09-16",
                                    "(No column name)": "17"
                                },
                                {
                                    "UGYFEL_FK": "krisztina",
                                    "nev": "Szedlár Krisztina",
                                    "mettol": "2016-09-19",
                                    "meddig": "2016-09-26",
                                    "(No column name)": "17"
                                },
                                {
                                    "UGYFEL_FK": "krisztina1",
                                    "nev": "Bori Krisztina",
                                    "mettol": "2016-09-15",
                                    "meddig": "2016-09-20",
                                    "(No column name)": "14"
                                },
                                {
                                    "UGYFEL_FK": "krisztina1",
                                    "nev": "Bori Krisztina",
                                    "mettol": "2016-06-16",
                                    "meddig": "2016-06-22",
                                    "(No column name)": "14"
                                },
                                {
                                    "UGYFEL_FK": "krisztina1",
                                    "nev": "Bori Krisztina",
                                    "mettol": "2016-05-16",
                                    "meddig": "2016-05-20",
                                    "(No column name)": "14"
                                },
                                {
                                    "UGYFEL_FK": "krisztina1",
                                    "nev": "Bori Krisztina",
                                    "mettol": "2016-04-28",
                                    "meddig": "2016-04-30",
                                    "(No column name)": "14"
                                },
                                {
                                    "UGYFEL_FK": "krisztina1",
                                    "nev": "Bori Krisztina",
                                    "mettol": "2016-10-29",
                                    "meddig": "2016-10-30",
                                    "(No column name)": "14"
                                },
                                {
                                    "UGYFEL_FK": "krisztina1",
                                    "nev": "Bori Krisztina",
                                    "mettol": "2017-01-21",
                                    "meddig": "2017-01-24",
                                    "(No column name)": "14"
                                },
                                {
                                    "UGYFEL_FK": "KRISZTINAG",
                                    "nev": "Gyárfás Krisztina",
                                    "mettol": "2017-01-25",
                                    "meddig": "2017-01-30",
                                    "(No column name)": "9"
                                },
                                {
                                    "UGYFEL_FK": "KRISZTINAG",
                                    "nev": "Gyárfás Krisztina",
                                    "mettol": "2016-04-23",
                                    "meddig": "2016-04-24",
                                    "(No column name)": "9"
                                },
                                {
                                    "UGYFEL_FK": "KRISZTINAG",
                                    "nev": "Gyárfás Krisztina",
                                    "mettol": "2016-08-08",
                                    "meddig": "2016-08-12",
                                    "(No column name)": "9"
                                },
                                {
                                    "UGYFEL_FK": "KRISZTINAG",
                                    "nev": "Gyárfás Krisztina",
                                    "mettol": "2016-06-08",
                                    "meddig": "2016-06-12",
                                    "(No column name)": "9"
                                },
                                {
                                    "UGYFEL_FK": "KRISZTINAG",
                                    "nev": "Gyárfás Krisztina",
                                    "mettol": "2016-05-24",
                                    "meddig": "2016-05-31",
                                    "(No column name)": "9"
                                },
                                {
                                    "UGYFEL_FK": "lajos",
                                    "nev": "Kiss Lajos",
                                    "mettol": "2016-07-18",
                                    "meddig": "2016-07-21",
                                    "(No column name)": "7"
                                },
                                {
                                    "UGYFEL_FK": "lajos",
                                    "nev": "Kiss Lajos",
                                    "mettol": "2017-02-12",
                                    "meddig": "2017-02-13",
                                    "(No column name)": "7"
                                },
                                {
                                    "UGYFEL_FK": "lajos",
                                    "nev": "Kiss Lajos",
                                    "mettol": "2016-12-25",
                                    "meddig": "2016-12-28",
                                    "(No column name)": "7"
                                },
                                {
                                    "UGYFEL_FK": "lala",
                                    "nev": "Nagymihály Lajos",
                                    "mettol": "2016-10-30",
                                    "meddig": "2016-10-31",
                                    "(No column name)": "16"
                                },
                                {
                                    "UGYFEL_FK": "lala",
                                    "nev": "Nagymihály Lajos",
                                    "mettol": "2017-01-17",
                                    "meddig": "2017-01-19",
                                    "(No column name)": "16"
                                },
                                {
                                    "UGYFEL_FK": "lala",
                                    "nev": "Nagymihály Lajos",
                                    "mettol": "2017-01-08",
                                    "meddig": "2017-01-10",
                                    "(No column name)": "16"
                                },
                                {
                                    "UGYFEL_FK": "lala",
                                    "nev": "Nagymihály Lajos",
                                    "mettol": "2016-07-20",
                                    "meddig": "2016-07-21",
                                    "(No column name)": "16"
                                },
                                {
                                    "UGYFEL_FK": "lala",
                                    "nev": "Nagymihály Lajos",
                                    "mettol": "2016-07-26",
                                    "meddig": "2016-07-27",
                                    "(No column name)": "16"
                                },
                                {
                                    "UGYFEL_FK": "lala",
                                    "nev": "Nagymihály Lajos",
                                    "mettol": "2016-06-16",
                                    "meddig": "2016-06-22",
                                    "(No column name)": "16"
                                },
                                {
                                    "UGYFEL_FK": "laszlo1",
                                    "nev": "Farkas László",
                                    "mettol": "2016-09-23",
                                    "meddig": "2016-09-30",
                                    "(No column name)": "3"
                                },
                                {
                                    "UGYFEL_FK": "laszlo2",
                                    "nev": "Móra László",
                                    "mettol": "2016-09-05",
                                    "meddig": "2016-09-10",
                                    "(No column name)": "13"
                                },
                                {
                                    "UGYFEL_FK": "laszlo2",
                                    "nev": "Móra László",
                                    "mettol": "2016-08-14",
                                    "meddig": "2016-08-15",
                                    "(No column name)": "13"
                                },
                                {
                                    "UGYFEL_FK": "laszlo2",
                                    "nev": "Móra László",
                                    "mettol": "2016-04-27",
                                    "meddig": "2016-04-29",
                                    "(No column name)": "13"
                                },
                                {
                                    "UGYFEL_FK": "laszlo2",
                                    "nev": "Móra László",
                                    "mettol": "2016-04-06",
                                    "meddig": "2016-04-10",
                                    "(No column name)": "13"
                                },
                                {
                                    "UGYFEL_FK": "laszlo2",
                                    "nev": "Móra László",
                                    "mettol": "2016-11-25",
                                    "meddig": "2016-11-26",
                                    "(No column name)": "13"
                                },
                                {
                                    "UGYFEL_FK": "LASZLOA",
                                    "nev": "Antal László",
                                    "mettol": "2017-02-08",
                                    "meddig": "2017-02-14",
                                    "(No column name)": "8"
                                },
                                {
                                    "UGYFEL_FK": "LASZLOA",
                                    "nev": "Antal László",
                                    "mettol": "2016-06-10",
                                    "meddig": "2016-06-13",
                                    "(No column name)": "8"
                                },
                                {
                                    "UGYFEL_FK": "LASZLOA",
                                    "nev": "Antal László",
                                    "mettol": "2016-06-07",
                                    "meddig": "2016-06-11",
                                    "(No column name)": "8"
                                },
                                {
                                    "UGYFEL_FK": "LASZLOA",
                                    "nev": "Antal László",
                                    "mettol": "2016-06-03",
                                    "meddig": "2016-06-09",
                                    "(No column name)": "8"
                                },
                                {
                                    "UGYFEL_FK": "LASZLON",
                                    "nev": "Nagy László",
                                    "mettol": "2016-06-03",
                                    "meddig": "2016-06-06",
                                    "(No column name)": "11"
                                },
                                {
                                    "UGYFEL_FK": "LASZLON",
                                    "nev": "Nagy László",
                                    "mettol": "2016-06-08",
                                    "meddig": "2016-06-09",
                                    "(No column name)": "11"
                                },
                                {
                                    "UGYFEL_FK": "LASZLON",
                                    "nev": "Nagy László",
                                    "mettol": "2016-10-01",
                                    "meddig": "2016-10-04",
                                    "(No column name)": "11"
                                },
                                {
                                    "UGYFEL_FK": "LASZLON",
                                    "nev": "Nagy László",
                                    "mettol": "2017-02-18",
                                    "meddig": "2017-02-25",
                                    "(No column name)": "11"
                                },
                                {
                                    "UGYFEL_FK": "LASZLON",
                                    "nev": "Nagy László",
                                    "mettol": "2016-11-29",
                                    "meddig": "2016-12-04",
                                    "(No column name)": "11"
                                },
                                {
                                    "UGYFEL_FK": "LASZLON",
                                    "nev": "Nagy László",
                                    "mettol": "2016-10-09",
                                    "meddig": "2016-10-14",
                                    "(No column name)": "11"
                                },
                                {
                                    "UGYFEL_FK": "maria1",
                                    "nev": "Baráth Mária",
                                    "mettol": "2016-11-08",
                                    "meddig": "2016-11-12",
                                    "(No column name)": "15"
                                },
                                {
                                    "UGYFEL_FK": "maria1",
                                    "nev": "Baráth Mária",
                                    "mettol": "2017-02-24",
                                    "meddig": "2017-03-02",
                                    "(No column name)": "15"
                                },
                                {
                                    "UGYFEL_FK": "maria1",
                                    "nev": "Baráth Mária",
                                    "mettol": "2016-06-23",
                                    "meddig": "2016-06-27",
                                    "(No column name)": "15"
                                },
                                {
                                    "UGYFEL_FK": "maria1",
                                    "nev": "Baráth Mária",
                                    "mettol": "2016-05-28",
                                    "meddig": "2016-06-03",
                                    "(No column name)": "15"
                                },
                                {
                                    "UGYFEL_FK": "maria1",
                                    "nev": "Baráth Mária",
                                    "mettol": "2016-05-13",
                                    "meddig": "2016-05-18",
                                    "(No column name)": "15"
                                },
                                {
                                    "UGYFEL_FK": "maria1",
                                    "nev": "Baráth Mária",
                                    "mettol": "2016-05-18",
                                    "meddig": "2016-05-19",
                                    "(No column name)": "15"
                                },
                                {
                                    "UGYFEL_FK": "maria1",
                                    "nev": "Baráth Mária",
                                    "mettol": "2016-09-02",
                                    "meddig": "2016-09-05",
                                    "(No column name)": "15"
                                },
                                {
                                    "UGYFEL_FK": "maria1",
                                    "nev": "Baráth Mária",
                                    "mettol": "2016-08-11",
                                    "meddig": "2016-08-14",
                                    "(No column name)": "15"
                                },
                                {
                                    "UGYFEL_FK": "mark",
                                    "nev": "Kispál Márk",
                                    "mettol": "2016-08-09",
                                    "meddig": "2016-08-16",
                                    "(No column name)": "13"
                                },
                                {
                                    "UGYFEL_FK": "mark",
                                    "nev": "Kispál Márk",
                                    "mettol": "2016-04-19",
                                    "meddig": "2016-04-26",
                                    "(No column name)": "13"
                                },
                                {
                                    "UGYFEL_FK": "mark",
                                    "nev": "Kispál Márk",
                                    "mettol": "2016-06-13",
                                    "meddig": "2016-06-18",
                                    "(No column name)": "13"
                                },
                                {
                                    "UGYFEL_FK": "mark",
                                    "nev": "Kispál Márk",
                                    "mettol": "2016-10-20",
                                    "meddig": "2016-10-27",
                                    "(No column name)": "13"
                                },
                                {
                                    "UGYFEL_FK": "mark",
                                    "nev": "Kispál Márk",
                                    "mettol": "2016-11-19",
                                    "meddig": "2016-11-22",
                                    "(No column name)": "13"
                                },
                                {
                                    "UGYFEL_FK": "MARKH",
                                    "nev": "Horváth Márk",
                                    "mettol": "2017-01-22",
                                    "meddig": "2017-01-29",
                                    "(No column name)": "13"
                                },
                                {
                                    "UGYFEL_FK": "MARKH",
                                    "nev": "Horváth Márk",
                                    "mettol": "2016-09-23",
                                    "meddig": "2016-09-30",
                                    "(No column name)": "13"
                                },
                                {
                                    "UGYFEL_FK": "MARKH",
                                    "nev": "Horváth Márk",
                                    "mettol": "2016-09-14",
                                    "meddig": "2016-09-17",
                                    "(No column name)": "13"
                                },
                                {
                                    "UGYFEL_FK": "MARKH",
                                    "nev": "Horváth Márk",
                                    "mettol": "2016-09-26",
                                    "meddig": "2016-10-01",
                                    "(No column name)": "13"
                                },
                                {
                                    "UGYFEL_FK": "marton",
                                    "nev": "Kalacsi Márton",
                                    "mettol": "2016-09-10",
                                    "meddig": "2016-09-12",
                                    "(No column name)": "15"
                                },
                                {
                                    "UGYFEL_FK": "marton",
                                    "nev": "Kalacsi Márton",
                                    "mettol": "2016-06-22",
                                    "meddig": "2016-06-29",
                                    "(No column name)": "15"
                                },
                                {
                                    "UGYFEL_FK": "marton",
                                    "nev": "Kalacsi Márton",
                                    "mettol": "2016-06-06",
                                    "meddig": "2016-06-08",
                                    "(No column name)": "15"
                                },
                                {
                                    "UGYFEL_FK": "marton",
                                    "nev": "Kalacsi Márton",
                                    "mettol": "2016-04-27",
                                    "meddig": "2016-05-04",
                                    "(No column name)": "15"
                                },
                                {
                                    "UGYFEL_FK": "marton",
                                    "nev": "Kalacsi Márton",
                                    "mettol": "2016-05-05",
                                    "meddig": "2016-05-10",
                                    "(No column name)": "15"
                                },
                                {
                                    "UGYFEL_FK": "marton",
                                    "nev": "Kalacsi Márton",
                                    "mettol": "2016-08-12",
                                    "meddig": "2016-08-17",
                                    "(No column name)": "15"
                                },
                                {
                                    "UGYFEL_FK": "marton",
                                    "nev": "Kalacsi Márton",
                                    "mettol": "2017-03-02",
                                    "meddig": "2017-03-03",
                                    "(No column name)": "15"
                                },
                                {
                                    "UGYFEL_FK": "MATEK",
                                    "nev": "Koza Máté",
                                    "mettol": "2017-01-16",
                                    "meddig": "2017-01-22",
                                    "(No column name)": "8"
                                },
                                {
                                    "UGYFEL_FK": "MATEK",
                                    "nev": "Koza Máté",
                                    "mettol": "2016-08-17",
                                    "meddig": "2016-08-21",
                                    "(No column name)": "8"
                                },
                                {
                                    "UGYFEL_FK": "MATEK",
                                    "nev": "Koza Máté",
                                    "mettol": "2016-10-01",
                                    "meddig": "2016-10-04",
                                    "(No column name)": "8"
                                },
                                {
                                    "UGYFEL_FK": "matyas2",
                                    "nev": "Botka Mátyás",
                                    "mettol": "2016-07-13",
                                    "meddig": "2016-07-16",
                                    "(No column name)": "5"
                                },
                                {
                                    "UGYFEL_FK": "matyas2",
                                    "nev": "Botka Mátyás",
                                    "mettol": "2016-12-09",
                                    "meddig": "2016-12-13",
                                    "(No column name)": "5"
                                },
                                {
                                    "UGYFEL_FK": "MATYASS",
                                    "nev": "Szilágyi Mátyás",
                                    "mettol": "2016-12-20",
                                    "meddig": "2016-12-25",
                                    "(No column name)": "17"
                                },
                                {
                                    "UGYFEL_FK": "MATYASS",
                                    "nev": "Szilágyi Mátyás",
                                    "mettol": "2016-10-24",
                                    "meddig": "2016-10-31",
                                    "(No column name)": "17"
                                },
                                {
                                    "UGYFEL_FK": "MATYASS",
                                    "nev": "Szilágyi Mátyás",
                                    "mettol": "2016-10-09",
                                    "meddig": "2016-10-15",
                                    "(No column name)": "17"
                                },
                                {
                                    "UGYFEL_FK": "MATYASS",
                                    "nev": "Szilágyi Mátyás",
                                    "mettol": "2016-10-30",
                                    "meddig": "2016-11-04",
                                    "(No column name)": "17"
                                },
                                {
                                    "UGYFEL_FK": "MATYASS",
                                    "nev": "Szilágyi Mátyás",
                                    "mettol": "2017-01-09",
                                    "meddig": "2017-01-13",
                                    "(No column name)": "17"
                                },
                                {
                                    "UGYFEL_FK": "MATYASS",
                                    "nev": "Szilágyi Mátyás",
                                    "mettol": "2016-05-10",
                                    "meddig": "2016-05-16",
                                    "(No column name)": "17"
                                },
                                {
                                    "UGYFEL_FK": "MATYASS",
                                    "nev": "Szilágyi Mátyás",
                                    "mettol": "2016-07-23",
                                    "meddig": "2016-07-25",
                                    "(No column name)": "17"
                                },
                                {
                                    "UGYFEL_FK": "MATYASS",
                                    "nev": "Szilágyi Mátyás",
                                    "mettol": "2016-06-02",
                                    "meddig": "2016-06-08",
                                    "(No column name)": "17"
                                },
                                {
                                    "UGYFEL_FK": "MIHALYJ",
                                    "nev": "Juhász Mihály",
                                    "mettol": "2016-05-30",
                                    "meddig": "2016-06-01",
                                    "(No column name)": "11"
                                },
                                {
                                    "UGYFEL_FK": "MIHALYJ",
                                    "nev": "Juhász Mihály",
                                    "mettol": "2016-06-27",
                                    "meddig": "2016-07-01",
                                    "(No column name)": "11"
                                },
                                {
                                    "UGYFEL_FK": "MIHALYJ",
                                    "nev": "Juhász Mihály",
                                    "mettol": "2016-08-29",
                                    "meddig": "2016-09-03",
                                    "(No column name)": "11"
                                },
                                {
                                    "UGYFEL_FK": "MIHALYJ",
                                    "nev": "Juhász Mihály",
                                    "mettol": "2017-02-06",
                                    "meddig": "2017-02-12",
                                    "(No column name)": "11"
                                },
                                {
                                    "UGYFEL_FK": "MIHALYJ",
                                    "nev": "Juhász Mihály",
                                    "mettol": "2016-11-01",
                                    "meddig": "2016-11-04",
                                    "(No column name)": "11"
                                },
                                {
                                    "UGYFEL_FK": "miklos2",
                                    "nev": "Gondos Miklós",
                                    "mettol": "2016-10-08",
                                    "meddig": "2016-10-09",
                                    "(No column name)": "7"
                                },
                                {
                                    "UGYFEL_FK": "miklos2",
                                    "nev": "Gondos Miklós",
                                    "mettol": "2016-11-16",
                                    "meddig": "2016-11-18",
                                    "(No column name)": "7"
                                },
                                {
                                    "UGYFEL_FK": "miklos2",
                                    "nev": "Gondos Miklós",
                                    "mettol": "2016-04-19",
                                    "meddig": "2016-04-21",
                                    "(No column name)": "7"
                                },
                                {
                                    "UGYFEL_FK": "MIKLOSB",
                                    "nev": "Balla Miklós",
                                    "mettol": "2016-07-18",
                                    "meddig": "2016-07-21",
                                    "(No column name)": "6"
                                },
                                {
                                    "UGYFEL_FK": "MIKLOSB",
                                    "nev": "Balla Miklós",
                                    "mettol": "2016-06-26",
                                    "meddig": "2016-06-30",
                                    "(No column name)": "6"
                                },
                                {
                                    "UGYFEL_FK": "MIKLOSB",
                                    "nev": "Balla Miklós",
                                    "mettol": "2016-12-05",
                                    "meddig": "2016-12-10",
                                    "(No column name)": "6"
                                },
                                {
                                    "UGYFEL_FK": "MONIKAM",
                                    "nev": "Mohos Mónika",
                                    "mettol": "2016-11-09",
                                    "meddig": "2016-11-16",
                                    "(No column name)": "10"
                                },
                                {
                                    "UGYFEL_FK": "MONIKAM",
                                    "nev": "Mohos Mónika",
                                    "mettol": "2017-02-06",
                                    "meddig": "2017-02-09",
                                    "(No column name)": "10"
                                },
                                {
                                    "UGYFEL_FK": "MONIKAM",
                                    "nev": "Mohos Mónika",
                                    "mettol": "2017-01-17",
                                    "meddig": "2017-01-24",
                                    "(No column name)": "10"
                                },
                                {
                                    "UGYFEL_FK": "MONIKAM",
                                    "nev": "Mohos Mónika",
                                    "mettol": "2017-02-23",
                                    "meddig": "2017-02-26",
                                    "(No column name)": "10"
                                },
                                {
                                    "UGYFEL_FK": "MONIKAM",
                                    "nev": "Mohos Mónika",
                                    "mettol": "2016-04-29",
                                    "meddig": "2016-05-01",
                                    "(No column name)": "10"
                                },
                                {
                                    "UGYFEL_FK": "MONIKAM",
                                    "nev": "Mohos Mónika",
                                    "mettol": "2016-07-23",
                                    "meddig": "2016-07-30",
                                    "(No column name)": "10"
                                },
                                {
                                    "UGYFEL_FK": "NANDORF",
                                    "nev": "Fő Nándor",
                                    "mettol": "2016-04-06",
                                    "meddig": "2016-04-10",
                                    "(No column name)": "9"
                                },
                                {
                                    "UGYFEL_FK": "NANDORF",
                                    "nev": "Fő Nándor",
                                    "mettol": "2017-02-05",
                                    "meddig": "2017-02-08",
                                    "(No column name)": "9"
                                },
                                {
                                    "UGYFEL_FK": "NANDORF",
                                    "nev": "Fő Nándor",
                                    "mettol": "2016-11-03",
                                    "meddig": "2016-11-04",
                                    "(No column name)": "9"
                                },
                                {
                                    "UGYFEL_FK": "nikolett3",
                                    "nev": "Horváth Nikolett",
                                    "mettol": "2016-10-22",
                                    "meddig": "2016-10-29",
                                    "(No column name)": "7"
                                },
                                {
                                    "UGYFEL_FK": "nikolett3",
                                    "nev": "Horváth Nikolett",
                                    "mettol": "2016-06-22",
                                    "meddig": "2016-06-24",
                                    "(No column name)": "7"
                                },
                                {
                                    "UGYFEL_FK": "nikolett3",
                                    "nev": "Horváth Nikolett",
                                    "mettol": "2016-05-24",
                                    "meddig": "2016-05-29",
                                    "(No column name)": "7"
                                },
                                {
                                    "UGYFEL_FK": "nikolett3",
                                    "nev": "Horváth Nikolett",
                                    "mettol": "2016-06-03",
                                    "meddig": "2016-06-09",
                                    "(No column name)": "7"
                                },
                                {
                                    "UGYFEL_FK": "nikoletta4",
                                    "nev": "Kő Nikoletta",
                                    "mettol": "2016-05-30",
                                    "meddig": "2016-06-03",
                                    "(No column name)": "19"
                                },
                                {
                                    "UGYFEL_FK": "nikoletta4",
                                    "nev": "Kő Nikoletta",
                                    "mettol": "2016-06-29",
                                    "meddig": "2016-07-06",
                                    "(No column name)": "19"
                                },
                                {
                                    "UGYFEL_FK": "nikoletta4",
                                    "nev": "Kő Nikoletta",
                                    "mettol": "2016-04-08",
                                    "meddig": "2016-04-10",
                                    "(No column name)": "19"
                                },
                                {
                                    "UGYFEL_FK": "nikoletta4",
                                    "nev": "Kő Nikoletta",
                                    "mettol": "2016-05-09",
                                    "meddig": "2016-05-15",
                                    "(No column name)": "19"
                                },
                                {
                                    "UGYFEL_FK": "nikoletta4",
                                    "nev": "Kő Nikoletta",
                                    "mettol": "2016-08-13",
                                    "meddig": "2016-08-17",
                                    "(No column name)": "19"
                                },
                                {
                                    "UGYFEL_FK": "nikoletta4",
                                    "nev": "Kő Nikoletta",
                                    "mettol": "2016-12-08",
                                    "meddig": "2016-12-10",
                                    "(No column name)": "19"
                                },
                                {
                                    "UGYFEL_FK": "nikoletta4",
                                    "nev": "Kő Nikoletta",
                                    "mettol": "2017-02-01",
                                    "meddig": "2017-02-04",
                                    "(No column name)": "19"
                                },
                                {
                                    "UGYFEL_FK": "NIKOLETTAT",
                                    "nev": "Tatár Nikoletta",
                                    "mettol": "2016-07-27",
                                    "meddig": "2016-07-29",
                                    "(No column name)": "12"
                                },
                                {
                                    "UGYFEL_FK": "NIKOLETTAT",
                                    "nev": "Tatár Nikoletta",
                                    "mettol": "2016-05-22",
                                    "meddig": "2016-05-23",
                                    "(No column name)": "12"
                                },
                                {
                                    "UGYFEL_FK": "NIKOLETTAT",
                                    "nev": "Tatár Nikoletta",
                                    "mettol": "2016-09-21",
                                    "meddig": "2016-09-26",
                                    "(No column name)": "12"
                                },
                                {
                                    "UGYFEL_FK": "NIKOLETTAT",
                                    "nev": "Tatár Nikoletta",
                                    "mettol": "2016-06-07",
                                    "meddig": "2016-06-09",
                                    "(No column name)": "12"
                                },
                                {
                                    "UGYFEL_FK": "norbert",
                                    "nev": "Szűcs Norbert",
                                    "mettol": "2016-07-08",
                                    "meddig": "2016-07-13",
                                    "(No column name)": "10"
                                },
                                {
                                    "UGYFEL_FK": "norbert",
                                    "nev": "Szűcs Norbert",
                                    "mettol": "2017-02-13",
                                    "meddig": "2017-02-15",
                                    "(No column name)": "10"
                                },
                                {
                                    "UGYFEL_FK": "norbert",
                                    "nev": "Szűcs Norbert",
                                    "mettol": "2017-02-26",
                                    "meddig": "2017-03-01",
                                    "(No column name)": "10"
                                },
                                {
                                    "UGYFEL_FK": "norbert",
                                    "nev": "Szűcs Norbert",
                                    "mettol": "2016-12-15",
                                    "meddig": "2016-12-18",
                                    "(No column name)": "10"
                                },
                                {
                                    "UGYFEL_FK": "norbert",
                                    "nev": "Szűcs Norbert",
                                    "mettol": "2016-11-16",
                                    "meddig": "2016-11-23",
                                    "(No column name)": "10"
                                },
                                {
                                    "UGYFEL_FK": "norbert2",
                                    "nev": "Hegedűs Norbert",
                                    "mettol": "2016-10-31",
                                    "meddig": "2016-11-07",
                                    "(No column name)": "14"
                                },
                                {
                                    "UGYFEL_FK": "norbert2",
                                    "nev": "Hegedűs Norbert",
                                    "mettol": "2017-01-29",
                                    "meddig": "2017-02-05",
                                    "(No column name)": "14"
                                },
                                {
                                    "UGYFEL_FK": "norbert2",
                                    "nev": "Hegedűs Norbert",
                                    "mettol": "2016-07-13",
                                    "meddig": "2016-07-15",
                                    "(No column name)": "14"
                                },
                                {
                                    "UGYFEL_FK": "norbert2",
                                    "nev": "Hegedűs Norbert",
                                    "mettol": "2016-05-09",
                                    "meddig": "2016-05-10",
                                    "(No column name)": "14"
                                },
                                {
                                    "UGYFEL_FK": "norbert2",
                                    "nev": "Hegedűs Norbert",
                                    "mettol": "2016-04-19",
                                    "meddig": "2016-04-26",
                                    "(No column name)": "14"
                                },
                                {
                                    "UGYFEL_FK": "norbert2",
                                    "nev": "Hegedűs Norbert",
                                    "mettol": "2016-07-27",
                                    "meddig": "2016-08-02",
                                    "(No column name)": "14"
                                },
                                {
                                    "UGYFEL_FK": "norbert2",
                                    "nev": "Hegedűs Norbert",
                                    "mettol": "2016-08-16",
                                    "meddig": "2016-08-19",
                                    "(No column name)": "14"
                                },
                                {
                                    "UGYFEL_FK": "norbert4",
                                    "nev": "Mile Norbert",
                                    "mettol": "2016-04-10",
                                    "meddig": "2016-04-13",
                                    "(No column name)": "24"
                                },
                                {
                                    "UGYFEL_FK": "norbert4",
                                    "nev": "Mile Norbert",
                                    "mettol": "2016-10-05",
                                    "meddig": "2016-10-10",
                                    "(No column name)": "24"
                                },
                                {
                                    "UGYFEL_FK": "norbert4",
                                    "nev": "Mile Norbert",
                                    "mettol": "2016-06-16",
                                    "meddig": "2016-06-17",
                                    "(No column name)": "24"
                                },
                                {
                                    "UGYFEL_FK": "norbert4",
                                    "nev": "Mile Norbert",
                                    "mettol": "2016-06-16",
                                    "meddig": "2016-06-21",
                                    "(No column name)": "24"
                                },
                                {
                                    "UGYFEL_FK": "norbert4",
                                    "nev": "Mile Norbert",
                                    "mettol": "2016-05-29",
                                    "meddig": "2016-06-03",
                                    "(No column name)": "24"
                                },
                                {
                                    "UGYFEL_FK": "norbert4",
                                    "nev": "Mile Norbert",
                                    "mettol": "2017-02-16",
                                    "meddig": "2017-02-17",
                                    "(No column name)": "24"
                                },
                                {
                                    "UGYFEL_FK": "norbert4",
                                    "nev": "Mile Norbert",
                                    "mettol": "2017-03-03",
                                    "meddig": "2017-03-07",
                                    "(No column name)": "24"
                                },
                                {
                                    "UGYFEL_FK": "norbert4",
                                    "nev": "Mile Norbert",
                                    "mettol": "2016-10-28",
                                    "meddig": "2016-10-31",
                                    "(No column name)": "24"
                                },
                                {
                                    "UGYFEL_FK": "norbert4",
                                    "nev": "Mile Norbert",
                                    "mettol": "2016-11-30",
                                    "meddig": "2016-12-06",
                                    "(No column name)": "24"
                                },
                                {
                                    "UGYFEL_FK": "norbert5",
                                    "nev": "Béres Norbert",
                                    "mettol": "2016-11-05",
                                    "meddig": "2016-11-07",
                                    "(No column name)": "5"
                                },
                                {
                                    "UGYFEL_FK": "norbert5",
                                    "nev": "Béres Norbert",
                                    "mettol": "2016-06-24",
                                    "meddig": "2016-06-28",
                                    "(No column name)": "5"
                                },
                                {
                                    "UGYFEL_FK": "norbert5",
                                    "nev": "Béres Norbert",
                                    "mettol": "2016-08-10",
                                    "meddig": "2016-08-11",
                                    "(No column name)": "5"
                                },
                                {
                                    "UGYFEL_FK": "pal",
                                    "nev": "Barabás Pál",
                                    "mettol": "2016-08-14",
                                    "meddig": "2016-08-18",
                                    "(No column name)": "14"
                                },
                                {
                                    "UGYFEL_FK": "pal",
                                    "nev": "Barabás Pál",
                                    "mettol": "2016-09-16",
                                    "meddig": "2016-09-19",
                                    "(No column name)": "14"
                                },
                                {
                                    "UGYFEL_FK": "pal",
                                    "nev": "Barabás Pál",
                                    "mettol": "2016-12-17",
                                    "meddig": "2016-12-23",
                                    "(No column name)": "14"
                                },
                                {
                                    "UGYFEL_FK": "pal",
                                    "nev": "Barabás Pál",
                                    "mettol": "2017-02-20",
                                    "meddig": "2017-02-22",
                                    "(No column name)": "14"
                                },
                                {
                                    "UGYFEL_FK": "pal",
                                    "nev": "Barabás Pál",
                                    "mettol": "2017-02-13",
                                    "meddig": "2017-02-19",
                                    "(No column name)": "14"
                                },
                                {
                                    "UGYFEL_FK": "peter1",
                                    "nev": "Kozma Péter",
                                    "mettol": "2017-02-23",
                                    "meddig": "2017-02-26",
                                    "(No column name)": "12"
                                },
                                {
                                    "UGYFEL_FK": "peter1",
                                    "nev": "Kozma Péter",
                                    "mettol": "2017-02-28",
                                    "meddig": "2017-03-05",
                                    "(No column name)": "12"
                                },
                                {
                                    "UGYFEL_FK": "peter1",
                                    "nev": "Kozma Péter",
                                    "mettol": "2016-10-26",
                                    "meddig": "2016-11-01",
                                    "(No column name)": "12"
                                },
                                {
                                    "UGYFEL_FK": "peter1",
                                    "nev": "Kozma Péter",
                                    "mettol": "2016-07-14",
                                    "meddig": "2016-07-18",
                                    "(No column name)": "12"
                                },
                                {
                                    "UGYFEL_FK": "peter2",
                                    "nev": "Bozsó Péter",
                                    "mettol": "2016-07-03",
                                    "meddig": "2016-07-08",
                                    "(No column name)": "9"
                                },
                                {
                                    "UGYFEL_FK": "peter2",
                                    "nev": "Bozsó Péter",
                                    "mettol": "2016-11-01",
                                    "meddig": "2016-11-02",
                                    "(No column name)": "9"
                                },
                                {
                                    "UGYFEL_FK": "peter2",
                                    "nev": "Bozsó Péter",
                                    "mettol": "2016-10-10",
                                    "meddig": "2016-10-16",
                                    "(No column name)": "9"
                                },
                                {
                                    "UGYFEL_FK": "peter2",
                                    "nev": "Bozsó Péter",
                                    "mettol": "2016-11-15",
                                    "meddig": "2016-11-21",
                                    "(No column name)": "9"
                                },
                                {
                                    "UGYFEL_FK": "peter3",
                                    "nev": "Szalai Péter",
                                    "mettol": "2016-12-25",
                                    "meddig": "2016-12-28",
                                    "(No column name)": "13"
                                },
                                {
                                    "UGYFEL_FK": "peter3",
                                    "nev": "Szalai Péter",
                                    "mettol": "2016-10-30",
                                    "meddig": "2016-11-06",
                                    "(No column name)": "13"
                                },
                                {
                                    "UGYFEL_FK": "peter3",
                                    "nev": "Szalai Péter",
                                    "mettol": "2017-02-21",
                                    "meddig": "2017-02-24",
                                    "(No column name)": "13"
                                },
                                {
                                    "UGYFEL_FK": "peter3",
                                    "nev": "Szalai Péter",
                                    "mettol": "2017-01-12",
                                    "meddig": "2017-01-17",
                                    "(No column name)": "13"
                                },
                                {
                                    "UGYFEL_FK": "peter3",
                                    "nev": "Szalai Péter",
                                    "mettol": "2016-06-30",
                                    "meddig": "2016-07-05",
                                    "(No column name)": "13"
                                },
                                {
                                    "UGYFEL_FK": "peter3",
                                    "nev": "Szalai Péter",
                                    "mettol": "2016-07-27",
                                    "meddig": "2016-07-31",
                                    "(No column name)": "13"
                                },
                                {
                                    "UGYFEL_FK": "peter4",
                                    "nev": "Bíró Péter",
                                    "mettol": "2016-08-06",
                                    "meddig": "2016-08-13",
                                    "(No column name)": "35"
                                },
                                {
                                    "UGYFEL_FK": "peter4",
                                    "nev": "Bíró Péter",
                                    "mettol": "2016-08-24",
                                    "meddig": "2016-08-25",
                                    "(No column name)": "35"
                                },
                                {
                                    "UGYFEL_FK": "peter4",
                                    "nev": "Bíró Péter",
                                    "mettol": "2016-04-12",
                                    "meddig": "2016-04-15",
                                    "(No column name)": "35"
                                },
                                {
                                    "UGYFEL_FK": "peter4",
                                    "nev": "Bíró Péter",
                                    "mettol": "2016-09-11",
                                    "meddig": "2016-09-17",
                                    "(No column name)": "35"
                                },
                                {
                                    "UGYFEL_FK": "peter4",
                                    "nev": "Bíró Péter",
                                    "mettol": "2016-09-25",
                                    "meddig": "2016-09-26",
                                    "(No column name)": "35"
                                },
                                {
                                    "UGYFEL_FK": "peter4",
                                    "nev": "Bíró Péter",
                                    "mettol": "2016-09-30",
                                    "meddig": "2016-10-06",
                                    "(No column name)": "35"
                                },
                                {
                                    "UGYFEL_FK": "peter4",
                                    "nev": "Bíró Péter",
                                    "mettol": "2017-02-05",
                                    "meddig": "2017-02-09",
                                    "(No column name)": "35"
                                },
                                {
                                    "UGYFEL_FK": "peter4",
                                    "nev": "Bíró Péter",
                                    "mettol": "2016-10-30",
                                    "meddig": "2016-11-01",
                                    "(No column name)": "35"
                                },
                                {
                                    "UGYFEL_FK": "peter4",
                                    "nev": "Bíró Péter",
                                    "mettol": "2016-10-09",
                                    "meddig": "2016-10-16",
                                    "(No column name)": "35"
                                },
                                {
                                    "UGYFEL_FK": "peter4",
                                    "nev": "Bíró Péter",
                                    "mettol": "2016-10-24",
                                    "meddig": "2016-10-25",
                                    "(No column name)": "35"
                                },
                                {
                                    "UGYFEL_FK": "peter4",
                                    "nev": "Bíró Péter",
                                    "mettol": "2016-11-10",
                                    "meddig": "2016-11-17",
                                    "(No column name)": "35"
                                },
                                {
                                    "UGYFEL_FK": "peter4",
                                    "nev": "Bíró Péter",
                                    "mettol": "2016-11-25",
                                    "meddig": "2016-11-30",
                                    "(No column name)": "35"
                                },
                                {
                                    "UGYFEL_FK": "PETERB",
                                    "nev": "Berendi Péter",
                                    "mettol": "2016-11-17",
                                    "meddig": "2016-11-20",
                                    "(No column name)": "10"
                                },
                                {
                                    "UGYFEL_FK": "PETERB",
                                    "nev": "Berendi Péter",
                                    "mettol": "2016-10-19",
                                    "meddig": "2016-10-20",
                                    "(No column name)": "10"
                                },
                                {
                                    "UGYFEL_FK": "PETERB",
                                    "nev": "Berendi Péter",
                                    "mettol": "2016-04-06",
                                    "meddig": "2016-04-10",
                                    "(No column name)": "10"
                                },
                                {
                                    "UGYFEL_FK": "PETERB",
                                    "nev": "Berendi Péter",
                                    "mettol": "2016-07-20",
                                    "meddig": "2016-07-24",
                                    "(No column name)": "10"
                                },
                                {
                                    "UGYFEL_FK": "PETERB",
                                    "nev": "Berendi Péter",
                                    "mettol": "2016-08-16",
                                    "meddig": "2016-08-23",
                                    "(No column name)": "10"
                                },
                                {
                                    "UGYFEL_FK": "polla",
                                    "nev": "Palágyi Polla",
                                    "mettol": "2016-08-14",
                                    "meddig": "2016-08-17",
                                    "(No column name)": "15"
                                },
                                {
                                    "UGYFEL_FK": "polla",
                                    "nev": "Palágyi Polla",
                                    "mettol": "2016-08-16",
                                    "meddig": "2016-08-19",
                                    "(No column name)": "15"
                                },
                                {
                                    "UGYFEL_FK": "polla",
                                    "nev": "Palágyi Polla",
                                    "mettol": "2016-04-17",
                                    "meddig": "2016-04-22",
                                    "(No column name)": "15"
                                },
                                {
                                    "UGYFEL_FK": "polla",
                                    "nev": "Palágyi Polla",
                                    "mettol": "2016-05-28",
                                    "meddig": "2016-06-04",
                                    "(No column name)": "15"
                                },
                                {
                                    "UGYFEL_FK": "polla",
                                    "nev": "Palágyi Polla",
                                    "mettol": "2017-01-29",
                                    "meddig": "2017-02-01",
                                    "(No column name)": "15"
                                },
                                {
                                    "UGYFEL_FK": "polla",
                                    "nev": "Palágyi Polla",
                                    "mettol": "2017-02-11",
                                    "meddig": "2017-02-16",
                                    "(No column name)": "15"
                                },
                                {
                                    "UGYFEL_FK": "rajmond4",
                                    "nev": "Rácz Rajmond",
                                    "mettol": "2016-11-08",
                                    "meddig": "2016-11-09",
                                    "(No column name)": "12"
                                },
                                {
                                    "UGYFEL_FK": "rajmond4",
                                    "nev": "Rácz Rajmond",
                                    "mettol": "2016-11-16",
                                    "meddig": "2016-11-20",
                                    "(No column name)": "12"
                                },
                                {
                                    "UGYFEL_FK": "rajmond4",
                                    "nev": "Rácz Rajmond",
                                    "mettol": "2016-09-05",
                                    "meddig": "2016-09-07",
                                    "(No column name)": "12"
                                },
                                {
                                    "UGYFEL_FK": "rajmond4",
                                    "nev": "Rácz Rajmond",
                                    "mettol": "2016-10-03",
                                    "meddig": "2016-10-04",
                                    "(No column name)": "12"
                                },
                                {
                                    "UGYFEL_FK": "reka4",
                                    "nev": "Szikszai Réka",
                                    "mettol": "2016-09-30",
                                    "meddig": "2016-10-06",
                                    "(No column name)": "13"
                                },
                                {
                                    "UGYFEL_FK": "reka4",
                                    "nev": "Szikszai Réka",
                                    "mettol": "2016-09-05",
                                    "meddig": "2016-09-07",
                                    "(No column name)": "13"
                                },
                                {
                                    "UGYFEL_FK": "reka4",
                                    "nev": "Szikszai Réka",
                                    "mettol": "2016-08-02",
                                    "meddig": "2016-08-04",
                                    "(No column name)": "13"
                                },
                                {
                                    "UGYFEL_FK": "reka4",
                                    "nev": "Szikszai Réka",
                                    "mettol": "2016-07-27",
                                    "meddig": "2016-07-31",
                                    "(No column name)": "13"
                                },
                                {
                                    "UGYFEL_FK": "reka4",
                                    "nev": "Szikszai Réka",
                                    "mettol": "2017-02-26",
                                    "meddig": "2017-03-04",
                                    "(No column name)": "13"
                                },
                                {
                                    "UGYFEL_FK": "RENATAK",
                                    "nev": "Kardos Renáta",
                                    "mettol": "2017-03-01",
                                    "meddig": "2017-03-06",
                                    "(No column name)": "11"
                                },
                                {
                                    "UGYFEL_FK": "RENATAK",
                                    "nev": "Kardos Renáta",
                                    "mettol": "2017-02-16",
                                    "meddig": "2017-02-23",
                                    "(No column name)": "11"
                                },
                                {
                                    "UGYFEL_FK": "RENATAK",
                                    "nev": "Kardos Renáta",
                                    "mettol": "2017-01-23",
                                    "meddig": "2017-01-24",
                                    "(No column name)": "11"
                                },
                                {
                                    "UGYFEL_FK": "RENATAK",
                                    "nev": "Kardos Renáta",
                                    "mettol": "2016-11-23",
                                    "meddig": "2016-11-26",
                                    "(No column name)": "11"
                                },
                                {
                                    "UGYFEL_FK": "RENATAK",
                                    "nev": "Kardos Renáta",
                                    "mettol": "2016-10-30",
                                    "meddig": "2016-10-31",
                                    "(No column name)": "11"
                                },
                                {
                                    "UGYFEL_FK": "RENATAK",
                                    "nev": "Kardos Renáta",
                                    "mettol": "2016-10-27",
                                    "meddig": "2016-10-29",
                                    "(No column name)": "11"
                                },
                                {
                                    "UGYFEL_FK": "RENATAS",
                                    "nev": "Szirmai Renáta",
                                    "mettol": "2017-02-14",
                                    "meddig": "2017-02-17",
                                    "(No column name)": "12"
                                },
                                {
                                    "UGYFEL_FK": "RENATAS",
                                    "nev": "Szirmai Renáta",
                                    "mettol": "2017-02-13",
                                    "meddig": "2017-02-17",
                                    "(No column name)": "12"
                                },
                                {
                                    "UGYFEL_FK": "RENATAS",
                                    "nev": "Szirmai Renáta",
                                    "mettol": "2016-05-04",
                                    "meddig": "2016-05-11",
                                    "(No column name)": "12"
                                },
                                {
                                    "UGYFEL_FK": "RENATAS",
                                    "nev": "Szirmai Renáta",
                                    "mettol": "2016-05-11",
                                    "meddig": "2016-05-16",
                                    "(No column name)": "12"
                                },
                                {
                                    "UGYFEL_FK": "RENATAS",
                                    "nev": "Szirmai Renáta",
                                    "mettol": "2016-06-24",
                                    "meddig": "2016-06-30",
                                    "(No column name)": "12"
                                },
                                {
                                    "UGYFEL_FK": "robert2",
                                    "nev": "Patay Róbert",
                                    "mettol": "2016-05-15",
                                    "meddig": "2016-05-18",
                                    "(No column name)": "8"
                                },
                                {
                                    "UGYFEL_FK": "robert2",
                                    "nev": "Patay Róbert",
                                    "mettol": "2016-08-20",
                                    "meddig": "2016-08-27",
                                    "(No column name)": "8"
                                },
                                {
                                    "UGYFEL_FK": "robert2",
                                    "nev": "Patay Róbert",
                                    "mettol": "2016-10-23",
                                    "meddig": "2016-10-28",
                                    "(No column name)": "8"
                                },
                                {
                                    "UGYFEL_FK": "robert2",
                                    "nev": "Patay Róbert",
                                    "mettol": "2016-12-17",
                                    "meddig": "2016-12-22",
                                    "(No column name)": "8"
                                },
                                {
                                    "UGYFEL_FK": "ROBERTI",
                                    "nev": "Iván Róbert",
                                    "mettol": "2016-10-23",
                                    "meddig": "2016-10-29",
                                    "(No column name)": "18"
                                },
                                {
                                    "UGYFEL_FK": "ROBERTI",
                                    "nev": "Iván Róbert",
                                    "mettol": "2016-10-26",
                                    "meddig": "2016-11-01",
                                    "(No column name)": "18"
                                },
                                {
                                    "UGYFEL_FK": "ROBERTI",
                                    "nev": "Iván Róbert",
                                    "mettol": "2016-10-09",
                                    "meddig": "2016-10-10",
                                    "(No column name)": "18"
                                },
                                {
                                    "UGYFEL_FK": "ROBERTI",
                                    "nev": "Iván Róbert",
                                    "mettol": "2017-02-17",
                                    "meddig": "2017-02-20",
                                    "(No column name)": "18"
                                },
                                {
                                    "UGYFEL_FK": "ROBERTI",
                                    "nev": "Iván Róbert",
                                    "mettol": "2016-08-23",
                                    "meddig": "2016-08-25",
                                    "(No column name)": "18"
                                },
                                {
                                    "UGYFEL_FK": "ROBERTI",
                                    "nev": "Iván Róbert",
                                    "mettol": "2016-08-16",
                                    "meddig": "2016-08-21",
                                    "(No column name)": "18"
                                },
                                {
                                    "UGYFEL_FK": "ROBERTI",
                                    "nev": "Iván Róbert",
                                    "mettol": "2016-07-12",
                                    "meddig": "2016-07-19",
                                    "(No column name)": "18"
                                },
                                {
                                    "UGYFEL_FK": "ROBERTI",
                                    "nev": "Iván Róbert",
                                    "mettol": "2016-10-08",
                                    "meddig": "2016-10-12",
                                    "(No column name)": "18"
                                },
                                {
                                    "UGYFEL_FK": "ROBERTP",
                                    "nev": "Pásztor Róbert",
                                    "mettol": "2016-09-08",
                                    "meddig": "2016-09-11",
                                    "(No column name)": "6"
                                },
                                {
                                    "UGYFEL_FK": "ROBERTP",
                                    "nev": "Pásztor Róbert",
                                    "mettol": "2016-07-30",
                                    "meddig": "2016-08-05",
                                    "(No column name)": "6"
                                },
                                {
                                    "UGYFEL_FK": "roland",
                                    "nev": "Tóth Roland",
                                    "mettol": "2016-06-22",
                                    "meddig": "2016-06-23",
                                    "(No column name)": "10"
                                },
                                {
                                    "UGYFEL_FK": "roland",
                                    "nev": "Tóth Roland",
                                    "mettol": "2016-06-09",
                                    "meddig": "2016-06-13",
                                    "(No column name)": "10"
                                },
                                {
                                    "UGYFEL_FK": "roland",
                                    "nev": "Tóth Roland",
                                    "mettol": "2016-09-04",
                                    "meddig": "2016-09-05",
                                    "(No column name)": "10"
                                },
                                {
                                    "UGYFEL_FK": "roland",
                                    "nev": "Tóth Roland",
                                    "mettol": "2016-11-19",
                                    "meddig": "2016-11-24",
                                    "(No column name)": "10"
                                },
                                {
                                    "UGYFEL_FK": "roland1",
                                    "nev": "Ferencz Roland",
                                    "mettol": "2016-12-22",
                                    "meddig": "2016-12-29",
                                    "(No column name)": "9"
                                },
                                {
                                    "UGYFEL_FK": "roland1",
                                    "nev": "Ferencz Roland",
                                    "mettol": "2016-11-05",
                                    "meddig": "2016-11-07",
                                    "(No column name)": "9"
                                },
                                {
                                    "UGYFEL_FK": "roland1",
                                    "nev": "Ferencz Roland",
                                    "mettol": "2017-01-16",
                                    "meddig": "2017-01-22",
                                    "(No column name)": "9"
                                },
                                {
                                    "UGYFEL_FK": "roland1",
                                    "nev": "Ferencz Roland",
                                    "mettol": "2017-01-04",
                                    "meddig": "2017-01-08",
                                    "(No column name)": "9"
                                },
                                {
                                    "UGYFEL_FK": "roza2",
                                    "nev": "Bucskó Róza",
                                    "mettol": "2017-01-11",
                                    "meddig": "2017-01-17",
                                    "(No column name)": "8"
                                },
                                {
                                    "UGYFEL_FK": "roza2",
                                    "nev": "Bucskó Róza",
                                    "mettol": "2017-02-18",
                                    "meddig": "2017-02-21",
                                    "(No column name)": "8"
                                },
                                {
                                    "UGYFEL_FK": "roza2",
                                    "nev": "Bucskó Róza",
                                    "mettol": "2016-09-10",
                                    "meddig": "2016-09-13",
                                    "(No column name)": "8"
                                },
                                {
                                    "UGYFEL_FK": "sandor",
                                    "nev": "Karasz Sándor",
                                    "mettol": "2016-07-04",
                                    "meddig": "2016-07-06",
                                    "(No column name)": "10"
                                },
                                {
                                    "UGYFEL_FK": "sandor",
                                    "nev": "Karasz Sándor",
                                    "mettol": "2016-09-19",
                                    "meddig": "2016-09-26",
                                    "(No column name)": "10"
                                },
                                {
                                    "UGYFEL_FK": "sandor",
                                    "nev": "Karasz Sándor",
                                    "mettol": "2016-08-20",
                                    "meddig": "2016-08-25",
                                    "(No column name)": "10"
                                },
                                {
                                    "UGYFEL_FK": "sandor",
                                    "nev": "Karasz Sándor",
                                    "mettol": "2016-07-18",
                                    "meddig": "2016-07-24",
                                    "(No column name)": "10"
                                },
                                {
                                    "UGYFEL_FK": "sandor3",
                                    "nev": "Farkas Sándor",
                                    "mettol": "2016-05-12",
                                    "meddig": "2016-05-15",
                                    "(No column name)": "10"
                                },
                                {
                                    "UGYFEL_FK": "sandor3",
                                    "nev": "Farkas Sándor",
                                    "mettol": "2016-05-25",
                                    "meddig": "2016-05-30",
                                    "(No column name)": "10"
                                },
                                {
                                    "UGYFEL_FK": "sandor3",
                                    "nev": "Farkas Sándor",
                                    "mettol": "2016-10-09",
                                    "meddig": "2016-10-14",
                                    "(No column name)": "10"
                                },
                                {
                                    "UGYFEL_FK": "sandor3",
                                    "nev": "Farkas Sándor",
                                    "mettol": "2016-10-23",
                                    "meddig": "2016-10-29",
                                    "(No column name)": "10"
                                },
                                {
                                    "UGYFEL_FK": "sandor3",
                                    "nev": "Farkas Sándor",
                                    "mettol": "2016-11-10",
                                    "meddig": "2016-11-11",
                                    "(No column name)": "10"
                                },
                                {
                                    "UGYFEL_FK": "sandor4",
                                    "nev": "Nagy Sándor",
                                    "mettol": "2016-11-29",
                                    "meddig": "2016-12-03",
                                    "(No column name)": "6"
                                },
                                {
                                    "UGYFEL_FK": "sandor4",
                                    "nev": "Nagy Sándor",
                                    "mettol": "2016-12-03",
                                    "meddig": "2016-12-09",
                                    "(No column name)": "6"
                                },
                                {
                                    "UGYFEL_FK": "sandor4",
                                    "nev": "Nagy Sándor",
                                    "mettol": "2016-10-15",
                                    "meddig": "2016-10-18",
                                    "(No column name)": "6"
                                },
                                {
                                    "UGYFEL_FK": "sandor4",
                                    "nev": "Nagy Sándor",
                                    "mettol": "2017-01-22",
                                    "meddig": "2017-01-26",
                                    "(No column name)": "6"
                                },
                                {
                                    "UGYFEL_FK": "sara",
                                    "nev": "Farkas Sára",
                                    "mettol": "2016-10-11",
                                    "meddig": "2016-10-14",
                                    "(No column name)": "30"
                                },
                                {
                                    "UGYFEL_FK": "sara",
                                    "nev": "Farkas Sára",
                                    "mettol": "2016-10-28",
                                    "meddig": "2016-11-03",
                                    "(No column name)": "30"
                                },
                                {
                                    "UGYFEL_FK": "sara",
                                    "nev": "Farkas Sára",
                                    "mettol": "2016-12-06",
                                    "meddig": "2016-12-10",
                                    "(No column name)": "30"
                                },
                                {
                                    "UGYFEL_FK": "sara",
                                    "nev": "Farkas Sára",
                                    "mettol": "2016-12-25",
                                    "meddig": "2016-12-30",
                                    "(No column name)": "30"
                                },
                                {
                                    "UGYFEL_FK": "sara",
                                    "nev": "Farkas Sára",
                                    "mettol": "2016-11-23",
                                    "meddig": "2016-11-30",
                                    "(No column name)": "30"
                                },
                                {
                                    "UGYFEL_FK": "sara",
                                    "nev": "Farkas Sára",
                                    "mettol": "2016-11-18",
                                    "meddig": "2016-11-21",
                                    "(No column name)": "30"
                                },
                                {
                                    "UGYFEL_FK": "sara",
                                    "nev": "Farkas Sára",
                                    "mettol": "2016-05-28",
                                    "meddig": "2016-05-30",
                                    "(No column name)": "30"
                                },
                                {
                                    "UGYFEL_FK": "sara",
                                    "nev": "Farkas Sára",
                                    "mettol": "2016-05-30",
                                    "meddig": "2016-05-31",
                                    "(No column name)": "30"
                                },
                                {
                                    "UGYFEL_FK": "sara",
                                    "nev": "Farkas Sára",
                                    "mettol": "2016-06-06",
                                    "meddig": "2016-06-08",
                                    "(No column name)": "30"
                                },
                                {
                                    "UGYFEL_FK": "sara",
                                    "nev": "Farkas Sára",
                                    "mettol": "2016-10-06",
                                    "meddig": "2016-10-12",
                                    "(No column name)": "30"
                                },
                                {
                                    "UGYFEL_FK": "sara",
                                    "nev": "Farkas Sára",
                                    "mettol": "2016-07-15",
                                    "meddig": "2016-07-17",
                                    "(No column name)": "30"
                                },
                                {
                                    "UGYFEL_FK": "sara",
                                    "nev": "Farkas Sára",
                                    "mettol": "2016-07-24",
                                    "meddig": "2016-07-27",
                                    "(No column name)": "30"
                                },
                                {
                                    "UGYFEL_FK": "SEBASTIANF",
                                    "nev": "Foltényi Sebastián",
                                    "mettol": "2016-07-30",
                                    "meddig": "2016-08-06",
                                    "(No column name)": "14"
                                },
                                {
                                    "UGYFEL_FK": "SEBASTIANF",
                                    "nev": "Foltényi Sebastián",
                                    "mettol": "2016-07-17",
                                    "meddig": "2016-07-21",
                                    "(No column name)": "14"
                                },
                                {
                                    "UGYFEL_FK": "SEBASTIANF",
                                    "nev": "Foltényi Sebastián",
                                    "mettol": "2016-04-06",
                                    "meddig": "2016-04-12",
                                    "(No column name)": "14"
                                },
                                {
                                    "UGYFEL_FK": "SEBASTIANF",
                                    "nev": "Foltényi Sebastián",
                                    "mettol": "2016-09-14",
                                    "meddig": "2016-09-15",
                                    "(No column name)": "14"
                                },
                                {
                                    "UGYFEL_FK": "SEBASTIANF",
                                    "nev": "Foltényi Sebastián",
                                    "mettol": "2016-09-17",
                                    "meddig": "2016-09-20",
                                    "(No column name)": "14"
                                },
                                {
                                    "UGYFEL_FK": "sebestyen",
                                    "nev": "Rab Sebestyén",
                                    "mettol": "2016-06-09",
                                    "meddig": "2016-06-14",
                                    "(No column name)": "17"
                                },
                                {
                                    "UGYFEL_FK": "sebestyen",
                                    "nev": "Rab Sebestyén",
                                    "mettol": "2016-04-07",
                                    "meddig": "2016-04-12",
                                    "(No column name)": "17"
                                },
                                {
                                    "UGYFEL_FK": "sebestyen",
                                    "nev": "Rab Sebestyén",
                                    "mettol": "2016-04-26",
                                    "meddig": "2016-05-02",
                                    "(No column name)": "17"
                                },
                                {
                                    "UGYFEL_FK": "sebestyen",
                                    "nev": "Rab Sebestyén",
                                    "mettol": "2016-10-26",
                                    "meddig": "2016-11-01",
                                    "(No column name)": "17"
                                },
                                {
                                    "UGYFEL_FK": "szabolcs",
                                    "nev": "Bodor Szabolcs",
                                    "mettol": "2016-12-05",
                                    "meddig": "2016-12-07",
                                    "(No column name)": "2"
                                },
                                {
                                    "UGYFEL_FK": "SZABOLCSM",
                                    "nev": "Miklós Szabolcs",
                                    "mettol": "2016-11-12",
                                    "meddig": "2016-11-13",
                                    "(No column name)": "17"
                                },
                                {
                                    "UGYFEL_FK": "SZABOLCSM",
                                    "nev": "Miklós Szabolcs",
                                    "mettol": "2016-10-17",
                                    "meddig": "2016-10-19",
                                    "(No column name)": "17"
                                },
                                {
                                    "UGYFEL_FK": "SZABOLCSM",
                                    "nev": "Miklós Szabolcs",
                                    "mettol": "2016-10-28",
                                    "meddig": "2016-11-03",
                                    "(No column name)": "17"
                                },
                                {
                                    "UGYFEL_FK": "SZABOLCSM",
                                    "nev": "Miklós Szabolcs",
                                    "mettol": "2017-01-07",
                                    "meddig": "2017-01-08",
                                    "(No column name)": "17"
                                },
                                {
                                    "UGYFEL_FK": "SZABOLCSM",
                                    "nev": "Miklós Szabolcs",
                                    "mettol": "2017-02-04",
                                    "meddig": "2017-02-05",
                                    "(No column name)": "17"
                                },
                                {
                                    "UGYFEL_FK": "SZABOLCSM",
                                    "nev": "Miklós Szabolcs",
                                    "mettol": "2016-07-28",
                                    "meddig": "2016-08-03",
                                    "(No column name)": "17"
                                },
                                {
                                    "UGYFEL_FK": "SZABOLCSM",
                                    "nev": "Miklós Szabolcs",
                                    "mettol": "2016-06-18",
                                    "meddig": "2016-06-21",
                                    "(No column name)": "17"
                                },
                                {
                                    "UGYFEL_FK": "SZILARDS",
                                    "nev": "Szalai Szilárd",
                                    "mettol": "2016-10-01",
                                    "meddig": "2016-10-08",
                                    "(No column name)": "22"
                                },
                                {
                                    "UGYFEL_FK": "SZILARDS",
                                    "nev": "Szalai Szilárd",
                                    "mettol": "2016-09-20",
                                    "meddig": "2016-09-24",
                                    "(No column name)": "22"
                                },
                                {
                                    "UGYFEL_FK": "SZILARDS",
                                    "nev": "Szalai Szilárd",
                                    "mettol": "2016-07-27",
                                    "meddig": "2016-08-03",
                                    "(No column name)": "22"
                                },
                                {
                                    "UGYFEL_FK": "SZILARDS",
                                    "nev": "Szalai Szilárd",
                                    "mettol": "2016-08-28",
                                    "meddig": "2016-08-29",
                                    "(No column name)": "22"
                                },
                                {
                                    "UGYFEL_FK": "SZILARDS",
                                    "nev": "Szalai Szilárd",
                                    "mettol": "2016-04-23",
                                    "meddig": "2016-04-30",
                                    "(No column name)": "22"
                                },
                                {
                                    "UGYFEL_FK": "SZILARDS",
                                    "nev": "Szalai Szilárd",
                                    "mettol": "2017-02-08",
                                    "meddig": "2017-02-15",
                                    "(No column name)": "22"
                                },
                                {
                                    "UGYFEL_FK": "SZILARDS",
                                    "nev": "Szalai Szilárd",
                                    "mettol": "2017-01-16",
                                    "meddig": "2017-01-19",
                                    "(No column name)": "22"
                                },
                                {
                                    "UGYFEL_FK": "szilvia1",
                                    "nev": "Tari Szilvia",
                                    "mettol": "2017-01-28",
                                    "meddig": "2017-02-03",
                                    "(No column name)": "23"
                                },
                                {
                                    "UGYFEL_FK": "szilvia1",
                                    "nev": "Tari Szilvia",
                                    "mettol": "2016-10-27",
                                    "meddig": "2016-10-28",
                                    "(No column name)": "23"
                                },
                                {
                                    "UGYFEL_FK": "szilvia1",
                                    "nev": "Tari Szilvia",
                                    "mettol": "2016-10-09",
                                    "meddig": "2016-10-10",
                                    "(No column name)": "23"
                                },
                                {
                                    "UGYFEL_FK": "szilvia1",
                                    "nev": "Tari Szilvia",
                                    "mettol": "2016-10-25",
                                    "meddig": "2016-10-31",
                                    "(No column name)": "23"
                                },
                                {
                                    "UGYFEL_FK": "szilvia1",
                                    "nev": "Tari Szilvia",
                                    "mettol": "2016-12-25",
                                    "meddig": "2016-12-29",
                                    "(No column name)": "23"
                                },
                                {
                                    "UGYFEL_FK": "szilvia1",
                                    "nev": "Tari Szilvia",
                                    "mettol": "2016-12-27",
                                    "meddig": "2017-01-02",
                                    "(No column name)": "23"
                                },
                                {
                                    "UGYFEL_FK": "szilvia1",
                                    "nev": "Tari Szilvia",
                                    "mettol": "2016-05-14",
                                    "meddig": "2016-05-21",
                                    "(No column name)": "23"
                                },
                                {
                                    "UGYFEL_FK": "szilvia1",
                                    "nev": "Tari Szilvia",
                                    "mettol": "2016-07-25",
                                    "meddig": "2016-07-28",
                                    "(No column name)": "23"
                                },
                                {
                                    "UGYFEL_FK": "szilvia1",
                                    "nev": "Tari Szilvia",
                                    "mettol": "2016-05-28",
                                    "meddig": "2016-06-03",
                                    "(No column name)": "23"
                                },
                                {
                                    "UGYFEL_FK": "tamara2",
                                    "nev": "Miklós Tamara",
                                    "mettol": "2016-08-12",
                                    "meddig": "2016-08-15",
                                    "(No column name)": "5"
                                },
                                {
                                    "UGYFEL_FK": "tamara2",
                                    "nev": "Miklós Tamara",
                                    "mettol": "2016-11-15",
                                    "meddig": "2016-11-18",
                                    "(No column name)": "5"
                                },
                                {
                                    "UGYFEL_FK": "tamas",
                                    "nev": "Antal Tamás",
                                    "mettol": "2017-02-14",
                                    "meddig": "2017-02-19",
                                    "(No column name)": "10"
                                },
                                {
                                    "UGYFEL_FK": "tamas",
                                    "nev": "Antal Tamás",
                                    "mettol": "2016-08-24",
                                    "meddig": "2016-08-27",
                                    "(No column name)": "10"
                                },
                                {
                                    "UGYFEL_FK": "tamas",
                                    "nev": "Antal Tamás",
                                    "mettol": "2016-05-17",
                                    "meddig": "2016-05-22",
                                    "(No column name)": "10"
                                },
                                {
                                    "UGYFEL_FK": "tamas",
                                    "nev": "Antal Tamás",
                                    "mettol": "2016-06-14",
                                    "meddig": "2016-06-21",
                                    "(No column name)": "10"
                                },
                                {
                                    "UGYFEL_FK": "TAMASF",
                                    "nev": "Fényes Tamás",
                                    "mettol": "2016-06-28",
                                    "meddig": "2016-07-05",
                                    "(No column name)": "23"
                                },
                                {
                                    "UGYFEL_FK": "TAMASF",
                                    "nev": "Fényes Tamás",
                                    "mettol": "2016-06-10",
                                    "meddig": "2016-06-13",
                                    "(No column name)": "23"
                                },
                                {
                                    "UGYFEL_FK": "TAMASF",
                                    "nev": "Fényes Tamás",
                                    "mettol": "2016-09-12",
                                    "meddig": "2016-09-18",
                                    "(No column name)": "23"
                                },
                                {
                                    "UGYFEL_FK": "TAMASF",
                                    "nev": "Fényes Tamás",
                                    "mettol": "2016-07-04",
                                    "meddig": "2016-07-10",
                                    "(No column name)": "23"
                                },
                                {
                                    "UGYFEL_FK": "TAMASF",
                                    "nev": "Fényes Tamás",
                                    "mettol": "2016-05-03",
                                    "meddig": "2016-05-04",
                                    "(No column name)": "23"
                                },
                                {
                                    "UGYFEL_FK": "TAMASF",
                                    "nev": "Fényes Tamás",
                                    "mettol": "2017-02-16",
                                    "meddig": "2017-02-19",
                                    "(No column name)": "23"
                                },
                                {
                                    "UGYFEL_FK": "TAMASF",
                                    "nev": "Fényes Tamás",
                                    "mettol": "2017-02-12",
                                    "meddig": "2017-02-17",
                                    "(No column name)": "23"
                                },
                                {
                                    "UGYFEL_FK": "TAMASF",
                                    "nev": "Fényes Tamás",
                                    "mettol": "2016-12-02",
                                    "meddig": "2016-12-04",
                                    "(No column name)": "23"
                                },
                                {
                                    "UGYFEL_FK": "TAMASF",
                                    "nev": "Fényes Tamás",
                                    "mettol": "2016-12-10",
                                    "meddig": "2016-12-14",
                                    "(No column name)": "23"
                                },
                                {
                                    "UGYFEL_FK": "tibor",
                                    "nev": "Gombos Tibor",
                                    "mettol": "2016-10-09",
                                    "meddig": "2016-10-13",
                                    "(No column name)": "3"
                                },
                                {
                                    "UGYFEL_FK": "tibor",
                                    "nev": "Gombos Tibor",
                                    "mettol": "2016-11-05",
                                    "meddig": "2016-11-09",
                                    "(No column name)": "3"
                                },
                                {
                                    "UGYFEL_FK": "tibor2",
                                    "nev": "Dániel Tibor",
                                    "mettol": "2016-10-20",
                                    "meddig": "2016-10-25",
                                    "(No column name)": "2"
                                },
                                {
                                    "UGYFEL_FK": "tihamer",
                                    "nev": "Kazy Tihamér",
                                    "mettol": "2016-10-19",
                                    "meddig": "2016-10-23",
                                    "(No column name)": "16"
                                },
                                {
                                    "UGYFEL_FK": "tihamer",
                                    "nev": "Kazy Tihamér",
                                    "mettol": "2016-12-25",
                                    "meddig": "2016-12-26",
                                    "(No column name)": "16"
                                },
                                {
                                    "UGYFEL_FK": "tihamer",
                                    "nev": "Kazy Tihamér",
                                    "mettol": "2016-07-20",
                                    "meddig": "2016-07-24",
                                    "(No column name)": "16"
                                },
                                {
                                    "UGYFEL_FK": "tihamer",
                                    "nev": "Kazy Tihamér",
                                    "mettol": "2016-08-18",
                                    "meddig": "2016-08-22",
                                    "(No column name)": "16"
                                },
                                {
                                    "UGYFEL_FK": "tihamer",
                                    "nev": "Kazy Tihamér",
                                    "mettol": "2016-05-30",
                                    "meddig": "2016-06-05",
                                    "(No column name)": "16"
                                },
                                {
                                    "UGYFEL_FK": "tihamer",
                                    "nev": "Kazy Tihamér",
                                    "mettol": "2016-06-03",
                                    "meddig": "2016-06-08",
                                    "(No column name)": "16"
                                },
                                {
                                    "UGYFEL_FK": "timea",
                                    "nev": "Papós Tímea",
                                    "mettol": "2016-12-26",
                                    "meddig": "2016-12-27",
                                    "(No column name)": "2"
                                },
                                {
                                    "UGYFEL_FK": "timea2",
                                    "nev": "Dusha Tímea",
                                    "mettol": "2016-12-14",
                                    "meddig": "2016-12-16",
                                    "(No column name)": "16"
                                },
                                {
                                    "UGYFEL_FK": "timea2",
                                    "nev": "Dusha Tímea",
                                    "mettol": "2016-11-27",
                                    "meddig": "2016-12-01",
                                    "(No column name)": "16"
                                },
                                {
                                    "UGYFEL_FK": "timea2",
                                    "nev": "Dusha Tímea",
                                    "mettol": "2016-10-26",
                                    "meddig": "2016-10-29",
                                    "(No column name)": "16"
                                },
                                {
                                    "UGYFEL_FK": "timea2",
                                    "nev": "Dusha Tímea",
                                    "mettol": "2016-06-06",
                                    "meddig": "2016-06-07",
                                    "(No column name)": "16"
                                },
                                {
                                    "UGYFEL_FK": "timea2",
                                    "nev": "Dusha Tímea",
                                    "mettol": "2016-08-07",
                                    "meddig": "2016-08-10",
                                    "(No column name)": "16"
                                },
                                {
                                    "UGYFEL_FK": "tunde",
                                    "nev": "Turcsik Tünde",
                                    "mettol": "2016-07-14",
                                    "meddig": "2016-07-21",
                                    "(No column name)": "23"
                                },
                                {
                                    "UGYFEL_FK": "tunde",
                                    "nev": "Turcsik Tünde",
                                    "mettol": "2016-06-06",
                                    "meddig": "2016-06-12",
                                    "(No column name)": "23"
                                },
                                {
                                    "UGYFEL_FK": "tunde",
                                    "nev": "Turcsik Tünde",
                                    "mettol": "2016-06-03",
                                    "meddig": "2016-06-07",
                                    "(No column name)": "23"
                                },
                                {
                                    "UGYFEL_FK": "tunde",
                                    "nev": "Turcsik Tünde",
                                    "mettol": "2016-09-05",
                                    "meddig": "2016-09-12",
                                    "(No column name)": "23"
                                },
                                {
                                    "UGYFEL_FK": "tunde",
                                    "nev": "Turcsik Tünde",
                                    "mettol": "2016-10-24",
                                    "meddig": "2016-10-30",
                                    "(No column name)": "23"
                                },
                                {
                                    "UGYFEL_FK": "tunde",
                                    "nev": "Turcsik Tünde",
                                    "mettol": "2016-11-19",
                                    "meddig": "2016-11-20",
                                    "(No column name)": "23"
                                },
                                {
                                    "UGYFEL_FK": "tunde",
                                    "nev": "Turcsik Tünde",
                                    "mettol": "2016-12-15",
                                    "meddig": "2016-12-20",
                                    "(No column name)": "23"
                                },
                                {
                                    "UGYFEL_FK": "tunde",
                                    "nev": "Turcsik Tünde",
                                    "mettol": "2017-01-03",
                                    "meddig": "2017-01-06",
                                    "(No column name)": "23"
                                },
                                {
                                    "UGYFEL_FK": "valentin",
                                    "nev": "Feró Valentin",
                                    "mettol": "2016-11-11",
                                    "meddig": "2016-11-17",
                                    "(No column name)": "14"
                                },
                                {
                                    "UGYFEL_FK": "valentin",
                                    "nev": "Feró Valentin",
                                    "mettol": "2016-12-01",
                                    "meddig": "2016-12-05",
                                    "(No column name)": "14"
                                },
                                {
                                    "UGYFEL_FK": "valentin",
                                    "nev": "Feró Valentin",
                                    "mettol": "2016-10-26",
                                    "meddig": "2016-10-30",
                                    "(No column name)": "14"
                                },
                                {
                                    "UGYFEL_FK": "valentin",
                                    "nev": "Feró Valentin",
                                    "mettol": "2016-05-24",
                                    "meddig": "2016-05-30",
                                    "(No column name)": "14"
                                },
                                {
                                    "UGYFEL_FK": "valentin",
                                    "nev": "Feró Valentin",
                                    "mettol": "2016-07-24",
                                    "meddig": "2016-07-29",
                                    "(No column name)": "14"
                                },
                                {
                                    "UGYFEL_FK": "veronika4",
                                    "nev": "Tankó Veronika",
                                    "mettol": "2016-08-16",
                                    "meddig": "2016-08-21",
                                    "(No column name)": "13"
                                },
                                {
                                    "UGYFEL_FK": "veronika4",
                                    "nev": "Tankó Veronika",
                                    "mettol": "2016-07-20",
                                    "meddig": "2016-07-26",
                                    "(No column name)": "13"
                                },
                                {
                                    "UGYFEL_FK": "veronika4",
                                    "nev": "Tankó Veronika",
                                    "mettol": "2016-05-30",
                                    "meddig": "2016-06-04",
                                    "(No column name)": "13"
                                },
                                {
                                    "UGYFEL_FK": "veronika4",
                                    "nev": "Tankó Veronika",
                                    "mettol": "2016-09-26",
                                    "meddig": "2016-10-03",
                                    "(No column name)": "13"
                                },
                                {
                                    "UGYFEL_FK": "veronika4",
                                    "nev": "Tankó Veronika",
                                    "mettol": "2017-01-19",
                                    "meddig": "2017-01-24",
                                    "(No column name)": "13"
                                },
                                {
                                    "UGYFEL_FK": "veronika4",
                                    "nev": "Tankó Veronika",
                                    "mettol": "2017-02-03",
                                    "meddig": "2017-02-05",
                                    "(No column name)": "13"
                                },
                                {
                                    "UGYFEL_FK": "VIKTORIAU",
                                    "nev": "Urbán Viktoria",
                                    "mettol": "2016-10-26",
                                    "meddig": "2016-11-02",
                                    "(No column name)": "10"
                                },
                                {
                                    "UGYFEL_FK": "VIKTORIAU",
                                    "nev": "Urbán Viktoria",
                                    "mettol": "2016-10-14",
                                    "meddig": "2016-10-15",
                                    "(No column name)": "10"
                                },
                                {
                                    "UGYFEL_FK": "VIKTORIAU",
                                    "nev": "Urbán Viktoria",
                                    "mettol": "2016-04-30",
                                    "meddig": "2016-05-03",
                                    "(No column name)": "10"
                                },
                                {
                                    "UGYFEL_FK": "VIKTORIAU",
                                    "nev": "Urbán Viktoria",
                                    "mettol": "2016-08-03",
                                    "meddig": "2016-08-04",
                                    "(No column name)": "10"
                                },
                                {
                                    "UGYFEL_FK": "VIKTORK",
                                    "nev": "Keresztúri Viktor",
                                    "mettol": "2016-05-30",
                                    "meddig": "2016-06-01",
                                    "(No column name)": "6"
                                },
                                {
                                    "UGYFEL_FK": "VIKTORK",
                                    "nev": "Keresztúri Viktor",
                                    "mettol": "2016-06-06",
                                    "meddig": "2016-06-07",
                                    "(No column name)": "6"
                                },
                                {
                                    "UGYFEL_FK": "vivien3",
                                    "nev": "Boros Vivien",
                                    "mettol": "2016-10-01",
                                    "meddig": "2016-10-04",
                                    "(No column name)": "15"
                                },
                                {
                                    "UGYFEL_FK": "vivien3",
                                    "nev": "Boros Vivien",
                                    "mettol": "2016-08-13",
                                    "meddig": "2016-08-18",
                                    "(No column name)": "15"
                                },
                                {
                                    "UGYFEL_FK": "vivien3",
                                    "nev": "Boros Vivien",
                                    "mettol": "2016-09-01",
                                    "meddig": "2016-09-05",
                                    "(No column name)": "15"
                                },
                                {
                                    "UGYFEL_FK": "vivien3",
                                    "nev": "Boros Vivien",
                                    "mettol": "2016-05-02",
                                    "meddig": "2016-05-05",
                                    "(No column name)": "15"
                                },
                                {
                                    "UGYFEL_FK": "vivien3",
                                    "nev": "Boros Vivien",
                                    "mettol": "2016-11-17",
                                    "meddig": "2016-11-20",
                                    "(No column name)": "15"
                                },
                                {
                                    "UGYFEL_FK": "vivien3",
                                    "nev": "Boros Vivien",
                                    "mettol": "2016-12-17",
                                    "meddig": "2016-12-21",
                                    "(No column name)": "15"
                                },
                                {
                                    "UGYFEL_FK": "vivien3",
                                    "nev": "Boros Vivien",
                                    "mettol": "2016-12-24",
                                    "meddig": "2016-12-26",
                                    "(No column name)": "15"
                                },
                                {
                                    "UGYFEL_FK": "zoltan",
                                    "nev": "Fodor Zoltán",
                                    "mettol": "2016-08-24",
                                    "meddig": "2016-08-31",
                                    "(No column name)": "5"
                                },
                                {
                                    "UGYFEL_FK": "zoltan",
                                    "nev": "Fodor Zoltán",
                                    "mettol": "2016-09-05",
                                    "meddig": "2016-09-09",
                                    "(No column name)": "5"
                                },
                                {
                                    "UGYFEL_FK": "zoltan4",
                                    "nev": "Barna Zoltán",
                                    "mettol": "2016-09-30",
                                    "meddig": "2016-10-07",
                                    "(No column name)": "27"
                                },
                                {
                                    "UGYFEL_FK": "zoltan4",
                                    "nev": "Barna Zoltán",
                                    "mettol": "2016-06-03",
                                    "meddig": "2016-06-06",
                                    "(No column name)": "27"
                                },
                                {
                                    "UGYFEL_FK": "zoltan4",
                                    "nev": "Barna Zoltán",
                                    "mettol": "2016-08-15",
                                    "meddig": "2016-08-21",
                                    "(No column name)": "27"
                                },
                                {
                                    "UGYFEL_FK": "zoltan4",
                                    "nev": "Barna Zoltán",
                                    "mettol": "2016-08-16",
                                    "meddig": "2016-08-23",
                                    "(No column name)": "27"
                                },
                                {
                                    "UGYFEL_FK": "zoltan4",
                                    "nev": "Barna Zoltán",
                                    "mettol": "2016-05-13",
                                    "meddig": "2016-05-16",
                                    "(No column name)": "27"
                                },
                                {
                                    "UGYFEL_FK": "zoltan4",
                                    "nev": "Barna Zoltán",
                                    "mettol": "2016-05-12",
                                    "meddig": "2016-05-16",
                                    "(No column name)": "27"
                                },
                                {
                                    "UGYFEL_FK": "zoltan4",
                                    "nev": "Barna Zoltán",
                                    "mettol": "2016-12-29",
                                    "meddig": "2017-01-04",
                                    "(No column name)": "27"
                                },
                                {
                                    "UGYFEL_FK": "zoltan4",
                                    "nev": "Barna Zoltán",
                                    "mettol": "2017-01-01",
                                    "meddig": "2017-01-02",
                                    "(No column name)": "27"
                                },
                                {
                                    "UGYFEL_FK": "zoltan4",
                                    "nev": "Barna Zoltán",
                                    "mettol": "2016-11-19",
                                    "meddig": "2016-11-21",
                                    "(No column name)": "27"
                                },
                                {
                                    "UGYFEL_FK": "zoltan4",
                                    "nev": "Barna Zoltán",
                                    "mettol": "2016-10-26",
                                    "meddig": "2016-10-30",
                                    "(No column name)": "27"
                                },
                                {
                                    "UGYFEL_FK": "zoltan4",
                                    "nev": "Barna Zoltán",
                                    "mettol": "2016-10-21",
                                    "meddig": "2016-10-24",
                                    "(No column name)": "27"
                                },
                                {
                                    "UGYFEL_FK": "zoltan4",
                                    "nev": "Barna Zoltán",
                                    "mettol": "2016-10-30",
                                    "meddig": "2016-11-06",
                                    "(No column name)": "27"
                                },
                                {
                                    "UGYFEL_FK": "ZOLTANP",
                                    "nev": "Pintér Zoltán",
                                    "mettol": "2016-10-19",
                                    "meddig": "2016-10-25",
                                    "(No column name)": "14"
                                },
                                {
                                    "UGYFEL_FK": "ZOLTANP",
                                    "nev": "Pintér Zoltán",
                                    "mettol": "2016-12-25",
                                    "meddig": "2016-12-29",
                                    "(No column name)": "14"
                                },
                                {
                                    "UGYFEL_FK": "ZOLTANP",
                                    "nev": "Pintér Zoltán",
                                    "mettol": "2016-12-07",
                                    "meddig": "2016-12-10",
                                    "(No column name)": "14"
                                },
                                {
                                    "UGYFEL_FK": "ZOLTANP",
                                    "nev": "Pintér Zoltán",
                                    "mettol": "2016-07-20",
                                    "meddig": "2016-07-25",
                                    "(No column name)": "14"
                                },
                                {
                                    "UGYFEL_FK": "ZOLTANP",
                                    "nev": "Pintér Zoltán",
                                    "mettol": "2016-06-06",
                                    "meddig": "2016-06-08",
                                    "(No column name)": "14"
                                },
                                {
                                    "UGYFEL_FK": "ZOLTANP",
                                    "nev": "Pintér Zoltán",
                                    "mettol": "2016-06-05",
                                    "meddig": "2016-06-08",
                                    "(No column name)": "14"
                                },
                                {
                                    "UGYFEL_FK": "ZOLTANT",
                                    "nev": "Tóth Zoltán",
                                    "mettol": "2016-07-14",
                                    "meddig": "2016-07-15",
                                    "(No column name)": "8"
                                },
                                {
                                    "UGYFEL_FK": "ZOLTANT",
                                    "nev": "Tóth Zoltán",
                                    "mettol": "2016-05-01",
                                    "meddig": "2016-05-04",
                                    "(No column name)": "8"
                                },
                                {
                                    "UGYFEL_FK": "ZOLTANT",
                                    "nev": "Tóth Zoltán",
                                    "mettol": "2017-01-16",
                                    "meddig": "2017-01-20",
                                    "(No column name)": "8"
                                },
                                {
                                    "UGYFEL_FK": "zsofi1",
                                    "nev": "Molnár Zsófi",
                                    "mettol": "2017-02-18",
                                    "meddig": "2017-02-19",
                                    "(No column name)": "5"
                                },
                                {
                                    "UGYFEL_FK": "zsofi1",
                                    "nev": "Molnár Zsófi",
                                    "mettol": "2016-06-16",
                                    "meddig": "2016-06-17",
                                    "(No column name)": "5"
                                },
                                {
                                    "UGYFEL_FK": "zsolt1",
                                    "nev": "Pulai Zsolt",
                                    "mettol": "2016-06-07",
                                    "meddig": "2016-06-10",
                                    "(No column name)": "10"
                                },
                                {
                                    "UGYFEL_FK": "zsolt1",
                                    "nev": "Pulai Zsolt",
                                    "mettol": "2016-06-06",
                                    "meddig": "2016-06-08",
                                    "(No column name)": "10"
                                },
                                {
                                    "UGYFEL_FK": "zsolt1",
                                    "nev": "Pulai Zsolt",
                                    "mettol": "2016-04-14",
                                    "meddig": "2016-04-17",
                                    "(No column name)": "10"
                                },
                                {
                                    "UGYFEL_FK": "zsolt1",
                                    "nev": "Pulai Zsolt",
                                    "mettol": "2016-07-31",
                                    "meddig": "2016-08-02",
                                    "(No column name)": "10"
                                },
                                {
                                    "UGYFEL_FK": "ZSOLTJ",
                                    "nev": "Józsa Zsolt",
                                    "mettol": "2016-04-24",
                                    "meddig": "2016-04-26",
                                    "(No column name)": "13"
                                },
                                {
                                    "UGYFEL_FK": "ZSOLTJ",
                                    "nev": "Józsa Zsolt",
                                    "mettol": "2016-05-09",
                                    "meddig": "2016-05-11",
                                    "(No column name)": "13"
                                },
                                {
                                    "UGYFEL_FK": "ZSOLTJ",
                                    "nev": "Józsa Zsolt",
                                    "mettol": "2016-07-18",
                                    "meddig": "2016-07-19",
                                    "(No column name)": "13"
                                },
                                {
                                    "UGYFEL_FK": "ZSOLTJ",
                                    "nev": "Józsa Zsolt",
                                    "mettol": "2016-05-28",
                                    "meddig": "2016-06-03",
                                    "(No column name)": "13"
                                },
                                {
                                    "UGYFEL_FK": "ZSOLTJ",
                                    "nev": "Józsa Zsolt",
                                    "mettol": "2016-06-17",
                                    "meddig": "2016-06-19",
                                    "(No column name)": "13"
                                },
                                {
                                    "UGYFEL_FK": "ZSOLTJ",
                                    "nev": "Józsa Zsolt",
                                    "mettol": "2016-10-01",
                                    "meddig": "2016-10-06",
                                    "(No column name)": "13"
                                },
                                {
                                    "UGYFEL_FK": "zsuzsa",
                                    "nev": "Pusztai Zsuzsanna",
                                    "mettol": "2016-07-24",
                                    "meddig": "2016-07-25",
                                    "(No column name)": "8"
                                },
                                {
                                    "UGYFEL_FK": "zsuzsa",
                                    "nev": "Pusztai Zsuzsanna",
                                    "mettol": "2016-08-28",
                                    "meddig": "2016-08-30",
                                    "(No column name)": "8"
                                },
                                {
                                    "UGYFEL_FK": "zsuzsa",
                                    "nev": "Pusztai Zsuzsanna",
                                    "mettol": "2016-11-28",
                                    "meddig": "2016-12-04",
                                    "(No column name)": "8"
                                },
                                {
                                    "UGYFEL_FK": "zsuzsa3",
                                    "nev": "Varsányi Zsuzsa",
                                    "mettol": "2016-10-27",
                                    "meddig": "2016-11-03",
                                    "(No column name)": "10"
                                },
                                {
                                    "UGYFEL_FK": "zsuzsa3",
                                    "nev": "Varsányi Zsuzsa",
                                    "mettol": "2016-07-30",
                                    "meddig": "2016-08-02",
                                    "(No column name)": "10"
                                },
                                {
                                    "UGYFEL_FK": "zsuzsa3",
                                    "nev": "Varsányi Zsuzsa",
                                    "mettol": "2016-09-28",
                                    "meddig": "2016-10-03",
                                    "(No column name)": "10"
                                },
                                {
                                    "UGYFEL_FK": "zsuzsa3",
                                    "nev": "Varsányi Zsuzsa",
                                    "mettol": "2016-09-09",
                                    "meddig": "2016-09-10",
                                    "(No column name)": "10"
                                },
                                {
                                    "UGYFEL_FK": "zsuzsanna",
                                    "nev": "Barta Zsuzsanna",
                                    "mettol": "2016-07-12",
                                    "meddig": "2016-07-15",
                                    "(No column name)": "7"
                                },
                                {
                                    "UGYFEL_FK": "zsuzsanna",
                                    "nev": "Barta Zsuzsanna",
                                    "mettol": "2016-05-17",
                                    "meddig": "2016-05-23",
                                    "(No column name)": "7"
                                },
                                {
                                    "UGYFEL_FK": "zsuzsanna",
                                    "nev": "Barta Zsuzsanna",
                                    "mettol": "2017-01-16",
                                    "meddig": "2017-01-22",
                                    "(No column name)": "7"
                                },
                                {
                                    "UGYFEL_FK": "zsuzsanna",
                                    "nev": "Barta Zsuzsanna",
                                    "mettol": "2017-01-09",
                                    "meddig": "2017-01-16",
                                    "(No column name)": "7"
                                },
                                {
                                    "UGYFEL_FK": "ZSUZSAV",
                                    "nev": "Vajda Zsuzsa",
                                    "mettol": "2016-10-26",
                                    "meddig": "2016-10-28",
                                    "(No column name)": "15"
                                },
                                {
                                    "UGYFEL_FK": "ZSUZSAV",
                                    "nev": "Vajda Zsuzsa",
                                    "mettol": "2016-11-21",
                                    "meddig": "2016-11-24",
                                    "(No column name)": "15"
                                },
                                {
                                    "UGYFEL_FK": "ZSUZSAV",
                                    "nev": "Vajda Zsuzsa",
                                    "mettol": "2016-04-14",
                                    "meddig": "2016-04-16",
                                    "(No column name)": "15"
                                },
                                {
                                    "UGYFEL_FK": "ZSUZSAV",
                                    "nev": "Vajda Zsuzsa",
                                    "mettol": "2016-09-18",
                                    "meddig": "2016-09-20",
                                    "(No column name)": "15"
                                },
                                {
                                    "UGYFEL_FK": "ZSUZSAV",
                                    "nev": "Vajda Zsuzsa",
                                    "mettol": "2016-06-15",
                                    "meddig": "2016-06-21",
                                    "(No column name)": "15"
                                },
                                {
                                    "UGYFEL_FK": "ZSUZSAV",
                                    "nev": "Vajda Zsuzsa",
                                    "mettol": "2016-05-28",
                                    "meddig": "2016-06-01",
                                    "(No column name)": "15"
                                }
                            ]
                        },
                        "text/html": [
                            "<table>",
                            "<tr><th>UGYFEL_FK</th><th>nev</th><th>mettol</th><th>meddig</th><th>(No column name)</th><th>(No column name)</th></tr>",
                            "<tr><td>adam1</td><td>Kiss Ádám</td><td>2016-08-20</td><td>2016-08-24</td><td>1</td><td>6</td></tr>",
                            "<tr><td>adam1</td><td>Kiss Ádám</td><td>2016-05-28</td><td>2016-06-03</td><td>3</td><td>6</td></tr>",
                            "<tr><td>adam1</td><td>Kiss Ádám</td><td>2016-10-19</td><td>2016-10-24</td><td>2</td><td>6</td></tr>",
                            "<tr><td>adam3</td><td>Barkóci Ádám</td><td>2017-02-06</td><td>2017-02-10</td><td>1</td><td>3</td></tr>",
                            "<tr><td>adam3</td><td>Barkóci Ádám</td><td>2016-09-12</td><td>2016-09-16</td><td>2</td><td>3</td></tr>",
                            "<tr><td>adam4</td><td>Bieniek Ádám</td><td>2016-08-28</td><td>2016-08-30</td><td>3</td><td>16</td></tr>",
                            "<tr><td>adam4</td><td>Bieniek Ádám</td><td>2017-01-12</td><td>2017-01-19</td><td>2</td><td>16</td></tr>",
                            "<tr><td>adam4</td><td>Bieniek Ádám</td><td>2017-02-23</td><td>2017-02-27</td><td>3</td><td>16</td></tr>",
                            "<tr><td>adam4</td><td>Bieniek Ádám</td><td>2016-10-27</td><td>2016-11-02</td><td>3</td><td>16</td></tr>",
                            "<tr><td>adam4</td><td>Bieniek Ádám</td><td>2016-11-15</td><td>2016-11-18</td><td>2</td><td>16</td></tr>",
                            "<tr><td>adam4</td><td>Bieniek Ádám</td><td>2016-12-06</td><td>2016-12-09</td><td>3</td><td>16</td></tr>",
                            "<tr><td>agnes</td><td>Lengyel Ágnes</td><td>2016-11-07</td><td>2016-11-13</td><td>2</td><td>12</td></tr>",
                            "<tr><td>agnes</td><td>Lengyel Ágnes</td><td>2016-07-30</td><td>2016-08-06</td><td>3</td><td>12</td></tr>",
                            "<tr><td>agnes</td><td>Lengyel Ágnes</td><td>2016-05-09</td><td>2016-05-11</td><td>3</td><td>12</td></tr>",
                            "<tr><td>agnes</td><td>Lengyel Ágnes</td><td>2016-07-13</td><td>2016-07-19</td><td>3</td><td>12</td></tr>",
                            "<tr><td>agnes</td><td>Lengyel Ágnes</td><td>2016-05-25</td><td>2016-05-30</td><td>1</td><td>12</td></tr>",
                            "<tr><td>agnes3</td><td>Hartyánszky Ágnes</td><td>2016-08-04</td><td>2016-08-10</td><td>1</td><td>7</td></tr>",
                            "<tr><td>agnes3</td><td>Hartyánszky Ágnes</td><td>2016-10-22</td><td>2016-10-23</td><td>3</td><td>7</td></tr>",
                            "<tr><td>agnes3</td><td>Hartyánszky Ágnes</td><td>2017-02-16</td><td>2017-02-21</td><td>3</td><td>7</td></tr>",
                            "<tr><td>AGNESH</td><td>Horváth Ágnes</td><td>2017-01-16</td><td>2017-01-23</td><td>3</td><td>13</td></tr>",
                            "<tr><td>AGNESH</td><td>Horváth Ágnes</td><td>2017-01-03</td><td>2017-01-10</td><td>2</td><td>13</td></tr>",
                            "<tr><td>AGNESH</td><td>Horváth Ágnes</td><td>2016-10-30</td><td>2016-11-04</td><td>1</td><td>13</td></tr>",
                            "<tr><td>AGNESH</td><td>Horváth Ágnes</td><td>2016-04-27</td><td>2016-04-28</td><td>4</td><td>13</td></tr>",
                            "<tr><td>AGNESH</td><td>Horváth Ágnes</td><td>2016-04-10</td><td>2016-04-12</td><td>2</td><td>13</td></tr>",
                            "<tr><td>AGNESH</td><td>Horváth Ágnes</td><td>2016-06-23</td><td>2016-06-26</td><td>1</td><td>13</td></tr>",
                            "<tr><td>AGNESK</td><td>Kovács Ágnes</td><td>2016-07-29</td><td>2016-08-01</td><td>3</td><td>7</td></tr>",
                            "<tr><td>AGNESK</td><td>Kovács Ágnes</td><td>2016-10-17</td><td>2016-10-19</td><td>2</td><td>7</td></tr>",
                            "<tr><td>AGNESK</td><td>Kovács Ágnes</td><td>2016-12-17</td><td>2016-12-18</td><td>2</td><td>7</td></tr>",
                            "<tr><td>akos</td><td>Bíró Ákos</td><td>2016-12-15</td><td>2016-12-21</td><td>2</td><td>19</td></tr>",
                            "<tr><td>akos</td><td>Bíró Ákos</td><td>2016-12-29</td><td>2016-12-30</td><td>3</td><td>19</td></tr>",
                            "<tr><td>akos</td><td>Bíró Ákos</td><td>2016-11-21</td><td>2016-11-27</td><td>2</td><td>19</td></tr>",
                            "<tr><td>akos</td><td>Bíró Ákos</td><td>2016-10-18</td><td>2016-10-23</td><td>2</td><td>19</td></tr>",
                            "<tr><td>akos</td><td>Bíró Ákos</td><td>2016-07-22</td><td>2016-07-26</td><td>1</td><td>19</td></tr>",
                            "<tr><td>akos</td><td>Bíró Ákos</td><td>2016-07-14</td><td>2016-07-19</td><td>2</td><td>19</td></tr>",
                            "<tr><td>akos</td><td>Bíró Ákos</td><td>2016-07-16</td><td>2016-07-18</td><td>2</td><td>19</td></tr>",
                            "<tr><td>akos</td><td>Bíró Ákos</td><td>2016-05-18</td><td>2016-05-19</td><td>2</td><td>19</td></tr>",
                            "<tr><td>akos</td><td>Bíró Ákos</td><td>2016-09-06</td><td>2016-09-12</td><td>1</td><td>19</td></tr>",
                            "<tr><td>akos</td><td>Bíró Ákos</td><td>2016-10-05</td><td>2016-10-09</td><td>2</td><td>19</td></tr>",
                            "<tr><td>aladar</td><td>Dunai Aladár</td><td>2016-09-24</td><td>2016-09-28</td><td>1</td><td>4</td></tr>",
                            "<tr><td>aladar</td><td>Dunai Aladár</td><td>2016-05-17</td><td>2016-05-24</td><td>1</td><td>4</td></tr>",
                            "<tr><td>aladar</td><td>Dunai Aladár</td><td>2016-11-22</td><td>2016-11-23</td><td>2</td><td>4</td></tr>",
                            "<tr><td>alexandra</td><td>Bagóczki Alexandra</td><td>2016-11-29</td><td>2016-12-05</td><td>2</td><td>15</td></tr>",
                            "<tr><td>alexandra</td><td>Bagóczki Alexandra</td><td>2016-10-21</td><td>2016-10-25</td><td>2</td><td>15</td></tr>",
                            "<tr><td>alexandra</td><td>Bagóczki Alexandra</td><td>2017-01-13</td><td>2017-01-14</td><td>1</td><td>15</td></tr>",
                            "<tr><td>alexandra</td><td>Bagóczki Alexandra</td><td>2017-01-19</td><td>2017-01-26</td><td>2</td><td>15</td></tr>",
                            "<tr><td>alexandra</td><td>Bagóczki Alexandra</td><td>2016-05-21</td><td>2016-05-27</td><td>3</td><td>15</td></tr>",
                            "<tr><td>alexandra</td><td>Bagóczki Alexandra</td><td>2016-07-27</td><td>2016-07-30</td><td>2</td><td>15</td></tr>",
                            "<tr><td>alexandra</td><td>Bagóczki Alexandra</td><td>2016-06-08</td><td>2016-06-11</td><td>3</td><td>15</td></tr>",
                            "<tr><td>andi</td><td>Maródi Andrea</td><td>2016-06-13</td><td>2016-06-14</td><td>1</td><td>13</td></tr>",
                            "<tr><td>andi</td><td>Maródi Andrea</td><td>2016-09-13</td><td>2016-09-16</td><td>2</td><td>13</td></tr>",
                            "<tr><td>andi</td><td>Maródi Andrea</td><td>2016-05-08</td><td>2016-05-14</td><td>4</td><td>13</td></tr>",
                            "<tr><td>andi</td><td>Maródi Andrea</td><td>2017-01-13</td><td>2017-01-17</td><td>3</td><td>13</td></tr>",
                            "<tr><td>andi</td><td>Maródi Andrea</td><td>2016-11-16</td><td>2016-11-17</td><td>3</td><td>13</td></tr>",
                            "<tr><td>andras2</td><td>Tóth András</td><td>2017-02-08</td><td>2017-02-10</td><td>4</td><td>12</td></tr>",
                            "<tr><td>andras2</td><td>Tóth András</td><td>2016-07-20</td><td>2016-07-22</td><td>2</td><td>12</td></tr>",
                            "<tr><td>andras2</td><td>Tóth András</td><td>2016-09-30</td><td>2016-10-03</td><td>2</td><td>12</td></tr>",
                            "<tr><td>andras2</td><td>Tóth András</td><td>2016-10-07</td><td>2016-10-10</td><td>3</td><td>12</td></tr>",
                            "<tr><td>andras2</td><td>Tóth András</td><td>2016-05-30</td><td>2016-06-04</td><td>1</td><td>12</td></tr>",
                            "<tr><td>andras21</td><td>Molnár András</td><td>2016-06-21</td><td>2016-06-26</td><td>2</td><td>18</td></tr>",
                            "<tr><td>andras21</td><td>Molnár András</td><td>2016-10-04</td><td>2016-10-11</td><td>3</td><td>18</td></tr>",
                            "<tr><td>andras21</td><td>Molnár András</td><td>2016-10-01</td><td>2016-10-06</td><td>3</td><td>18</td></tr>",
                            "<tr><td>andras21</td><td>Molnár András</td><td>2016-07-04</td><td>2016-07-05</td><td>3</td><td>18</td></tr>",
                            "<tr><td>andras21</td><td>Molnár András</td><td>2016-07-20</td><td>2016-07-22</td><td>1</td><td>18</td></tr>",
                            "<tr><td>andras21</td><td>Molnár András</td><td>2017-01-28</td><td>2017-02-01</td><td>2</td><td>18</td></tr>",
                            "<tr><td>andras21</td><td>Molnár András</td><td>2016-11-23</td><td>2016-11-24</td><td>4</td><td>18</td></tr>",
                            "<tr><td>andras3</td><td>Vígh András</td><td>2016-11-28</td><td>2016-12-02</td><td>2</td><td>16</td></tr>",
                            "<tr><td>andras3</td><td>Vígh András</td><td>2017-02-02</td><td>2017-02-08</td><td>2</td><td>16</td></tr>",
                            "<tr><td>andras3</td><td>Vígh András</td><td>2016-07-15</td><td>2016-07-19</td><td>3</td><td>16</td></tr>",
                            "<tr><td>andras3</td><td>Vígh András</td><td>2016-05-01</td><td>2016-05-06</td><td>2</td><td>16</td></tr>",
                            "<tr><td>andras3</td><td>Vígh András</td><td>2016-07-21</td><td>2016-07-23</td><td>2</td><td>16</td></tr>",
                            "<tr><td>andras3</td><td>Vígh András</td><td>2016-08-29</td><td>2016-09-02</td><td>3</td><td>16</td></tr>",
                            "<tr><td>andras3</td><td>Vígh András</td><td>2016-06-10</td><td>2016-06-11</td><td>1</td><td>16</td></tr>",
                            "<tr><td>andras3</td><td>Vígh András</td><td>2016-05-30</td><td>2016-06-03</td><td>1</td><td>16</td></tr>",
                            "<tr><td>andras4</td><td>Back András</td><td>2016-09-17</td><td>2016-09-20</td><td>2</td><td>6</td></tr>",
                            "<tr><td>andras4</td><td>Back András</td><td>2017-01-09</td><td>2017-01-10</td><td>2</td><td>6</td></tr>",
                            "<tr><td>andras4</td><td>Back András</td><td>2016-11-25</td><td>2016-11-28</td><td>2</td><td>6</td></tr>",
                            "<tr><td>andras41</td><td>Komjáti András</td><td>2016-11-20</td><td>2016-11-24</td><td>3</td><td>30</td></tr>",
                            "<tr><td>andras41</td><td>Komjáti András</td><td>2016-11-23</td><td>2016-11-24</td><td>1</td><td>30</td></tr>",
                            "<tr><td>andras41</td><td>Komjáti András</td><td>2016-10-15</td><td>2016-10-18</td><td>3</td><td>30</td></tr>",
                            "<tr><td>andras41</td><td>Komjáti András</td><td>2016-10-09</td><td>2016-10-13</td><td>2</td><td>30</td></tr>",
                            "<tr><td>andras41</td><td>Komjáti András</td><td>2016-09-30</td><td>2016-10-05</td><td>2</td><td>30</td></tr>",
                            "<tr><td>andras41</td><td>Komjáti András</td><td>2016-09-22</td><td>2016-09-29</td><td>1</td><td>30</td></tr>",
                            "<tr><td>andras41</td><td>Komjáti András</td><td>2016-06-07</td><td>2016-06-11</td><td>3</td><td>30</td></tr>",
                            "<tr><td>andras41</td><td>Komjáti András</td><td>2016-06-23</td><td>2016-06-29</td><td>2</td><td>30</td></tr>",
                            "<tr><td>andras41</td><td>Komjáti András</td><td>2016-08-17</td><td>2016-08-21</td><td>3</td><td>30</td></tr>",
                            "<tr><td>andras41</td><td>Komjáti András</td><td>2016-08-19</td><td>2016-08-23</td><td>1</td><td>30</td></tr>",
                            "<tr><td>andras41</td><td>Komjáti András</td><td>2016-07-28</td><td>2016-08-03</td><td>3</td><td>30</td></tr>",
                            "<tr><td>andras41</td><td>Komjáti András</td><td>2016-05-21</td><td>2016-05-23</td><td>4</td><td>30</td></tr>",
                            "<tr><td>andras41</td><td>Komjáti András</td><td>2016-05-14</td><td>2016-05-16</td><td>2</td><td>30</td></tr>",
                            "<tr><td>ANDRASE</td><td>Erdei András</td><td>2016-04-24</td><td>2016-05-01</td><td>1</td><td>12</td></tr>",
                            "<tr><td>ANDRASE</td><td>Erdei András</td><td>2016-08-16</td><td>2016-08-20</td><td>2</td><td>12</td></tr>",
                            "<tr><td>ANDRASE</td><td>Erdei András</td><td>2016-07-06</td><td>2016-07-07</td><td>2</td><td>12</td></tr>",
                            "<tr><td>ANDRASE</td><td>Erdei András</td><td>2016-11-29</td><td>2016-12-06</td><td>3</td><td>12</td></tr>",
                            "<tr><td>ANDRASE</td><td>Erdei András</td><td>2016-11-19</td><td>2016-11-20</td><td>4</td><td>12</td></tr>",
                            "<tr><td>ANDRASN</td><td>Nagy András</td><td>2016-11-25</td><td>2016-12-01</td><td>2</td><td>2</td></tr>",
                            "<tr><td>andrea</td><td>Kiss Andrea</td><td>2016-10-21</td><td>2016-10-27</td><td>4</td><td>15</td></tr>",
                            "<tr><td>andrea</td><td>Kiss Andrea</td><td>2017-02-09</td><td>2017-02-14</td><td>2</td><td>15</td></tr>",
                            "<tr><td>andrea</td><td>Kiss Andrea</td><td>2016-08-23</td><td>2016-08-26</td><td>3</td><td>15</td></tr>",
                            "<tr><td>andrea</td><td>Kiss Andrea</td><td>2016-08-26</td><td>2016-08-30</td><td>2</td><td>15</td></tr>",
                            "<tr><td>andrea</td><td>Kiss Andrea</td><td>2016-07-27</td><td>2016-07-28</td><td>2</td><td>15</td></tr>",
                            "<tr><td>andrea</td><td>Kiss Andrea</td><td>2016-08-01</td><td>2016-08-02</td><td>2</td><td>15</td></tr>",
                            "<tr><td>andrea3</td><td>Szomor Andrea</td><td>2016-11-19</td><td>2016-11-21</td><td>3</td><td>3</td></tr>",
                            "<tr><td>andrea4</td><td>Neizer Andrea</td><td>2016-10-30</td><td>2016-11-06</td><td>3</td><td>8</td></tr>",
                            "<tr><td>andrea4</td><td>Neizer Andrea</td><td>2017-01-22</td><td>2017-01-29</td><td>2</td><td>8</td></tr>",
                            "<tr><td>andrea4</td><td>Neizer Andrea</td><td>2016-09-13</td><td>2016-09-17</td><td>2</td><td>8</td></tr>",
                            "<tr><td>andrea4</td><td>Neizer Andrea</td><td>2016-05-27</td><td>2016-05-29</td><td>1</td><td>8</td></tr>",
                            "<tr><td>ANDREAT</td><td>Tornyos Andrea</td><td>2016-09-15</td><td>2016-09-16</td><td>2</td><td>7</td></tr>",
                            "<tr><td>ANDREAT</td><td>Tornyos Andrea</td><td>2016-10-08</td><td>2016-10-12</td><td>3</td><td>7</td></tr>",
                            "<tr><td>ANDREAT</td><td>Tornyos Andrea</td><td>2016-07-27</td><td>2016-08-01</td><td>2</td><td>7</td></tr>",
                            "<tr><td>anett3</td><td>Pivarcsi Anett</td><td>2016-08-17</td><td>2016-08-23</td><td>3</td><td>19</td></tr>",
                            "<tr><td>anett3</td><td>Pivarcsi Anett</td><td>2016-08-15</td><td>2016-08-16</td><td>2</td><td>19</td></tr>",
                            "<tr><td>anett3</td><td>Pivarcsi Anett</td><td>2016-04-28</td><td>2016-05-02</td><td>3</td><td>19</td></tr>",
                            "<tr><td>anett3</td><td>Pivarcsi Anett</td><td>2016-04-10</td><td>2016-04-17</td><td>1</td><td>19</td></tr>",
                            "<tr><td>anett3</td><td>Pivarcsi Anett</td><td>2016-04-13</td><td>2016-04-19</td><td>3</td><td>19</td></tr>",
                            "<tr><td>anett3</td><td>Pivarcsi Anett</td><td>2016-04-15</td><td>2016-04-19</td><td>3</td><td>19</td></tr>",
                            "<tr><td>anett3</td><td>Pivarcsi Anett</td><td>2016-10-12</td><td>2016-10-19</td><td>3</td><td>19</td></tr>",
                            "<tr><td>anett3</td><td>Pivarcsi Anett</td><td>2016-10-16</td><td>2016-10-21</td><td>1</td><td>19</td></tr>",
                            "<tr><td>aniko</td><td>Tóth Anikó</td><td>2017-02-12</td><td>2017-02-14</td><td>3</td><td>8</td></tr>",
                            "<tr><td>aniko</td><td>Tóth Anikó</td><td>2017-02-23</td><td>2017-02-24</td><td>2</td><td>8</td></tr>",
                            "<tr><td>aniko</td><td>Tóth Anikó</td><td>2016-06-25</td><td>2016-06-30</td><td>3</td><td>8</td></tr>",
                            "<tr><td>aniko4</td><td>Böröcz Anikó</td><td>2016-07-02</td><td>2016-07-09</td><td>1</td><td>11</td></tr>",
                            "<tr><td>aniko4</td><td>Böröcz Anikó</td><td>2016-09-05</td><td>2016-09-07</td><td>4</td><td>11</td></tr>",
                            "<tr><td>aniko4</td><td>Böröcz Anikó</td><td>2016-07-22</td><td>2016-07-25</td><td>3</td><td>11</td></tr>",
                            "<tr><td>aniko4</td><td>Böröcz Anikó</td><td>2016-10-16</td><td>2016-10-18</td><td>3</td><td>11</td></tr>",
                            "<tr><td>ANIKOS</td><td>Simon Anikó</td><td>2016-10-08</td><td>2016-10-14</td><td>2</td><td>20</td></tr>",
                            "<tr><td>ANIKOS</td><td>Simon Anikó</td><td>2016-10-29</td><td>2016-11-05</td><td>3</td><td>20</td></tr>",
                            "<tr><td>ANIKOS</td><td>Simon Anikó</td><td>2016-11-10</td><td>2016-11-15</td><td>2</td><td>20</td></tr>",
                            "<tr><td>ANIKOS</td><td>Simon Anikó</td><td>2016-08-26</td><td>2016-09-02</td><td>2</td><td>20</td></tr>",
                            "<tr><td>ANIKOS</td><td>Simon Anikó</td><td>2016-04-19</td><td>2016-04-24</td><td>2</td><td>20</td></tr>",
                            "<tr><td>ANIKOS</td><td>Simon Anikó</td><td>2016-07-17</td><td>2016-07-22</td><td>3</td><td>20</td></tr>",
                            "<tr><td>ANIKOS</td><td>Simon Anikó</td><td>2016-05-24</td><td>2016-05-25</td><td>3</td><td>20</td></tr>",
                            "<tr><td>ANIKOS</td><td>Simon Anikó</td><td>2016-06-27</td><td>2016-06-30</td><td>2</td><td>20</td></tr>",
                            "<tr><td>ANIKOS</td><td>Simon Anikó</td><td>2016-06-16</td><td>2016-06-23</td><td>1</td><td>20</td></tr>",
                            "<tr><td>anita</td><td>Hamvay-Kovács Anita</td><td>2016-10-01</td><td>2016-10-04</td><td>2</td><td>10</td></tr>",
                            "<tr><td>anita</td><td>Hamvay-Kovács Anita</td><td>2016-09-28</td><td>2016-10-02</td><td>4</td><td>10</td></tr>",
                            "<tr><td>anita</td><td>Hamvay-Kovács Anita</td><td>2017-02-19</td><td>2017-02-22</td><td>2</td><td>10</td></tr>",
                            "<tr><td>anita</td><td>Hamvay-Kovács Anita</td><td>2017-02-20</td><td>2017-02-25</td><td>2</td><td>10</td></tr>",
                            "<tr><td>annamaria1</td><td>Szűcs Annamária</td><td>2017-01-30</td><td>2017-01-31</td><td>4</td><td>7</td></tr>",
                            "<tr><td>annamaria1</td><td>Szűcs Annamária</td><td>2016-06-06</td><td>2016-06-07</td><td>3</td><td>7</td></tr>",
                            "<tr><td>ANNAMARIAR</td><td>Regős Annamária</td><td>2016-06-08</td><td>2016-06-11</td><td>2</td><td>12</td></tr>",
                            "<tr><td>ANNAMARIAR</td><td>Regős Annamária</td><td>2016-09-23</td><td>2016-09-27</td><td>2</td><td>12</td></tr>",
                            "<tr><td>ANNAMARIAR</td><td>Regős Annamária</td><td>2016-07-18</td><td>2016-07-21</td><td>1</td><td>12</td></tr>",
                            "<tr><td>ANNAMARIAR</td><td>Regős Annamária</td><td>2017-02-16</td><td>2017-02-18</td><td>2</td><td>12</td></tr>",
                            "<tr><td>ANNAMARIAR</td><td>Regős Annamária</td><td>2017-01-10</td><td>2017-01-13</td><td>2</td><td>12</td></tr>",
                            "<tr><td>ANNAMARIAR</td><td>Regős Annamária</td><td>2016-11-11</td><td>2016-11-12</td><td>3</td><td>12</td></tr>",
                            "<tr><td>aron2</td><td>Jakab Áron</td><td>2016-11-05</td><td>2016-11-09</td><td>2</td><td>16</td></tr>",
                            "<tr><td>aron2</td><td>Jakab Áron</td><td>2016-10-23</td><td>2016-10-27</td><td>2</td><td>16</td></tr>",
                            "<tr><td>aron2</td><td>Jakab Áron</td><td>2017-01-17</td><td>2017-01-18</td><td>3</td><td>16</td></tr>",
                            "<tr><td>aron2</td><td>Jakab Áron</td><td>2017-02-26</td><td>2017-02-27</td><td>3</td><td>16</td></tr>",
                            "<tr><td>aron2</td><td>Jakab Áron</td><td>2016-04-11</td><td>2016-04-12</td><td>3</td><td>16</td></tr>",
                            "<tr><td>aron2</td><td>Jakab Áron</td><td>2016-07-04</td><td>2016-07-06</td><td>3</td><td>16</td></tr>",
                            "<tr><td>ARONK</td><td>Kelemen Áron</td><td>2016-07-03</td><td>2016-07-07</td><td>2</td><td>32</td></tr>",
                            "<tr><td>ARONK</td><td>Kelemen Áron</td><td>2016-09-08</td><td>2016-09-15</td><td>2</td><td>32</td></tr>",
                            "<tr><td>ARONK</td><td>Kelemen Áron</td><td>2016-06-07</td><td>2016-06-13</td><td>3</td><td>32</td></tr>",
                            "<tr><td>ARONK</td><td>Kelemen Áron</td><td>2016-06-04</td><td>2016-06-09</td><td>2</td><td>32</td></tr>",
                            "<tr><td>ARONK</td><td>Kelemen Áron</td><td>2016-04-06</td><td>2016-04-08</td><td>2</td><td>32</td></tr>",
                            "<tr><td>ARONK</td><td>Kelemen Áron</td><td>2016-05-14</td><td>2016-05-20</td><td>4</td><td>32</td></tr>",
                            "<tr><td>ARONK</td><td>Kelemen Áron</td><td>2016-08-05</td><td>2016-08-08</td><td>4</td><td>32</td></tr>",
                            "<tr><td>ARONK</td><td>Kelemen Áron</td><td>2017-02-21</td><td>2017-02-23</td><td>2</td><td>32</td></tr>",
                            "<tr><td>ARONK</td><td>Kelemen Áron</td><td>2017-01-01</td><td>2017-01-03</td><td>2</td><td>32</td></tr>",
                            "<tr><td>ARONK</td><td>Kelemen Áron</td><td>2017-01-30</td><td>2017-02-03</td><td>2</td><td>32</td></tr>",
                            "<tr><td>ARONK</td><td>Kelemen Áron</td><td>2016-11-05</td><td>2016-11-07</td><td>2</td><td>32</td></tr>",
                            "<tr><td>ARONK</td><td>Kelemen Áron</td><td>2016-11-03</td><td>2016-11-10</td><td>2</td><td>32</td></tr>",
                            "<tr><td>ARONK</td><td>Kelemen Áron</td><td>2016-12-07</td><td>2016-12-12</td><td>3</td><td>32</td></tr>",
                            "<tr><td>arpad2</td><td>Ötvös Árpád</td><td>2016-12-24</td><td>2016-12-27</td><td>3</td><td>18</td></tr>",
                            "<tr><td>arpad2</td><td>Ötvös Árpád</td><td>2016-11-06</td><td>2016-11-10</td><td>2</td><td>18</td></tr>",
                            "<tr><td>arpad2</td><td>Ötvös Árpád</td><td>2016-10-13</td><td>2016-10-19</td><td>3</td><td>18</td></tr>",
                            "<tr><td>arpad2</td><td>Ötvös Árpád</td><td>2017-02-18</td><td>2017-02-19</td><td>4</td><td>18</td></tr>",
                            "<tr><td>arpad2</td><td>Ötvös Árpád</td><td>2016-08-23</td><td>2016-08-25</td><td>2</td><td>18</td></tr>",
                            "<tr><td>arpad2</td><td>Ötvös Árpád</td><td>2016-06-05</td><td>2016-06-07</td><td>2</td><td>18</td></tr>",
                            "<tr><td>arpad2</td><td>Ötvös Árpád</td><td>2016-09-28</td><td>2016-09-30</td><td>2</td><td>18</td></tr>",
                            "<tr><td>ARPADH</td><td>Horváth Árpád</td><td>2016-09-18</td><td>2016-09-25</td><td>1</td><td>13</td></tr>",
                            "<tr><td>ARPADH</td><td>Horváth Árpád</td><td>2016-09-16</td><td>2016-09-23</td><td>1</td><td>13</td></tr>",
                            "<tr><td>ARPADH</td><td>Horváth Árpád</td><td>2016-06-06</td><td>2016-06-07</td><td>3</td><td>13</td></tr>",
                            "<tr><td>ARPADH</td><td>Horváth Árpád</td><td>2016-07-14</td><td>2016-07-18</td><td>2</td><td>13</td></tr>",
                            "<tr><td>ARPADH</td><td>Horváth Árpád</td><td>2017-02-16</td><td>2017-02-18</td><td>2</td><td>13</td></tr>",
                            "<tr><td>ARPADH</td><td>Horváth Árpád</td><td>2016-12-18</td><td>2016-12-19</td><td>3</td><td>13</td></tr>",
                            "<tr><td>ARPADH</td><td>Horváth Árpád</td><td>2016-12-04</td><td>2016-12-10</td><td>1</td><td>13</td></tr>",
                            "<tr><td>ARPADM</td><td>Móricz Árpád</td><td>2016-12-14</td><td>2016-12-17</td><td>3</td><td>13</td></tr>",
                            "<tr><td>ARPADM</td><td>Móricz Árpád</td><td>2016-11-09</td><td>2016-11-11</td><td>2</td><td>13</td></tr>",
                            "<tr><td>ARPADM</td><td>Móricz Árpád</td><td>2017-02-12</td><td>2017-02-14</td><td>3</td><td>13</td></tr>",
                            "<tr><td>ARPADM</td><td>Móricz Árpád</td><td>2017-01-05</td><td>2017-01-10</td><td>1</td><td>13</td></tr>",
                            "<tr><td>ARPADM</td><td>Móricz Árpád</td><td>2016-08-12</td><td>2016-08-16</td><td>2</td><td>13</td></tr>",
                            "<tr><td>ARPADM</td><td>Móricz Árpád</td><td>2016-05-29</td><td>2016-06-01</td><td>2</td><td>13</td></tr>",
                            "<tr><td>attila</td><td>Csóti Attila</td><td>2016-09-30</td><td>2016-10-07</td><td>3</td><td>6</td></tr>",
                            "<tr><td>attila</td><td>Csóti Attila</td><td>2016-10-15</td><td>2016-10-19</td><td>1</td><td>6</td></tr>",
                            "<tr><td>attila</td><td>Csóti Attila</td><td>2016-12-22</td><td>2016-12-26</td><td>2</td><td>6</td></tr>",
                            "<tr><td>attila1</td><td>Gulyás Attila</td><td>2016-10-15</td><td>2016-10-16</td><td>3</td><td>14</td></tr>",
                            "<tr><td>attila1</td><td>Gulyás Attila</td><td>2016-10-09</td><td>2016-10-12</td><td>2</td><td>14</td></tr>",
                            "<tr><td>attila1</td><td>Gulyás Attila</td><td>2016-11-10</td><td>2016-11-14</td><td>2</td><td>14</td></tr>",
                            "<tr><td>attila1</td><td>Gulyás Attila</td><td>2016-10-30</td><td>2016-11-05</td><td>2</td><td>14</td></tr>",
                            "<tr><td>attila1</td><td>Gulyás Attila</td><td>2017-01-23</td><td>2017-01-30</td><td>4</td><td>14</td></tr>",
                            "<tr><td>attila1</td><td>Gulyás Attila</td><td>2016-05-20</td><td>2016-05-26</td><td>1</td><td>14</td></tr>",
                            "<tr><td>attila4</td><td>Baróti Attila</td><td>2016-08-18</td><td>2016-08-23</td><td>4</td><td>8</td></tr>",
                            "<tr><td>attila4</td><td>Baróti Attila</td><td>2017-02-15</td><td>2017-02-22</td><td>2</td><td>8</td></tr>",
                            "<tr><td>attila4</td><td>Baróti Attila</td><td>2016-12-31</td><td>2017-01-01</td><td>2</td><td>8</td></tr>",
                            "<tr><td>ATTILAO</td><td>Opra Attila</td><td>2016-10-30</td><td>2016-11-03</td><td>2</td><td>11</td></tr>",
                            "<tr><td>ATTILAO</td><td>Opra Attila</td><td>2017-02-22</td><td>2017-02-25</td><td>3</td><td>11</td></tr>",
                            "<tr><td>ATTILAO</td><td>Opra Attila</td><td>2016-05-21</td><td>2016-05-26</td><td>3</td><td>11</td></tr>",
                            "<tr><td>ATTILAO</td><td>Opra Attila</td><td>2016-06-04</td><td>2016-06-11</td><td>3</td><td>11</td></tr>",
                            "<tr><td>balazs1</td><td>Bozsik Balázs</td><td>2016-05-07</td><td>2016-05-14</td><td>2</td><td>16</td></tr>",
                            "<tr><td>balazs1</td><td>Bozsik Balázs</td><td>2016-07-22</td><td>2016-07-26</td><td>4</td><td>16</td></tr>",
                            "<tr><td>balazs1</td><td>Bozsik Balázs</td><td>2017-02-12</td><td>2017-02-14</td><td>2</td><td>16</td></tr>",
                            "<tr><td>balazs1</td><td>Bozsik Balázs</td><td>2017-02-10</td><td>2017-02-14</td><td>3</td><td>16</td></tr>",
                            "<tr><td>balazs1</td><td>Bozsik Balázs</td><td>2017-01-01</td><td>2017-01-05</td><td>2</td><td>16</td></tr>",
                            "<tr><td>balazs1</td><td>Bozsik Balázs</td><td>2016-12-26</td><td>2016-12-28</td><td>3</td><td>16</td></tr>",
                            "<tr><td>balazs2</td><td>Szűcs Balázs</td><td>2016-11-03</td><td>2016-11-05</td><td>3</td><td>26</td></tr>",
                            "<tr><td>balazs2</td><td>Szűcs Balázs</td><td>2017-02-27</td><td>2017-03-06</td><td>1</td><td>26</td></tr>",
                            "<tr><td>balazs2</td><td>Szűcs Balázs</td><td>2016-08-21</td><td>2016-08-22</td><td>3</td><td>26</td></tr>",
                            "<tr><td>balazs2</td><td>Szűcs Balázs</td><td>2016-04-16</td><td>2016-04-19</td><td>2</td><td>26</td></tr>",
                            "<tr><td>balazs2</td><td>Szűcs Balázs</td><td>2016-07-20</td><td>2016-07-25</td><td>2</td><td>26</td></tr>",
                            "<tr><td>balazs2</td><td>Szűcs Balázs</td><td>2016-05-22</td><td>2016-05-29</td><td>3</td><td>26</td></tr>",
                            "<tr><td>balazs2</td><td>Szűcs Balázs</td><td>2016-05-28</td><td>2016-06-01</td><td>3</td><td>26</td></tr>",
                            "<tr><td>balazs2</td><td>Szűcs Balázs</td><td>2016-09-12</td><td>2016-09-14</td><td>3</td><td>26</td></tr>",
                            "<tr><td>balazs2</td><td>Szűcs Balázs</td><td>2016-07-10</td><td>2016-07-17</td><td>3</td><td>26</td></tr>",
                            "<tr><td>balazs2</td><td>Szűcs Balázs</td><td>2016-07-08</td><td>2016-07-12</td><td>3</td><td>26</td></tr>",
                            "<tr><td>balazs3</td><td>Bakódy Balázs</td><td>2016-09-15</td><td>2016-09-16</td><td>3</td><td>17</td></tr>",
                            "<tr><td>balazs3</td><td>Bakódy Balázs</td><td>2016-07-17</td><td>2016-07-21</td><td>2</td><td>17</td></tr>",
                            "<tr><td>balazs3</td><td>Bakódy Balázs</td><td>2016-08-24</td><td>2016-08-28</td><td>3</td><td>17</td></tr>",
                            "<tr><td>balazs3</td><td>Bakódy Balázs</td><td>2016-07-27</td><td>2016-07-31</td><td>4</td><td>17</td></tr>",
                            "<tr><td>balazs3</td><td>Bakódy Balázs</td><td>2017-01-20</td><td>2017-01-22</td><td>2</td><td>17</td></tr>",
                            "<tr><td>balazs3</td><td>Bakódy Balázs</td><td>2016-12-05</td><td>2016-12-11</td><td>3</td><td>17</td></tr>",
                            "<tr><td>balint</td><td>Horváth Bálint</td><td>2016-11-24</td><td>2016-11-29</td><td>3</td><td>7</td></tr>",
                            "<tr><td>balint</td><td>Horváth Bálint</td><td>2016-10-09</td><td>2016-10-11</td><td>2</td><td>7</td></tr>",
                            "<tr><td>balint</td><td>Horváth Bálint</td><td>2016-04-22</td><td>2016-04-29</td><td>2</td><td>7</td></tr>",
                            "<tr><td>balint1</td><td>Molnár Bálint</td><td>2016-07-26</td><td>2016-07-28</td><td>2</td><td>22</td></tr>",
                            "<tr><td>balint1</td><td>Molnár Bálint</td><td>2016-08-03</td><td>2016-08-08</td><td>2</td><td>22</td></tr>",
                            "<tr><td>balint1</td><td>Molnár Bálint</td><td>2016-09-16</td><td>2016-09-21</td><td>1</td><td>22</td></tr>",
                            "<tr><td>balint1</td><td>Molnár Bálint</td><td>2016-06-07</td><td>2016-06-11</td><td>3</td><td>22</td></tr>",
                            "<tr><td>balint1</td><td>Molnár Bálint</td><td>2016-06-07</td><td>2016-06-12</td><td>3</td><td>22</td></tr>",
                            "<tr><td>balint1</td><td>Molnár Bálint</td><td>2016-06-10</td><td>2016-06-12</td><td>1</td><td>22</td></tr>",
                            "<tr><td>balint1</td><td>Molnár Bálint</td><td>2016-11-07</td><td>2016-11-10</td><td>2</td><td>22</td></tr>",
                            "<tr><td>balint1</td><td>Molnár Bálint</td><td>2016-12-29</td><td>2016-12-31</td><td>3</td><td>22</td></tr>",
                            "<tr><td>balint1</td><td>Molnár Bálint</td><td>2016-12-17</td><td>2016-12-22</td><td>3</td><td>22</td></tr>",
                            "<tr><td>balint1</td><td>Molnár Bálint</td><td>2017-01-03</td><td>2017-01-08</td><td>2</td><td>22</td></tr>",
                            "<tr><td>balint2</td><td>Vukasinovity Bálint</td><td>2016-12-04</td><td>2016-12-06</td><td>3</td><td>4</td></tr>",
                            "<tr><td>balint2</td><td>Vukasinovity Bálint</td><td>2016-07-21</td><td>2016-07-26</td><td>1</td><td>4</td></tr>",
                            "<tr><td>balu</td><td>Endresz Bálint</td><td>2016-08-06</td><td>2016-08-10</td><td>2</td><td>4</td></tr>",
                            "<tr><td>balu</td><td>Endresz Bálint</td><td>2016-12-22</td><td>2016-12-23</td><td>2</td><td>4</td></tr>",
                            "<tr><td>beata4</td><td>Bagi Beáta</td><td>2016-08-25</td><td>2016-08-27</td><td>3</td><td>12</td></tr>",
                            "<tr><td>beata4</td><td>Bagi Beáta</td><td>2016-04-20</td><td>2016-04-21</td><td>2</td><td>12</td></tr>",
                            "<tr><td>beata4</td><td>Bagi Beáta</td><td>2016-06-03</td><td>2016-06-04</td><td>2</td><td>12</td></tr>",
                            "<tr><td>beata4</td><td>Bagi Beáta</td><td>2016-07-03</td><td>2016-07-06</td><td>1</td><td>12</td></tr>",
                            "<tr><td>beata4</td><td>Bagi Beáta</td><td>2016-10-01</td><td>2016-10-05</td><td>1</td><td>12</td></tr>",
                            "<tr><td>beata4</td><td>Bagi Beáta</td><td>2016-10-03</td><td>2016-10-06</td><td>3</td><td>12</td></tr>",
                            "<tr><td>BEATRIXK</td><td>Kerényi Beatrix</td><td>2016-06-10</td><td>2016-06-11</td><td>2</td><td>25</td></tr>",
                            "<tr><td>BEATRIXK</td><td>Kerényi Beatrix</td><td>2016-06-10</td><td>2016-06-14</td><td>2</td><td>25</td></tr>",
                            "<tr><td>BEATRIXK</td><td>Kerényi Beatrix</td><td>2016-06-19</td><td>2016-06-21</td><td>3</td><td>25</td></tr>",
                            "<tr><td>BEATRIXK</td><td>Kerényi Beatrix</td><td>2016-08-12</td><td>2016-08-18</td><td>4</td><td>25</td></tr>",
                            "<tr><td>BEATRIXK</td><td>Kerényi Beatrix</td><td>2016-12-17</td><td>2016-12-22</td><td>4</td><td>25</td></tr>",
                            "<tr><td>BEATRIXK</td><td>Kerényi Beatrix</td><td>2016-12-12</td><td>2016-12-14</td><td>3</td><td>25</td></tr>",
                            "<tr><td>BEATRIXK</td><td>Kerényi Beatrix</td><td>2016-11-14</td><td>2016-11-19</td><td>2</td><td>25</td></tr>",
                            "<tr><td>BEATRIXK</td><td>Kerényi Beatrix</td><td>2016-10-23</td><td>2016-10-28</td><td>2</td><td>25</td></tr>",
                            "<tr><td>BEATRIXK</td><td>Kerényi Beatrix</td><td>2017-02-08</td><td>2017-02-09</td><td>3</td><td>25</td></tr>",
                            "<tr><td>BEATRIXS</td><td>Szekendi Beatrix</td><td>2017-02-03</td><td>2017-02-04</td><td>2</td><td>14</td></tr>",
                            "<tr><td>BEATRIXS</td><td>Szekendi Beatrix</td><td>2016-12-21</td><td>2016-12-27</td><td>2</td><td>14</td></tr>",
                            "<tr><td>BEATRIXS</td><td>Szekendi Beatrix</td><td>2016-04-18</td><td>2016-04-24</td><td>1</td><td>14</td></tr>",
                            "<tr><td>BEATRIXS</td><td>Szekendi Beatrix</td><td>2016-06-11</td><td>2016-06-14</td><td>3</td><td>14</td></tr>",
                            "<tr><td>BEATRIXS</td><td>Szekendi Beatrix</td><td>2016-10-01</td><td>2016-10-03</td><td>3</td><td>14</td></tr>",
                            "<tr><td>BEATRIXS</td><td>Szekendi Beatrix</td><td>2016-10-01</td><td>2016-10-05</td><td>3</td><td>14</td></tr>",
                            "<tr><td>BELAF</td><td>Farkas Béla</td><td>2016-07-27</td><td>2016-07-30</td><td>3</td><td>15</td></tr>",
                            "<tr><td>BELAF</td><td>Farkas Béla</td><td>2016-07-29</td><td>2016-07-31</td><td>2</td><td>15</td></tr>",
                            "<tr><td>BELAF</td><td>Farkas Béla</td><td>2016-08-29</td><td>2016-08-31</td><td>2</td><td>15</td></tr>",
                            "<tr><td>BELAF</td><td>Farkas Béla</td><td>2016-12-06</td><td>2016-12-09</td><td>1</td><td>15</td></tr>",
                            "<tr><td>BELAF</td><td>Farkas Béla</td><td>2016-12-02</td><td>2016-12-04</td><td>3</td><td>15</td></tr>",
                            "<tr><td>BELAF</td><td>Farkas Béla</td><td>2016-11-03</td><td>2016-11-09</td><td>4</td><td>15</td></tr>",
                            "<tr><td>bence</td><td>Győrffy Bence</td><td>2016-10-30</td><td>2016-11-02</td><td>4</td><td>22</td></tr>",
                            "<tr><td>bence</td><td>Győrffy Bence</td><td>2016-12-17</td><td>2016-12-18</td><td>2</td><td>22</td></tr>",
                            "<tr><td>bence</td><td>Győrffy Bence</td><td>2016-12-26</td><td>2016-12-27</td><td>2</td><td>22</td></tr>",
                            "<tr><td>bence</td><td>Győrffy Bence</td><td>2017-02-05</td><td>2017-02-09</td><td>3</td><td>22</td></tr>",
                            "<tr><td>bence</td><td>Győrffy Bence</td><td>2016-07-24</td><td>2016-07-30</td><td>2</td><td>22</td></tr>",
                            "<tr><td>bence</td><td>Győrffy Bence</td><td>2016-07-25</td><td>2016-08-01</td><td>3</td><td>22</td></tr>",
                            "<tr><td>bence</td><td>Győrffy Bence</td><td>2016-05-08</td><td>2016-05-11</td><td>2</td><td>22</td></tr>",
                            "<tr><td>bence</td><td>Győrffy Bence</td><td>2016-09-03</td><td>2016-09-06</td><td>3</td><td>22</td></tr>",
                            "<tr><td>bence</td><td>Győrffy Bence</td><td>2016-05-29</td><td>2016-06-03</td><td>1</td><td>22</td></tr>",
                            "<tr><td>BENCEB</td><td>Bajusz Bence</td><td>2016-06-03</td><td>2016-06-09</td><td>2</td><td>15</td></tr>",
                            "<tr><td>BENCEB</td><td>Bajusz Bence</td><td>2016-05-14</td><td>2016-05-17</td><td>3</td><td>15</td></tr>",
                            "<tr><td>BENCEB</td><td>Bajusz Bence</td><td>2016-08-01</td><td>2016-08-02</td><td>2</td><td>15</td></tr>",
                            "<tr><td>BENCEB</td><td>Bajusz Bence</td><td>2017-02-12</td><td>2017-02-19</td><td>3</td><td>15</td></tr>",
                            "<tr><td>BENCEB</td><td>Bajusz Bence</td><td>2016-11-28</td><td>2016-12-02</td><td>2</td><td>15</td></tr>",
                            "<tr><td>BENCEB</td><td>Bajusz Bence</td><td>2016-10-22</td><td>2016-10-29</td><td>3</td><td>15</td></tr>",
                            "<tr><td>bernadett1</td><td>Simon Bernadett</td><td>2016-10-15</td><td>2016-10-22</td><td>3</td><td>20</td></tr>",
                            "<tr><td>bernadett1</td><td>Simon Bernadett</td><td>2016-10-28</td><td>2016-11-01</td><td>3</td><td>20</td></tr>",
                            "<tr><td>bernadett1</td><td>Simon Bernadett</td><td>2016-10-26</td><td>2016-11-02</td><td>3</td><td>20</td></tr>",
                            "<tr><td>bernadett1</td><td>Simon Bernadett</td><td>2017-02-14</td><td>2017-02-15</td><td>3</td><td>20</td></tr>",
                            "<tr><td>bernadett1</td><td>Simon Bernadett</td><td>2017-02-24</td><td>2017-03-03</td><td>1</td><td>20</td></tr>",
                            "<tr><td>bernadett1</td><td>Simon Bernadett</td><td>2016-06-12</td><td>2016-06-17</td><td>3</td><td>20</td></tr>",
                            "<tr><td>bernadett1</td><td>Simon Bernadett</td><td>2016-10-08</td><td>2016-10-09</td><td>4</td><td>20</td></tr>",
                            "<tr><td>bernadett2</td><td>Kovács Bernadett</td><td>2016-09-07</td><td>2016-09-13</td><td>3</td><td>20</td></tr>",
                            "<tr><td>bernadett2</td><td>Kovács Bernadett</td><td>2016-06-17</td><td>2016-06-23</td><td>3</td><td>20</td></tr>",
                            "<tr><td>bernadett2</td><td>Kovács Bernadett</td><td>2016-08-25</td><td>2016-08-27</td><td>3</td><td>20</td></tr>",
                            "<tr><td>bernadett2</td><td>Kovács Bernadett</td><td>2016-08-23</td><td>2016-08-29</td><td>2</td><td>20</td></tr>",
                            "<tr><td>bernadett2</td><td>Kovács Bernadett</td><td>2016-05-01</td><td>2016-05-03</td><td>2</td><td>20</td></tr>",
                            "<tr><td>bernadett2</td><td>Kovács Bernadett</td><td>2017-01-24</td><td>2017-01-30</td><td>3</td><td>20</td></tr>",
                            "<tr><td>bernadett2</td><td>Kovács Bernadett</td><td>2016-10-30</td><td>2016-11-06</td><td>3</td><td>20</td></tr>",
                            "<tr><td>bernadett2</td><td>Kovács Bernadett</td><td>2016-12-17</td><td>2016-12-20</td><td>1</td><td>20</td></tr>",
                            "<tr><td>BERNADETTO</td><td>Orbán Bernadett</td><td>2017-01-28</td><td>2017-02-03</td><td>2</td><td>18</td></tr>",
                            "<tr><td>BERNADETTO</td><td>Orbán Bernadett</td><td>2017-01-01</td><td>2017-01-02</td><td>3</td><td>18</td></tr>",
                            "<tr><td>BERNADETTO</td><td>Orbán Bernadett</td><td>2016-04-17</td><td>2016-04-19</td><td>2</td><td>18</td></tr>",
                            "<tr><td>BERNADETTO</td><td>Orbán Bernadett</td><td>2016-04-10</td><td>2016-04-17</td><td>2</td><td>18</td></tr>",
                            "<tr><td>BERNADETTO</td><td>Orbán Bernadett</td><td>2016-06-10</td><td>2016-06-16</td><td>4</td><td>18</td></tr>",
                            "<tr><td>BERNADETTO</td><td>Orbán Bernadett</td><td>2016-06-07</td><td>2016-06-13</td><td>3</td><td>18</td></tr>",
                            "<tr><td>BERNADETTO</td><td>Orbán Bernadett</td><td>2016-10-04</td><td>2016-10-05</td><td>2</td><td>18</td></tr>",
                            "<tr><td>bertalan</td><td>Csiger Bertalan</td><td>2016-06-20</td><td>2016-06-21</td><td>1</td><td>14</td></tr>",
                            "<tr><td>bertalan</td><td>Csiger Bertalan</td><td>2016-05-18</td><td>2016-05-23</td><td>2</td><td>14</td></tr>",
                            "<tr><td>bertalan</td><td>Csiger Bertalan</td><td>2017-02-16</td><td>2017-02-22</td><td>2</td><td>14</td></tr>",
                            "<tr><td>bertalan</td><td>Csiger Bertalan</td><td>2017-02-20</td><td>2017-02-24</td><td>4</td><td>14</td></tr>",
                            "<tr><td>bertalan</td><td>Csiger Bertalan</td><td>2016-11-26</td><td>2016-11-29</td><td>3</td><td>14</td></tr>",
                            "<tr><td>bertalan</td><td>Csiger Bertalan</td><td>2016-11-03</td><td>2016-11-10</td><td>2</td><td>14</td></tr>",
                            "<tr><td>brigitta</td><td>Székely Brigitta</td><td>2016-10-21</td><td>2016-10-28</td><td>3</td><td>12</td></tr>",
                            "<tr><td>brigitta</td><td>Székely Brigitta</td><td>2016-12-17</td><td>2016-12-22</td><td>2</td><td>12</td></tr>",
                            "<tr><td>brigitta</td><td>Székely Brigitta</td><td>2017-01-23</td><td>2017-01-25</td><td>1</td><td>12</td></tr>",
                            "<tr><td>brigitta</td><td>Székely Brigitta</td><td>2016-08-28</td><td>2016-09-01</td><td>3</td><td>12</td></tr>",
                            "<tr><td>brigitta</td><td>Székely Brigitta</td><td>2016-05-30</td><td>2016-06-06</td><td>3</td><td>12</td></tr>",
                            "<tr><td>brigitta3</td><td>Pataki Brigitta</td><td>2016-06-01</td><td>2016-06-05</td><td>2</td><td>12</td></tr>",
                            "<tr><td>brigitta3</td><td>Pataki Brigitta</td><td>2016-06-13</td><td>2016-06-17</td><td>3</td><td>12</td></tr>",
                            "<tr><td>brigitta3</td><td>Pataki Brigitta</td><td>2017-02-09</td><td>2017-02-16</td><td>2</td><td>12</td></tr>",
                            "<tr><td>brigitta3</td><td>Pataki Brigitta</td><td>2016-10-10</td><td>2016-10-14</td><td>2</td><td>12</td></tr>",
                            "<tr><td>brigitta3</td><td>Pataki Brigitta</td><td>2016-11-03</td><td>2016-11-09</td><td>3</td><td>12</td></tr>",
                            "<tr><td>csongor3</td><td>Nagymihály Csongor</td><td>2016-11-12</td><td>2016-11-17</td><td>3</td><td>22</td></tr>",
                            "<tr><td>csongor3</td><td>Nagymihály Csongor</td><td>2017-02-13</td><td>2017-02-19</td><td>3</td><td>22</td></tr>",
                            "<tr><td>csongor3</td><td>Nagymihály Csongor</td><td>2016-06-10</td><td>2016-06-17</td><td>3</td><td>22</td></tr>",
                            "<tr><td>csongor3</td><td>Nagymihály Csongor</td><td>2016-06-11</td><td>2016-06-14</td><td>2</td><td>22</td></tr>",
                            "<tr><td>csongor3</td><td>Nagymihály Csongor</td><td>2016-06-04</td><td>2016-06-05</td><td>2</td><td>22</td></tr>",
                            "<tr><td>csongor3</td><td>Nagymihály Csongor</td><td>2016-07-09</td><td>2016-07-10</td><td>4</td><td>22</td></tr>",
                            "<tr><td>csongor3</td><td>Nagymihály Csongor</td><td>2016-05-01</td><td>2016-05-04</td><td>2</td><td>22</td></tr>",
                            "<tr><td>csongor3</td><td>Nagymihály Csongor</td><td>2016-05-08</td><td>2016-05-15</td><td>3</td><td>22</td></tr>",
                            "<tr><td>dani</td><td>Vörös Dániel</td><td>2016-08-06</td><td>2016-08-09</td><td>2</td><td>21</td></tr>",
                            "<tr><td>dani</td><td>Vörös Dániel</td><td>2016-07-11</td><td>2016-07-12</td><td>3</td><td>21</td></tr>",
                            "<tr><td>dani</td><td>Vörös Dániel</td><td>2016-10-01</td><td>2016-10-02</td><td>1</td><td>21</td></tr>",
                            "<tr><td>dani</td><td>Vörös Dániel</td><td>2016-09-19</td><td>2016-09-25</td><td>4</td><td>21</td></tr>",
                            "<tr><td>dani</td><td>Vörös Dániel</td><td>2016-06-06</td><td>2016-06-10</td><td>3</td><td>21</td></tr>",
                            "<tr><td>dani</td><td>Vörös Dániel</td><td>2017-01-22</td><td>2017-01-29</td><td>1</td><td>21</td></tr>",
                            "<tr><td>dani</td><td>Vörös Dániel</td><td>2017-01-17</td><td>2017-01-23</td><td>2</td><td>21</td></tr>",
                            "<tr><td>dani</td><td>Vörös Dániel</td><td>2017-02-25</td><td>2017-03-01</td><td>3</td><td>21</td></tr>",
                            "<tr><td>dani</td><td>Vörös Dániel</td><td>2016-11-22</td><td>2016-11-24</td><td>2</td><td>21</td></tr>",
                            "<tr><td>daniel</td><td>Rácz Dániel</td><td>2016-11-13</td><td>2016-11-19</td><td>3</td><td>26</td></tr>",
                            "<tr><td>daniel</td><td>Rácz Dániel</td><td>2016-12-25</td><td>2016-12-26</td><td>3</td><td>26</td></tr>",
                            "<tr><td>daniel</td><td>Rácz Dániel</td><td>2017-02-20</td><td>2017-02-23</td><td>3</td><td>26</td></tr>",
                            "<tr><td>daniel</td><td>Rácz Dániel</td><td>2017-01-09</td><td>2017-01-11</td><td>1</td><td>26</td></tr>",
                            "<tr><td>daniel</td><td>Rácz Dániel</td><td>2017-02-12</td><td>2017-02-13</td><td>3</td><td>26</td></tr>",
                            "<tr><td>daniel</td><td>Rácz Dániel</td><td>2016-09-08</td><td>2016-09-10</td><td>4</td><td>26</td></tr>",
                            "<tr><td>daniel</td><td>Rácz Dániel</td><td>2016-05-09</td><td>2016-05-13</td><td>3</td><td>26</td></tr>",
                            "<tr><td>daniel</td><td>Rácz Dániel</td><td>2016-04-22</td><td>2016-04-25</td><td>2</td><td>26</td></tr>",
                            "<tr><td>daniel</td><td>Rácz Dániel</td><td>2016-04-10</td><td>2016-04-11</td><td>4</td><td>26</td></tr>",
                            "<tr><td>daniel1</td><td>Keszler Dániel</td><td>2016-04-10</td><td>2016-04-15</td><td>2</td><td>20</td></tr>",
                            "<tr><td>daniel1</td><td>Keszler Dániel</td><td>2016-05-10</td><td>2016-05-13</td><td>4</td><td>20</td></tr>",
                            "<tr><td>daniel1</td><td>Keszler Dániel</td><td>2016-05-26</td><td>2016-05-27</td><td>3</td><td>20</td></tr>",
                            "<tr><td>daniel1</td><td>Keszler Dániel</td><td>2017-01-05</td><td>2017-01-08</td><td>3</td><td>20</td></tr>",
                            "<tr><td>daniel1</td><td>Keszler Dániel</td><td>2017-03-01</td><td>2017-03-06</td><td>4</td><td>20</td></tr>",
                            "<tr><td>daniel1</td><td>Keszler Dániel</td><td>2016-11-23</td><td>2016-11-25</td><td>2</td><td>20</td></tr>",
                            "<tr><td>daniel1</td><td>Keszler Dániel</td><td>2016-11-09</td><td>2016-11-11</td><td>2</td><td>20</td></tr>",
                            "<tr><td>david</td><td>Ambrus Dávid</td><td>2016-10-30</td><td>2016-11-04</td><td>2</td><td>19</td></tr>",
                            "<tr><td>david</td><td>Ambrus Dávid</td><td>2017-01-18</td><td>2017-01-19</td><td>2</td><td>19</td></tr>",
                            "<tr><td>david</td><td>Ambrus Dávid</td><td>2016-06-09</td><td>2016-06-10</td><td>2</td><td>19</td></tr>",
                            "<tr><td>david</td><td>Ambrus Dávid</td><td>2016-06-30</td><td>2016-07-07</td><td>2</td><td>19</td></tr>",
                            "<tr><td>david</td><td>Ambrus Dávid</td><td>2016-05-18</td><td>2016-05-25</td><td>2</td><td>19</td></tr>",
                            "<tr><td>david</td><td>Ambrus Dávid</td><td>2016-07-18</td><td>2016-07-21</td><td>2</td><td>19</td></tr>",
                            "<tr><td>david</td><td>Ambrus Dávid</td><td>2016-08-05</td><td>2016-08-12</td><td>1</td><td>19</td></tr>",
                            "<tr><td>david</td><td>Ambrus Dávid</td><td>2016-08-22</td><td>2016-08-24</td><td>3</td><td>19</td></tr>",
                            "<tr><td>david</td><td>Ambrus Dávid</td><td>2016-08-20</td><td>2016-08-25</td><td>3</td><td>19</td></tr>",
                            "<tr><td>david1</td><td>Sobják Dávid</td><td>2016-09-20</td><td>2016-09-21</td><td>2</td><td>15</td></tr>",
                            "<tr><td>david1</td><td>Sobják Dávid</td><td>2016-10-01</td><td>2016-10-02</td><td>2</td><td>15</td></tr>",
                            "<tr><td>david1</td><td>Sobják Dávid</td><td>2017-02-17</td><td>2017-02-20</td><td>3</td><td>15</td></tr>",
                            "<tr><td>david1</td><td>Sobják Dávid</td><td>2017-02-25</td><td>2017-02-27</td><td>4</td><td>15</td></tr>",
                            "<tr><td>david1</td><td>Sobják Dávid</td><td>2016-11-19</td><td>2016-11-22</td><td>2</td><td>15</td></tr>",
                            "<tr><td>david1</td><td>Sobják Dávid</td><td>2016-12-30</td><td>2017-01-06</td><td>2</td><td>15</td></tr>",
                            "<tr><td>david4</td><td>Berta Dávid</td><td>2017-02-16</td><td>2017-02-19</td><td>3</td><td>3</td></tr>",
                            "<tr><td>debora</td><td>Barna Debóra</td><td>2017-02-04</td><td>2017-02-06</td><td>3</td><td>13</td></tr>",
                            "<tr><td>debora</td><td>Barna Debóra</td><td>2017-01-23</td><td>2017-01-28</td><td>3</td><td>13</td></tr>",
                            "<tr><td>debora</td><td>Barna Debóra</td><td>2016-10-29</td><td>2016-11-03</td><td>2</td><td>13</td></tr>",
                            "<tr><td>debora</td><td>Barna Debóra</td><td>2016-06-22</td><td>2016-06-24</td><td>5</td><td>13</td></tr>",
                            "<tr><td>denes</td><td>Tömböly Dénes</td><td>2016-05-27</td><td>2016-05-31</td><td>3</td><td>15</td></tr>",
                            "<tr><td>denes</td><td>Tömböly Dénes</td><td>2016-08-20</td><td>2016-08-27</td><td>3</td><td>15</td></tr>",
                            "<tr><td>denes</td><td>Tömböly Dénes</td><td>2016-08-16</td><td>2016-08-23</td><td>2</td><td>15</td></tr>",
                            "<tr><td>denes</td><td>Tömböly Dénes</td><td>2016-08-01</td><td>2016-08-08</td><td>3</td><td>15</td></tr>",
                            "<tr><td>denes</td><td>Tömböly Dénes</td><td>2016-07-19</td><td>2016-07-23</td><td>2</td><td>15</td></tr>",
                            "<tr><td>denes</td><td>Tömböly Dénes</td><td>2016-11-06</td><td>2016-11-10</td><td>2</td><td>15</td></tr>",
                            "<tr><td>dora3</td><td>Sarodi Dóra</td><td>2016-10-29</td><td>2016-11-02</td><td>3</td><td>16</td></tr>",
                            "<tr><td>dora3</td><td>Sarodi Dóra</td><td>2016-10-09</td><td>2016-10-12</td><td>3</td><td>16</td></tr>",
                            "<tr><td>dora3</td><td>Sarodi Dóra</td><td>2016-11-22</td><td>2016-11-29</td><td>3</td><td>16</td></tr>",
                            "<tr><td>dora3</td><td>Sarodi Dóra</td><td>2016-08-16</td><td>2016-08-19</td><td>4</td><td>16</td></tr>",
                            "<tr><td>dora3</td><td>Sarodi Dóra</td><td>2016-08-25</td><td>2016-08-29</td><td>3</td><td>16</td></tr>",
                            "<tr><td>edit</td><td>Bittmann Edit</td><td>2016-08-03</td><td>2016-08-09</td><td>4</td><td>21</td></tr>",
                            "<tr><td>edit</td><td>Bittmann Edit</td><td>2016-08-12</td><td>2016-08-14</td><td>2</td><td>21</td></tr>",
                            "<tr><td>edit</td><td>Bittmann Edit</td><td>2016-07-14</td><td>2016-07-17</td><td>3</td><td>21</td></tr>",
                            "<tr><td>edit</td><td>Bittmann Edit</td><td>2016-09-18</td><td>2016-09-21</td><td>3</td><td>21</td></tr>",
                            "<tr><td>edit</td><td>Bittmann Edit</td><td>2016-09-17</td><td>2016-09-24</td><td>2</td><td>21</td></tr>",
                            "<tr><td>edit</td><td>Bittmann Edit</td><td>2017-01-15</td><td>2017-01-18</td><td>4</td><td>21</td></tr>",
                            "<tr><td>edit</td><td>Bittmann Edit</td><td>2017-02-08</td><td>2017-02-14</td><td>3</td><td>21</td></tr>",
                            "<tr><td>emese</td><td>Kuruc Emese</td><td>2017-01-30</td><td>2017-01-31</td><td>2</td><td>17</td></tr>",
                            "<tr><td>emese</td><td>Kuruc Emese</td><td>2016-11-23</td><td>2016-11-27</td><td>4</td><td>17</td></tr>",
                            "<tr><td>emese</td><td>Kuruc Emese</td><td>2016-12-07</td><td>2016-12-08</td><td>3</td><td>17</td></tr>",
                            "<tr><td>emese</td><td>Kuruc Emese</td><td>2016-11-05</td><td>2016-11-09</td><td>1</td><td>17</td></tr>",
                            "<tr><td>emese</td><td>Kuruc Emese</td><td>2016-09-27</td><td>2016-09-28</td><td>3</td><td>17</td></tr>",
                            "<tr><td>emese</td><td>Kuruc Emese</td><td>2016-08-09</td><td>2016-08-12</td><td>2</td><td>17</td></tr>",
                            "<tr><td>emese</td><td>Kuruc Emese</td><td>2016-07-22</td><td>2016-07-24</td><td>2</td><td>17</td></tr>",
                            "<tr><td>eszter</td><td>Molnár Eszter</td><td>2016-08-12</td><td>2016-08-18</td><td>3</td><td>11</td></tr>",
                            "<tr><td>eszter</td><td>Molnár Eszter</td><td>2016-10-04</td><td>2016-10-10</td><td>3</td><td>11</td></tr>",
                            "<tr><td>eszter</td><td>Molnár Eszter</td><td>2016-10-26</td><td>2016-11-01</td><td>3</td><td>11</td></tr>",
                            "<tr><td>eszter</td><td>Molnár Eszter</td><td>2016-12-23</td><td>2016-12-28</td><td>2</td><td>11</td></tr>",
                            "<tr><td>eszter2</td><td>Balogh Eszter</td><td>2016-12-05</td><td>2016-12-08</td><td>2</td><td>18</td></tr>",
                            "<tr><td>eszter2</td><td>Balogh Eszter</td><td>2016-12-02</td><td>2016-12-07</td><td>1</td><td>18</td></tr>",
                            "<tr><td>eszter2</td><td>Balogh Eszter</td><td>2016-10-23</td><td>2016-10-30</td><td>1</td><td>18</td></tr>",
                            "<tr><td>eszter2</td><td>Balogh Eszter</td><td>2016-10-20</td><td>2016-10-25</td><td>1</td><td>18</td></tr>",
                            "<tr><td>eszter2</td><td>Balogh Eszter</td><td>2016-11-05</td><td>2016-11-12</td><td>4</td><td>18</td></tr>",
                            "<tr><td>eszter2</td><td>Balogh Eszter</td><td>2016-12-29</td><td>2017-02-04</td><td>1</td><td>18</td></tr>",
                            "<tr><td>eszter2</td><td>Balogh Eszter</td><td>2016-10-01</td><td>2016-10-05</td><td>3</td><td>18</td></tr>",
                            "<tr><td>eszter2</td><td>Balogh Eszter</td><td>2016-10-01</td><td>2016-10-06</td><td>1</td><td>18</td></tr>",
                            "<tr><td>eszter2</td><td>Balogh Eszter</td><td>2016-06-30</td><td>2016-07-07</td><td>3</td><td>18</td></tr>",
                            "<tr><td>eszter2</td><td>Balogh Eszter</td><td>2016-07-08</td><td>2016-07-09</td><td>1</td><td>18</td></tr>",
                            "<tr><td>eszter4</td><td>Fülöp Eszter</td><td>2017-01-26</td><td>2017-02-02</td><td>2</td><td>7</td></tr>",
                            "<tr><td>eszter4</td><td>Fülöp Eszter</td><td>2017-01-05</td><td>2017-01-10</td><td>2</td><td>7</td></tr>",
                            "<tr><td>eszter4</td><td>Fülöp Eszter</td><td>2017-02-26</td><td>2017-02-27</td><td>3</td><td>7</td></tr>",
                            "<tr><td>ESZTERE</td><td>Érsek Eszter</td><td>2017-02-10</td><td>2017-02-14</td><td>2</td><td>8</td></tr>",
                            "<tr><td>ESZTERE</td><td>Érsek Eszter</td><td>2016-11-01</td><td>2016-11-08</td><td>2</td><td>8</td></tr>",
                            "<tr><td>ESZTERE</td><td>Érsek Eszter</td><td>2016-05-30</td><td>2016-06-05</td><td>2</td><td>8</td></tr>",
                            "<tr><td>ESZTERE</td><td>Érsek Eszter</td><td>2016-07-19</td><td>2016-07-21</td><td>2</td><td>8</td></tr>",
                            "<tr><td>eva</td><td>Enyedi Éva</td><td>2016-10-06</td><td>2016-10-09</td><td>3</td><td>5</td></tr>",
                            "<tr><td>eva</td><td>Enyedi Éva</td><td>2017-01-14</td><td>2017-01-16</td><td>2</td><td>5</td></tr>",
                            "<tr><td>eva2</td><td>Perlinger Éva</td><td>2017-01-06</td><td>2017-01-09</td><td>4</td><td>9</td></tr>",
                            "<tr><td>eva2</td><td>Perlinger Éva</td><td>2016-11-06</td><td>2016-11-13</td><td>2</td><td>9</td></tr>",
                            "<tr><td>eva2</td><td>Perlinger Éva</td><td>2016-12-06</td><td>2016-12-11</td><td>2</td><td>9</td></tr>",
                            "<tr><td>eva2</td><td>Perlinger Éva</td><td>2016-09-02</td><td>2016-09-03</td><td>1</td><td>9</td></tr>",
                            "<tr><td>EVAV</td><td>Viktor Éva</td><td>2016-08-31</td><td>2016-09-04</td><td>2</td><td>15</td></tr>",
                            "<tr><td>EVAV</td><td>Viktor Éva</td><td>2016-05-01</td><td>2016-05-05</td><td>3</td><td>15</td></tr>",
                            "<tr><td>EVAV</td><td>Viktor Éva</td><td>2016-10-15</td><td>2016-10-21</td><td>3</td><td>15</td></tr>",
                            "<tr><td>EVAV</td><td>Viktor Éva</td><td>2016-10-16</td><td>2016-10-23</td><td>2</td><td>15</td></tr>",
                            "<tr><td>EVAV</td><td>Viktor Éva</td><td>2017-02-04</td><td>2017-02-11</td><td>5</td><td>15</td></tr>",
                            "<tr><td>ferenc1</td><td>Orosz Ferenc</td><td>2016-11-07</td><td>2016-11-08</td><td>3</td><td>9</td></tr>",
                            "<tr><td>ferenc1</td><td>Orosz Ferenc</td><td>2016-05-08</td><td>2016-05-11</td><td>2</td><td>9</td></tr>",
                            "<tr><td>ferenc1</td><td>Orosz Ferenc</td><td>2016-10-08</td><td>2016-10-09</td><td>2</td><td>9</td></tr>",
                            "<tr><td>ferenc1</td><td>Orosz Ferenc</td><td>2016-06-16</td><td>2016-06-22</td><td>2</td><td>9</td></tr>",
                            "<tr><td>fruzsina4</td><td>Frank Fruzsina</td><td>2016-06-02</td><td>2016-06-04</td><td>2</td><td>22</td></tr>",
                            "<tr><td>fruzsina4</td><td>Frank Fruzsina</td><td>2016-09-29</td><td>2016-10-01</td><td>3</td><td>22</td></tr>",
                            "<tr><td>fruzsina4</td><td>Frank Fruzsina</td><td>2016-07-01</td><td>2016-07-04</td><td>3</td><td>22</td></tr>",
                            "<tr><td>fruzsina4</td><td>Frank Fruzsina</td><td>2016-07-13</td><td>2016-07-19</td><td>3</td><td>22</td></tr>",
                            "<tr><td>fruzsina4</td><td>Frank Fruzsina</td><td>2016-08-27</td><td>2016-08-30</td><td>4</td><td>22</td></tr>",
                            "<tr><td>fruzsina4</td><td>Frank Fruzsina</td><td>2016-12-16</td><td>2016-12-21</td><td>1</td><td>22</td></tr>",
                            "<tr><td>fruzsina4</td><td>Frank Fruzsina</td><td>2016-11-22</td><td>2016-11-24</td><td>2</td><td>22</td></tr>",
                            "<tr><td>fruzsina4</td><td>Frank Fruzsina</td><td>2017-01-22</td><td>2017-01-25</td><td>4</td><td>22</td></tr>",
                            "<tr><td>gabor1</td><td>Köves Gábor</td><td>2016-11-19</td><td>2016-11-22</td><td>2</td><td>13</td></tr>",
                            "<tr><td>gabor1</td><td>Köves Gábor</td><td>2016-10-20</td><td>2016-10-24</td><td>1</td><td>13</td></tr>",
                            "<tr><td>gabor1</td><td>Köves Gábor</td><td>2016-09-02</td><td>2016-09-03</td><td>3</td><td>13</td></tr>",
                            "<tr><td>gabor1</td><td>Köves Gábor</td><td>2016-07-28</td><td>2016-07-30</td><td>2</td><td>13</td></tr>",
                            "<tr><td>gabor1</td><td>Köves Gábor</td><td>2016-07-12</td><td>2016-07-15</td><td>1</td><td>13</td></tr>",
                            "<tr><td>gabor1</td><td>Köves Gábor</td><td>2016-06-20</td><td>2016-06-21</td><td>4</td><td>13</td></tr>",
                            "<tr><td>gabor4</td><td>Telek Gábor</td><td>2016-05-30</td><td>2016-06-05</td><td>1</td><td>12</td></tr>",
                            "<tr><td>gabor4</td><td>Telek Gábor</td><td>2016-08-31</td><td>2016-09-06</td><td>4</td><td>12</td></tr>",
                            "<tr><td>gabor4</td><td>Telek Gábor</td><td>2016-04-26</td><td>2016-04-29</td><td>3</td><td>12</td></tr>",
                            "<tr><td>gabor4</td><td>Telek Gábor</td><td>2016-11-07</td><td>2016-11-13</td><td>4</td><td>12</td></tr>",
                            "<tr><td>gabriella1</td><td>Nagy Gabriella</td><td>2017-02-04</td><td>2017-02-11</td><td>3</td><td>16</td></tr>",
                            "<tr><td>gabriella1</td><td>Nagy Gabriella</td><td>2017-02-12</td><td>2017-02-13</td><td>2</td><td>16</td></tr>",
                            "<tr><td>gabriella1</td><td>Nagy Gabriella</td><td>2017-02-21</td><td>2017-02-27</td><td>3</td><td>16</td></tr>",
                            "<tr><td>gabriella1</td><td>Nagy Gabriella</td><td>2016-04-21</td><td>2016-04-24</td><td>3</td><td>16</td></tr>",
                            "<tr><td>gabriella1</td><td>Nagy Gabriella</td><td>2016-07-24</td><td>2016-07-31</td><td>2</td><td>16</td></tr>",
                            "<tr><td>gabriella1</td><td>Nagy Gabriella</td><td>2016-07-10</td><td>2016-07-11</td><td>3</td><td>16</td></tr>",
                            "<tr><td>gabriella10</td><td>Vida Gabriella</td><td>2016-10-01</td><td>2016-10-06</td><td>3</td><td>3</td></tr>",
                            "<tr><td>georgij</td><td>Nyíri Georgij</td><td>2016-09-18</td><td>2016-09-24</td><td>3</td><td>12</td></tr>",
                            "<tr><td>georgij</td><td>Nyíri Georgij</td><td>2016-06-16</td><td>2016-06-20</td><td>3</td><td>12</td></tr>",
                            "<tr><td>georgij</td><td>Nyíri Georgij</td><td>2016-08-28</td><td>2016-09-04</td><td>2</td><td>12</td></tr>",
                            "<tr><td>georgij</td><td>Nyíri Georgij</td><td>2016-08-16</td><td>2016-08-22</td><td>4</td><td>12</td></tr>",
                            "<tr><td>gusztav</td><td>Bárci Gusztáv</td><td>2016-08-05</td><td>2016-08-11</td><td>3</td><td>14</td></tr>",
                            "<tr><td>gusztav</td><td>Bárci Gusztáv</td><td>2016-05-06</td><td>2016-05-13</td><td>2</td><td>14</td></tr>",
                            "<tr><td>gusztav</td><td>Bárci Gusztáv</td><td>2016-10-01</td><td>2016-10-03</td><td>3</td><td>14</td></tr>",
                            "<tr><td>gusztav</td><td>Bárci Gusztáv</td><td>2017-02-23</td><td>2017-03-01</td><td>4</td><td>14</td></tr>",
                            "<tr><td>gusztav</td><td>Bárci Gusztáv</td><td>2017-02-03</td><td>2017-02-09</td><td>2</td><td>14</td></tr>",
                            "<tr><td>GYONGYIK</td><td>Kornseé Gyöngyi</td><td>2017-01-22</td><td>2017-01-29</td><td>3</td><td>16</td></tr>",
                            "<tr><td>GYONGYIK</td><td>Kornseé Gyöngyi</td><td>2016-11-08</td><td>2016-11-13</td><td>2</td><td>16</td></tr>",
                            "<tr><td>GYONGYIK</td><td>Kornseé Gyöngyi</td><td>2016-12-01</td><td>2016-12-08</td><td>2</td><td>16</td></tr>",
                            "<tr><td>GYONGYIK</td><td>Kornseé Gyöngyi</td><td>2016-07-01</td><td>2016-07-05</td><td>2</td><td>16</td></tr>",
                            "<tr><td>GYONGYIK</td><td>Kornseé Gyöngyi</td><td>2016-06-10</td><td>2016-06-17</td><td>1</td><td>16</td></tr>",
                            "<tr><td>GYONGYIK</td><td>Kornseé Gyöngyi</td><td>2016-06-02</td><td>2016-06-05</td><td>3</td><td>16</td></tr>",
                            "<tr><td>GYONGYIK</td><td>Kornseé Gyöngyi</td><td>2016-08-17</td><td>2016-08-21</td><td>3</td><td>16</td></tr>",
                            "<tr><td>GYORGYO</td><td>Oroszi György</td><td>2016-07-28</td><td>2016-08-03</td><td>3</td><td>18</td></tr>",
                            "<tr><td>GYORGYO</td><td>Oroszi György</td><td>2016-07-18</td><td>2016-07-25</td><td>2</td><td>18</td></tr>",
                            "<tr><td>GYORGYO</td><td>Oroszi György</td><td>2016-06-01</td><td>2016-06-07</td><td>2</td><td>18</td></tr>",
                            "<tr><td>GYORGYO</td><td>Oroszi György</td><td>2016-05-27</td><td>2016-05-28</td><td>3</td><td>18</td></tr>",
                            "<tr><td>GYORGYO</td><td>Oroszi György</td><td>2016-06-10</td><td>2016-06-15</td><td>2</td><td>18</td></tr>",
                            "<tr><td>GYORGYO</td><td>Oroszi György</td><td>2016-10-28</td><td>2016-10-31</td><td>1</td><td>18</td></tr>",
                            "<tr><td>GYORGYO</td><td>Oroszi György</td><td>2017-02-13</td><td>2017-02-15</td><td>2</td><td>18</td></tr>",
                            "<tr><td>GYORGYO</td><td>Oroszi György</td><td>2017-02-24</td><td>2017-02-25</td><td>3</td><td>18</td></tr>",
                            "<tr><td>henrik3</td><td>Nádudvari Henrik</td><td>2017-01-27</td><td>2017-01-28</td><td>3</td><td>7</td></tr>",
                            "<tr><td>henrik3</td><td>Nádudvari Henrik</td><td>2016-12-29</td><td>2017-01-03</td><td>3</td><td>7</td></tr>",
                            "<tr><td>henrik3</td><td>Nádudvari Henrik</td><td>2016-08-24</td><td>2016-08-28</td><td>1</td><td>7</td></tr>",
                            "<tr><td>IBOLYAA</td><td>Andor Ibolya</td><td>2016-08-29</td><td>2016-08-31</td><td>5</td><td>10</td></tr>",
                            "<tr><td>IBOLYAA</td><td>Andor Ibolya</td><td>2016-10-23</td><td>2016-10-28</td><td>2</td><td>10</td></tr>",
                            "<tr><td>IBOLYAA</td><td>Andor Ibolya</td><td>2017-01-17</td><td>2017-01-23</td><td>3</td><td>10</td></tr>",
                            "<tr><td>ilona3</td><td>Bosnyák Ilona</td><td>2016-11-04</td><td>2016-11-06</td><td>4</td><td>12</td></tr>",
                            "<tr><td>ilona3</td><td>Bosnyák Ilona</td><td>2016-12-25</td><td>2016-12-31</td><td>3</td><td>12</td></tr>",
                            "<tr><td>ilona3</td><td>Bosnyák Ilona</td><td>2016-08-04</td><td>2016-08-08</td><td>3</td><td>12</td></tr>",
                            "<tr><td>ilona3</td><td>Bosnyák Ilona</td><td>2016-07-31</td><td>2016-08-06</td><td>2</td><td>12</td></tr>",
                            "<tr><td>imre</td><td>Búza Imre</td><td>2016-09-17</td><td>2016-09-19</td><td>3</td><td>7</td></tr>",
                            "<tr><td>imre</td><td>Búza Imre</td><td>2016-10-28</td><td>2016-10-29</td><td>4</td><td>7</td></tr>",
                            "<tr><td>imre1</td><td>Papp Imre</td><td>2017-02-05</td><td>2017-02-07</td><td>4</td><td>19</td></tr>",
                            "<tr><td>imre1</td><td>Papp Imre</td><td>2017-02-01</td><td>2017-02-04</td><td>2</td><td>19</td></tr>",
                            "<tr><td>imre1</td><td>Papp Imre</td><td>2016-06-27</td><td>2016-06-28</td><td>2</td><td>19</td></tr>",
                            "<tr><td>imre1</td><td>Papp Imre</td><td>2016-06-23</td><td>2016-06-26</td><td>4</td><td>19</td></tr>",
                            "<tr><td>imre1</td><td>Papp Imre</td><td>2016-08-29</td><td>2016-08-31</td><td>2</td><td>19</td></tr>",
                            "<tr><td>imre1</td><td>Papp Imre</td><td>2016-08-21</td><td>2016-08-27</td><td>2</td><td>19</td></tr>",
                            "<tr><td>imre1</td><td>Papp Imre</td><td>2016-08-23</td><td>2016-08-25</td><td>3</td><td>19</td></tr>",
                            "<tr><td>istvan</td><td>Soós István</td><td>2016-10-07</td><td>2016-10-10</td><td>2</td><td>7</td></tr>",
                            "<tr><td>istvan</td><td>Soós István</td><td>2017-01-02</td><td>2017-01-05</td><td>2</td><td>7</td></tr>",
                            "<tr><td>istvan</td><td>Soós István</td><td>2016-11-22</td><td>2016-11-24</td><td>3</td><td>7</td></tr>",
                            "<tr><td>istvan1</td><td>Vizi István</td><td>2017-02-07</td><td>2017-02-10</td><td>3</td><td>10</td></tr>",
                            "<tr><td>istvan1</td><td>Vizi István</td><td>2016-07-19</td><td>2016-07-24</td><td>1</td><td>10</td></tr>",
                            "<tr><td>istvan1</td><td>Vizi István</td><td>2016-04-24</td><td>2016-04-28</td><td>3</td><td>10</td></tr>",
                            "<tr><td>istvan1</td><td>Vizi István</td><td>2016-04-16</td><td>2016-04-22</td><td>3</td><td>10</td></tr>",
                            "<tr><td>ISTVANV</td><td>Varga István</td><td>2016-09-29</td><td>2016-10-01</td><td>3</td><td>7</td></tr>",
                            "<tr><td>ISTVANV</td><td>Varga István</td><td>2016-07-01</td><td>2016-07-04</td><td>4</td><td>7</td></tr>",
                            "<tr><td>janos3</td><td>Harangozó János</td><td>2016-10-03</td><td>2016-10-08</td><td>3</td><td>11</td></tr>",
                            "<tr><td>janos3</td><td>Harangozó János</td><td>2016-06-04</td><td>2016-06-06</td><td>1</td><td>11</td></tr>",
                            "<tr><td>janos3</td><td>Harangozó János</td><td>2016-08-24</td><td>2016-08-25</td><td>3</td><td>11</td></tr>",
                            "<tr><td>janos3</td><td>Harangozó János</td><td>2017-02-12</td><td>2017-02-14</td><td>3</td><td>11</td></tr>",
                            "<tr><td>janos3</td><td>Harangozó János</td><td>2016-10-22</td><td>2016-10-23</td><td>1</td><td>11</td></tr>",
                            "<tr><td>JANOSG</td><td>Giliga János</td><td>2016-11-07</td><td>2016-11-14</td><td>3</td><td>16</td></tr>",
                            "<tr><td>JANOSG</td><td>Giliga János</td><td>2016-12-28</td><td>2016-12-30</td><td>2</td><td>16</td></tr>",
                            "<tr><td>JANOSG</td><td>Giliga János</td><td>2017-01-31</td><td>2017-02-05</td><td>2</td><td>16</td></tr>",
                            "<tr><td>JANOSG</td><td>Giliga János</td><td>2017-01-10</td><td>2017-01-15</td><td>2</td><td>16</td></tr>",
                            "<tr><td>JANOSG</td><td>Giliga János</td><td>2016-08-30</td><td>2016-09-03</td><td>3</td><td>16</td></tr>",
                            "<tr><td>JANOSG</td><td>Giliga János</td><td>2016-08-16</td><td>2016-08-23</td><td>3</td><td>16</td></tr>",
                            "<tr><td>JANOSG</td><td>Giliga János</td><td>2016-05-09</td><td>2016-05-15</td><td>1</td><td>16</td></tr>",
                            "<tr><td>JANOSP</td><td>Pálinkás János</td><td>2016-07-04</td><td>2016-07-11</td><td>3</td><td>9</td></tr>",
                            "<tr><td>JANOSP</td><td>Pálinkás János</td><td>2016-12-18</td><td>2016-12-21</td><td>2</td><td>9</td></tr>",
                            "<tr><td>JANOSP</td><td>Pálinkás János</td><td>2016-11-23</td><td>2016-11-28</td><td>2</td><td>9</td></tr>",
                            "<tr><td>JANOSP</td><td>Pálinkás János</td><td>2016-11-25</td><td>2016-11-27</td><td>2</td><td>9</td></tr>",
                            "<tr><td>jozsef</td><td>Gergely József</td><td>2016-12-06</td><td>2016-12-07</td><td>2</td><td>6</td></tr>",
                            "<tr><td>jozsef</td><td>Gergely József</td><td>2016-10-08</td><td>2016-10-10</td><td>2</td><td>6</td></tr>",
                            "<tr><td>jozsef</td><td>Gergely József</td><td>2016-09-13</td><td>2016-09-19</td><td>2</td><td>6</td></tr>",
                            "<tr><td>jozsef2</td><td>Vajda József</td><td>2016-09-09</td><td>2016-09-15</td><td>2</td><td>13</td></tr>",
                            "<tr><td>jozsef2</td><td>Vajda József</td><td>2016-07-06</td><td>2016-07-11</td><td>2</td><td>13</td></tr>",
                            "<tr><td>jozsef2</td><td>Vajda József</td><td>2016-07-16</td><td>2016-07-20</td><td>3</td><td>13</td></tr>",
                            "<tr><td>jozsef2</td><td>Vajda József</td><td>2016-11-23</td><td>2016-11-29</td><td>3</td><td>13</td></tr>",
                            "<tr><td>jozsef2</td><td>Vajda József</td><td>2016-11-25</td><td>2016-11-29</td><td>3</td><td>13</td></tr>",
                            "<tr><td>JOZSEFG</td><td>Gyuris József</td><td>2017-01-09</td><td>2017-01-13</td><td>2</td><td>16</td></tr>",
                            "<tr><td>JOZSEFG</td><td>Gyuris József</td><td>2017-01-22</td><td>2017-01-26</td><td>1</td><td>16</td></tr>",
                            "<tr><td>JOZSEFG</td><td>Gyuris József</td><td>2017-02-24</td><td>2017-03-03</td><td>3</td><td>16</td></tr>",
                            "<tr><td>JOZSEFG</td><td>Gyuris József</td><td>2016-05-02</td><td>2016-05-06</td><td>2</td><td>16</td></tr>",
                            "<tr><td>JOZSEFG</td><td>Gyuris József</td><td>2016-08-24</td><td>2016-08-27</td><td>3</td><td>16</td></tr>",
                            "<tr><td>JOZSEFG</td><td>Gyuris József</td><td>2016-06-04</td><td>2016-06-09</td><td>4</td><td>16</td></tr>",
                            "<tr><td>JOZSEFG</td><td>Gyuris József</td><td>2016-05-23</td><td>2016-05-25</td><td>1</td><td>16</td></tr>",
                            "<tr><td>JUDITH</td><td>Hídasi Judit</td><td>2016-06-06</td><td>2016-06-10</td><td>2</td><td>5</td></tr>",
                            "<tr><td>JUDITH</td><td>Hídasi Judit</td><td>2016-07-28</td><td>2016-07-30</td><td>2</td><td>5</td></tr>",
                            "<tr><td>JUDITH</td><td>Hídasi Judit</td><td>2016-12-19</td><td>2016-12-26</td><td>1</td><td>5</td></tr>",
                            "<tr><td>julia</td><td>Tóth Júlia</td><td>2017-02-27</td><td>2017-03-06</td><td>3</td><td>13</td></tr>",
                            "<tr><td>julia</td><td>Tóth Júlia</td><td>2016-04-21</td><td>2016-04-26</td><td>2</td><td>13</td></tr>",
                            "<tr><td>julia</td><td>Tóth Júlia</td><td>2016-07-20</td><td>2016-07-22</td><td>2</td><td>13</td></tr>",
                            "<tr><td>julia</td><td>Tóth Júlia</td><td>2016-05-12</td><td>2016-05-17</td><td>1</td><td>13</td></tr>",
                            "<tr><td>julia</td><td>Tóth Júlia</td><td>2016-06-07</td><td>2016-06-08</td><td>5</td><td>13</td></tr>",
                            "<tr><td>julia4</td><td>Nagy Júlia</td><td>2017-02-04</td><td>2017-02-11</td><td>4</td><td>5</td></tr>",
                            "<tr><td>julia4</td><td>Nagy Júlia</td><td>2016-11-07</td><td>2016-11-12</td><td>1</td><td>5</td></tr>",
                            "<tr><td>julianna4</td><td>Szabó Julianna</td><td>2016-11-03</td><td>2016-11-04</td><td>2</td><td>10</td></tr>",
                            "<tr><td>julianna4</td><td>Szabó Julianna</td><td>2016-10-29</td><td>2016-10-31</td><td>3</td><td>10</td></tr>",
                            "<tr><td>julianna4</td><td>Szabó Julianna</td><td>2016-11-27</td><td>2016-12-04</td><td>3</td><td>10</td></tr>",
                            "<tr><td>julianna4</td><td>Szabó Julianna</td><td>2016-07-20</td><td>2016-07-26</td><td>2</td><td>10</td></tr>",
                            "<tr><td>kata</td><td>Gondos Katalin</td><td>2016-04-10</td><td>2016-04-11</td><td>2</td><td>23</td></tr>",
                            "<tr><td>kata</td><td>Gondos Katalin</td><td>2016-04-25</td><td>2016-05-01</td><td>1</td><td>23</td></tr>",
                            "<tr><td>kata</td><td>Gondos Katalin</td><td>2016-08-24</td><td>2016-08-27</td><td>3</td><td>23</td></tr>",
                            "<tr><td>kata</td><td>Gondos Katalin</td><td>2016-06-07</td><td>2016-06-12</td><td>2</td><td>23</td></tr>",
                            "<tr><td>kata</td><td>Gondos Katalin</td><td>2016-05-31</td><td>2016-06-01</td><td>3</td><td>23</td></tr>",
                            "<tr><td>kata</td><td>Gondos Katalin</td><td>2016-07-01</td><td>2016-07-07</td><td>2</td><td>23</td></tr>",
                            "<tr><td>kata</td><td>Gondos Katalin</td><td>2016-07-03</td><td>2016-07-06</td><td>1</td><td>23</td></tr>",
                            "<tr><td>kata</td><td>Gondos Katalin</td><td>2016-07-07</td><td>2016-07-09</td><td>3</td><td>23</td></tr>",
                            "<tr><td>kata</td><td>Gondos Katalin</td><td>2016-09-19</td><td>2016-09-20</td><td>3</td><td>23</td></tr>",
                            "<tr><td>kata</td><td>Gondos Katalin</td><td>2017-01-15</td><td>2017-01-21</td><td>3</td><td>23</td></tr>",
                            "<tr><td>katalin</td><td>Horváth Katalin</td><td>2017-02-24</td><td>2017-02-27</td><td>3</td><td>15</td></tr>",
                            "<tr><td>katalin</td><td>Horváth Katalin</td><td>2016-12-24</td><td>2016-12-27</td><td>2</td><td>15</td></tr>",
                            "<tr><td>katalin</td><td>Horváth Katalin</td><td>2016-12-17</td><td>2016-12-24</td><td>1</td><td>15</td></tr>",
                            "<tr><td>katalin</td><td>Horváth Katalin</td><td>2016-12-13</td><td>2016-12-19</td><td>2</td><td>15</td></tr>",
                            "<tr><td>katalin</td><td>Horváth Katalin</td><td>2016-10-26</td><td>2016-10-30</td><td>2</td><td>15</td></tr>",
                            "<tr><td>katalin</td><td>Horváth Katalin</td><td>2016-07-06</td><td>2016-07-11</td><td>1</td><td>15</td></tr>",
                            "<tr><td>katalin</td><td>Horváth Katalin</td><td>2016-07-28</td><td>2016-07-29</td><td>1</td><td>15</td></tr>",
                            "<tr><td>katalin</td><td>Horváth Katalin</td><td>2016-04-10</td><td>2016-04-17</td><td>2</td><td>15</td></tr>",
                            "<tr><td>katalin</td><td>Horváth Katalin</td><td>2016-05-21</td><td>2016-05-26</td><td>1</td><td>15</td></tr>",
                            "<tr><td>katalin4</td><td>Kertész Katalin</td><td>2016-07-03</td><td>2016-07-04</td><td>4</td><td>15</td></tr>",
                            "<tr><td>katalin4</td><td>Kertész Katalin</td><td>2016-07-01</td><td>2016-07-07</td><td>1</td><td>15</td></tr>",
                            "<tr><td>katalin4</td><td>Kertész Katalin</td><td>2016-12-04</td><td>2016-12-09</td><td>3</td><td>15</td></tr>",
                            "<tr><td>katalin4</td><td>Kertész Katalin</td><td>2016-11-27</td><td>2016-12-04</td><td>3</td><td>15</td></tr>",
                            "<tr><td>katalin4</td><td>Kertész Katalin</td><td>2017-01-24</td><td>2017-01-31</td><td>2</td><td>15</td></tr>",
                            "<tr><td>katalin4</td><td>Kertész Katalin</td><td>2017-01-18</td><td>2017-01-20</td><td>2</td><td>15</td></tr>",
                            "<tr><td>kati</td><td>Zatykó Katalin</td><td>2016-10-26</td><td>2016-10-28</td><td>2</td><td>16</td></tr>",
                            "<tr><td>kati</td><td>Zatykó Katalin</td><td>2016-10-30</td><td>2016-11-01</td><td>3</td><td>16</td></tr>",
                            "<tr><td>kati</td><td>Zatykó Katalin</td><td>2016-06-06</td><td>2016-06-10</td><td>2</td><td>16</td></tr>",
                            "<tr><td>kati</td><td>Zatykó Katalin</td><td>2016-06-06</td><td>2016-06-11</td><td>3</td><td>16</td></tr>",
                            "<tr><td>kati</td><td>Zatykó Katalin</td><td>2016-07-13</td><td>2016-07-20</td><td>2</td><td>16</td></tr>",
                            "<tr><td>kati</td><td>Zatykó Katalin</td><td>2016-08-03</td><td>2016-08-07</td><td>2</td><td>16</td></tr>",
                            "<tr><td>kati</td><td>Zatykó Katalin</td><td>2016-07-27</td><td>2016-08-03</td><td>2</td><td>16</td></tr>",
                            "<tr><td>katka</td><td>Kovács Katalin</td><td>2016-08-24</td><td>2016-08-26</td><td>2</td><td>25</td></tr>",
                            "<tr><td>katka</td><td>Kovács Katalin</td><td>2016-05-09</td><td>2016-05-15</td><td>3</td><td>25</td></tr>",
                            "<tr><td>katka</td><td>Kovács Katalin</td><td>2016-04-10</td><td>2016-04-12</td><td>2</td><td>25</td></tr>",
                            "<tr><td>katka</td><td>Kovács Katalin</td><td>2016-06-13</td><td>2016-06-18</td><td>1</td><td>25</td></tr>",
                            "<tr><td>katka</td><td>Kovács Katalin</td><td>2016-06-13</td><td>2016-06-19</td><td>4</td><td>25</td></tr>",
                            "<tr><td>katka</td><td>Kovács Katalin</td><td>2016-09-05</td><td>2016-09-10</td><td>4</td><td>25</td></tr>",
                            "<tr><td>katka</td><td>Kovács Katalin</td><td>2016-11-05</td><td>2016-11-08</td><td>3</td><td>25</td></tr>",
                            "<tr><td>katka</td><td>Kovács Katalin</td><td>2017-01-19</td><td>2017-01-20</td><td>3</td><td>25</td></tr>",
                            "<tr><td>katka</td><td>Kovács Katalin</td><td>2017-01-02</td><td>2017-01-05</td><td>3</td><td>25</td></tr>",
                            "<tr><td>klaudia2</td><td>Bakó Klaudia</td><td>2016-10-02</td><td>2016-10-05</td><td>2</td><td>8</td></tr>",
                            "<tr><td>klaudia2</td><td>Bakó Klaudia</td><td>2016-10-01</td><td>2016-10-02</td><td>2</td><td>8</td></tr>",
                            "<tr><td>klaudia2</td><td>Bakó Klaudia</td><td>2016-06-06</td><td>2016-06-08</td><td>4</td><td>8</td></tr>",
                            "<tr><td>kornel4</td><td>Lukács Kornél</td><td>2016-06-02</td><td>2016-06-09</td><td>3</td><td>9</td></tr>",
                            "<tr><td>kornel4</td><td>Lukács Kornél</td><td>2016-09-23</td><td>2016-09-24</td><td>3</td><td>9</td></tr>",
                            "<tr><td>kornel4</td><td>Lukács Kornél</td><td>2016-05-08</td><td>2016-05-14</td><td>3</td><td>9</td></tr>",
                            "<tr><td>kristof4</td><td>Poprádi Kristóf</td><td>2016-04-08</td><td>2016-04-14</td><td>2</td><td>4</td></tr>",
                            "<tr><td>kristof4</td><td>Poprádi Kristóf</td><td>2016-09-30</td><td>2016-10-04</td><td>2</td><td>4</td></tr>",
                            "<tr><td>kriszti</td><td>Horváth Krisztina</td><td>2016-09-30</td><td>2016-10-05</td><td>3</td><td>17</td></tr>",
                            "<tr><td>kriszti</td><td>Horváth Krisztina</td><td>2016-10-01</td><td>2016-10-02</td><td>3</td><td>17</td></tr>",
                            "<tr><td>kriszti</td><td>Horváth Krisztina</td><td>2016-05-19</td><td>2016-05-26</td><td>2</td><td>17</td></tr>",
                            "<tr><td>kriszti</td><td>Horváth Krisztina</td><td>2016-08-24</td><td>2016-08-25</td><td>3</td><td>17</td></tr>",
                            "<tr><td>kriszti</td><td>Horváth Krisztina</td><td>2017-02-04</td><td>2017-02-11</td><td>3</td><td>17</td></tr>",
                            "<tr><td>kriszti</td><td>Horváth Krisztina</td><td>2017-03-03</td><td>2017-03-04</td><td>3</td><td>17</td></tr>",
                            "<tr><td>krisztian4</td><td>Czérna Krisztián</td><td>2017-02-23</td><td>2017-03-02</td><td>2</td><td>24</td></tr>",
                            "<tr><td>krisztian4</td><td>Czérna Krisztián</td><td>2017-01-06</td><td>2017-01-09</td><td>1</td><td>24</td></tr>",
                            "<tr><td>krisztian4</td><td>Czérna Krisztián</td><td>2017-01-16</td><td>2017-01-23</td><td>3</td><td>24</td></tr>",
                            "<tr><td>krisztian4</td><td>Czérna Krisztián</td><td>2016-11-02</td><td>2016-11-03</td><td>2</td><td>24</td></tr>",
                            "<tr><td>krisztian4</td><td>Czérna Krisztián</td><td>2016-10-17</td><td>2016-10-22</td><td>3</td><td>24</td></tr>",
                            "<tr><td>krisztian4</td><td>Czérna Krisztián</td><td>2016-12-11</td><td>2016-12-18</td><td>2</td><td>24</td></tr>",
                            "<tr><td>krisztian4</td><td>Czérna Krisztián</td><td>2016-08-29</td><td>2016-09-03</td><td>1</td><td>24</td></tr>",
                            "<tr><td>krisztian4</td><td>Czérna Krisztián</td><td>2016-08-16</td><td>2016-08-19</td><td>1</td><td>24</td></tr>",
                            "<tr><td>krisztian4</td><td>Czérna Krisztián</td><td>2016-07-28</td><td>2016-08-01</td><td>2</td><td>24</td></tr>",
                            "<tr><td>krisztian4</td><td>Czérna Krisztián</td><td>2016-08-01</td><td>2016-08-04</td><td>3</td><td>24</td></tr>",
                            "<tr><td>krisztian4</td><td>Czérna Krisztián</td><td>2016-06-03</td><td>2016-06-04</td><td>2</td><td>24</td></tr>",
                            "<tr><td>krisztian4</td><td>Czérna Krisztián</td><td>2016-06-07</td><td>2016-06-09</td><td>2</td><td>24</td></tr>",
                            "<tr><td>KRISZTIANM</td><td>Mogyródi Krisztián</td><td>2016-06-04</td><td>2016-06-08</td><td>2</td><td>14</td></tr>",
                            "<tr><td>KRISZTIANM</td><td>Mogyródi Krisztián</td><td>2016-07-09</td><td>2016-07-14</td><td>3</td><td>14</td></tr>",
                            "<tr><td>KRISZTIANM</td><td>Mogyródi Krisztián</td><td>2016-08-02</td><td>2016-08-08</td><td>4</td><td>14</td></tr>",
                            "<tr><td>KRISZTIANM</td><td>Mogyródi Krisztián</td><td>2016-04-09</td><td>2016-04-15</td><td>2</td><td>14</td></tr>",
                            "<tr><td>KRISZTIANM</td><td>Mogyródi Krisztián</td><td>2016-12-25</td><td>2016-12-31</td><td>2</td><td>14</td></tr>",
                            "<tr><td>KRISZTIANM</td><td>Mogyródi Krisztián</td><td>2017-01-16</td><td>2017-01-23</td><td>1</td><td>14</td></tr>",
                            "<tr><td>krisztina</td><td>Szedlár Krisztina</td><td>2017-02-05</td><td>2017-02-07</td><td>2</td><td>17</td></tr>",
                            "<tr><td>krisztina</td><td>Szedlár Krisztina</td><td>2017-02-16</td><td>2017-02-20</td><td>4</td><td>17</td></tr>",
                            "<tr><td>krisztina</td><td>Szedlár Krisztina</td><td>2016-11-22</td><td>2016-11-25</td><td>1</td><td>17</td></tr>",
                            "<tr><td>krisztina</td><td>Szedlár Krisztina</td><td>2016-11-08</td><td>2016-11-12</td><td>2</td><td>17</td></tr>",
                            "<tr><td>krisztina</td><td>Szedlár Krisztina</td><td>2016-05-21</td><td>2016-05-27</td><td>2</td><td>17</td></tr>",
                            "<tr><td>krisztina</td><td>Szedlár Krisztina</td><td>2016-07-05</td><td>2016-07-12</td><td>3</td><td>17</td></tr>",
                            "<tr><td>krisztina</td><td>Szedlár Krisztina</td><td>2016-09-13</td><td>2016-09-16</td><td>1</td><td>17</td></tr>",
                            "<tr><td>krisztina</td><td>Szedlár Krisztina</td><td>2016-09-19</td><td>2016-09-26</td><td>2</td><td>17</td></tr>",
                            "<tr><td>krisztina1</td><td>Bori Krisztina</td><td>2016-09-15</td><td>2016-09-20</td><td>3</td><td>14</td></tr>",
                            "<tr><td>krisztina1</td><td>Bori Krisztina</td><td>2016-06-16</td><td>2016-06-22</td><td>2</td><td>14</td></tr>",
                            "<tr><td>krisztina1</td><td>Bori Krisztina</td><td>2016-05-16</td><td>2016-05-20</td><td>1</td><td>14</td></tr>",
                            "<tr><td>krisztina1</td><td>Bori Krisztina</td><td>2016-04-28</td><td>2016-04-30</td><td>2</td><td>14</td></tr>",
                            "<tr><td>krisztina1</td><td>Bori Krisztina</td><td>2016-10-29</td><td>2016-10-30</td><td>4</td><td>14</td></tr>",
                            "<tr><td>krisztina1</td><td>Bori Krisztina</td><td>2017-01-21</td><td>2017-01-24</td><td>2</td><td>14</td></tr>",
                            "<tr><td>KRISZTINAG</td><td>Gyárfás Krisztina</td><td>2017-01-25</td><td>2017-01-30</td><td>2</td><td>9</td></tr>",
                            "<tr><td>KRISZTINAG</td><td>Gyárfás Krisztina</td><td>2016-04-23</td><td>2016-04-24</td><td>2</td><td>9</td></tr>",
                            "<tr><td>KRISZTINAG</td><td>Gyárfás Krisztina</td><td>2016-08-08</td><td>2016-08-12</td><td>3</td><td>9</td></tr>",
                            "<tr><td>KRISZTINAG</td><td>Gyárfás Krisztina</td><td>2016-06-08</td><td>2016-06-12</td><td>1</td><td>9</td></tr>",
                            "<tr><td>KRISZTINAG</td><td>Gyárfás Krisztina</td><td>2016-05-24</td><td>2016-05-31</td><td>1</td><td>9</td></tr>",
                            "<tr><td>lajos</td><td>Kiss Lajos</td><td>2016-07-18</td><td>2016-07-21</td><td>2</td><td>7</td></tr>",
                            "<tr><td>lajos</td><td>Kiss Lajos</td><td>2017-02-12</td><td>2017-02-13</td><td>1</td><td>7</td></tr>",
                            "<tr><td>lajos</td><td>Kiss Lajos</td><td>2016-12-25</td><td>2016-12-28</td><td>4</td><td>7</td></tr>",
                            "<tr><td>lala</td><td>Nagymihály Lajos</td><td>2016-10-30</td><td>2016-10-31</td><td>3</td><td>16</td></tr>",
                            "<tr><td>lala</td><td>Nagymihály Lajos</td><td>2017-01-17</td><td>2017-01-19</td><td>2</td><td>16</td></tr>",
                            "<tr><td>lala</td><td>Nagymihály Lajos</td><td>2017-01-08</td><td>2017-01-10</td><td>3</td><td>16</td></tr>",
                            "<tr><td>lala</td><td>Nagymihály Lajos</td><td>2016-07-20</td><td>2016-07-21</td><td>3</td><td>16</td></tr>",
                            "<tr><td>lala</td><td>Nagymihály Lajos</td><td>2016-07-26</td><td>2016-07-27</td><td>3</td><td>16</td></tr>",
                            "<tr><td>lala</td><td>Nagymihály Lajos</td><td>2016-06-16</td><td>2016-06-22</td><td>2</td><td>16</td></tr>",
                            "<tr><td>laszlo1</td><td>Farkas László</td><td>2016-09-23</td><td>2016-09-30</td><td>3</td><td>3</td></tr>",
                            "<tr><td>laszlo2</td><td>Móra László</td><td>2016-09-05</td><td>2016-09-10</td><td>3</td><td>13</td></tr>",
                            "<tr><td>laszlo2</td><td>Móra László</td><td>2016-08-14</td><td>2016-08-15</td><td>3</td><td>13</td></tr>",
                            "<tr><td>laszlo2</td><td>Móra László</td><td>2016-04-27</td><td>2016-04-29</td><td>2</td><td>13</td></tr>",
                            "<tr><td>laszlo2</td><td>Móra László</td><td>2016-04-06</td><td>2016-04-10</td><td>2</td><td>13</td></tr>",
                            "<tr><td>laszlo2</td><td>Móra László</td><td>2016-11-25</td><td>2016-11-26</td><td>3</td><td>13</td></tr>",
                            "<tr><td>LASZLOA</td><td>Antal László</td><td>2017-02-08</td><td>2017-02-14</td><td>2</td><td>8</td></tr>",
                            "<tr><td>LASZLOA</td><td>Antal László</td><td>2016-06-10</td><td>2016-06-13</td><td>3</td><td>8</td></tr>",
                            "<tr><td>LASZLOA</td><td>Antal László</td><td>2016-06-07</td><td>2016-06-11</td><td>1</td><td>8</td></tr>",
                            "<tr><td>LASZLOA</td><td>Antal László</td><td>2016-06-03</td><td>2016-06-09</td><td>2</td><td>8</td></tr>",
                            "<tr><td>LASZLON</td><td>Nagy László</td><td>2016-06-03</td><td>2016-06-06</td><td>1</td><td>11</td></tr>",
                            "<tr><td>LASZLON</td><td>Nagy László</td><td>2016-06-08</td><td>2016-06-09</td><td>2</td><td>11</td></tr>",
                            "<tr><td>LASZLON</td><td>Nagy László</td><td>2016-10-01</td><td>2016-10-04</td><td>3</td><td>11</td></tr>",
                            "<tr><td>LASZLON</td><td>Nagy László</td><td>2017-02-18</td><td>2017-02-25</td><td>3</td><td>11</td></tr>",
                            "<tr><td>LASZLON</td><td>Nagy László</td><td>2016-11-29</td><td>2016-12-04</td><td>1</td><td>11</td></tr>",
                            "<tr><td>LASZLON</td><td>Nagy László</td><td>2016-10-09</td><td>2016-10-14</td><td>1</td><td>11</td></tr>",
                            "<tr><td>maria1</td><td>Baráth Mária</td><td>2016-11-08</td><td>2016-11-12</td><td>3</td><td>15</td></tr>",
                            "<tr><td>maria1</td><td>Baráth Mária</td><td>2017-02-24</td><td>2017-03-02</td><td>2</td><td>15</td></tr>",
                            "<tr><td>maria1</td><td>Baráth Mária</td><td>2016-06-23</td><td>2016-06-27</td><td>1</td><td>15</td></tr>",
                            "<tr><td>maria1</td><td>Baráth Mária</td><td>2016-05-28</td><td>2016-06-03</td><td>2</td><td>15</td></tr>",
                            "<tr><td>maria1</td><td>Baráth Mária</td><td>2016-05-13</td><td>2016-05-18</td><td>2</td><td>15</td></tr>",
                            "<tr><td>maria1</td><td>Baráth Mária</td><td>2016-05-18</td><td>2016-05-19</td><td>1</td><td>15</td></tr>",
                            "<tr><td>maria1</td><td>Baráth Mária</td><td>2016-09-02</td><td>2016-09-05</td><td>1</td><td>15</td></tr>",
                            "<tr><td>maria1</td><td>Baráth Mária</td><td>2016-08-11</td><td>2016-08-14</td><td>3</td><td>15</td></tr>",
                            "<tr><td>mark</td><td>Kispál Márk</td><td>2016-08-09</td><td>2016-08-16</td><td>3</td><td>13</td></tr>",
                            "<tr><td>mark</td><td>Kispál Márk</td><td>2016-04-19</td><td>2016-04-26</td><td>4</td><td>13</td></tr>",
                            "<tr><td>mark</td><td>Kispál Márk</td><td>2016-06-13</td><td>2016-06-18</td><td>3</td><td>13</td></tr>",
                            "<tr><td>mark</td><td>Kispál Márk</td><td>2016-10-20</td><td>2016-10-27</td><td>1</td><td>13</td></tr>",
                            "<tr><td>mark</td><td>Kispál Márk</td><td>2016-11-19</td><td>2016-11-22</td><td>2</td><td>13</td></tr>",
                            "<tr><td>MARKH</td><td>Horváth Márk</td><td>2017-01-22</td><td>2017-01-29</td><td>4</td><td>13</td></tr>",
                            "<tr><td>MARKH</td><td>Horváth Márk</td><td>2016-09-23</td><td>2016-09-30</td><td>2</td><td>13</td></tr>",
                            "<tr><td>MARKH</td><td>Horváth Márk</td><td>2016-09-14</td><td>2016-09-17</td><td>3</td><td>13</td></tr>",
                            "<tr><td>MARKH</td><td>Horváth Márk</td><td>2016-09-26</td><td>2016-10-01</td><td>4</td><td>13</td></tr>",
                            "<tr><td>marton</td><td>Kalacsi Márton</td><td>2016-09-10</td><td>2016-09-12</td><td>2</td><td>15</td></tr>",
                            "<tr><td>marton</td><td>Kalacsi Márton</td><td>2016-06-22</td><td>2016-06-29</td><td>2</td><td>15</td></tr>",
                            "<tr><td>marton</td><td>Kalacsi Márton</td><td>2016-06-06</td><td>2016-06-08</td><td>3</td><td>15</td></tr>",
                            "<tr><td>marton</td><td>Kalacsi Márton</td><td>2016-04-27</td><td>2016-05-04</td><td>3</td><td>15</td></tr>",
                            "<tr><td>marton</td><td>Kalacsi Márton</td><td>2016-05-05</td><td>2016-05-10</td><td>1</td><td>15</td></tr>",
                            "<tr><td>marton</td><td>Kalacsi Márton</td><td>2016-08-12</td><td>2016-08-17</td><td>2</td><td>15</td></tr>",
                            "<tr><td>marton</td><td>Kalacsi Márton</td><td>2017-03-02</td><td>2017-03-03</td><td>2</td><td>15</td></tr>",
                            "<tr><td>MATEK</td><td>Koza Máté</td><td>2017-01-16</td><td>2017-01-22</td><td>2</td><td>8</td></tr>",
                            "<tr><td>MATEK</td><td>Koza Máté</td><td>2016-08-17</td><td>2016-08-21</td><td>4</td><td>8</td></tr>",
                            "<tr><td>MATEK</td><td>Koza Máté</td><td>2016-10-01</td><td>2016-10-04</td><td>2</td><td>8</td></tr>",
                            "<tr><td>matyas2</td><td>Botka Mátyás</td><td>2016-07-13</td><td>2016-07-16</td><td>2</td><td>5</td></tr>",
                            "<tr><td>matyas2</td><td>Botka Mátyás</td><td>2016-12-09</td><td>2016-12-13</td><td>3</td><td>5</td></tr>",
                            "<tr><td>MATYASS</td><td>Szilágyi Mátyás</td><td>2016-12-20</td><td>2016-12-25</td><td>2</td><td>17</td></tr>",
                            "<tr><td>MATYASS</td><td>Szilágyi Mátyás</td><td>2016-10-24</td><td>2016-10-31</td><td>1</td><td>17</td></tr>",
                            "<tr><td>MATYASS</td><td>Szilágyi Mátyás</td><td>2016-10-09</td><td>2016-10-15</td><td>3</td><td>17</td></tr>",
                            "<tr><td>MATYASS</td><td>Szilágyi Mátyás</td><td>2016-10-30</td><td>2016-11-04</td><td>3</td><td>17</td></tr>",
                            "<tr><td>MATYASS</td><td>Szilágyi Mátyás</td><td>2017-01-09</td><td>2017-01-13</td><td>2</td><td>17</td></tr>",
                            "<tr><td>MATYASS</td><td>Szilágyi Mátyás</td><td>2016-05-10</td><td>2016-05-16</td><td>2</td><td>17</td></tr>",
                            "<tr><td>MATYASS</td><td>Szilágyi Mátyás</td><td>2016-07-23</td><td>2016-07-25</td><td>3</td><td>17</td></tr>",
                            "<tr><td>MATYASS</td><td>Szilágyi Mátyás</td><td>2016-06-02</td><td>2016-06-08</td><td>1</td><td>17</td></tr>",
                            "<tr><td>MIHALYJ</td><td>Juhász Mihály</td><td>2016-05-30</td><td>2016-06-01</td><td>2</td><td>11</td></tr>",
                            "<tr><td>MIHALYJ</td><td>Juhász Mihály</td><td>2016-06-27</td><td>2016-07-01</td><td>1</td><td>11</td></tr>",
                            "<tr><td>MIHALYJ</td><td>Juhász Mihály</td><td>2016-08-29</td><td>2016-09-03</td><td>1</td><td>11</td></tr>",
                            "<tr><td>MIHALYJ</td><td>Juhász Mihály</td><td>2017-02-06</td><td>2017-02-12</td><td>4</td><td>11</td></tr>",
                            "<tr><td>MIHALYJ</td><td>Juhász Mihály</td><td>2016-11-01</td><td>2016-11-04</td><td>3</td><td>11</td></tr>",
                            "<tr><td>miklos2</td><td>Gondos Miklós</td><td>2016-10-08</td><td>2016-10-09</td><td>1</td><td>7</td></tr>",
                            "<tr><td>miklos2</td><td>Gondos Miklós</td><td>2016-11-16</td><td>2016-11-18</td><td>3</td><td>7</td></tr>",
                            "<tr><td>miklos2</td><td>Gondos Miklós</td><td>2016-04-19</td><td>2016-04-21</td><td>3</td><td>7</td></tr>",
                            "<tr><td>MIKLOSB</td><td>Balla Miklós</td><td>2016-07-18</td><td>2016-07-21</td><td>2</td><td>6</td></tr>",
                            "<tr><td>MIKLOSB</td><td>Balla Miklós</td><td>2016-06-26</td><td>2016-06-30</td><td>2</td><td>6</td></tr>",
                            "<tr><td>MIKLOSB</td><td>Balla Miklós</td><td>2016-12-05</td><td>2016-12-10</td><td>2</td><td>6</td></tr>",
                            "<tr><td>MONIKAM</td><td>Mohos Mónika</td><td>2016-11-09</td><td>2016-11-16</td><td>2</td><td>10</td></tr>",
                            "<tr><td>MONIKAM</td><td>Mohos Mónika</td><td>2017-02-06</td><td>2017-02-09</td><td>2</td><td>10</td></tr>",
                            "<tr><td>MONIKAM</td><td>Mohos Mónika</td><td>2017-01-17</td><td>2017-01-24</td><td>1</td><td>10</td></tr>",
                            "<tr><td>MONIKAM</td><td>Mohos Mónika</td><td>2017-02-23</td><td>2017-02-26</td><td>2</td><td>10</td></tr>",
                            "<tr><td>MONIKAM</td><td>Mohos Mónika</td><td>2016-04-29</td><td>2016-05-01</td><td>2</td><td>10</td></tr>",
                            "<tr><td>MONIKAM</td><td>Mohos Mónika</td><td>2016-07-23</td><td>2016-07-30</td><td>1</td><td>10</td></tr>",
                            "<tr><td>NANDORF</td><td>Fő Nándor</td><td>2016-04-06</td><td>2016-04-10</td><td>3</td><td>9</td></tr>",
                            "<tr><td>NANDORF</td><td>Fő Nándor</td><td>2017-02-05</td><td>2017-02-08</td><td>3</td><td>9</td></tr>",
                            "<tr><td>NANDORF</td><td>Fő Nándor</td><td>2016-11-03</td><td>2016-11-04</td><td>3</td><td>9</td></tr>",
                            "<tr><td>nikolett3</td><td>Horváth Nikolett</td><td>2016-10-22</td><td>2016-10-29</td><td>3</td><td>7</td></tr>",
                            "<tr><td>nikolett3</td><td>Horváth Nikolett</td><td>2016-06-22</td><td>2016-06-24</td><td>1</td><td>7</td></tr>",
                            "<tr><td>nikolett3</td><td>Horváth Nikolett</td><td>2016-05-24</td><td>2016-05-29</td><td>2</td><td>7</td></tr>",
                            "<tr><td>nikolett3</td><td>Horváth Nikolett</td><td>2016-06-03</td><td>2016-06-09</td><td>1</td><td>7</td></tr>",
                            "<tr><td>nikoletta4</td><td>Kő Nikoletta</td><td>2016-05-30</td><td>2016-06-03</td><td>3</td><td>19</td></tr>",
                            "<tr><td>nikoletta4</td><td>Kő Nikoletta</td><td>2016-06-29</td><td>2016-07-06</td><td>2</td><td>19</td></tr>",
                            "<tr><td>nikoletta4</td><td>Kő Nikoletta</td><td>2016-04-08</td><td>2016-04-10</td><td>2</td><td>19</td></tr>",
                            "<tr><td>nikoletta4</td><td>Kő Nikoletta</td><td>2016-05-09</td><td>2016-05-15</td><td>2</td><td>19</td></tr>",
                            "<tr><td>nikoletta4</td><td>Kő Nikoletta</td><td>2016-08-13</td><td>2016-08-17</td><td>3</td><td>19</td></tr>",
                            "<tr><td>nikoletta4</td><td>Kő Nikoletta</td><td>2016-12-08</td><td>2016-12-10</td><td>5</td><td>19</td></tr>",
                            "<tr><td>nikoletta4</td><td>Kő Nikoletta</td><td>2017-02-01</td><td>2017-02-04</td><td>2</td><td>19</td></tr>",
                            "<tr><td>NIKOLETTAT</td><td>Tatár Nikoletta</td><td>2016-07-27</td><td>2016-07-29</td><td>4</td><td>12</td></tr>",
                            "<tr><td>NIKOLETTAT</td><td>Tatár Nikoletta</td><td>2016-05-22</td><td>2016-05-23</td><td>4</td><td>12</td></tr>",
                            "<tr><td>NIKOLETTAT</td><td>Tatár Nikoletta</td><td>2016-09-21</td><td>2016-09-26</td><td>2</td><td>12</td></tr>",
                            "<tr><td>NIKOLETTAT</td><td>Tatár Nikoletta</td><td>2016-06-07</td><td>2016-06-09</td><td>2</td><td>12</td></tr>",
                            "<tr><td>norbert</td><td>Szűcs Norbert</td><td>2016-07-08</td><td>2016-07-13</td><td>1</td><td>10</td></tr>",
                            "<tr><td>norbert</td><td>Szűcs Norbert</td><td>2017-02-13</td><td>2017-02-15</td><td>3</td><td>10</td></tr>",
                            "<tr><td>norbert</td><td>Szűcs Norbert</td><td>2017-02-26</td><td>2017-03-01</td><td>1</td><td>10</td></tr>",
                            "<tr><td>norbert</td><td>Szűcs Norbert</td><td>2016-12-15</td><td>2016-12-18</td><td>2</td><td>10</td></tr>",
                            "<tr><td>norbert</td><td>Szűcs Norbert</td><td>2016-11-16</td><td>2016-11-23</td><td>3</td><td>10</td></tr>",
                            "<tr><td>norbert2</td><td>Hegedűs Norbert</td><td>2016-10-31</td><td>2016-11-07</td><td>2</td><td>14</td></tr>",
                            "<tr><td>norbert2</td><td>Hegedűs Norbert</td><td>2017-01-29</td><td>2017-02-05</td><td>3</td><td>14</td></tr>",
                            "<tr><td>norbert2</td><td>Hegedűs Norbert</td><td>2016-07-13</td><td>2016-07-15</td><td>3</td><td>14</td></tr>",
                            "<tr><td>norbert2</td><td>Hegedűs Norbert</td><td>2016-05-09</td><td>2016-05-10</td><td>2</td><td>14</td></tr>",
                            "<tr><td>norbert2</td><td>Hegedűs Norbert</td><td>2016-04-19</td><td>2016-04-26</td><td>1</td><td>14</td></tr>",
                            "<tr><td>norbert2</td><td>Hegedűs Norbert</td><td>2016-07-27</td><td>2016-08-02</td><td>2</td><td>14</td></tr>",
                            "<tr><td>norbert2</td><td>Hegedűs Norbert</td><td>2016-08-16</td><td>2016-08-19</td><td>1</td><td>14</td></tr>",
                            "<tr><td>norbert4</td><td>Mile Norbert</td><td>2016-04-10</td><td>2016-04-13</td><td>2</td><td>24</td></tr>",
                            "<tr><td>norbert4</td><td>Mile Norbert</td><td>2016-10-05</td><td>2016-10-10</td><td>3</td><td>24</td></tr>",
                            "<tr><td>norbert4</td><td>Mile Norbert</td><td>2016-06-16</td><td>2016-06-17</td><td>4</td><td>24</td></tr>",
                            "<tr><td>norbert4</td><td>Mile Norbert</td><td>2016-06-16</td><td>2016-06-21</td><td>3</td><td>24</td></tr>",
                            "<tr><td>norbert4</td><td>Mile Norbert</td><td>2016-05-29</td><td>2016-06-03</td><td>3</td><td>24</td></tr>",
                            "<tr><td>norbert4</td><td>Mile Norbert</td><td>2017-02-16</td><td>2017-02-17</td><td>1</td><td>24</td></tr>",
                            "<tr><td>norbert4</td><td>Mile Norbert</td><td>2017-03-03</td><td>2017-03-07</td><td>2</td><td>24</td></tr>",
                            "<tr><td>norbert4</td><td>Mile Norbert</td><td>2016-10-28</td><td>2016-10-31</td><td>3</td><td>24</td></tr>",
                            "<tr><td>norbert4</td><td>Mile Norbert</td><td>2016-11-30</td><td>2016-12-06</td><td>3</td><td>24</td></tr>",
                            "<tr><td>norbert5</td><td>Béres Norbert</td><td>2016-11-05</td><td>2016-11-07</td><td>1</td><td>5</td></tr>",
                            "<tr><td>norbert5</td><td>Béres Norbert</td><td>2016-06-24</td><td>2016-06-28</td><td>2</td><td>5</td></tr>",
                            "<tr><td>norbert5</td><td>Béres Norbert</td><td>2016-08-10</td><td>2016-08-11</td><td>2</td><td>5</td></tr>",
                            "<tr><td>pal</td><td>Barabás Pál</td><td>2016-08-14</td><td>2016-08-18</td><td>3</td><td>14</td></tr>",
                            "<tr><td>pal</td><td>Barabás Pál</td><td>2016-09-16</td><td>2016-09-19</td><td>2</td><td>14</td></tr>",
                            "<tr><td>pal</td><td>Barabás Pál</td><td>2016-12-17</td><td>2016-12-23</td><td>3</td><td>14</td></tr>",
                            "<tr><td>pal</td><td>Barabás Pál</td><td>2017-02-20</td><td>2017-02-22</td><td>3</td><td>14</td></tr>",
                            "<tr><td>pal</td><td>Barabás Pál</td><td>2017-02-13</td><td>2017-02-19</td><td>3</td><td>14</td></tr>",
                            "<tr><td>peter1</td><td>Kozma Péter</td><td>2017-02-23</td><td>2017-02-26</td><td>3</td><td>12</td></tr>",
                            "<tr><td>peter1</td><td>Kozma Péter</td><td>2017-02-28</td><td>2017-03-05</td><td>3</td><td>12</td></tr>",
                            "<tr><td>peter1</td><td>Kozma Péter</td><td>2016-10-26</td><td>2016-11-01</td><td>3</td><td>12</td></tr>",
                            "<tr><td>peter1</td><td>Kozma Péter</td><td>2016-07-14</td><td>2016-07-18</td><td>3</td><td>12</td></tr>",
                            "<tr><td>peter2</td><td>Bozsó Péter</td><td>2016-07-03</td><td>2016-07-08</td><td>2</td><td>9</td></tr>",
                            "<tr><td>peter2</td><td>Bozsó Péter</td><td>2016-11-01</td><td>2016-11-02</td><td>2</td><td>9</td></tr>",
                            "<tr><td>peter2</td><td>Bozsó Péter</td><td>2016-10-10</td><td>2016-10-16</td><td>2</td><td>9</td></tr>",
                            "<tr><td>peter2</td><td>Bozsó Péter</td><td>2016-11-15</td><td>2016-11-21</td><td>3</td><td>9</td></tr>",
                            "<tr><td>peter3</td><td>Szalai Péter</td><td>2016-12-25</td><td>2016-12-28</td><td>1</td><td>13</td></tr>",
                            "<tr><td>peter3</td><td>Szalai Péter</td><td>2016-10-30</td><td>2016-11-06</td><td>2</td><td>13</td></tr>",
                            "<tr><td>peter3</td><td>Szalai Péter</td><td>2017-02-21</td><td>2017-02-24</td><td>2</td><td>13</td></tr>",
                            "<tr><td>peter3</td><td>Szalai Péter</td><td>2017-01-12</td><td>2017-01-17</td><td>1</td><td>13</td></tr>",
                            "<tr><td>peter3</td><td>Szalai Péter</td><td>2016-06-30</td><td>2016-07-05</td><td>3</td><td>13</td></tr>",
                            "<tr><td>peter3</td><td>Szalai Péter</td><td>2016-07-27</td><td>2016-07-31</td><td>4</td><td>13</td></tr>",
                            "<tr><td>peter4</td><td>Bíró Péter</td><td>2016-08-06</td><td>2016-08-13</td><td>2</td><td>35</td></tr>",
                            "<tr><td>peter4</td><td>Bíró Péter</td><td>2016-08-24</td><td>2016-08-25</td><td>3</td><td>35</td></tr>",
                            "<tr><td>peter4</td><td>Bíró Péter</td><td>2016-04-12</td><td>2016-04-15</td><td>3</td><td>35</td></tr>",
                            "<tr><td>peter4</td><td>Bíró Péter</td><td>2016-09-11</td><td>2016-09-17</td><td>4</td><td>35</td></tr>",
                            "<tr><td>peter4</td><td>Bíró Péter</td><td>2016-09-25</td><td>2016-09-26</td><td>3</td><td>35</td></tr>",
                            "<tr><td>peter4</td><td>Bíró Péter</td><td>2016-09-30</td><td>2016-10-06</td><td>3</td><td>35</td></tr>",
                            "<tr><td>peter4</td><td>Bíró Péter</td><td>2017-02-05</td><td>2017-02-09</td><td>3</td><td>35</td></tr>",
                            "<tr><td>peter4</td><td>Bíró Péter</td><td>2016-10-30</td><td>2016-11-01</td><td>3</td><td>35</td></tr>",
                            "<tr><td>peter4</td><td>Bíró Péter</td><td>2016-10-09</td><td>2016-10-16</td><td>3</td><td>35</td></tr>",
                            "<tr><td>peter4</td><td>Bíró Péter</td><td>2016-10-24</td><td>2016-10-25</td><td>2</td><td>35</td></tr>",
                            "<tr><td>peter4</td><td>Bíró Péter</td><td>2016-11-10</td><td>2016-11-17</td><td>3</td><td>35</td></tr>",
                            "<tr><td>peter4</td><td>Bíró Péter</td><td>2016-11-25</td><td>2016-11-30</td><td>3</td><td>35</td></tr>",
                            "<tr><td>PETERB</td><td>Berendi Péter</td><td>2016-11-17</td><td>2016-11-20</td><td>2</td><td>10</td></tr>",
                            "<tr><td>PETERB</td><td>Berendi Péter</td><td>2016-10-19</td><td>2016-10-20</td><td>4</td><td>10</td></tr>",
                            "<tr><td>PETERB</td><td>Berendi Péter</td><td>2016-04-06</td><td>2016-04-10</td><td>1</td><td>10</td></tr>",
                            "<tr><td>PETERB</td><td>Berendi Péter</td><td>2016-07-20</td><td>2016-07-24</td><td>2</td><td>10</td></tr>",
                            "<tr><td>PETERB</td><td>Berendi Péter</td><td>2016-08-16</td><td>2016-08-23</td><td>1</td><td>10</td></tr>",
                            "<tr><td>polla</td><td>Palágyi Polla</td><td>2016-08-14</td><td>2016-08-17</td><td>2</td><td>15</td></tr>",
                            "<tr><td>polla</td><td>Palágyi Polla</td><td>2016-08-16</td><td>2016-08-19</td><td>4</td><td>15</td></tr>",
                            "<tr><td>polla</td><td>Palágyi Polla</td><td>2016-04-17</td><td>2016-04-22</td><td>3</td><td>15</td></tr>",
                            "<tr><td>polla</td><td>Palágyi Polla</td><td>2016-05-28</td><td>2016-06-04</td><td>2</td><td>15</td></tr>",
                            "<tr><td>polla</td><td>Palágyi Polla</td><td>2017-01-29</td><td>2017-02-01</td><td>2</td><td>15</td></tr>",
                            "<tr><td>polla</td><td>Palágyi Polla</td><td>2017-02-11</td><td>2017-02-16</td><td>2</td><td>15</td></tr>",
                            "<tr><td>rajmond4</td><td>Rácz Rajmond</td><td>2016-11-08</td><td>2016-11-09</td><td>4</td><td>12</td></tr>",
                            "<tr><td>rajmond4</td><td>Rácz Rajmond</td><td>2016-11-16</td><td>2016-11-20</td><td>2</td><td>12</td></tr>",
                            "<tr><td>rajmond4</td><td>Rácz Rajmond</td><td>2016-09-05</td><td>2016-09-07</td><td>3</td><td>12</td></tr>",
                            "<tr><td>rajmond4</td><td>Rácz Rajmond</td><td>2016-10-03</td><td>2016-10-04</td><td>3</td><td>12</td></tr>",
                            "<tr><td>reka4</td><td>Szikszai Réka</td><td>2016-09-30</td><td>2016-10-06</td><td>2</td><td>13</td></tr>",
                            "<tr><td>reka4</td><td>Szikszai Réka</td><td>2016-09-05</td><td>2016-09-07</td><td>3</td><td>13</td></tr>",
                            "<tr><td>reka4</td><td>Szikszai Réka</td><td>2016-08-02</td><td>2016-08-04</td><td>4</td><td>13</td></tr>",
                            "<tr><td>reka4</td><td>Szikszai Réka</td><td>2016-07-27</td><td>2016-07-31</td><td>2</td><td>13</td></tr>",
                            "<tr><td>reka4</td><td>Szikszai Réka</td><td>2017-02-26</td><td>2017-03-04</td><td>2</td><td>13</td></tr>",
                            "<tr><td>RENATAK</td><td>Kardos Renáta</td><td>2017-03-01</td><td>2017-03-06</td><td>1</td><td>11</td></tr>",
                            "<tr><td>RENATAK</td><td>Kardos Renáta</td><td>2017-02-16</td><td>2017-02-23</td><td>1</td><td>11</td></tr>",
                            "<tr><td>RENATAK</td><td>Kardos Renáta</td><td>2017-01-23</td><td>2017-01-24</td><td>3</td><td>11</td></tr>",
                            "<tr><td>RENATAK</td><td>Kardos Renáta</td><td>2016-11-23</td><td>2016-11-26</td><td>1</td><td>11</td></tr>",
                            "<tr><td>RENATAK</td><td>Kardos Renáta</td><td>2016-10-30</td><td>2016-10-31</td><td>1</td><td>11</td></tr>",
                            "<tr><td>RENATAK</td><td>Kardos Renáta</td><td>2016-10-27</td><td>2016-10-29</td><td>4</td><td>11</td></tr>",
                            "<tr><td>RENATAS</td><td>Szirmai Renáta</td><td>2017-02-14</td><td>2017-02-17</td><td>2</td><td>12</td></tr>",
                            "<tr><td>RENATAS</td><td>Szirmai Renáta</td><td>2017-02-13</td><td>2017-02-17</td><td>1</td><td>12</td></tr>",
                            "<tr><td>RENATAS</td><td>Szirmai Renáta</td><td>2016-05-04</td><td>2016-05-11</td><td>2</td><td>12</td></tr>",
                            "<tr><td>RENATAS</td><td>Szirmai Renáta</td><td>2016-05-11</td><td>2016-05-16</td><td>2</td><td>12</td></tr>",
                            "<tr><td>RENATAS</td><td>Szirmai Renáta</td><td>2016-06-24</td><td>2016-06-30</td><td>5</td><td>12</td></tr>",
                            "<tr><td>robert2</td><td>Patay Róbert</td><td>2016-05-15</td><td>2016-05-18</td><td>2</td><td>8</td></tr>",
                            "<tr><td>robert2</td><td>Patay Róbert</td><td>2016-08-20</td><td>2016-08-27</td><td>2</td><td>8</td></tr>",
                            "<tr><td>robert2</td><td>Patay Róbert</td><td>2016-10-23</td><td>2016-10-28</td><td>3</td><td>8</td></tr>",
                            "<tr><td>robert2</td><td>Patay Róbert</td><td>2016-12-17</td><td>2016-12-22</td><td>1</td><td>8</td></tr>",
                            "<tr><td>ROBERTI</td><td>Iván Róbert</td><td>2016-10-23</td><td>2016-10-29</td><td>1</td><td>18</td></tr>",
                            "<tr><td>ROBERTI</td><td>Iván Róbert</td><td>2016-10-26</td><td>2016-11-01</td><td>2</td><td>18</td></tr>",
                            "<tr><td>ROBERTI</td><td>Iván Róbert</td><td>2016-10-09</td><td>2016-10-10</td><td>2</td><td>18</td></tr>",
                            "<tr><td>ROBERTI</td><td>Iván Róbert</td><td>2017-02-17</td><td>2017-02-20</td><td>2</td><td>18</td></tr>",
                            "<tr><td>ROBERTI</td><td>Iván Róbert</td><td>2016-08-23</td><td>2016-08-25</td><td>2</td><td>18</td></tr>",
                            "<tr><td>ROBERTI</td><td>Iván Róbert</td><td>2016-08-16</td><td>2016-08-21</td><td>2</td><td>18</td></tr>",
                            "<tr><td>ROBERTI</td><td>Iván Róbert</td><td>2016-07-12</td><td>2016-07-19</td><td>4</td><td>18</td></tr>",
                            "<tr><td>ROBERTI</td><td>Iván Róbert</td><td>2016-10-08</td><td>2016-10-12</td><td>3</td><td>18</td></tr>",
                            "<tr><td>ROBERTP</td><td>Pásztor Róbert</td><td>2016-09-08</td><td>2016-09-11</td><td>4</td><td>6</td></tr>",
                            "<tr><td>ROBERTP</td><td>Pásztor Róbert</td><td>2016-07-30</td><td>2016-08-05</td><td>2</td><td>6</td></tr>",
                            "<tr><td>roland</td><td>Tóth Roland</td><td>2016-06-22</td><td>2016-06-23</td><td>3</td><td>10</td></tr>",
                            "<tr><td>roland</td><td>Tóth Roland</td><td>2016-06-09</td><td>2016-06-13</td><td>3</td><td>10</td></tr>",
                            "<tr><td>roland</td><td>Tóth Roland</td><td>2016-09-04</td><td>2016-09-05</td><td>2</td><td>10</td></tr>",
                            "<tr><td>roland</td><td>Tóth Roland</td><td>2016-11-19</td><td>2016-11-24</td><td>2</td><td>10</td></tr>",
                            "<tr><td>roland1</td><td>Ferencz Roland</td><td>2016-12-22</td><td>2016-12-29</td><td>1</td><td>9</td></tr>",
                            "<tr><td>roland1</td><td>Ferencz Roland</td><td>2016-11-05</td><td>2016-11-07</td><td>3</td><td>9</td></tr>",
                            "<tr><td>roland1</td><td>Ferencz Roland</td><td>2017-01-16</td><td>2017-01-22</td><td>2</td><td>9</td></tr>",
                            "<tr><td>roland1</td><td>Ferencz Roland</td><td>2017-01-04</td><td>2017-01-08</td><td>3</td><td>9</td></tr>",
                            "<tr><td>roza2</td><td>Bucskó Róza</td><td>2017-01-11</td><td>2017-01-17</td><td>3</td><td>8</td></tr>",
                            "<tr><td>roza2</td><td>Bucskó Róza</td><td>2017-02-18</td><td>2017-02-21</td><td>3</td><td>8</td></tr>",
                            "<tr><td>roza2</td><td>Bucskó Róza</td><td>2016-09-10</td><td>2016-09-13</td><td>2</td><td>8</td></tr>",
                            "<tr><td>sandor</td><td>Karasz Sándor</td><td>2016-07-04</td><td>2016-07-06</td><td>2</td><td>10</td></tr>",
                            "<tr><td>sandor</td><td>Karasz Sándor</td><td>2016-09-19</td><td>2016-09-26</td><td>4</td><td>10</td></tr>",
                            "<tr><td>sandor</td><td>Karasz Sándor</td><td>2016-08-20</td><td>2016-08-25</td><td>2</td><td>10</td></tr>",
                            "<tr><td>sandor</td><td>Karasz Sándor</td><td>2016-07-18</td><td>2016-07-24</td><td>2</td><td>10</td></tr>",
                            "<tr><td>sandor3</td><td>Farkas Sándor</td><td>2016-05-12</td><td>2016-05-15</td><td>2</td><td>10</td></tr>",
                            "<tr><td>sandor3</td><td>Farkas Sándor</td><td>2016-05-25</td><td>2016-05-30</td><td>1</td><td>10</td></tr>",
                            "<tr><td>sandor3</td><td>Farkas Sándor</td><td>2016-10-09</td><td>2016-10-14</td><td>2</td><td>10</td></tr>",
                            "<tr><td>sandor3</td><td>Farkas Sándor</td><td>2016-10-23</td><td>2016-10-29</td><td>3</td><td>10</td></tr>",
                            "<tr><td>sandor3</td><td>Farkas Sándor</td><td>2016-11-10</td><td>2016-11-11</td><td>2</td><td>10</td></tr>",
                            "<tr><td>sandor4</td><td>Nagy Sándor</td><td>2016-11-29</td><td>2016-12-03</td><td>2</td><td>6</td></tr>",
                            "<tr><td>sandor4</td><td>Nagy Sándor</td><td>2016-12-03</td><td>2016-12-09</td><td>1</td><td>6</td></tr>",
                            "<tr><td>sandor4</td><td>Nagy Sándor</td><td>2016-10-15</td><td>2016-10-18</td><td>1</td><td>6</td></tr>",
                            "<tr><td>sandor4</td><td>Nagy Sándor</td><td>2017-01-22</td><td>2017-01-26</td><td>2</td><td>6</td></tr>",
                            "<tr><td>sara</td><td>Farkas Sára</td><td>2016-10-11</td><td>2016-10-14</td><td>3</td><td>30</td></tr>",
                            "<tr><td>sara</td><td>Farkas Sára</td><td>2016-10-28</td><td>2016-11-03</td><td>2</td><td>30</td></tr>",
                            "<tr><td>sara</td><td>Farkas Sára</td><td>2016-12-06</td><td>2016-12-10</td><td>1</td><td>30</td></tr>",
                            "<tr><td>sara</td><td>Farkas Sára</td><td>2016-12-25</td><td>2016-12-30</td><td>2</td><td>30</td></tr>",
                            "<tr><td>sara</td><td>Farkas Sára</td><td>2016-11-23</td><td>2016-11-30</td><td>4</td><td>30</td></tr>",
                            "<tr><td>sara</td><td>Farkas Sára</td><td>2016-11-18</td><td>2016-11-21</td><td>3</td><td>30</td></tr>",
                            "<tr><td>sara</td><td>Farkas Sára</td><td>2016-05-28</td><td>2016-05-30</td><td>2</td><td>30</td></tr>",
                            "<tr><td>sara</td><td>Farkas Sára</td><td>2016-05-30</td><td>2016-05-31</td><td>2</td><td>30</td></tr>",
                            "<tr><td>sara</td><td>Farkas Sára</td><td>2016-06-06</td><td>2016-06-08</td><td>2</td><td>30</td></tr>",
                            "<tr><td>sara</td><td>Farkas Sára</td><td>2016-10-06</td><td>2016-10-12</td><td>3</td><td>30</td></tr>",
                            "<tr><td>sara</td><td>Farkas Sára</td><td>2016-07-15</td><td>2016-07-17</td><td>3</td><td>30</td></tr>",
                            "<tr><td>sara</td><td>Farkas Sára</td><td>2016-07-24</td><td>2016-07-27</td><td>3</td><td>30</td></tr>",
                            "<tr><td>SEBASTIANF</td><td>Foltényi Sebastián</td><td>2016-07-30</td><td>2016-08-06</td><td>4</td><td>14</td></tr>",
                            "<tr><td>SEBASTIANF</td><td>Foltényi Sebastián</td><td>2016-07-17</td><td>2016-07-21</td><td>2</td><td>14</td></tr>",
                            "<tr><td>SEBASTIANF</td><td>Foltényi Sebastián</td><td>2016-04-06</td><td>2016-04-12</td><td>2</td><td>14</td></tr>",
                            "<tr><td>SEBASTIANF</td><td>Foltényi Sebastián</td><td>2016-09-14</td><td>2016-09-15</td><td>3</td><td>14</td></tr>",
                            "<tr><td>SEBASTIANF</td><td>Foltényi Sebastián</td><td>2016-09-17</td><td>2016-09-20</td><td>3</td><td>14</td></tr>",
                            "<tr><td>sebestyen</td><td>Rab Sebestyén</td><td>2016-06-09</td><td>2016-06-14</td><td>4</td><td>17</td></tr>",
                            "<tr><td>sebestyen</td><td>Rab Sebestyén</td><td>2016-04-07</td><td>2016-04-12</td><td>4</td><td>17</td></tr>",
                            "<tr><td>sebestyen</td><td>Rab Sebestyén</td><td>2016-04-26</td><td>2016-05-02</td><td>4</td><td>17</td></tr>",
                            "<tr><td>sebestyen</td><td>Rab Sebestyén</td><td>2016-10-26</td><td>2016-11-01</td><td>5</td><td>17</td></tr>",
                            "<tr><td>szabolcs</td><td>Bodor Szabolcs</td><td>2016-12-05</td><td>2016-12-07</td><td>2</td><td>2</td></tr>",
                            "<tr><td>SZABOLCSM</td><td>Miklós Szabolcs</td><td>2016-11-12</td><td>2016-11-13</td><td>2</td><td>17</td></tr>",
                            "<tr><td>SZABOLCSM</td><td>Miklós Szabolcs</td><td>2016-10-17</td><td>2016-10-19</td><td>2</td><td>17</td></tr>",
                            "<tr><td>SZABOLCSM</td><td>Miklós Szabolcs</td><td>2016-10-28</td><td>2016-11-03</td><td>3</td><td>17</td></tr>",
                            "<tr><td>SZABOLCSM</td><td>Miklós Szabolcs</td><td>2017-01-07</td><td>2017-01-08</td><td>2</td><td>17</td></tr>",
                            "<tr><td>SZABOLCSM</td><td>Miklós Szabolcs</td><td>2017-02-04</td><td>2017-02-05</td><td>3</td><td>17</td></tr>",
                            "<tr><td>SZABOLCSM</td><td>Miklós Szabolcs</td><td>2016-07-28</td><td>2016-08-03</td><td>2</td><td>17</td></tr>",
                            "<tr><td>SZABOLCSM</td><td>Miklós Szabolcs</td><td>2016-06-18</td><td>2016-06-21</td><td>3</td><td>17</td></tr>",
                            "<tr><td>SZILARDS</td><td>Szalai Szilárd</td><td>2016-10-01</td><td>2016-10-08</td><td>3</td><td>22</td></tr>",
                            "<tr><td>SZILARDS</td><td>Szalai Szilárd</td><td>2016-09-20</td><td>2016-09-24</td><td>3</td><td>22</td></tr>",
                            "<tr><td>SZILARDS</td><td>Szalai Szilárd</td><td>2016-07-27</td><td>2016-08-03</td><td>5</td><td>22</td></tr>",
                            "<tr><td>SZILARDS</td><td>Szalai Szilárd</td><td>2016-08-28</td><td>2016-08-29</td><td>4</td><td>22</td></tr>",
                            "<tr><td>SZILARDS</td><td>Szalai Szilárd</td><td>2016-04-23</td><td>2016-04-30</td><td>3</td><td>22</td></tr>",
                            "<tr><td>SZILARDS</td><td>Szalai Szilárd</td><td>2017-02-08</td><td>2017-02-15</td><td>1</td><td>22</td></tr>",
                            "<tr><td>SZILARDS</td><td>Szalai Szilárd</td><td>2017-01-16</td><td>2017-01-19</td><td>3</td><td>22</td></tr>",
                            "<tr><td>szilvia1</td><td>Tari Szilvia</td><td>2017-01-28</td><td>2017-02-03</td><td>2</td><td>23</td></tr>",
                            "<tr><td>szilvia1</td><td>Tari Szilvia</td><td>2016-10-27</td><td>2016-10-28</td><td>2</td><td>23</td></tr>",
                            "<tr><td>szilvia1</td><td>Tari Szilvia</td><td>2016-10-09</td><td>2016-10-10</td><td>3</td><td>23</td></tr>",
                            "<tr><td>szilvia1</td><td>Tari Szilvia</td><td>2016-10-25</td><td>2016-10-31</td><td>3</td><td>23</td></tr>",
                            "<tr><td>szilvia1</td><td>Tari Szilvia</td><td>2016-12-25</td><td>2016-12-29</td><td>5</td><td>23</td></tr>",
                            "<tr><td>szilvia1</td><td>Tari Szilvia</td><td>2016-12-27</td><td>2017-01-02</td><td>2</td><td>23</td></tr>",
                            "<tr><td>szilvia1</td><td>Tari Szilvia</td><td>2016-05-14</td><td>2016-05-21</td><td>2</td><td>23</td></tr>",
                            "<tr><td>szilvia1</td><td>Tari Szilvia</td><td>2016-07-25</td><td>2016-07-28</td><td>2</td><td>23</td></tr>",
                            "<tr><td>szilvia1</td><td>Tari Szilvia</td><td>2016-05-28</td><td>2016-06-03</td><td>2</td><td>23</td></tr>",
                            "<tr><td>tamara2</td><td>Miklós Tamara</td><td>2016-08-12</td><td>2016-08-15</td><td>3</td><td>5</td></tr>",
                            "<tr><td>tamara2</td><td>Miklós Tamara</td><td>2016-11-15</td><td>2016-11-18</td><td>2</td><td>5</td></tr>",
                            "<tr><td>tamas</td><td>Antal Tamás</td><td>2017-02-14</td><td>2017-02-19</td><td>3</td><td>10</td></tr>",
                            "<tr><td>tamas</td><td>Antal Tamás</td><td>2016-08-24</td><td>2016-08-27</td><td>3</td><td>10</td></tr>",
                            "<tr><td>tamas</td><td>Antal Tamás</td><td>2016-05-17</td><td>2016-05-22</td><td>2</td><td>10</td></tr>",
                            "<tr><td>tamas</td><td>Antal Tamás</td><td>2016-06-14</td><td>2016-06-21</td><td>2</td><td>10</td></tr>",
                            "<tr><td>TAMASF</td><td>Fényes Tamás</td><td>2016-06-28</td><td>2016-07-05</td><td>3</td><td>23</td></tr>",
                            "<tr><td>TAMASF</td><td>Fényes Tamás</td><td>2016-06-10</td><td>2016-06-13</td><td>3</td><td>23</td></tr>",
                            "<tr><td>TAMASF</td><td>Fényes Tamás</td><td>2016-09-12</td><td>2016-09-18</td><td>3</td><td>23</td></tr>",
                            "<tr><td>TAMASF</td><td>Fényes Tamás</td><td>2016-07-04</td><td>2016-07-10</td><td>2</td><td>23</td></tr>",
                            "<tr><td>TAMASF</td><td>Fényes Tamás</td><td>2016-05-03</td><td>2016-05-04</td><td>2</td><td>23</td></tr>",
                            "<tr><td>TAMASF</td><td>Fényes Tamás</td><td>2017-02-16</td><td>2017-02-19</td><td>4</td><td>23</td></tr>",
                            "<tr><td>TAMASF</td><td>Fényes Tamás</td><td>2017-02-12</td><td>2017-02-17</td><td>2</td><td>23</td></tr>",
                            "<tr><td>TAMASF</td><td>Fényes Tamás</td><td>2016-12-02</td><td>2016-12-04</td><td>1</td><td>23</td></tr>",
                            "<tr><td>TAMASF</td><td>Fényes Tamás</td><td>2016-12-10</td><td>2016-12-14</td><td>3</td><td>23</td></tr>",
                            "<tr><td>tibor</td><td>Gombos Tibor</td><td>2016-10-09</td><td>2016-10-13</td><td>2</td><td>3</td></tr>",
                            "<tr><td>tibor</td><td>Gombos Tibor</td><td>2016-11-05</td><td>2016-11-09</td><td>1</td><td>3</td></tr>",
                            "<tr><td>tibor2</td><td>Dániel Tibor</td><td>2016-10-20</td><td>2016-10-25</td><td>2</td><td>2</td></tr>",
                            "<tr><td>tihamer</td><td>Kazy Tihamér</td><td>2016-10-19</td><td>2016-10-23</td><td>2</td><td>16</td></tr>",
                            "<tr><td>tihamer</td><td>Kazy Tihamér</td><td>2016-12-25</td><td>2016-12-26</td><td>2</td><td>16</td></tr>",
                            "<tr><td>tihamer</td><td>Kazy Tihamér</td><td>2016-07-20</td><td>2016-07-24</td><td>3</td><td>16</td></tr>",
                            "<tr><td>tihamer</td><td>Kazy Tihamér</td><td>2016-08-18</td><td>2016-08-22</td><td>3</td><td>16</td></tr>",
                            "<tr><td>tihamer</td><td>Kazy Tihamér</td><td>2016-05-30</td><td>2016-06-05</td><td>1</td><td>16</td></tr>",
                            "<tr><td>tihamer</td><td>Kazy Tihamér</td><td>2016-06-03</td><td>2016-06-08</td><td>5</td><td>16</td></tr>",
                            "<tr><td>timea</td><td>Papós Tímea</td><td>2016-12-26</td><td>2016-12-27</td><td>2</td><td>2</td></tr>",
                            "<tr><td>timea2</td><td>Dusha Tímea</td><td>2016-12-14</td><td>2016-12-16</td><td>4</td><td>16</td></tr>",
                            "<tr><td>timea2</td><td>Dusha Tímea</td><td>2016-11-27</td><td>2016-12-01</td><td>4</td><td>16</td></tr>",
                            "<tr><td>timea2</td><td>Dusha Tímea</td><td>2016-10-26</td><td>2016-10-29</td><td>3</td><td>16</td></tr>",
                            "<tr><td>timea2</td><td>Dusha Tímea</td><td>2016-06-06</td><td>2016-06-07</td><td>2</td><td>16</td></tr>",
                            "<tr><td>timea2</td><td>Dusha Tímea</td><td>2016-08-07</td><td>2016-08-10</td><td>3</td><td>16</td></tr>",
                            "<tr><td>tunde</td><td>Turcsik Tünde</td><td>2016-07-14</td><td>2016-07-21</td><td>1</td><td>23</td></tr>",
                            "<tr><td>tunde</td><td>Turcsik Tünde</td><td>2016-06-06</td><td>2016-06-12</td><td>3</td><td>23</td></tr>",
                            "<tr><td>tunde</td><td>Turcsik Tünde</td><td>2016-06-03</td><td>2016-06-07</td><td>3</td><td>23</td></tr>",
                            "<tr><td>tunde</td><td>Turcsik Tünde</td><td>2016-09-05</td><td>2016-09-12</td><td>2</td><td>23</td></tr>",
                            "<tr><td>tunde</td><td>Turcsik Tünde</td><td>2016-10-24</td><td>2016-10-30</td><td>3</td><td>23</td></tr>",
                            "<tr><td>tunde</td><td>Turcsik Tünde</td><td>2016-11-19</td><td>2016-11-20</td><td>3</td><td>23</td></tr>",
                            "<tr><td>tunde</td><td>Turcsik Tünde</td><td>2016-12-15</td><td>2016-12-20</td><td>3</td><td>23</td></tr>",
                            "<tr><td>tunde</td><td>Turcsik Tünde</td><td>2017-01-03</td><td>2017-01-06</td><td>5</td><td>23</td></tr>",
                            "<tr><td>valentin</td><td>Feró Valentin</td><td>2016-11-11</td><td>2016-11-17</td><td>3</td><td>14</td></tr>",
                            "<tr><td>valentin</td><td>Feró Valentin</td><td>2016-12-01</td><td>2016-12-05</td><td>3</td><td>14</td></tr>",
                            "<tr><td>valentin</td><td>Feró Valentin</td><td>2016-10-26</td><td>2016-10-30</td><td>3</td><td>14</td></tr>",
                            "<tr><td>valentin</td><td>Feró Valentin</td><td>2016-05-24</td><td>2016-05-30</td><td>4</td><td>14</td></tr>",
                            "<tr><td>valentin</td><td>Feró Valentin</td><td>2016-07-24</td><td>2016-07-29</td><td>1</td><td>14</td></tr>",
                            "<tr><td>veronika4</td><td>Tankó Veronika</td><td>2016-08-16</td><td>2016-08-21</td><td>1</td><td>13</td></tr>",
                            "<tr><td>veronika4</td><td>Tankó Veronika</td><td>2016-07-20</td><td>2016-07-26</td><td>3</td><td>13</td></tr>",
                            "<tr><td>veronika4</td><td>Tankó Veronika</td><td>2016-05-30</td><td>2016-06-04</td><td>2</td><td>13</td></tr>",
                            "<tr><td>veronika4</td><td>Tankó Veronika</td><td>2016-09-26</td><td>2016-10-03</td><td>2</td><td>13</td></tr>",
                            "<tr><td>veronika4</td><td>Tankó Veronika</td><td>2017-01-19</td><td>2017-01-24</td><td>3</td><td>13</td></tr>",
                            "<tr><td>veronika4</td><td>Tankó Veronika</td><td>2017-02-03</td><td>2017-02-05</td><td>2</td><td>13</td></tr>",
                            "<tr><td>VIKTORIAU</td><td>Urbán Viktoria</td><td>2016-10-26</td><td>2016-11-02</td><td>4</td><td>10</td></tr>",
                            "<tr><td>VIKTORIAU</td><td>Urbán Viktoria</td><td>2016-10-14</td><td>2016-10-15</td><td>3</td><td>10</td></tr>",
                            "<tr><td>VIKTORIAU</td><td>Urbán Viktoria</td><td>2016-04-30</td><td>2016-05-03</td><td>1</td><td>10</td></tr>",
                            "<tr><td>VIKTORIAU</td><td>Urbán Viktoria</td><td>2016-08-03</td><td>2016-08-04</td><td>2</td><td>10</td></tr>",
                            "<tr><td>VIKTORK</td><td>Keresztúri Viktor</td><td>2016-05-30</td><td>2016-06-01</td><td>2</td><td>6</td></tr>",
                            "<tr><td>VIKTORK</td><td>Keresztúri Viktor</td><td>2016-06-06</td><td>2016-06-07</td><td>4</td><td>6</td></tr>",
                            "<tr><td>vivien3</td><td>Boros Vivien</td><td>2016-10-01</td><td>2016-10-04</td><td>1</td><td>15</td></tr>",
                            "<tr><td>vivien3</td><td>Boros Vivien</td><td>2016-08-13</td><td>2016-08-18</td><td>2</td><td>15</td></tr>",
                            "<tr><td>vivien3</td><td>Boros Vivien</td><td>2016-09-01</td><td>2016-09-05</td><td>2</td><td>15</td></tr>",
                            "<tr><td>vivien3</td><td>Boros Vivien</td><td>2016-05-02</td><td>2016-05-05</td><td>3</td><td>15</td></tr>",
                            "<tr><td>vivien3</td><td>Boros Vivien</td><td>2016-11-17</td><td>2016-11-20</td><td>2</td><td>15</td></tr>",
                            "<tr><td>vivien3</td><td>Boros Vivien</td><td>2016-12-17</td><td>2016-12-21</td><td>2</td><td>15</td></tr>",
                            "<tr><td>vivien3</td><td>Boros Vivien</td><td>2016-12-24</td><td>2016-12-26</td><td>3</td><td>15</td></tr>",
                            "<tr><td>zoltan</td><td>Fodor Zoltán</td><td>2016-08-24</td><td>2016-08-31</td><td>2</td><td>5</td></tr>",
                            "<tr><td>zoltan</td><td>Fodor Zoltán</td><td>2016-09-05</td><td>2016-09-09</td><td>3</td><td>5</td></tr>",
                            "<tr><td>zoltan4</td><td>Barna Zoltán</td><td>2016-09-30</td><td>2016-10-07</td><td>3</td><td>27</td></tr>",
                            "<tr><td>zoltan4</td><td>Barna Zoltán</td><td>2016-06-03</td><td>2016-06-06</td><td>1</td><td>27</td></tr>",
                            "<tr><td>zoltan4</td><td>Barna Zoltán</td><td>2016-08-15</td><td>2016-08-21</td><td>1</td><td>27</td></tr>",
                            "<tr><td>zoltan4</td><td>Barna Zoltán</td><td>2016-08-16</td><td>2016-08-23</td><td>2</td><td>27</td></tr>",
                            "<tr><td>zoltan4</td><td>Barna Zoltán</td><td>2016-05-13</td><td>2016-05-16</td><td>3</td><td>27</td></tr>",
                            "<tr><td>zoltan4</td><td>Barna Zoltán</td><td>2016-05-12</td><td>2016-05-16</td><td>3</td><td>27</td></tr>",
                            "<tr><td>zoltan4</td><td>Barna Zoltán</td><td>2016-12-29</td><td>2017-01-04</td><td>1</td><td>27</td></tr>",
                            "<tr><td>zoltan4</td><td>Barna Zoltán</td><td>2017-01-01</td><td>2017-01-02</td><td>3</td><td>27</td></tr>",
                            "<tr><td>zoltan4</td><td>Barna Zoltán</td><td>2016-11-19</td><td>2016-11-21</td><td>2</td><td>27</td></tr>",
                            "<tr><td>zoltan4</td><td>Barna Zoltán</td><td>2016-10-26</td><td>2016-10-30</td><td>2</td><td>27</td></tr>",
                            "<tr><td>zoltan4</td><td>Barna Zoltán</td><td>2016-10-21</td><td>2016-10-24</td><td>5</td><td>27</td></tr>",
                            "<tr><td>zoltan4</td><td>Barna Zoltán</td><td>2016-10-30</td><td>2016-11-06</td><td>1</td><td>27</td></tr>",
                            "<tr><td>ZOLTANP</td><td>Pintér Zoltán</td><td>2016-10-19</td><td>2016-10-25</td><td>2</td><td>14</td></tr>",
                            "<tr><td>ZOLTANP</td><td>Pintér Zoltán</td><td>2016-12-25</td><td>2016-12-29</td><td>2</td><td>14</td></tr>",
                            "<tr><td>ZOLTANP</td><td>Pintér Zoltán</td><td>2016-12-07</td><td>2016-12-10</td><td>3</td><td>14</td></tr>",
                            "<tr><td>ZOLTANP</td><td>Pintér Zoltán</td><td>2016-07-20</td><td>2016-07-25</td><td>3</td><td>14</td></tr>",
                            "<tr><td>ZOLTANP</td><td>Pintér Zoltán</td><td>2016-06-06</td><td>2016-06-08</td><td>2</td><td>14</td></tr>",
                            "<tr><td>ZOLTANP</td><td>Pintér Zoltán</td><td>2016-06-05</td><td>2016-06-08</td><td>2</td><td>14</td></tr>",
                            "<tr><td>ZOLTANT</td><td>Tóth Zoltán</td><td>2016-07-14</td><td>2016-07-15</td><td>3</td><td>8</td></tr>",
                            "<tr><td>ZOLTANT</td><td>Tóth Zoltán</td><td>2016-05-01</td><td>2016-05-04</td><td>3</td><td>8</td></tr>",
                            "<tr><td>ZOLTANT</td><td>Tóth Zoltán</td><td>2017-01-16</td><td>2017-01-20</td><td>2</td><td>8</td></tr>",
                            "<tr><td>zsofi1</td><td>Molnár Zsófi</td><td>2017-02-18</td><td>2017-02-19</td><td>3</td><td>5</td></tr>",
                            "<tr><td>zsofi1</td><td>Molnár Zsófi</td><td>2016-06-16</td><td>2016-06-17</td><td>2</td><td>5</td></tr>",
                            "<tr><td>zsolt1</td><td>Pulai Zsolt</td><td>2016-06-07</td><td>2016-06-10</td><td>4</td><td>10</td></tr>",
                            "<tr><td>zsolt1</td><td>Pulai Zsolt</td><td>2016-06-06</td><td>2016-06-08</td><td>2</td><td>10</td></tr>",
                            "<tr><td>zsolt1</td><td>Pulai Zsolt</td><td>2016-04-14</td><td>2016-04-17</td><td>2</td><td>10</td></tr>",
                            "<tr><td>zsolt1</td><td>Pulai Zsolt</td><td>2016-07-31</td><td>2016-08-02</td><td>2</td><td>10</td></tr>",
                            "<tr><td>ZSOLTJ</td><td>Józsa Zsolt</td><td>2016-04-24</td><td>2016-04-26</td><td>4</td><td>13</td></tr>",
                            "<tr><td>ZSOLTJ</td><td>Józsa Zsolt</td><td>2016-05-09</td><td>2016-05-11</td><td>2</td><td>13</td></tr>",
                            "<tr><td>ZSOLTJ</td><td>Józsa Zsolt</td><td>2016-07-18</td><td>2016-07-19</td><td>2</td><td>13</td></tr>",
                            "<tr><td>ZSOLTJ</td><td>Józsa Zsolt</td><td>2016-05-28</td><td>2016-06-03</td><td>1</td><td>13</td></tr>",
                            "<tr><td>ZSOLTJ</td><td>Józsa Zsolt</td><td>2016-06-17</td><td>2016-06-19</td><td>2</td><td>13</td></tr>",
                            "<tr><td>ZSOLTJ</td><td>Józsa Zsolt</td><td>2016-10-01</td><td>2016-10-06</td><td>2</td><td>13</td></tr>",
                            "<tr><td>zsuzsa</td><td>Pusztai Zsuzsanna</td><td>2016-07-24</td><td>2016-07-25</td><td>3</td><td>8</td></tr>",
                            "<tr><td>zsuzsa</td><td>Pusztai Zsuzsanna</td><td>2016-08-28</td><td>2016-08-30</td><td>2</td><td>8</td></tr>",
                            "<tr><td>zsuzsa</td><td>Pusztai Zsuzsanna</td><td>2016-11-28</td><td>2016-12-04</td><td>3</td><td>8</td></tr>",
                            "<tr><td>zsuzsa3</td><td>Varsányi Zsuzsa</td><td>2016-10-27</td><td>2016-11-03</td><td>4</td><td>10</td></tr>",
                            "<tr><td>zsuzsa3</td><td>Varsányi Zsuzsa</td><td>2016-07-30</td><td>2016-08-02</td><td>2</td><td>10</td></tr>",
                            "<tr><td>zsuzsa3</td><td>Varsányi Zsuzsa</td><td>2016-09-28</td><td>2016-10-03</td><td>2</td><td>10</td></tr>",
                            "<tr><td>zsuzsa3</td><td>Varsányi Zsuzsa</td><td>2016-09-09</td><td>2016-09-10</td><td>2</td><td>10</td></tr>",
                            "<tr><td>zsuzsanna</td><td>Barta Zsuzsanna</td><td>2016-07-12</td><td>2016-07-15</td><td>2</td><td>7</td></tr>",
                            "<tr><td>zsuzsanna</td><td>Barta Zsuzsanna</td><td>2016-05-17</td><td>2016-05-23</td><td>2</td><td>7</td></tr>",
                            "<tr><td>zsuzsanna</td><td>Barta Zsuzsanna</td><td>2017-01-16</td><td>2017-01-22</td><td>2</td><td>7</td></tr>",
                            "<tr><td>zsuzsanna</td><td>Barta Zsuzsanna</td><td>2017-01-09</td><td>2017-01-16</td><td>1</td><td>7</td></tr>",
                            "<tr><td>ZSUZSAV</td><td>Vajda Zsuzsa</td><td>2016-10-26</td><td>2016-10-28</td><td>1</td><td>15</td></tr>",
                            "<tr><td>ZSUZSAV</td><td>Vajda Zsuzsa</td><td>2016-11-21</td><td>2016-11-24</td><td>3</td><td>15</td></tr>",
                            "<tr><td>ZSUZSAV</td><td>Vajda Zsuzsa</td><td>2016-04-14</td><td>2016-04-16</td><td>2</td><td>15</td></tr>",
                            "<tr><td>ZSUZSAV</td><td>Vajda Zsuzsa</td><td>2016-09-18</td><td>2016-09-20</td><td>2</td><td>15</td></tr>",
                            "<tr><td>ZSUZSAV</td><td>Vajda Zsuzsa</td><td>2016-06-15</td><td>2016-06-21</td><td>3</td><td>15</td></tr>",
                            "<tr><td>ZSUZSAV</td><td>Vajda Zsuzsa</td><td>2016-05-28</td><td>2016-06-01</td><td>4</td><td>15</td></tr>",
                            "</table>"
                        ]
                    }
                }
            ],
            "execution_count": 11
        },
        {
            "cell_type": "markdown",
            "source": [
                "4. <span style=\"background-color: rgb(255, 255, 255); color: rgb(0, 0, 0); font-family: &quot;Open Sans&quot;, sans-serif; font-size: 14.44px;\">Készítsünk listát arról, hogy az egyes szálláshelyeken évente hány foglalás történt!&nbsp;</span> \n",
                "\n",
                "a. A lista jelenítse meg a szálláshely azonosítóját, nevét, az évet, és a foglalások számát!\n",
                "\n",
                "b. Egy új oszlopban jelenítsük meg a szálláshely eddigi éves foglalásainak számát is (az aktuálisat is beleértve). \n",
                "\n",
                "c. Az évnél a METTOL dátumot vegyük figyelembe! \n",
                "\n",
                "d. A lista ne tartalmazzon duplikált sorokat!"
            ],
            "metadata": {
                "azdata_cell_guid": "8e7fef82-8022-49a0-8255-fc2846c2134b"
            },
            "attachments": {}
        },
        {
            "cell_type": "code",
            "source": [
                ""
            ],
            "metadata": {
                "azdata_cell_guid": "36f7b396-4a1f-45e5-8720-2302537c91bc",
                "language": "sql"
            },
            "outputs": [],
            "execution_count": null
        },
        {
            "cell_type": "markdown",
            "source": [
                "5. <span style=\"background-color: rgb(255, 255, 255); color: rgb(0, 0, 0); font-family: &quot;Open Sans&quot;, sans-serif; font-size: 14.44px;\">Készítsük listát a szálláshelyekről! A lista tartalmazza a szálláshely azonosítóját, nevét, és a csillagok számát csillagszám szerint csökkenő, azon belül szállásnév szerint növekvő sorrendben!&nbsp;</span> \n",
                "\n",
                "a. Vegyünk fel két új oszlopot, amely a sorrend szerint előző szálláshely nevét, illetve azonosítóját is megjeleníti!"
            ],
            "metadata": {
                "azdata_cell_guid": "84239ca2-6b5e-49f5-9860-d44c11d6de32"
            },
            "attachments": {}
        },
        {
            "cell_type": "code",
            "source": [
                ""
            ],
            "metadata": {
                "azdata_cell_guid": "06d9a62b-9430-424b-a135-d80e675f0eb3",
                "language": "sql"
            },
            "outputs": [],
            "execution_count": null
        },
        {
            "cell_type": "markdown",
            "source": [
                "6. <span style=\"background-color: rgb(255, 255, 255); color: rgb(0, 0, 0); font-family: &quot;Open Sans&quot;, sans-serif; font-size: 14.44px;\">Listázzuk azon termékeket, amelyekből az átlagosnál kevesebb van raktáron!&nbsp;</span> \n",
                "\n",
                "a. Csak a termék kódja és megnevezése jelenjen meg!"
            ],
            "metadata": {
                "azdata_cell_guid": "b0d15045-3c43-4f3a-b8d4-76b4f24e5546"
            },
            "attachments": {}
        },
        {
            "cell_type": "code",
            "source": [
                ""
            ],
            "metadata": {
                "azdata_cell_guid": "f2b7400d-1255-40ac-9250-4d57f9da5357",
                "language": "sql"
            },
            "outputs": [],
            "execution_count": null
        },
        {
            "cell_type": "markdown",
            "source": [
                "7. <span style=\"background-color: rgb(255, 255, 255); color: rgb(0, 0, 0); font-family: &quot;Open Sans&quot;, sans-serif; font-size: 14.44px;\">Listázzuk azon ügyfeleket, akik még nem fizettek bankkártyával!&nbsp;</span> \n",
                "\n",
                "a. Csak az ügyfelek neve jelenjen meg!"
            ],
            "metadata": {
                "azdata_cell_guid": "7ebf7ddd-1bd2-4246-815a-be8ae37e3b5b"
            },
            "attachments": {}
        },
        {
            "cell_type": "code",
            "source": [
                ""
            ],
            "metadata": {
                "azdata_cell_guid": "84b7e896-f36e-4985-88f5-e0f706494fef",
                "language": "sql"
            },
            "outputs": [],
            "execution_count": null
        },
        {
            "cell_type": "markdown",
            "source": [
                "8. <span style=\"background-color: rgb(255, 255, 255); color: rgb(0, 0, 0); font-family: &quot;Open Sans&quot;, sans-serif; font-size: 14.44px;\">Mennyibe kerül a második legnagyobb listaárú termék?</span>"
            ],
            "metadata": {
                "azdata_cell_guid": "27a3d3dc-eafb-4a5e-b103-9f465b9eda8f"
            },
            "attachments": {}
        },
        {
            "cell_type": "code",
            "source": [
                ""
            ],
            "metadata": {
                "azdata_cell_guid": "f09edb3f-649b-4a96-958e-9e12774ae8b7",
                "language": "sql"
            },
            "outputs": [],
            "execution_count": null
        },
        {
            "cell_type": "markdown",
            "source": [
                "9. <span style=\"background-color: rgb(255, 255, 255); color: rgb(0, 0, 0); font-family: &quot;Open Sans&quot;, sans-serif; font-size: 14.44px;\">Melyik raktár(ak)ban van az a termék, amelyből a legnagyobb készlet van?&nbsp;</span> \n",
                "\n",
                "a. Csak a raktár(ak) neve jelenjen meg!"
            ],
            "metadata": {
                "azdata_cell_guid": "f12a331a-0e26-4d3d-9c68-812316286577"
            },
            "attachments": {}
        },
        {
            "cell_type": "code",
            "source": [
                ""
            ],
            "metadata": {
                "azdata_cell_guid": "10a77fc9-e61a-46fc-a401-59720d82bc50",
                "language": "sql"
            },
            "outputs": [],
            "execution_count": null
        },
        {
            "cell_type": "markdown",
            "source": [
                "10. <span style=\"background-color: rgb(255, 255, 255); color: rgb(0, 0, 0); font-family: &quot;Open Sans&quot;, sans-serif; font-size: 14.44px;\">Melyek azok a termékek, amelyek listaára nagyobb, mint bármelyik olyan terméké, amelynek nevében az Ajándék szó szerepel?&nbsp;</span> \n",
                "\n",
                "a. A termékek kódját és nevét is jelenítsük meg!"
            ],
            "metadata": {
                "azdata_cell_guid": "9229e2b6-e200-4499-b95b-2d0222149831"
            },
            "attachments": {}
        },
        {
            "cell_type": "code",
            "source": [
                ""
            ],
            "metadata": {
                "azdata_cell_guid": "8b49ed67-28c6-4880-82a8-cd369e5bba99",
                "language": "sql"
            },
            "outputs": [],
            "execution_count": null
        },
        {
            "cell_type": "markdown",
            "source": [
                "11. <span style=\"background-color: rgb(255, 255, 255); color: rgb(0, 0, 0); font-family: &quot;Open Sans&quot;, sans-serif; font-size: 14.44px;\">Melyik hónapokban adtak le az ügyfelek több rendelést, mint januárban?&nbsp;</span> \n",
                "\n",
                "a. Elég a hónapok sorszámait megjeleníteni. \n",
                "\n",
                "b. A listát rendezzük a hónapok száma szerint növekvő sorrendbe!"
            ],
            "metadata": {
                "azdata_cell_guid": "7f5fc7a7-3b6a-4d89-b292-490830afb0c6"
            },
            "attachments": {}
        },
        {
            "cell_type": "code",
            "source": [
                ""
            ],
            "metadata": {
                "azdata_cell_guid": "4a9ece40-f782-4c0d-92cd-9c21969067ed",
                "language": "sql"
            },
            "outputs": [],
            "execution_count": null
        },
        {
            "cell_type": "markdown",
            "source": [
                "12. <span style=\"background-color: rgb(255, 255, 255); color: rgb(0, 0, 0); font-family: &quot;Open Sans&quot;, sans-serif; font-size: 14.44px;\">Melyek azok a termékek, amelyek listaára az átlagostól max. 20%-kal tér el?&nbsp;</span> \n",
                "\n",
                "a. A termék kódját és nevét is jelenítsük meg!"
            ],
            "metadata": {
                "azdata_cell_guid": "5a483c52-bb98-44bb-bd03-1146d4b0abfa"
            },
            "attachments": {}
        },
        {
            "cell_type": "code",
            "source": [
                ""
            ],
            "metadata": {
                "azdata_cell_guid": "dd6e89bd-08f9-4b18-8460-03c45b503df0",
                "language": "sql"
            },
            "outputs": [],
            "execution_count": null
        },
        {
            "cell_type": "markdown",
            "source": [
                "13. <span style=\"background-color: rgb(255, 255, 255); color: rgb(0, 0, 0); font-family: &quot;Open Sans&quot;, sans-serif; font-size: 14.44px;\">Készítsünk listát (sorszámonként) az egyes rendelések teljes összegéről!&nbsp;</span> \n",
                "\n",
                "a. Szűrjünk azon tételekre, ahol ez az érték nagyobb, mint Viktor Éva rendeléseinek teljes összege! \n",
                "\n",
                "b. A teljes összeg oszlopot nevezzük el értelemszerűen!"
            ],
            "metadata": {
                "azdata_cell_guid": "85d5cb66-96c6-42de-99cf-85ab22d08548"
            },
            "attachments": {}
        },
        {
            "cell_type": "code",
            "source": [
                ""
            ],
            "metadata": {
                "azdata_cell_guid": "cb07d64b-0eaa-498b-b4d2-0b46971e95ce",
                "language": "sql"
            },
            "outputs": [],
            "execution_count": null
        },
        {
            "cell_type": "markdown",
            "source": [
                "14. <span style=\"background-color: rgb(255, 255, 255); color: rgb(0, 0, 0); font-family: &quot;Open Sans&quot;, sans-serif; font-size: 14.44px;\">Listázzuk azokat a termékkategóriákat, amelyből 2017 januárban nem történt rendelés!&nbsp;</span> \n",
                "\n",
                "a. Elég a kategóriák nevét megjeleníteni!"
            ],
            "metadata": {
                "azdata_cell_guid": "f95ad665-a807-4099-bf06-64ed974f866f"
            },
            "attachments": {}
        },
        {
            "cell_type": "code",
            "source": [
                ""
            ],
            "metadata": {
                "azdata_cell_guid": "74c7ec8a-ae4a-4d03-b1c4-e8f6bb1be12c",
                "language": "sql"
            },
            "outputs": [],
            "execution_count": null
        },
        {
            "cell_type": "markdown",
            "source": [
                "15. <span style=\"background-color: rgb(255, 255, 255); color: rgb(0, 0, 0); font-family: &quot;Open Sans&quot;, sans-serif; font-size: 14.44px;\">Listázzuk azon rendelési tételeket, amelynek értéke nagyobb, mint a legdrágább termék listaára azon termékek közül, amelyek szülő kategóriája a ruha!</span>"
            ],
            "metadata": {
                "azdata_cell_guid": "93552388-ffec-49ff-99e5-ae8dc8072601"
            },
            "attachments": {}
        },
        {
            "cell_type": "code",
            "source": [
                ""
            ],
            "metadata": {
                "azdata_cell_guid": "0e7f547f-7d96-4611-b1c2-0fa84a581e79",
                "language": "sql"
            },
            "outputs": [],
            "execution_count": null
        }
    ]
}