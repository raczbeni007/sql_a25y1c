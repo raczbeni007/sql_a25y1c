{
 "cells": [
  {
   "attachments": {},
   "cell_type": "markdown",
   "metadata": {},
   "source": [
    "1. feladat"
   ]
  },
  {
   "cell_type": "code",
   "execution_count": null,
   "metadata": {
    "vscode": {
     "languageId": "plaintext"
    }
   },
   "outputs": [],
   "source": [
    "Filter: {$and: [{ \"languages.0\": \"English\" },{\"awards.wins\": {$eq: 2}}]} \n",
    "Project: {\"title\": 1, \"writers\": 1, \"directors\": 1, \"year\": 1, \"_id\": 0}\n",
    "Sort: {\"year\": -1}"
   ]
  },
  {
   "attachments": {},
   "cell_type": "markdown",
   "metadata": {},
   "source": [
    "2. feladat"
   ]
  },
  {
   "cell_type": "code",
   "execution_count": null,
   "metadata": {
    "vscode": {
     "languageId": "plaintext"
    }
   },
   "outputs": [],
   "source": [
    "db.users.find({\"email\": {$regex: /.com/}},{\"name\":1, \"email\":1, \"_id\": 0})"
   ]
  },
  {
   "attachments": {},
   "cell_type": "markdown",
   "metadata": {},
   "source": [
    "3. feladat"
   ]
  },
  {
   "cell_type": "code",
   "execution_count": null,
   "metadata": {
    "vscode": {
     "languageId": "plaintext"
    }
   },
   "outputs": [],
   "source": [
    "db.movies.aggregate([{$match: {\"year\": {$gt: 1950}}},{$group: {_id: \"$rated\", average: {$avg: \"$runtime\"}}}])"
   ]
  },
  {
   "attachments": {},
   "cell_type": "markdown",
   "metadata": {},
   "source": [
    "4. feladat"
   ]
  },
  {
   "cell_type": "code",
   "execution_count": null,
   "metadata": {
    "vscode": {
     "languageId": "plaintext"
    }
   },
   "outputs": [],
   "source": [
    "MATCH (m:Movie)<-[:ACTED_IN]-(p:Person)\n",
    "WITH m.title AS `Cím`, count(*) AS `Szereplőszám`\n",
    "RETURN Cím, Szereplőszám\n",
    "ORDER BY Szereplőszám DESC\n",
    "LIMIT 1"
   ]
  },
  {
   "attachments": {},
   "cell_type": "markdown",
   "metadata": {},
   "source": [
    "5. feladat"
   ]
  },
  {
   "cell_type": "code",
   "execution_count": null,
   "metadata": {
    "vscode": {
     "languageId": "plaintext"
    }
   },
   "outputs": [],
   "source": [
    "MATCH (m:Movie)<-[:DIRECTED]-(p:Person) WHERE m.released < 2000 WITH p, count(*) as `Darab` WHERE Darab > 1 RETURN p.name, Darab"
   ]
  }
 ],
 "metadata": {
  "language_info": {
   "name": "python"
  },
  "orig_nbformat": 4
 },
 "nbformat": 4,
 "nbformat_minor": 2
}
