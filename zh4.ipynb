{
    "metadata": {
        "kernelspec": {
            "display_name": "SQL",
            "language": "sql",
            "name": "SQL"
        },
        "language_info": {
            "name": "sql",
            "version": ""
        },
        "orig_nbformat": 4
    },
    "nbformat_minor": 2,
    "nbformat": 4,
    "cells": [
        {
            "cell_type": "markdown",
            "source": [
                "1. <span style=\"background-color: rgb(255, 255, 255); color: rgb(0, 0, 0); font-family: &quot;Open Sans&quot;, sans-serif; font-size: 14.44px;\">Listázzuk azon vendégek nevét, email-címét és felhasználói nevét, akik egynél többször foglaltak!</span>\n",
                "\n",
                "- Hagyjuk ki azokat a vendégeket, akik május hónapban születtek!"
            ],
            "metadata": {
                "azdata_cell_guid": "a1da75c7-d782-4d9b-9513-36bec7a90df2"
            },
            "attachments": {}
        },
        {
            "cell_type": "code",
            "source": [
                "SELECT V.NEV, V.EMAIL, V.USERNEV\n",
                "FROM VENDEG V\n",
                "JOIN FOGLALAS F ON V.USERNEV = F.UGYFEL_FK\n",
                "WHERE MONTH(V.SZUL_DAT) <> 5\n",
                "GROUP BY V.NEV, V.EMAIL, V.USERNEV\n",
                "HAVING COUNT(F.FOGLALAS_PK) > 1;\n"
            ],
            "metadata": {
                "azdata_cell_guid": "04061e8c-5cb5-41de-abe2-61892231fbcb",
                "language": "sql",
                "tags": []
            },
            "outputs": [
                {
                    "output_type": "display_data",
                    "data": {
                        "text/html": "(169 rows affected)"
                    },
                    "metadata": {}
                },
                {
                    "output_type": "display_data",
                    "data": {
                        "text/html": "Total execution time: 00:00:00.009"
                    },
                    "metadata": {}
                },
                {
                    "output_type": "execute_result",
                    "metadata": {},
                    "execution_count": 37,
                    "data": {
                        "application/vnd.dataresource+json": {
                            "schema": {
                                "fields": [
                                    {
                                        "name": "NEV"
                                    },
                                    {
                                        "name": "EMAIL"
                                    },
                                    {
                                        "name": "USERNEV"
                                    }
                                ]
                            },
                            "data": [
                                {
                                    "NEV": "Kiss Ádám",
                                    "EMAIL": "ádám.kiss@mail.hu",
                                    "USERNEV": "adam1"
                                },
                                {
                                    "NEV": "Barkóci Ádám",
                                    "EMAIL": "adam3@gmail.com",
                                    "USERNEV": "adam3"
                                },
                                {
                                    "NEV": "Bieniek Ádám",
                                    "EMAIL": "ádám.bieniek@mail.hu",
                                    "USERNEV": "adam4"
                                },
                                {
                                    "NEV": "Lengyel Ágnes",
                                    "EMAIL": "agnes@gmail.com",
                                    "USERNEV": "agnes"
                                },
                                {
                                    "NEV": "Hartyánszky Ágnes",
                                    "EMAIL": "agnes3@gmail.com",
                                    "USERNEV": "agnes3"
                                },
                                {
                                    "NEV": "Horváth Ágnes",
                                    "EMAIL": "AGNESH@gmail.com",
                                    "USERNEV": "AGNESH"
                                },
                                {
                                    "NEV": "Kovács Ágnes",
                                    "EMAIL": "AGNESK@gmail.com",
                                    "USERNEV": "AGNESK"
                                },
                                {
                                    "NEV": "Bíró Ákos",
                                    "EMAIL": "ákos.bíró@mail.hu",
                                    "USERNEV": "akos"
                                },
                                {
                                    "NEV": "Dunai Aladár",
                                    "EMAIL": "aladár.dunai@mail.hu",
                                    "USERNEV": "aladar"
                                },
                                {
                                    "NEV": "Bagóczki Alexandra",
                                    "EMAIL": "alexandra.bagóczki@mail.hu",
                                    "USERNEV": "alexandra"
                                },
                                {
                                    "NEV": "Tóth András",
                                    "EMAIL": "andrás.tóth@mail.hu",
                                    "USERNEV": "andras2"
                                },
                                {
                                    "NEV": "Molnár András",
                                    "EMAIL": "andrás.molnár@mail.hu",
                                    "USERNEV": "andras21"
                                },
                                {
                                    "NEV": "Vígh András",
                                    "EMAIL": "andrás.vígh@mail.hu",
                                    "USERNEV": "andras3"
                                },
                                {
                                    "NEV": "Back András",
                                    "EMAIL": "andras4@gmail.com",
                                    "USERNEV": "andras4"
                                },
                                {
                                    "NEV": "Komjáti András",
                                    "EMAIL": "andras41@gmail.com",
                                    "USERNEV": "andras41"
                                },
                                {
                                    "NEV": "Kiss Andrea",
                                    "EMAIL": "andrea.kiss@mail.hu",
                                    "USERNEV": "andrea"
                                },
                                {
                                    "NEV": "Tornyos Andrea",
                                    "EMAIL": "ANDREAT@gmail.com",
                                    "USERNEV": "ANDREAT"
                                },
                                {
                                    "NEV": "Pivarcsi Anett",
                                    "EMAIL": "anett.pivarcsi@mail.hu",
                                    "USERNEV": "anett3"
                                },
                                {
                                    "NEV": "Tóth Anikó",
                                    "EMAIL": "aniko@gmail.com",
                                    "USERNEV": "aniko"
                                },
                                {
                                    "NEV": "Böröcz Anikó",
                                    "EMAIL": "aniko4@gmail.com",
                                    "USERNEV": "aniko4"
                                },
                                {
                                    "NEV": "Simon Anikó",
                                    "EMAIL": "ANIKOS@gmail.com",
                                    "USERNEV": "ANIKOS"
                                },
                                {
                                    "NEV": "Hamvay-Kovács Anita",
                                    "EMAIL": "anita.hamvay-kovács@mail.hu",
                                    "USERNEV": "anita"
                                },
                                {
                                    "NEV": "Szűcs Annamária",
                                    "EMAIL": "annamária.szűcs@mail.hu",
                                    "USERNEV": "annamaria1"
                                },
                                {
                                    "NEV": "Regős Annamária",
                                    "EMAIL": "ANNAMARIAR@gmail.com",
                                    "USERNEV": "ANNAMARIAR"
                                },
                                {
                                    "NEV": "Jakab Áron",
                                    "EMAIL": "aron2@gmail.com",
                                    "USERNEV": "aron2"
                                },
                                {
                                    "NEV": "Kelemen Áron",
                                    "EMAIL": "áron.kelemen@mail.hu",
                                    "USERNEV": "ARONK"
                                },
                                {
                                    "NEV": "Ötvös Árpád",
                                    "EMAIL": "árpád.ötvös@mail.hu",
                                    "USERNEV": "arpad2"
                                },
                                {
                                    "NEV": "Móricz Árpád",
                                    "EMAIL": "árpád.móricz@mail.hu",
                                    "USERNEV": "ARPADM"
                                },
                                {
                                    "NEV": "Csóti Attila",
                                    "EMAIL": "attila@gmail.com",
                                    "USERNEV": "attila"
                                },
                                {
                                    "NEV": "Gulyás Attila",
                                    "EMAIL": "attila.gulyás@mail.hu",
                                    "USERNEV": "attila1"
                                },
                                {
                                    "NEV": "Baróti Attila",
                                    "EMAIL": "attila.baróti@mail.hu",
                                    "USERNEV": "attila4"
                                },
                                {
                                    "NEV": "Bozsik Balázs",
                                    "EMAIL": "balázs.bozsik@mail.hu",
                                    "USERNEV": "balazs1"
                                },
                                {
                                    "NEV": "Szűcs Balázs",
                                    "EMAIL": "balázs.szűcs@mail.hu",
                                    "USERNEV": "balazs2"
                                },
                                {
                                    "NEV": "Bakódy Balázs",
                                    "EMAIL": "balazs3@gmail.com",
                                    "USERNEV": "balazs3"
                                },
                                {
                                    "NEV": "Horváth Bálint",
                                    "EMAIL": "balint@gmail.com",
                                    "USERNEV": "balint"
                                },
                                {
                                    "NEV": "Molnár Bálint",
                                    "EMAIL": "balint1@gmail.com",
                                    "USERNEV": "balint1"
                                },
                                {
                                    "NEV": "Vukasinovity Bálint",
                                    "EMAIL": "balint2@gmail.com",
                                    "USERNEV": "balint2"
                                },
                                {
                                    "NEV": "Endresz Bálint",
                                    "EMAIL": "bálint.endresz@mail.hu",
                                    "USERNEV": "balu"
                                },
                                {
                                    "NEV": "Bagi Beáta",
                                    "EMAIL": "beáta.bagi@mail.hu",
                                    "USERNEV": "beata4"
                                },
                                {
                                    "NEV": "Kerényi Beatrix",
                                    "EMAIL": "beatrix.kerényi@mail.hu",
                                    "USERNEV": "BEATRIXK"
                                },
                                {
                                    "NEV": "Szekendi Beatrix",
                                    "EMAIL": "beatrix.szekendi@mail.hu",
                                    "USERNEV": "BEATRIXS"
                                },
                                {
                                    "NEV": "Farkas Béla",
                                    "EMAIL": "BELAF@gmail.com",
                                    "USERNEV": "BELAF"
                                },
                                {
                                    "NEV": "Győrffy Bence",
                                    "EMAIL": "bence@gmail.com",
                                    "USERNEV": "bence"
                                },
                                {
                                    "NEV": "Bajusz Bence",
                                    "EMAIL": "bence.bajusz@mail.hu",
                                    "USERNEV": "BENCEB"
                                },
                                {
                                    "NEV": "Simon Bernadett",
                                    "EMAIL": "bernadett1@gmail.com",
                                    "USERNEV": "bernadett1"
                                },
                                {
                                    "NEV": "Kovács Bernadett",
                                    "EMAIL": "bernadett.kovács@mail.hu",
                                    "USERNEV": "bernadett2"
                                },
                                {
                                    "NEV": "Orbán Bernadett",
                                    "EMAIL": "bernadett.orbán@mail.hu",
                                    "USERNEV": "BERNADETTO"
                                },
                                {
                                    "NEV": "Csiger Bertalan",
                                    "EMAIL": "bertalan@gmail.com",
                                    "USERNEV": "bertalan"
                                },
                                {
                                    "NEV": "Székely Brigitta",
                                    "EMAIL": "brigitta.székely@mail.hu",
                                    "USERNEV": "brigitta"
                                },
                                {
                                    "NEV": "Nagymihály Csongor",
                                    "EMAIL": "csongor.nagymihály@mail.hu",
                                    "USERNEV": "csongor3"
                                },
                                {
                                    "NEV": "Vörös Dániel",
                                    "EMAIL": "daniel@gmail.com",
                                    "USERNEV": "dani"
                                },
                                {
                                    "NEV": "Rácz Dániel",
                                    "EMAIL": "dániel.rácz@mail.hu",
                                    "USERNEV": "daniel"
                                },
                                {
                                    "NEV": "Keszler Dániel",
                                    "EMAIL": "dániel.keszler@mail.hu",
                                    "USERNEV": "daniel1"
                                },
                                {
                                    "NEV": "Ambrus Dávid",
                                    "EMAIL": "david@gmail.com",
                                    "USERNEV": "david"
                                },
                                {
                                    "NEV": "Sobják Dávid",
                                    "EMAIL": "david1@gmail.com",
                                    "USERNEV": "david1"
                                },
                                {
                                    "NEV": "Barna Debóra",
                                    "EMAIL": "debóra.barna@mail.hu",
                                    "USERNEV": "debora"
                                },
                                {
                                    "NEV": "Tömböly Dénes",
                                    "EMAIL": "denes@gmail.com",
                                    "USERNEV": "denes"
                                },
                                {
                                    "NEV": "Bittmann Edit",
                                    "EMAIL": "edit.bittmann@mail.hu",
                                    "USERNEV": "edit"
                                },
                                {
                                    "NEV": "Kuruc Emese",
                                    "EMAIL": "emese.kuruc@mail.hu",
                                    "USERNEV": "emese"
                                },
                                {
                                    "NEV": "Balogh Eszter",
                                    "EMAIL": "eszter.balogh@mail.hu",
                                    "USERNEV": "eszter2"
                                },
                                {
                                    "NEV": "Fülöp Eszter",
                                    "EMAIL": "eszter.fülöp@mail.hu",
                                    "USERNEV": "eszter4"
                                },
                                {
                                    "NEV": "Érsek Eszter",
                                    "EMAIL": "eszter.érsek@mail.hu",
                                    "USERNEV": "ESZTERE"
                                },
                                {
                                    "NEV": "Enyedi Éva",
                                    "EMAIL": "eva@gmail.com",
                                    "USERNEV": "eva"
                                },
                                {
                                    "NEV": "Perlinger Éva",
                                    "EMAIL": "eva2@gmail.com",
                                    "USERNEV": "eva2"
                                },
                                {
                                    "NEV": "Viktor Éva",
                                    "EMAIL": "EVAV@gmail.com",
                                    "USERNEV": "EVAV"
                                },
                                {
                                    "NEV": "Orosz Ferenc",
                                    "EMAIL": "ferenc.orosz@mail.hu",
                                    "USERNEV": "ferenc1"
                                },
                                {
                                    "NEV": "Frank Fruzsina",
                                    "EMAIL": "fruzsina4@gmail.com",
                                    "USERNEV": "fruzsina4"
                                },
                                {
                                    "NEV": "Köves Gábor",
                                    "EMAIL": "gabor1@gmail.com",
                                    "USERNEV": "gabor1"
                                },
                                {
                                    "NEV": "Telek Gábor",
                                    "EMAIL": "gábor.telek@mail.hu",
                                    "USERNEV": "gabor4"
                                },
                                {
                                    "NEV": "Nagy Gabriella",
                                    "EMAIL": "gabriella1@gmail.com",
                                    "USERNEV": "gabriella1"
                                },
                                {
                                    "NEV": "Nyíri Georgij",
                                    "EMAIL": "georgij.nyíri@mail.hu",
                                    "USERNEV": "georgij"
                                },
                                {
                                    "NEV": "Bárci Gusztáv",
                                    "EMAIL": "gusztav@gmail.com",
                                    "USERNEV": "gusztav"
                                },
                                {
                                    "NEV": "Kornseé Gyöngyi",
                                    "EMAIL": "gyöngyi.kornseé@mail.hu",
                                    "USERNEV": "GYONGYIK"
                                },
                                {
                                    "NEV": "Oroszi György",
                                    "EMAIL": "GYORGYO@gmail.com",
                                    "USERNEV": "GYORGYO"
                                },
                                {
                                    "NEV": "Nádudvari Henrik",
                                    "EMAIL": "henrik.nádudvari@mail.hu",
                                    "USERNEV": "henrik3"
                                },
                                {
                                    "NEV": "Andor Ibolya",
                                    "EMAIL": "ibolya.andor@mail.hu",
                                    "USERNEV": "IBOLYAA"
                                },
                                {
                                    "NEV": "Bosnyák Ilona",
                                    "EMAIL": "ilona3@gmail.com",
                                    "USERNEV": "ilona3"
                                },
                                {
                                    "NEV": "Búza Imre",
                                    "EMAIL": "imre.búza@mail.hu",
                                    "USERNEV": "imre"
                                },
                                {
                                    "NEV": "Papp Imre",
                                    "EMAIL": "imre.papp@mail.hu",
                                    "USERNEV": "imre1"
                                },
                                {
                                    "NEV": "Soós István",
                                    "EMAIL": "istvan@gmail.com",
                                    "USERNEV": "istvan"
                                },
                                {
                                    "NEV": "Vizi István",
                                    "EMAIL": "istván.vizi@mail.hu",
                                    "USERNEV": "istvan1"
                                },
                                {
                                    "NEV": "Varga István",
                                    "EMAIL": "ISTVANV@gmail.com",
                                    "USERNEV": "ISTVANV"
                                },
                                {
                                    "NEV": "Harangozó János",
                                    "EMAIL": "janos3@gmail.com",
                                    "USERNEV": "janos3"
                                },
                                {
                                    "NEV": "Giliga János",
                                    "EMAIL": "JANOSG@gmail.com",
                                    "USERNEV": "JANOSG"
                                },
                                {
                                    "NEV": "Pálinkás János",
                                    "EMAIL": "JANOSP@gmail.com",
                                    "USERNEV": "JANOSP"
                                },
                                {
                                    "NEV": "Gergely József",
                                    "EMAIL": "jozsef@gmail.com",
                                    "USERNEV": "jozsef"
                                },
                                {
                                    "NEV": "Vajda József",
                                    "EMAIL": "józsef.vajda@mail.hu",
                                    "USERNEV": "jozsef2"
                                },
                                {
                                    "NEV": "Hídasi Judit",
                                    "EMAIL": "JUDITH@gmail.com",
                                    "USERNEV": "JUDITH"
                                },
                                {
                                    "NEV": "Tóth Júlia",
                                    "EMAIL": "julia@gmail.com",
                                    "USERNEV": "julia"
                                },
                                {
                                    "NEV": "Nagy Júlia",
                                    "EMAIL": "julia4@gmail.com",
                                    "USERNEV": "julia4"
                                },
                                {
                                    "NEV": "Szabó Julianna",
                                    "EMAIL": "julianna4@gmail.com",
                                    "USERNEV": "julianna4"
                                },
                                {
                                    "NEV": "Gondos Katalin",
                                    "EMAIL": "katalin.gondos@mail.hu",
                                    "USERNEV": "kata"
                                },
                                {
                                    "NEV": "Horváth Katalin",
                                    "EMAIL": "katalin.horváth@mail.hu",
                                    "USERNEV": "katalin"
                                },
                                {
                                    "NEV": "Kertész Katalin",
                                    "EMAIL": "katalin4@gmail.com",
                                    "USERNEV": "katalin4"
                                },
                                {
                                    "NEV": "Kovács Katalin",
                                    "EMAIL": "katalin.kovács@mail.hu",
                                    "USERNEV": "katka"
                                },
                                {
                                    "NEV": "Bakó Klaudia",
                                    "EMAIL": "klaudia.bakó@mail.hu",
                                    "USERNEV": "klaudia2"
                                },
                                {
                                    "NEV": "Lukács Kornél",
                                    "EMAIL": "kornél.lukács@mail.hu",
                                    "USERNEV": "kornel4"
                                },
                                {
                                    "NEV": "Poprádi Kristóf",
                                    "EMAIL": "kristof4@gmail.com",
                                    "USERNEV": "kristof4"
                                },
                                {
                                    "NEV": "Horváth Krisztina",
                                    "EMAIL": "kriszti@gmail.com",
                                    "USERNEV": "kriszti"
                                },
                                {
                                    "NEV": "Czérna Krisztián",
                                    "EMAIL": "krisztián.czérna@mail.hu",
                                    "USERNEV": "krisztian4"
                                },
                                {
                                    "NEV": "Bori Krisztina",
                                    "EMAIL": "krisztina.bori@mail.hu",
                                    "USERNEV": "krisztina1"
                                },
                                {
                                    "NEV": "Gyárfás Krisztina",
                                    "EMAIL": "KRISZTINAG@gmail.com",
                                    "USERNEV": "KRISZTINAG"
                                },
                                {
                                    "NEV": "Kiss Lajos",
                                    "EMAIL": "lajos.kiss@mail.hu",
                                    "USERNEV": "lajos"
                                },
                                {
                                    "NEV": "Nagymihály Lajos",
                                    "EMAIL": "lajos.nagymihály@mail.hu",
                                    "USERNEV": "lala"
                                },
                                {
                                    "NEV": "Móra László",
                                    "EMAIL": "lászló.móra@mail.hu",
                                    "USERNEV": "laszlo2"
                                },
                                {
                                    "NEV": "Antal László",
                                    "EMAIL": "lászló.antal@mail.hu",
                                    "USERNEV": "LASZLOA"
                                },
                                {
                                    "NEV": "Nagy László",
                                    "EMAIL": "lászló.nagy@mail.hu",
                                    "USERNEV": "LASZLON"
                                },
                                {
                                    "NEV": "Baráth Mária",
                                    "EMAIL": "mária.baráth@mail.hu",
                                    "USERNEV": "maria1"
                                },
                                {
                                    "NEV": "Kispál Márk",
                                    "EMAIL": "márk.kispál@mail.hu",
                                    "USERNEV": "mark"
                                },
                                {
                                    "NEV": "Horváth Márk",
                                    "EMAIL": "márk.horváth@mail.hu",
                                    "USERNEV": "MARKH"
                                },
                                {
                                    "NEV": "Kalacsi Márton",
                                    "EMAIL": "marton@gmail.com",
                                    "USERNEV": "marton"
                                },
                                {
                                    "NEV": "Koza Máté",
                                    "EMAIL": "máté.koza@mail.hu",
                                    "USERNEV": "MATEK"
                                },
                                {
                                    "NEV": "Botka Mátyás",
                                    "EMAIL": "matyas2@gmail.com",
                                    "USERNEV": "matyas2"
                                },
                                {
                                    "NEV": "Szilágyi Mátyás",
                                    "EMAIL": "mátyás.szilágyi@mail.hu",
                                    "USERNEV": "MATYASS"
                                },
                                {
                                    "NEV": "Juhász Mihály",
                                    "EMAIL": "mihály.juhász@mail.hu",
                                    "USERNEV": "MIHALYJ"
                                },
                                {
                                    "NEV": "Gondos Miklós",
                                    "EMAIL": "miklos2@gmail.com",
                                    "USERNEV": "miklos2"
                                },
                                {
                                    "NEV": "Balla Miklós",
                                    "EMAIL": "miklós.balla@mail.hu",
                                    "USERNEV": "MIKLOSB"
                                },
                                {
                                    "NEV": "Mohos Mónika",
                                    "EMAIL": "mónika.mohos@mail.hu",
                                    "USERNEV": "MONIKAM"
                                },
                                {
                                    "NEV": "Fő Nándor",
                                    "EMAIL": "nándor.fő@mail.hu",
                                    "USERNEV": "NANDORF"
                                },
                                {
                                    "NEV": "Horváth Nikolett",
                                    "EMAIL": "nikolett3@gmail.com",
                                    "USERNEV": "nikolett3"
                                },
                                {
                                    "NEV": "Kő Nikoletta",
                                    "EMAIL": "nikoletta4@gmail.com",
                                    "USERNEV": "nikoletta4"
                                },
                                {
                                    "NEV": "Tatár Nikoletta",
                                    "EMAIL": "nikoletta.tatár@mail.hu",
                                    "USERNEV": "NIKOLETTAT"
                                },
                                {
                                    "NEV": "Szűcs Norbert",
                                    "EMAIL": "norbert@gmail.com",
                                    "USERNEV": "norbert"
                                },
                                {
                                    "NEV": "Hegedűs Norbert",
                                    "EMAIL": "norbert.hegedűs@mail.hu",
                                    "USERNEV": "norbert2"
                                },
                                {
                                    "NEV": "Mile Norbert",
                                    "EMAIL": "norbert4@gmail.com",
                                    "USERNEV": "norbert4"
                                },
                                {
                                    "NEV": "Béres Norbert",
                                    "EMAIL": "norbert5@gmail.com",
                                    "USERNEV": "norbert5"
                                },
                                {
                                    "NEV": "Barabás Pál",
                                    "EMAIL": "pál.barabás@mail.hu",
                                    "USERNEV": "pal"
                                },
                                {
                                    "NEV": "Kozma Péter",
                                    "EMAIL": "peter1@gmail.com",
                                    "USERNEV": "peter1"
                                },
                                {
                                    "NEV": "Bozsó Péter",
                                    "EMAIL": "peter2@gmail.com",
                                    "USERNEV": "peter2"
                                },
                                {
                                    "NEV": "Szalai Péter",
                                    "EMAIL": "peter3@gmail.com",
                                    "USERNEV": "peter3"
                                },
                                {
                                    "NEV": "Bíró Péter",
                                    "EMAIL": "péter.bíró@mail.hu",
                                    "USERNEV": "peter4"
                                },
                                {
                                    "NEV": "Berendi Péter",
                                    "EMAIL": "péter.berendi@mail.hu",
                                    "USERNEV": "PETERB"
                                },
                                {
                                    "NEV": "Palágyi Polla",
                                    "EMAIL": "polla@gmail.com",
                                    "USERNEV": "polla"
                                },
                                {
                                    "NEV": "Rácz Rajmond",
                                    "EMAIL": "rajmond.rácz@mail.hu",
                                    "USERNEV": "rajmond4"
                                },
                                {
                                    "NEV": "Szikszai Réka",
                                    "EMAIL": "réka.szikszai@mail.hu",
                                    "USERNEV": "reka4"
                                },
                                {
                                    "NEV": "Szirmai Renáta",
                                    "EMAIL": "RENATAS@gmail.com",
                                    "USERNEV": "RENATAS"
                                },
                                {
                                    "NEV": "Patay Róbert",
                                    "EMAIL": "robert2@gmail.com",
                                    "USERNEV": "robert2"
                                },
                                {
                                    "NEV": "Iván Róbert",
                                    "EMAIL": "róbert.iván@mail.hu",
                                    "USERNEV": "ROBERTI"
                                },
                                {
                                    "NEV": "Tóth Roland",
                                    "EMAIL": "roland@gmail.com",
                                    "USERNEV": "roland"
                                },
                                {
                                    "NEV": "Ferencz Roland",
                                    "EMAIL": "roland.ferencz@mail.hu",
                                    "USERNEV": "roland1"
                                },
                                {
                                    "NEV": "Bucskó Róza",
                                    "EMAIL": "roza2@gmail.com",
                                    "USERNEV": "roza2"
                                },
                                {
                                    "NEV": "Karasz Sándor",
                                    "EMAIL": "sandor@gmail.com",
                                    "USERNEV": "sandor"
                                },
                                {
                                    "NEV": "Farkas Sándor",
                                    "EMAIL": "sándor.farkas@mail.hu",
                                    "USERNEV": "sandor3"
                                },
                                {
                                    "NEV": "Nagy Sándor",
                                    "EMAIL": "sandor4@gmail.com",
                                    "USERNEV": "sandor4"
                                },
                                {
                                    "NEV": "Farkas Sára",
                                    "EMAIL": "sára.farkas@mail.hu",
                                    "USERNEV": "sara"
                                },
                                {
                                    "NEV": "Foltényi Sebastián",
                                    "EMAIL": "SEBASTIANF@gmail.com",
                                    "USERNEV": "SEBASTIANF"
                                },
                                {
                                    "NEV": "Rab Sebestyén",
                                    "EMAIL": "sebestyen@gmail.com",
                                    "USERNEV": "sebestyen"
                                },
                                {
                                    "NEV": "Miklós Szabolcs",
                                    "EMAIL": "szabolcs.miklós@mail.hu",
                                    "USERNEV": "SZABOLCSM"
                                },
                                {
                                    "NEV": "Szalai Szilárd",
                                    "EMAIL": "szilárd.szalai@mail.hu",
                                    "USERNEV": "SZILARDS"
                                },
                                {
                                    "NEV": "Tari Szilvia",
                                    "EMAIL": "szilvia.tari@mail.hu",
                                    "USERNEV": "szilvia1"
                                },
                                {
                                    "NEV": "Miklós Tamara",
                                    "EMAIL": "tamara.miklós@mail.hu",
                                    "USERNEV": "tamara2"
                                },
                                {
                                    "NEV": "Antal Tamás",
                                    "EMAIL": "tamás.antal@mail.hu",
                                    "USERNEV": "tamas"
                                },
                                {
                                    "NEV": "Fényes Tamás",
                                    "EMAIL": "TAMASF@gmail.com",
                                    "USERNEV": "TAMASF"
                                },
                                {
                                    "NEV": "Gombos Tibor",
                                    "EMAIL": "tibor.gombos@mail.hu",
                                    "USERNEV": "tibor"
                                },
                                {
                                    "NEV": "Kazy Tihamér",
                                    "EMAIL": "tihamér.kazy@mail.hu",
                                    "USERNEV": "tihamer"
                                },
                                {
                                    "NEV": "Dusha Tímea",
                                    "EMAIL": "tímea.dusha@mail.hu",
                                    "USERNEV": "timea2"
                                },
                                {
                                    "NEV": "Turcsik Tünde",
                                    "EMAIL": "tunde@gmail.com",
                                    "USERNEV": "tunde"
                                },
                                {
                                    "NEV": "Feró Valentin",
                                    "EMAIL": "valentin.feró@mail.hu",
                                    "USERNEV": "valentin"
                                },
                                {
                                    "NEV": "Tankó Veronika",
                                    "EMAIL": "veronika4@gmail.com",
                                    "USERNEV": "veronika4"
                                },
                                {
                                    "NEV": "Boros Vivien",
                                    "EMAIL": "vivien3@gmail.com",
                                    "USERNEV": "vivien3"
                                },
                                {
                                    "NEV": "Fodor Zoltán",
                                    "EMAIL": "zoltán.fodor@mail.hu",
                                    "USERNEV": "zoltan"
                                },
                                {
                                    "NEV": "Pintér Zoltán",
                                    "EMAIL": "zoltán.pintér@mail.hu",
                                    "USERNEV": "ZOLTANP"
                                },
                                {
                                    "NEV": "Tóth Zoltán",
                                    "EMAIL": "zoltán.tóth@mail.hu",
                                    "USERNEV": "ZOLTANT"
                                },
                                {
                                    "NEV": "Molnár Zsófi",
                                    "EMAIL": "zsofi1@gmail.com",
                                    "USERNEV": "zsofi1"
                                },
                                {
                                    "NEV": "Józsa Zsolt",
                                    "EMAIL": "ZSOLTJ@gmail.com",
                                    "USERNEV": "ZSOLTJ"
                                },
                                {
                                    "NEV": "Pusztai Zsuzsanna",
                                    "EMAIL": "zsuzsanna@gmail.com",
                                    "USERNEV": "zsuzsa"
                                },
                                {
                                    "NEV": "Varsányi Zsuzsa",
                                    "EMAIL": "zsuzsa.varsányi@mail.hu",
                                    "USERNEV": "zsuzsa3"
                                },
                                {
                                    "NEV": "Barta Zsuzsanna",
                                    "EMAIL": "zsuzsanna.barta@mail.hu",
                                    "USERNEV": "zsuzsanna"
                                },
                                {
                                    "NEV": "Vajda Zsuzsa",
                                    "EMAIL": "zsuzsa.vajda@mail.hu",
                                    "USERNEV": "ZSUZSAV"
                                }
                            ]
                        },
                        "text/html": [
                            "<table>",
                            "<tr><th>NEV</th><th>EMAIL</th><th>USERNEV</th></tr>",
                            "<tr><td>Kiss Ádám</td><td>ádám.kiss@mail.hu</td><td>adam1</td></tr>",
                            "<tr><td>Barkóci Ádám</td><td>adam3@gmail.com</td><td>adam3</td></tr>",
                            "<tr><td>Bieniek Ádám</td><td>ádám.bieniek@mail.hu</td><td>adam4</td></tr>",
                            "<tr><td>Lengyel Ágnes</td><td>agnes@gmail.com</td><td>agnes</td></tr>",
                            "<tr><td>Hartyánszky Ágnes</td><td>agnes3@gmail.com</td><td>agnes3</td></tr>",
                            "<tr><td>Horváth Ágnes</td><td>AGNESH@gmail.com</td><td>AGNESH</td></tr>",
                            "<tr><td>Kovács Ágnes</td><td>AGNESK@gmail.com</td><td>AGNESK</td></tr>",
                            "<tr><td>Bíró Ákos</td><td>ákos.bíró@mail.hu</td><td>akos</td></tr>",
                            "<tr><td>Dunai Aladár</td><td>aladár.dunai@mail.hu</td><td>aladar</td></tr>",
                            "<tr><td>Bagóczki Alexandra</td><td>alexandra.bagóczki@mail.hu</td><td>alexandra</td></tr>",
                            "<tr><td>Tóth András</td><td>andrás.tóth@mail.hu</td><td>andras2</td></tr>",
                            "<tr><td>Molnár András</td><td>andrás.molnár@mail.hu</td><td>andras21</td></tr>",
                            "<tr><td>Vígh András</td><td>andrás.vígh@mail.hu</td><td>andras3</td></tr>",
                            "<tr><td>Back András</td><td>andras4@gmail.com</td><td>andras4</td></tr>",
                            "<tr><td>Komjáti András</td><td>andras41@gmail.com</td><td>andras41</td></tr>",
                            "<tr><td>Kiss Andrea</td><td>andrea.kiss@mail.hu</td><td>andrea</td></tr>",
                            "<tr><td>Tornyos Andrea</td><td>ANDREAT@gmail.com</td><td>ANDREAT</td></tr>",
                            "<tr><td>Pivarcsi Anett</td><td>anett.pivarcsi@mail.hu</td><td>anett3</td></tr>",
                            "<tr><td>Tóth Anikó</td><td>aniko@gmail.com</td><td>aniko</td></tr>",
                            "<tr><td>Böröcz Anikó</td><td>aniko4@gmail.com</td><td>aniko4</td></tr>",
                            "<tr><td>Simon Anikó</td><td>ANIKOS@gmail.com</td><td>ANIKOS</td></tr>",
                            "<tr><td>Hamvay-Kovács Anita</td><td>anita.hamvay-kovács@mail.hu</td><td>anita</td></tr>",
                            "<tr><td>Szűcs Annamária</td><td>annamária.szűcs@mail.hu</td><td>annamaria1</td></tr>",
                            "<tr><td>Regős Annamária</td><td>ANNAMARIAR@gmail.com</td><td>ANNAMARIAR</td></tr>",
                            "<tr><td>Jakab Áron</td><td>aron2@gmail.com</td><td>aron2</td></tr>",
                            "<tr><td>Kelemen Áron</td><td>áron.kelemen@mail.hu</td><td>ARONK</td></tr>",
                            "<tr><td>Ötvös Árpád</td><td>árpád.ötvös@mail.hu</td><td>arpad2</td></tr>",
                            "<tr><td>Móricz Árpád</td><td>árpád.móricz@mail.hu</td><td>ARPADM</td></tr>",
                            "<tr><td>Csóti Attila</td><td>attila@gmail.com</td><td>attila</td></tr>",
                            "<tr><td>Gulyás Attila</td><td>attila.gulyás@mail.hu</td><td>attila1</td></tr>",
                            "<tr><td>Baróti Attila</td><td>attila.baróti@mail.hu</td><td>attila4</td></tr>",
                            "<tr><td>Bozsik Balázs</td><td>balázs.bozsik@mail.hu</td><td>balazs1</td></tr>",
                            "<tr><td>Szűcs Balázs</td><td>balázs.szűcs@mail.hu</td><td>balazs2</td></tr>",
                            "<tr><td>Bakódy Balázs</td><td>balazs3@gmail.com</td><td>balazs3</td></tr>",
                            "<tr><td>Horváth Bálint</td><td>balint@gmail.com</td><td>balint</td></tr>",
                            "<tr><td>Molnár Bálint</td><td>balint1@gmail.com</td><td>balint1</td></tr>",
                            "<tr><td>Vukasinovity Bálint</td><td>balint2@gmail.com</td><td>balint2</td></tr>",
                            "<tr><td>Endresz Bálint</td><td>bálint.endresz@mail.hu</td><td>balu</td></tr>",
                            "<tr><td>Bagi Beáta</td><td>beáta.bagi@mail.hu</td><td>beata4</td></tr>",
                            "<tr><td>Kerényi Beatrix</td><td>beatrix.kerényi@mail.hu</td><td>BEATRIXK</td></tr>",
                            "<tr><td>Szekendi Beatrix</td><td>beatrix.szekendi@mail.hu</td><td>BEATRIXS</td></tr>",
                            "<tr><td>Farkas Béla</td><td>BELAF@gmail.com</td><td>BELAF</td></tr>",
                            "<tr><td>Győrffy Bence</td><td>bence@gmail.com</td><td>bence</td></tr>",
                            "<tr><td>Bajusz Bence</td><td>bence.bajusz@mail.hu</td><td>BENCEB</td></tr>",
                            "<tr><td>Simon Bernadett</td><td>bernadett1@gmail.com</td><td>bernadett1</td></tr>",
                            "<tr><td>Kovács Bernadett</td><td>bernadett.kovács@mail.hu</td><td>bernadett2</td></tr>",
                            "<tr><td>Orbán Bernadett</td><td>bernadett.orbán@mail.hu</td><td>BERNADETTO</td></tr>",
                            "<tr><td>Csiger Bertalan</td><td>bertalan@gmail.com</td><td>bertalan</td></tr>",
                            "<tr><td>Székely Brigitta</td><td>brigitta.székely@mail.hu</td><td>brigitta</td></tr>",
                            "<tr><td>Nagymihály Csongor</td><td>csongor.nagymihály@mail.hu</td><td>csongor3</td></tr>",
                            "<tr><td>Vörös Dániel</td><td>daniel@gmail.com</td><td>dani</td></tr>",
                            "<tr><td>Rácz Dániel</td><td>dániel.rácz@mail.hu</td><td>daniel</td></tr>",
                            "<tr><td>Keszler Dániel</td><td>dániel.keszler@mail.hu</td><td>daniel1</td></tr>",
                            "<tr><td>Ambrus Dávid</td><td>david@gmail.com</td><td>david</td></tr>",
                            "<tr><td>Sobják Dávid</td><td>david1@gmail.com</td><td>david1</td></tr>",
                            "<tr><td>Barna Debóra</td><td>debóra.barna@mail.hu</td><td>debora</td></tr>",
                            "<tr><td>Tömböly Dénes</td><td>denes@gmail.com</td><td>denes</td></tr>",
                            "<tr><td>Bittmann Edit</td><td>edit.bittmann@mail.hu</td><td>edit</td></tr>",
                            "<tr><td>Kuruc Emese</td><td>emese.kuruc@mail.hu</td><td>emese</td></tr>",
                            "<tr><td>Balogh Eszter</td><td>eszter.balogh@mail.hu</td><td>eszter2</td></tr>",
                            "<tr><td>Fülöp Eszter</td><td>eszter.fülöp@mail.hu</td><td>eszter4</td></tr>",
                            "<tr><td>Érsek Eszter</td><td>eszter.érsek@mail.hu</td><td>ESZTERE</td></tr>",
                            "<tr><td>Enyedi Éva</td><td>eva@gmail.com</td><td>eva</td></tr>",
                            "<tr><td>Perlinger Éva</td><td>eva2@gmail.com</td><td>eva2</td></tr>",
                            "<tr><td>Viktor Éva</td><td>EVAV@gmail.com</td><td>EVAV</td></tr>",
                            "<tr><td>Orosz Ferenc</td><td>ferenc.orosz@mail.hu</td><td>ferenc1</td></tr>",
                            "<tr><td>Frank Fruzsina</td><td>fruzsina4@gmail.com</td><td>fruzsina4</td></tr>",
                            "<tr><td>Köves Gábor</td><td>gabor1@gmail.com</td><td>gabor1</td></tr>",
                            "<tr><td>Telek Gábor</td><td>gábor.telek@mail.hu</td><td>gabor4</td></tr>",
                            "<tr><td>Nagy Gabriella</td><td>gabriella1@gmail.com</td><td>gabriella1</td></tr>",
                            "<tr><td>Nyíri Georgij</td><td>georgij.nyíri@mail.hu</td><td>georgij</td></tr>",
                            "<tr><td>Bárci Gusztáv</td><td>gusztav@gmail.com</td><td>gusztav</td></tr>",
                            "<tr><td>Kornseé Gyöngyi</td><td>gyöngyi.kornseé@mail.hu</td><td>GYONGYIK</td></tr>",
                            "<tr><td>Oroszi György</td><td>GYORGYO@gmail.com</td><td>GYORGYO</td></tr>",
                            "<tr><td>Nádudvari Henrik</td><td>henrik.nádudvari@mail.hu</td><td>henrik3</td></tr>",
                            "<tr><td>Andor Ibolya</td><td>ibolya.andor@mail.hu</td><td>IBOLYAA</td></tr>",
                            "<tr><td>Bosnyák Ilona</td><td>ilona3@gmail.com</td><td>ilona3</td></tr>",
                            "<tr><td>Búza Imre</td><td>imre.búza@mail.hu</td><td>imre</td></tr>",
                            "<tr><td>Papp Imre</td><td>imre.papp@mail.hu</td><td>imre1</td></tr>",
                            "<tr><td>Soós István</td><td>istvan@gmail.com</td><td>istvan</td></tr>",
                            "<tr><td>Vizi István</td><td>istván.vizi@mail.hu</td><td>istvan1</td></tr>",
                            "<tr><td>Varga István</td><td>ISTVANV@gmail.com</td><td>ISTVANV</td></tr>",
                            "<tr><td>Harangozó János</td><td>janos3@gmail.com</td><td>janos3</td></tr>",
                            "<tr><td>Giliga János</td><td>JANOSG@gmail.com</td><td>JANOSG</td></tr>",
                            "<tr><td>Pálinkás János</td><td>JANOSP@gmail.com</td><td>JANOSP</td></tr>",
                            "<tr><td>Gergely József</td><td>jozsef@gmail.com</td><td>jozsef</td></tr>",
                            "<tr><td>Vajda József</td><td>józsef.vajda@mail.hu</td><td>jozsef2</td></tr>",
                            "<tr><td>Hídasi Judit</td><td>JUDITH@gmail.com</td><td>JUDITH</td></tr>",
                            "<tr><td>Tóth Júlia</td><td>julia@gmail.com</td><td>julia</td></tr>",
                            "<tr><td>Nagy Júlia</td><td>julia4@gmail.com</td><td>julia4</td></tr>",
                            "<tr><td>Szabó Julianna</td><td>julianna4@gmail.com</td><td>julianna4</td></tr>",
                            "<tr><td>Gondos Katalin</td><td>katalin.gondos@mail.hu</td><td>kata</td></tr>",
                            "<tr><td>Horváth Katalin</td><td>katalin.horváth@mail.hu</td><td>katalin</td></tr>",
                            "<tr><td>Kertész Katalin</td><td>katalin4@gmail.com</td><td>katalin4</td></tr>",
                            "<tr><td>Kovács Katalin</td><td>katalin.kovács@mail.hu</td><td>katka</td></tr>",
                            "<tr><td>Bakó Klaudia</td><td>klaudia.bakó@mail.hu</td><td>klaudia2</td></tr>",
                            "<tr><td>Lukács Kornél</td><td>kornél.lukács@mail.hu</td><td>kornel4</td></tr>",
                            "<tr><td>Poprádi Kristóf</td><td>kristof4@gmail.com</td><td>kristof4</td></tr>",
                            "<tr><td>Horváth Krisztina</td><td>kriszti@gmail.com</td><td>kriszti</td></tr>",
                            "<tr><td>Czérna Krisztián</td><td>krisztián.czérna@mail.hu</td><td>krisztian4</td></tr>",
                            "<tr><td>Bori Krisztina</td><td>krisztina.bori@mail.hu</td><td>krisztina1</td></tr>",
                            "<tr><td>Gyárfás Krisztina</td><td>KRISZTINAG@gmail.com</td><td>KRISZTINAG</td></tr>",
                            "<tr><td>Kiss Lajos</td><td>lajos.kiss@mail.hu</td><td>lajos</td></tr>",
                            "<tr><td>Nagymihály Lajos</td><td>lajos.nagymihály@mail.hu</td><td>lala</td></tr>",
                            "<tr><td>Móra László</td><td>lászló.móra@mail.hu</td><td>laszlo2</td></tr>",
                            "<tr><td>Antal László</td><td>lászló.antal@mail.hu</td><td>LASZLOA</td></tr>",
                            "<tr><td>Nagy László</td><td>lászló.nagy@mail.hu</td><td>LASZLON</td></tr>",
                            "<tr><td>Baráth Mária</td><td>mária.baráth@mail.hu</td><td>maria1</td></tr>",
                            "<tr><td>Kispál Márk</td><td>márk.kispál@mail.hu</td><td>mark</td></tr>",
                            "<tr><td>Horváth Márk</td><td>márk.horváth@mail.hu</td><td>MARKH</td></tr>",
                            "<tr><td>Kalacsi Márton</td><td>marton@gmail.com</td><td>marton</td></tr>",
                            "<tr><td>Koza Máté</td><td>máté.koza@mail.hu</td><td>MATEK</td></tr>",
                            "<tr><td>Botka Mátyás</td><td>matyas2@gmail.com</td><td>matyas2</td></tr>",
                            "<tr><td>Szilágyi Mátyás</td><td>mátyás.szilágyi@mail.hu</td><td>MATYASS</td></tr>",
                            "<tr><td>Juhász Mihály</td><td>mihály.juhász@mail.hu</td><td>MIHALYJ</td></tr>",
                            "<tr><td>Gondos Miklós</td><td>miklos2@gmail.com</td><td>miklos2</td></tr>",
                            "<tr><td>Balla Miklós</td><td>miklós.balla@mail.hu</td><td>MIKLOSB</td></tr>",
                            "<tr><td>Mohos Mónika</td><td>mónika.mohos@mail.hu</td><td>MONIKAM</td></tr>",
                            "<tr><td>Fő Nándor</td><td>nándor.fő@mail.hu</td><td>NANDORF</td></tr>",
                            "<tr><td>Horváth Nikolett</td><td>nikolett3@gmail.com</td><td>nikolett3</td></tr>",
                            "<tr><td>Kő Nikoletta</td><td>nikoletta4@gmail.com</td><td>nikoletta4</td></tr>",
                            "<tr><td>Tatár Nikoletta</td><td>nikoletta.tatár@mail.hu</td><td>NIKOLETTAT</td></tr>",
                            "<tr><td>Szűcs Norbert</td><td>norbert@gmail.com</td><td>norbert</td></tr>",
                            "<tr><td>Hegedűs Norbert</td><td>norbert.hegedűs@mail.hu</td><td>norbert2</td></tr>",
                            "<tr><td>Mile Norbert</td><td>norbert4@gmail.com</td><td>norbert4</td></tr>",
                            "<tr><td>Béres Norbert</td><td>norbert5@gmail.com</td><td>norbert5</td></tr>",
                            "<tr><td>Barabás Pál</td><td>pál.barabás@mail.hu</td><td>pal</td></tr>",
                            "<tr><td>Kozma Péter</td><td>peter1@gmail.com</td><td>peter1</td></tr>",
                            "<tr><td>Bozsó Péter</td><td>peter2@gmail.com</td><td>peter2</td></tr>",
                            "<tr><td>Szalai Péter</td><td>peter3@gmail.com</td><td>peter3</td></tr>",
                            "<tr><td>Bíró Péter</td><td>péter.bíró@mail.hu</td><td>peter4</td></tr>",
                            "<tr><td>Berendi Péter</td><td>péter.berendi@mail.hu</td><td>PETERB</td></tr>",
                            "<tr><td>Palágyi Polla</td><td>polla@gmail.com</td><td>polla</td></tr>",
                            "<tr><td>Rácz Rajmond</td><td>rajmond.rácz@mail.hu</td><td>rajmond4</td></tr>",
                            "<tr><td>Szikszai Réka</td><td>réka.szikszai@mail.hu</td><td>reka4</td></tr>",
                            "<tr><td>Szirmai Renáta</td><td>RENATAS@gmail.com</td><td>RENATAS</td></tr>",
                            "<tr><td>Patay Róbert</td><td>robert2@gmail.com</td><td>robert2</td></tr>",
                            "<tr><td>Iván Róbert</td><td>róbert.iván@mail.hu</td><td>ROBERTI</td></tr>",
                            "<tr><td>Tóth Roland</td><td>roland@gmail.com</td><td>roland</td></tr>",
                            "<tr><td>Ferencz Roland</td><td>roland.ferencz@mail.hu</td><td>roland1</td></tr>",
                            "<tr><td>Bucskó Róza</td><td>roza2@gmail.com</td><td>roza2</td></tr>",
                            "<tr><td>Karasz Sándor</td><td>sandor@gmail.com</td><td>sandor</td></tr>",
                            "<tr><td>Farkas Sándor</td><td>sándor.farkas@mail.hu</td><td>sandor3</td></tr>",
                            "<tr><td>Nagy Sándor</td><td>sandor4@gmail.com</td><td>sandor4</td></tr>",
                            "<tr><td>Farkas Sára</td><td>sára.farkas@mail.hu</td><td>sara</td></tr>",
                            "<tr><td>Foltényi Sebastián</td><td>SEBASTIANF@gmail.com</td><td>SEBASTIANF</td></tr>",
                            "<tr><td>Rab Sebestyén</td><td>sebestyen@gmail.com</td><td>sebestyen</td></tr>",
                            "<tr><td>Miklós Szabolcs</td><td>szabolcs.miklós@mail.hu</td><td>SZABOLCSM</td></tr>",
                            "<tr><td>Szalai Szilárd</td><td>szilárd.szalai@mail.hu</td><td>SZILARDS</td></tr>",
                            "<tr><td>Tari Szilvia</td><td>szilvia.tari@mail.hu</td><td>szilvia1</td></tr>",
                            "<tr><td>Miklós Tamara</td><td>tamara.miklós@mail.hu</td><td>tamara2</td></tr>",
                            "<tr><td>Antal Tamás</td><td>tamás.antal@mail.hu</td><td>tamas</td></tr>",
                            "<tr><td>Fényes Tamás</td><td>TAMASF@gmail.com</td><td>TAMASF</td></tr>",
                            "<tr><td>Gombos Tibor</td><td>tibor.gombos@mail.hu</td><td>tibor</td></tr>",
                            "<tr><td>Kazy Tihamér</td><td>tihamér.kazy@mail.hu</td><td>tihamer</td></tr>",
                            "<tr><td>Dusha Tímea</td><td>tímea.dusha@mail.hu</td><td>timea2</td></tr>",
                            "<tr><td>Turcsik Tünde</td><td>tunde@gmail.com</td><td>tunde</td></tr>",
                            "<tr><td>Feró Valentin</td><td>valentin.feró@mail.hu</td><td>valentin</td></tr>",
                            "<tr><td>Tankó Veronika</td><td>veronika4@gmail.com</td><td>veronika4</td></tr>",
                            "<tr><td>Boros Vivien</td><td>vivien3@gmail.com</td><td>vivien3</td></tr>",
                            "<tr><td>Fodor Zoltán</td><td>zoltán.fodor@mail.hu</td><td>zoltan</td></tr>",
                            "<tr><td>Pintér Zoltán</td><td>zoltán.pintér@mail.hu</td><td>ZOLTANP</td></tr>",
                            "<tr><td>Tóth Zoltán</td><td>zoltán.tóth@mail.hu</td><td>ZOLTANT</td></tr>",
                            "<tr><td>Molnár Zsófi</td><td>zsofi1@gmail.com</td><td>zsofi1</td></tr>",
                            "<tr><td>Józsa Zsolt</td><td>ZSOLTJ@gmail.com</td><td>ZSOLTJ</td></tr>",
                            "<tr><td>Pusztai Zsuzsanna</td><td>zsuzsanna@gmail.com</td><td>zsuzsa</td></tr>",
                            "<tr><td>Varsányi Zsuzsa</td><td>zsuzsa.varsányi@mail.hu</td><td>zsuzsa3</td></tr>",
                            "<tr><td>Barta Zsuzsanna</td><td>zsuzsanna.barta@mail.hu</td><td>zsuzsanna</td></tr>",
                            "<tr><td>Vajda Zsuzsa</td><td>zsuzsa.vajda@mail.hu</td><td>ZSUZSAV</td></tr>",
                            "</table>"
                        ]
                    }
                }
            ],
            "execution_count": 37
        },
        {
            "cell_type": "markdown",
            "source": [
                "2. <span style=\"background-color: rgb(255, 255, 255); color: rgb(0, 0, 0); font-family: &quot;Open Sans&quot;, sans-serif; font-size: 14.44px;\">Listázzuk azon vendégek adatait, akik a legtöbb férőhelyes szobát (vagy szobákat) már lefoglalták!</span>\n",
                "\n",
                "- Csak klímás szoba jöhet számításba"
            ],
            "metadata": {
                "azdata_cell_guid": "5d867a42-bc6b-4d20-95e7-067349f3959b",
                "language": "sql"
            },
            "attachments": {}
        },
        {
            "cell_type": "code",
            "source": [
                "SELECT V.*\n",
                "FROM VENDEG V\n",
                "JOIN FOGLALAS F ON V.USERNEV = F.UGYFEL_FK\n",
                "JOIN SZOBA S ON F.SZOBA_FK = S.SZOBA_SZAMA\n",
                "WHERE S.KLIMAS = 'i'\n",
                "AND S.FEROHELY = (\n",
                "    SELECT MAX(S1.FEROHELY)\n",
                "    FROM SZOBA S1\n",
                "    WHERE S1.KLIMAS = 'i'\n",
                ");\n",
                ""
            ],
            "metadata": {
                "azdata_cell_guid": "f5f1b38a-4427-44a9-9821-c90372192207",
                "language": "sql"
            },
            "outputs": [
                {
                    "output_type": "display_data",
                    "data": {
                        "text/html": "(5 rows affected)"
                    },
                    "metadata": {}
                },
                {
                    "output_type": "display_data",
                    "data": {
                        "text/html": "Total execution time: 00:00:00.009"
                    },
                    "metadata": {}
                },
                {
                    "output_type": "execute_result",
                    "metadata": {},
                    "execution_count": 36,
                    "data": {
                        "application/vnd.dataresource+json": {
                            "schema": {
                                "fields": [
                                    {
                                        "name": "USERNEV"
                                    },
                                    {
                                        "name": "NEV"
                                    },
                                    {
                                        "name": "EMAIL"
                                    },
                                    {
                                        "name": "SZAML_CIM"
                                    },
                                    {
                                        "name": "SZUL_DAT"
                                    }
                                ]
                            },
                            "data": [
                                {
                                    "USERNEV": "PETERB",
                                    "NEV": "Berendi Péter",
                                    "EMAIL": "péter.berendi@mail.hu",
                                    "SZAML_CIM": "3980 Sátoraljaújhely Vasút utca 4/10.",
                                    "SZUL_DAT": "1969-01-01"
                                },
                                {
                                    "USERNEV": "henrik3",
                                    "NEV": "Nádudvari Henrik",
                                    "EMAIL": "henrik.nádudvari@mail.hu",
                                    "SZAML_CIM": "1077 Budapest Tanácsköztársaság tér 1.",
                                    "SZUL_DAT": "1986-12-05"
                                },
                                {
                                    "USERNEV": "brigitta",
                                    "NEV": "Székely Brigitta",
                                    "EMAIL": "brigitta.székely@mail.hu",
                                    "SZAML_CIM": "2462 Martonvásár Fő utca 47.",
                                    "SZUL_DAT": "1978-09-13"
                                },
                                {
                                    "USERNEV": "sara",
                                    "NEV": "Farkas Sára",
                                    "EMAIL": "sára.farkas@mail.hu",
                                    "SZAML_CIM": "5940 Tótkomlós Felszabadulás utca 32.",
                                    "SZUL_DAT": "1973-04-05"
                                },
                                {
                                    "USERNEV": "LASZLOA",
                                    "NEV": "Antal László",
                                    "EMAIL": "lászló.antal@mail.hu",
                                    "SZAML_CIM": "2484 Agárd Bécsi utca 82.",
                                    "SZUL_DAT": "1969-06-29"
                                }
                            ]
                        },
                        "text/html": [
                            "<table>",
                            "<tr><th>USERNEV</th><th>NEV</th><th>EMAIL</th><th>SZAML_CIM</th><th>SZUL_DAT</th></tr>",
                            "<tr><td>PETERB</td><td>Berendi Péter</td><td>péter.berendi@mail.hu</td><td>3980 Sátoraljaújhely Vasút utca 4/10.</td><td>1969-01-01</td></tr>",
                            "<tr><td>henrik3</td><td>Nádudvari Henrik</td><td>henrik.nádudvari@mail.hu</td><td>1077 Budapest Tanácsköztársaság tér 1.</td><td>1986-12-05</td></tr>",
                            "<tr><td>brigitta</td><td>Székely Brigitta</td><td>brigitta.székely@mail.hu</td><td>2462 Martonvásár Fő utca 47.</td><td>1978-09-13</td></tr>",
                            "<tr><td>sara</td><td>Farkas Sára</td><td>sára.farkas@mail.hu</td><td>5940 Tótkomlós Felszabadulás utca 32.</td><td>1973-04-05</td></tr>",
                            "<tr><td>LASZLOA</td><td>Antal László</td><td>lászló.antal@mail.hu</td><td>2484 Agárd Bécsi utca 82.</td><td>1969-06-29</td></tr>",
                            "</table>"
                        ]
                    }
                }
            ],
            "execution_count": 36
        },
        {
            "cell_type": "markdown",
            "source": [
                "3. <span style=\"background-color: rgb(255, 255, 255); color: rgb(0, 0, 0); font-family: &quot;Open Sans&quot;, sans-serif; font-size: 14.44px;\">Jelenítsük meg, hogy az egyes szálláshelyek szobáit esetén a legutolsó 5 foglalás átlagosan hány főre történt!</span>\n",
                "\n",
                "- A számításnál vegyük figyelembe a felnőtteket és a gyermekeket is\n",
                "- A foglalás dátumánál a METTOL mezőt használjuk"
            ],
            "metadata": {
                "azdata_cell_guid": "f2bde6b9-e523-448b-9002-1dd81b159635"
            },
            "attachments": {}
        },
        {
            "cell_type": "code",
            "source": [
                "WITH UCCSOOT AS (\n",
                "    SELECT \n",
                "        SZOBA_FK, \n",
                "        GYERMEK_SZAM + FELNOTT_SZAM AS OSSZESEN,\n",
                "        ROW_NUMBER() OVER (PARTITION BY SZOBA_FK ORDER BY METTOL DESC) AS f\n",
                "    FROM FOGLALAS\n",
                ")\n",
                "SELECT \n",
                "    SZOBA_FK, \n",
                "    AVG(OSSZESEN) AS ATLAGOSAN\n",
                "FROM UCCSOOT\n",
                "WHERE f <= 5\n",
                "GROUP BY SZOBA_FK;\n",
                ""
            ],
            "metadata": {
                "azdata_cell_guid": "23e1f44f-9fbc-4c31-ae9f-9e5fdd1f8355",
                "language": "sql"
            },
            "outputs": [
                {
                    "output_type": "display_data",
                    "data": {
                        "text/html": "(197 rows affected)"
                    },
                    "metadata": {}
                },
                {
                    "output_type": "display_data",
                    "data": {
                        "text/html": "Total execution time: 00:00:00.008"
                    },
                    "metadata": {}
                },
                {
                    "output_type": "execute_result",
                    "metadata": {},
                    "execution_count": 39,
                    "data": {
                        "application/vnd.dataresource+json": {
                            "schema": {
                                "fields": [
                                    {
                                        "name": "SZOBA_FK"
                                    },
                                    {
                                        "name": "ATLAGOSAN"
                                    }
                                ]
                            },
                            "data": [
                                {
                                    "SZOBA_FK": "1",
                                    "ATLAGOSAN": "2"
                                },
                                {
                                    "SZOBA_FK": "2",
                                    "ATLAGOSAN": "3"
                                },
                                {
                                    "SZOBA_FK": "3",
                                    "ATLAGOSAN": "2"
                                },
                                {
                                    "SZOBA_FK": "4",
                                    "ATLAGOSAN": "1"
                                },
                                {
                                    "SZOBA_FK": "5",
                                    "ATLAGOSAN": "1"
                                },
                                {
                                    "SZOBA_FK": "6",
                                    "ATLAGOSAN": "2"
                                },
                                {
                                    "SZOBA_FK": "7",
                                    "ATLAGOSAN": "1"
                                },
                                {
                                    "SZOBA_FK": "8",
                                    "ATLAGOSAN": "2"
                                },
                                {
                                    "SZOBA_FK": "9",
                                    "ATLAGOSAN": "3"
                                },
                                {
                                    "SZOBA_FK": "10",
                                    "ATLAGOSAN": "2"
                                },
                                {
                                    "SZOBA_FK": "11",
                                    "ATLAGOSAN": "2"
                                },
                                {
                                    "SZOBA_FK": "12",
                                    "ATLAGOSAN": "2"
                                },
                                {
                                    "SZOBA_FK": "13",
                                    "ATLAGOSAN": "2"
                                },
                                {
                                    "SZOBA_FK": "14",
                                    "ATLAGOSAN": "3"
                                },
                                {
                                    "SZOBA_FK": "15",
                                    "ATLAGOSAN": "2"
                                },
                                {
                                    "SZOBA_FK": "16",
                                    "ATLAGOSAN": "3"
                                },
                                {
                                    "SZOBA_FK": "17",
                                    "ATLAGOSAN": "2"
                                },
                                {
                                    "SZOBA_FK": "18",
                                    "ATLAGOSAN": "3"
                                },
                                {
                                    "SZOBA_FK": "19",
                                    "ATLAGOSAN": "2"
                                },
                                {
                                    "SZOBA_FK": "20",
                                    "ATLAGOSAN": "2"
                                },
                                {
                                    "SZOBA_FK": "21",
                                    "ATLAGOSAN": "2"
                                },
                                {
                                    "SZOBA_FK": "22",
                                    "ATLAGOSAN": "3"
                                },
                                {
                                    "SZOBA_FK": "23",
                                    "ATLAGOSAN": "1"
                                },
                                {
                                    "SZOBA_FK": "24",
                                    "ATLAGOSAN": "3"
                                },
                                {
                                    "SZOBA_FK": "25",
                                    "ATLAGOSAN": "3"
                                },
                                {
                                    "SZOBA_FK": "26",
                                    "ATLAGOSAN": "2"
                                },
                                {
                                    "SZOBA_FK": "27",
                                    "ATLAGOSAN": "3"
                                },
                                {
                                    "SZOBA_FK": "28",
                                    "ATLAGOSAN": "2"
                                },
                                {
                                    "SZOBA_FK": "29",
                                    "ATLAGOSAN": "1"
                                },
                                {
                                    "SZOBA_FK": "30",
                                    "ATLAGOSAN": "2"
                                },
                                {
                                    "SZOBA_FK": "31",
                                    "ATLAGOSAN": "4"
                                },
                                {
                                    "SZOBA_FK": "32",
                                    "ATLAGOSAN": "2"
                                },
                                {
                                    "SZOBA_FK": "33",
                                    "ATLAGOSAN": "2"
                                },
                                {
                                    "SZOBA_FK": "34",
                                    "ATLAGOSAN": "2"
                                },
                                {
                                    "SZOBA_FK": "35",
                                    "ATLAGOSAN": "1"
                                },
                                {
                                    "SZOBA_FK": "36",
                                    "ATLAGOSAN": "3"
                                },
                                {
                                    "SZOBA_FK": "37",
                                    "ATLAGOSAN": "1"
                                },
                                {
                                    "SZOBA_FK": "38",
                                    "ATLAGOSAN": "2"
                                },
                                {
                                    "SZOBA_FK": "39",
                                    "ATLAGOSAN": "2"
                                },
                                {
                                    "SZOBA_FK": "40",
                                    "ATLAGOSAN": "2"
                                },
                                {
                                    "SZOBA_FK": "41",
                                    "ATLAGOSAN": "3"
                                },
                                {
                                    "SZOBA_FK": "42",
                                    "ATLAGOSAN": "2"
                                },
                                {
                                    "SZOBA_FK": "43",
                                    "ATLAGOSAN": "2"
                                },
                                {
                                    "SZOBA_FK": "44",
                                    "ATLAGOSAN": "3"
                                },
                                {
                                    "SZOBA_FK": "45",
                                    "ATLAGOSAN": "1"
                                },
                                {
                                    "SZOBA_FK": "46",
                                    "ATLAGOSAN": "2"
                                },
                                {
                                    "SZOBA_FK": "47",
                                    "ATLAGOSAN": "1"
                                },
                                {
                                    "SZOBA_FK": "48",
                                    "ATLAGOSAN": "2"
                                },
                                {
                                    "SZOBA_FK": "49",
                                    "ATLAGOSAN": "2"
                                },
                                {
                                    "SZOBA_FK": "50",
                                    "ATLAGOSAN": "1"
                                },
                                {
                                    "SZOBA_FK": "51",
                                    "ATLAGOSAN": "2"
                                },
                                {
                                    "SZOBA_FK": "52",
                                    "ATLAGOSAN": "1"
                                },
                                {
                                    "SZOBA_FK": "53",
                                    "ATLAGOSAN": "2"
                                },
                                {
                                    "SZOBA_FK": "54",
                                    "ATLAGOSAN": "2"
                                },
                                {
                                    "SZOBA_FK": "55",
                                    "ATLAGOSAN": "3"
                                },
                                {
                                    "SZOBA_FK": "56",
                                    "ATLAGOSAN": "1"
                                },
                                {
                                    "SZOBA_FK": "57",
                                    "ATLAGOSAN": "1"
                                },
                                {
                                    "SZOBA_FK": "58",
                                    "ATLAGOSAN": "2"
                                },
                                {
                                    "SZOBA_FK": "59",
                                    "ATLAGOSAN": "2"
                                },
                                {
                                    "SZOBA_FK": "60",
                                    "ATLAGOSAN": "2"
                                },
                                {
                                    "SZOBA_FK": "61",
                                    "ATLAGOSAN": "2"
                                },
                                {
                                    "SZOBA_FK": "62",
                                    "ATLAGOSAN": "1"
                                },
                                {
                                    "SZOBA_FK": "63",
                                    "ATLAGOSAN": "1"
                                },
                                {
                                    "SZOBA_FK": "64",
                                    "ATLAGOSAN": "2"
                                },
                                {
                                    "SZOBA_FK": "65",
                                    "ATLAGOSAN": "2"
                                },
                                {
                                    "SZOBA_FK": "66",
                                    "ATLAGOSAN": "3"
                                },
                                {
                                    "SZOBA_FK": "67",
                                    "ATLAGOSAN": "3"
                                },
                                {
                                    "SZOBA_FK": "68",
                                    "ATLAGOSAN": "4"
                                },
                                {
                                    "SZOBA_FK": "69",
                                    "ATLAGOSAN": "2"
                                },
                                {
                                    "SZOBA_FK": "70",
                                    "ATLAGOSAN": "2"
                                },
                                {
                                    "SZOBA_FK": "71",
                                    "ATLAGOSAN": "2"
                                },
                                {
                                    "SZOBA_FK": "72",
                                    "ATLAGOSAN": "1"
                                },
                                {
                                    "SZOBA_FK": "73",
                                    "ATLAGOSAN": "2"
                                },
                                {
                                    "SZOBA_FK": "74",
                                    "ATLAGOSAN": "3"
                                },
                                {
                                    "SZOBA_FK": "75",
                                    "ATLAGOSAN": "2"
                                },
                                {
                                    "SZOBA_FK": "76",
                                    "ATLAGOSAN": "1"
                                },
                                {
                                    "SZOBA_FK": "77",
                                    "ATLAGOSAN": "2"
                                },
                                {
                                    "SZOBA_FK": "78",
                                    "ATLAGOSAN": "2"
                                },
                                {
                                    "SZOBA_FK": "79",
                                    "ATLAGOSAN": "2"
                                },
                                {
                                    "SZOBA_FK": "80",
                                    "ATLAGOSAN": "2"
                                },
                                {
                                    "SZOBA_FK": "81",
                                    "ATLAGOSAN": "1"
                                },
                                {
                                    "SZOBA_FK": "82",
                                    "ATLAGOSAN": "2"
                                },
                                {
                                    "SZOBA_FK": "83",
                                    "ATLAGOSAN": "2"
                                },
                                {
                                    "SZOBA_FK": "84",
                                    "ATLAGOSAN": "1"
                                },
                                {
                                    "SZOBA_FK": "85",
                                    "ATLAGOSAN": "2"
                                },
                                {
                                    "SZOBA_FK": "86",
                                    "ATLAGOSAN": "2"
                                },
                                {
                                    "SZOBA_FK": "87",
                                    "ATLAGOSAN": "2"
                                },
                                {
                                    "SZOBA_FK": "88",
                                    "ATLAGOSAN": "2"
                                },
                                {
                                    "SZOBA_FK": "89",
                                    "ATLAGOSAN": "2"
                                },
                                {
                                    "SZOBA_FK": "90",
                                    "ATLAGOSAN": "2"
                                },
                                {
                                    "SZOBA_FK": "91",
                                    "ATLAGOSAN": "1"
                                },
                                {
                                    "SZOBA_FK": "92",
                                    "ATLAGOSAN": "3"
                                },
                                {
                                    "SZOBA_FK": "93",
                                    "ATLAGOSAN": "3"
                                },
                                {
                                    "SZOBA_FK": "94",
                                    "ATLAGOSAN": "1"
                                },
                                {
                                    "SZOBA_FK": "95",
                                    "ATLAGOSAN": "1"
                                },
                                {
                                    "SZOBA_FK": "96",
                                    "ATLAGOSAN": "2"
                                },
                                {
                                    "SZOBA_FK": "97",
                                    "ATLAGOSAN": "2"
                                },
                                {
                                    "SZOBA_FK": "98",
                                    "ATLAGOSAN": "1"
                                },
                                {
                                    "SZOBA_FK": "99",
                                    "ATLAGOSAN": "2"
                                },
                                {
                                    "SZOBA_FK": "100",
                                    "ATLAGOSAN": "2"
                                },
                                {
                                    "SZOBA_FK": "101",
                                    "ATLAGOSAN": "2"
                                },
                                {
                                    "SZOBA_FK": "102",
                                    "ATLAGOSAN": "1"
                                },
                                {
                                    "SZOBA_FK": "103",
                                    "ATLAGOSAN": "2"
                                },
                                {
                                    "SZOBA_FK": "104",
                                    "ATLAGOSAN": "2"
                                },
                                {
                                    "SZOBA_FK": "105",
                                    "ATLAGOSAN": "2"
                                },
                                {
                                    "SZOBA_FK": "106",
                                    "ATLAGOSAN": "1"
                                },
                                {
                                    "SZOBA_FK": "107",
                                    "ATLAGOSAN": "2"
                                },
                                {
                                    "SZOBA_FK": "108",
                                    "ATLAGOSAN": "1"
                                },
                                {
                                    "SZOBA_FK": "109",
                                    "ATLAGOSAN": "2"
                                },
                                {
                                    "SZOBA_FK": "110",
                                    "ATLAGOSAN": "1"
                                },
                                {
                                    "SZOBA_FK": "111",
                                    "ATLAGOSAN": "2"
                                },
                                {
                                    "SZOBA_FK": "112",
                                    "ATLAGOSAN": "3"
                                },
                                {
                                    "SZOBA_FK": "113",
                                    "ATLAGOSAN": "4"
                                },
                                {
                                    "SZOBA_FK": "114",
                                    "ATLAGOSAN": "2"
                                },
                                {
                                    "SZOBA_FK": "115",
                                    "ATLAGOSAN": "2"
                                },
                                {
                                    "SZOBA_FK": "116",
                                    "ATLAGOSAN": "2"
                                },
                                {
                                    "SZOBA_FK": "117",
                                    "ATLAGOSAN": "3"
                                },
                                {
                                    "SZOBA_FK": "118",
                                    "ATLAGOSAN": "2"
                                },
                                {
                                    "SZOBA_FK": "119",
                                    "ATLAGOSAN": "1"
                                },
                                {
                                    "SZOBA_FK": "120",
                                    "ATLAGOSAN": "2"
                                },
                                {
                                    "SZOBA_FK": "121",
                                    "ATLAGOSAN": "2"
                                },
                                {
                                    "SZOBA_FK": "122",
                                    "ATLAGOSAN": "3"
                                },
                                {
                                    "SZOBA_FK": "123",
                                    "ATLAGOSAN": "2"
                                },
                                {
                                    "SZOBA_FK": "124",
                                    "ATLAGOSAN": "2"
                                },
                                {
                                    "SZOBA_FK": "125",
                                    "ATLAGOSAN": "3"
                                },
                                {
                                    "SZOBA_FK": "126",
                                    "ATLAGOSAN": "1"
                                },
                                {
                                    "SZOBA_FK": "127",
                                    "ATLAGOSAN": "2"
                                },
                                {
                                    "SZOBA_FK": "128",
                                    "ATLAGOSAN": "2"
                                },
                                {
                                    "SZOBA_FK": "129",
                                    "ATLAGOSAN": "2"
                                },
                                {
                                    "SZOBA_FK": "130",
                                    "ATLAGOSAN": "1"
                                },
                                {
                                    "SZOBA_FK": "131",
                                    "ATLAGOSAN": "1"
                                },
                                {
                                    "SZOBA_FK": "132",
                                    "ATLAGOSAN": "2"
                                },
                                {
                                    "SZOBA_FK": "133",
                                    "ATLAGOSAN": "2"
                                },
                                {
                                    "SZOBA_FK": "134",
                                    "ATLAGOSAN": "2"
                                },
                                {
                                    "SZOBA_FK": "135",
                                    "ATLAGOSAN": "2"
                                },
                                {
                                    "SZOBA_FK": "136",
                                    "ATLAGOSAN": "1"
                                },
                                {
                                    "SZOBA_FK": "137",
                                    "ATLAGOSAN": "2"
                                },
                                {
                                    "SZOBA_FK": "138",
                                    "ATLAGOSAN": "2"
                                },
                                {
                                    "SZOBA_FK": "139",
                                    "ATLAGOSAN": "2"
                                },
                                {
                                    "SZOBA_FK": "140",
                                    "ATLAGOSAN": "2"
                                },
                                {
                                    "SZOBA_FK": "141",
                                    "ATLAGOSAN": "2"
                                },
                                {
                                    "SZOBA_FK": "142",
                                    "ATLAGOSAN": "2"
                                },
                                {
                                    "SZOBA_FK": "143",
                                    "ATLAGOSAN": "3"
                                },
                                {
                                    "SZOBA_FK": "144",
                                    "ATLAGOSAN": "3"
                                },
                                {
                                    "SZOBA_FK": "145",
                                    "ATLAGOSAN": "2"
                                },
                                {
                                    "SZOBA_FK": "146",
                                    "ATLAGOSAN": "2"
                                },
                                {
                                    "SZOBA_FK": "147",
                                    "ATLAGOSAN": "2"
                                },
                                {
                                    "SZOBA_FK": "148",
                                    "ATLAGOSAN": "1"
                                },
                                {
                                    "SZOBA_FK": "149",
                                    "ATLAGOSAN": "1"
                                },
                                {
                                    "SZOBA_FK": "150",
                                    "ATLAGOSAN": "2"
                                },
                                {
                                    "SZOBA_FK": "151",
                                    "ATLAGOSAN": "1"
                                },
                                {
                                    "SZOBA_FK": "152",
                                    "ATLAGOSAN": "2"
                                },
                                {
                                    "SZOBA_FK": "153",
                                    "ATLAGOSAN": "2"
                                },
                                {
                                    "SZOBA_FK": "154",
                                    "ATLAGOSAN": "2"
                                },
                                {
                                    "SZOBA_FK": "155",
                                    "ATLAGOSAN": "2"
                                },
                                {
                                    "SZOBA_FK": "156",
                                    "ATLAGOSAN": "3"
                                },
                                {
                                    "SZOBA_FK": "157",
                                    "ATLAGOSAN": "1"
                                },
                                {
                                    "SZOBA_FK": "158",
                                    "ATLAGOSAN": "3"
                                },
                                {
                                    "SZOBA_FK": "160",
                                    "ATLAGOSAN": "3"
                                },
                                {
                                    "SZOBA_FK": "161",
                                    "ATLAGOSAN": "2"
                                },
                                {
                                    "SZOBA_FK": "162",
                                    "ATLAGOSAN": "2"
                                },
                                {
                                    "SZOBA_FK": "163",
                                    "ATLAGOSAN": "1"
                                },
                                {
                                    "SZOBA_FK": "164",
                                    "ATLAGOSAN": "2"
                                },
                                {
                                    "SZOBA_FK": "165",
                                    "ATLAGOSAN": "1"
                                },
                                {
                                    "SZOBA_FK": "166",
                                    "ATLAGOSAN": "2"
                                },
                                {
                                    "SZOBA_FK": "167",
                                    "ATLAGOSAN": "2"
                                },
                                {
                                    "SZOBA_FK": "168",
                                    "ATLAGOSAN": "3"
                                },
                                {
                                    "SZOBA_FK": "169",
                                    "ATLAGOSAN": "2"
                                },
                                {
                                    "SZOBA_FK": "170",
                                    "ATLAGOSAN": "1"
                                },
                                {
                                    "SZOBA_FK": "171",
                                    "ATLAGOSAN": "1"
                                },
                                {
                                    "SZOBA_FK": "172",
                                    "ATLAGOSAN": "1"
                                },
                                {
                                    "SZOBA_FK": "173",
                                    "ATLAGOSAN": "1"
                                },
                                {
                                    "SZOBA_FK": "174",
                                    "ATLAGOSAN": "1"
                                },
                                {
                                    "SZOBA_FK": "175",
                                    "ATLAGOSAN": "1"
                                },
                                {
                                    "SZOBA_FK": "176",
                                    "ATLAGOSAN": "3"
                                },
                                {
                                    "SZOBA_FK": "177",
                                    "ATLAGOSAN": "3"
                                },
                                {
                                    "SZOBA_FK": "178",
                                    "ATLAGOSAN": "3"
                                },
                                {
                                    "SZOBA_FK": "179",
                                    "ATLAGOSAN": "3"
                                },
                                {
                                    "SZOBA_FK": "180",
                                    "ATLAGOSAN": "3"
                                },
                                {
                                    "SZOBA_FK": "181",
                                    "ATLAGOSAN": "3"
                                },
                                {
                                    "SZOBA_FK": "182",
                                    "ATLAGOSAN": "1"
                                },
                                {
                                    "SZOBA_FK": "183",
                                    "ATLAGOSAN": "2"
                                },
                                {
                                    "SZOBA_FK": "184",
                                    "ATLAGOSAN": "1"
                                },
                                {
                                    "SZOBA_FK": "185",
                                    "ATLAGOSAN": "3"
                                },
                                {
                                    "SZOBA_FK": "186",
                                    "ATLAGOSAN": "3"
                                },
                                {
                                    "SZOBA_FK": "187",
                                    "ATLAGOSAN": "2"
                                },
                                {
                                    "SZOBA_FK": "188",
                                    "ATLAGOSAN": "2"
                                },
                                {
                                    "SZOBA_FK": "189",
                                    "ATLAGOSAN": "2"
                                },
                                {
                                    "SZOBA_FK": "190",
                                    "ATLAGOSAN": "1"
                                },
                                {
                                    "SZOBA_FK": "191",
                                    "ATLAGOSAN": "2"
                                },
                                {
                                    "SZOBA_FK": "192",
                                    "ATLAGOSAN": "2"
                                },
                                {
                                    "SZOBA_FK": "193",
                                    "ATLAGOSAN": "4"
                                },
                                {
                                    "SZOBA_FK": "194",
                                    "ATLAGOSAN": "3"
                                },
                                {
                                    "SZOBA_FK": "195",
                                    "ATLAGOSAN": "1"
                                },
                                {
                                    "SZOBA_FK": "196",
                                    "ATLAGOSAN": "2"
                                },
                                {
                                    "SZOBA_FK": "197",
                                    "ATLAGOSAN": "2"
                                },
                                {
                                    "SZOBA_FK": "198",
                                    "ATLAGOSAN": "2"
                                }
                            ]
                        },
                        "text/html": [
                            "<table>",
                            "<tr><th>SZOBA_FK</th><th>ATLAGOSAN</th></tr>",
                            "<tr><td>1</td><td>2</td></tr>",
                            "<tr><td>2</td><td>3</td></tr>",
                            "<tr><td>3</td><td>2</td></tr>",
                            "<tr><td>4</td><td>1</td></tr>",
                            "<tr><td>5</td><td>1</td></tr>",
                            "<tr><td>6</td><td>2</td></tr>",
                            "<tr><td>7</td><td>1</td></tr>",
                            "<tr><td>8</td><td>2</td></tr>",
                            "<tr><td>9</td><td>3</td></tr>",
                            "<tr><td>10</td><td>2</td></tr>",
                            "<tr><td>11</td><td>2</td></tr>",
                            "<tr><td>12</td><td>2</td></tr>",
                            "<tr><td>13</td><td>2</td></tr>",
                            "<tr><td>14</td><td>3</td></tr>",
                            "<tr><td>15</td><td>2</td></tr>",
                            "<tr><td>16</td><td>3</td></tr>",
                            "<tr><td>17</td><td>2</td></tr>",
                            "<tr><td>18</td><td>3</td></tr>",
                            "<tr><td>19</td><td>2</td></tr>",
                            "<tr><td>20</td><td>2</td></tr>",
                            "<tr><td>21</td><td>2</td></tr>",
                            "<tr><td>22</td><td>3</td></tr>",
                            "<tr><td>23</td><td>1</td></tr>",
                            "<tr><td>24</td><td>3</td></tr>",
                            "<tr><td>25</td><td>3</td></tr>",
                            "<tr><td>26</td><td>2</td></tr>",
                            "<tr><td>27</td><td>3</td></tr>",
                            "<tr><td>28</td><td>2</td></tr>",
                            "<tr><td>29</td><td>1</td></tr>",
                            "<tr><td>30</td><td>2</td></tr>",
                            "<tr><td>31</td><td>4</td></tr>",
                            "<tr><td>32</td><td>2</td></tr>",
                            "<tr><td>33</td><td>2</td></tr>",
                            "<tr><td>34</td><td>2</td></tr>",
                            "<tr><td>35</td><td>1</td></tr>",
                            "<tr><td>36</td><td>3</td></tr>",
                            "<tr><td>37</td><td>1</td></tr>",
                            "<tr><td>38</td><td>2</td></tr>",
                            "<tr><td>39</td><td>2</td></tr>",
                            "<tr><td>40</td><td>2</td></tr>",
                            "<tr><td>41</td><td>3</td></tr>",
                            "<tr><td>42</td><td>2</td></tr>",
                            "<tr><td>43</td><td>2</td></tr>",
                            "<tr><td>44</td><td>3</td></tr>",
                            "<tr><td>45</td><td>1</td></tr>",
                            "<tr><td>46</td><td>2</td></tr>",
                            "<tr><td>47</td><td>1</td></tr>",
                            "<tr><td>48</td><td>2</td></tr>",
                            "<tr><td>49</td><td>2</td></tr>",
                            "<tr><td>50</td><td>1</td></tr>",
                            "<tr><td>51</td><td>2</td></tr>",
                            "<tr><td>52</td><td>1</td></tr>",
                            "<tr><td>53</td><td>2</td></tr>",
                            "<tr><td>54</td><td>2</td></tr>",
                            "<tr><td>55</td><td>3</td></tr>",
                            "<tr><td>56</td><td>1</td></tr>",
                            "<tr><td>57</td><td>1</td></tr>",
                            "<tr><td>58</td><td>2</td></tr>",
                            "<tr><td>59</td><td>2</td></tr>",
                            "<tr><td>60</td><td>2</td></tr>",
                            "<tr><td>61</td><td>2</td></tr>",
                            "<tr><td>62</td><td>1</td></tr>",
                            "<tr><td>63</td><td>1</td></tr>",
                            "<tr><td>64</td><td>2</td></tr>",
                            "<tr><td>65</td><td>2</td></tr>",
                            "<tr><td>66</td><td>3</td></tr>",
                            "<tr><td>67</td><td>3</td></tr>",
                            "<tr><td>68</td><td>4</td></tr>",
                            "<tr><td>69</td><td>2</td></tr>",
                            "<tr><td>70</td><td>2</td></tr>",
                            "<tr><td>71</td><td>2</td></tr>",
                            "<tr><td>72</td><td>1</td></tr>",
                            "<tr><td>73</td><td>2</td></tr>",
                            "<tr><td>74</td><td>3</td></tr>",
                            "<tr><td>75</td><td>2</td></tr>",
                            "<tr><td>76</td><td>1</td></tr>",
                            "<tr><td>77</td><td>2</td></tr>",
                            "<tr><td>78</td><td>2</td></tr>",
                            "<tr><td>79</td><td>2</td></tr>",
                            "<tr><td>80</td><td>2</td></tr>",
                            "<tr><td>81</td><td>1</td></tr>",
                            "<tr><td>82</td><td>2</td></tr>",
                            "<tr><td>83</td><td>2</td></tr>",
                            "<tr><td>84</td><td>1</td></tr>",
                            "<tr><td>85</td><td>2</td></tr>",
                            "<tr><td>86</td><td>2</td></tr>",
                            "<tr><td>87</td><td>2</td></tr>",
                            "<tr><td>88</td><td>2</td></tr>",
                            "<tr><td>89</td><td>2</td></tr>",
                            "<tr><td>90</td><td>2</td></tr>",
                            "<tr><td>91</td><td>1</td></tr>",
                            "<tr><td>92</td><td>3</td></tr>",
                            "<tr><td>93</td><td>3</td></tr>",
                            "<tr><td>94</td><td>1</td></tr>",
                            "<tr><td>95</td><td>1</td></tr>",
                            "<tr><td>96</td><td>2</td></tr>",
                            "<tr><td>97</td><td>2</td></tr>",
                            "<tr><td>98</td><td>1</td></tr>",
                            "<tr><td>99</td><td>2</td></tr>",
                            "<tr><td>100</td><td>2</td></tr>",
                            "<tr><td>101</td><td>2</td></tr>",
                            "<tr><td>102</td><td>1</td></tr>",
                            "<tr><td>103</td><td>2</td></tr>",
                            "<tr><td>104</td><td>2</td></tr>",
                            "<tr><td>105</td><td>2</td></tr>",
                            "<tr><td>106</td><td>1</td></tr>",
                            "<tr><td>107</td><td>2</td></tr>",
                            "<tr><td>108</td><td>1</td></tr>",
                            "<tr><td>109</td><td>2</td></tr>",
                            "<tr><td>110</td><td>1</td></tr>",
                            "<tr><td>111</td><td>2</td></tr>",
                            "<tr><td>112</td><td>3</td></tr>",
                            "<tr><td>113</td><td>4</td></tr>",
                            "<tr><td>114</td><td>2</td></tr>",
                            "<tr><td>115</td><td>2</td></tr>",
                            "<tr><td>116</td><td>2</td></tr>",
                            "<tr><td>117</td><td>3</td></tr>",
                            "<tr><td>118</td><td>2</td></tr>",
                            "<tr><td>119</td><td>1</td></tr>",
                            "<tr><td>120</td><td>2</td></tr>",
                            "<tr><td>121</td><td>2</td></tr>",
                            "<tr><td>122</td><td>3</td></tr>",
                            "<tr><td>123</td><td>2</td></tr>",
                            "<tr><td>124</td><td>2</td></tr>",
                            "<tr><td>125</td><td>3</td></tr>",
                            "<tr><td>126</td><td>1</td></tr>",
                            "<tr><td>127</td><td>2</td></tr>",
                            "<tr><td>128</td><td>2</td></tr>",
                            "<tr><td>129</td><td>2</td></tr>",
                            "<tr><td>130</td><td>1</td></tr>",
                            "<tr><td>131</td><td>1</td></tr>",
                            "<tr><td>132</td><td>2</td></tr>",
                            "<tr><td>133</td><td>2</td></tr>",
                            "<tr><td>134</td><td>2</td></tr>",
                            "<tr><td>135</td><td>2</td></tr>",
                            "<tr><td>136</td><td>1</td></tr>",
                            "<tr><td>137</td><td>2</td></tr>",
                            "<tr><td>138</td><td>2</td></tr>",
                            "<tr><td>139</td><td>2</td></tr>",
                            "<tr><td>140</td><td>2</td></tr>",
                            "<tr><td>141</td><td>2</td></tr>",
                            "<tr><td>142</td><td>2</td></tr>",
                            "<tr><td>143</td><td>3</td></tr>",
                            "<tr><td>144</td><td>3</td></tr>",
                            "<tr><td>145</td><td>2</td></tr>",
                            "<tr><td>146</td><td>2</td></tr>",
                            "<tr><td>147</td><td>2</td></tr>",
                            "<tr><td>148</td><td>1</td></tr>",
                            "<tr><td>149</td><td>1</td></tr>",
                            "<tr><td>150</td><td>2</td></tr>",
                            "<tr><td>151</td><td>1</td></tr>",
                            "<tr><td>152</td><td>2</td></tr>",
                            "<tr><td>153</td><td>2</td></tr>",
                            "<tr><td>154</td><td>2</td></tr>",
                            "<tr><td>155</td><td>2</td></tr>",
                            "<tr><td>156</td><td>3</td></tr>",
                            "<tr><td>157</td><td>1</td></tr>",
                            "<tr><td>158</td><td>3</td></tr>",
                            "<tr><td>160</td><td>3</td></tr>",
                            "<tr><td>161</td><td>2</td></tr>",
                            "<tr><td>162</td><td>2</td></tr>",
                            "<tr><td>163</td><td>1</td></tr>",
                            "<tr><td>164</td><td>2</td></tr>",
                            "<tr><td>165</td><td>1</td></tr>",
                            "<tr><td>166</td><td>2</td></tr>",
                            "<tr><td>167</td><td>2</td></tr>",
                            "<tr><td>168</td><td>3</td></tr>",
                            "<tr><td>169</td><td>2</td></tr>",
                            "<tr><td>170</td><td>1</td></tr>",
                            "<tr><td>171</td><td>1</td></tr>",
                            "<tr><td>172</td><td>1</td></tr>",
                            "<tr><td>173</td><td>1</td></tr>",
                            "<tr><td>174</td><td>1</td></tr>",
                            "<tr><td>175</td><td>1</td></tr>",
                            "<tr><td>176</td><td>3</td></tr>",
                            "<tr><td>177</td><td>3</td></tr>",
                            "<tr><td>178</td><td>3</td></tr>",
                            "<tr><td>179</td><td>3</td></tr>",
                            "<tr><td>180</td><td>3</td></tr>",
                            "<tr><td>181</td><td>3</td></tr>",
                            "<tr><td>182</td><td>1</td></tr>",
                            "<tr><td>183</td><td>2</td></tr>",
                            "<tr><td>184</td><td>1</td></tr>",
                            "<tr><td>185</td><td>3</td></tr>",
                            "<tr><td>186</td><td>3</td></tr>",
                            "<tr><td>187</td><td>2</td></tr>",
                            "<tr><td>188</td><td>2</td></tr>",
                            "<tr><td>189</td><td>2</td></tr>",
                            "<tr><td>190</td><td>1</td></tr>",
                            "<tr><td>191</td><td>2</td></tr>",
                            "<tr><td>192</td><td>2</td></tr>",
                            "<tr><td>193</td><td>4</td></tr>",
                            "<tr><td>194</td><td>3</td></tr>",
                            "<tr><td>195</td><td>1</td></tr>",
                            "<tr><td>196</td><td>2</td></tr>",
                            "<tr><td>197</td><td>2</td></tr>",
                            "<tr><td>198</td><td>2</td></tr>",
                            "</table>"
                        ]
                    }
                }
            ],
            "execution_count": 39
        },
        {
            "cell_type": "markdown",
            "source": [
                "5. Készítsünk ideiglenes táblát #MASKED\\_GUEST néven, ahol \n",
                "    \n",
                "    - a tábla felépítése megegyezik a vendég tábláéval, DE\n",
                "    - a vendégek nevének csak az első 2, és az utolsó 3 karaktere jelenjen meg, közötte X-ek legyenek!"
            ],
            "metadata": {
                "azdata_cell_guid": "85d897d6-b4ab-4312-be9b-cb188a25cefa"
            },
            "attachments": {}
        },
        {
            "cell_type": "code",
            "source": [
                "SET ANSI_NULLS ON\n",
                "GO\n",
                "SET QUOTED_IDENTIFIER ON\n",
                "GO\n",
                "CREATE TABLE #MASKED_GUEST(\n",
                "\t[USERNEV] [nvarchar](20) NOT NULL,\n",
                "\t[NEV] [nvarchar](50) NOT NULL,\n",
                "\t[EMAIL] [nvarchar](60) NOT NULL,\n",
                "\t[SZAML_CIM] [nvarchar](100) NULL,\n",
                "\t[SZUL_DAT] [date] NULL,\n",
                " CONSTRAINT [PK_Vendeg] PRIMARY KEY CLUSTERED \n",
                "(\n",
                "\t[USERNEV] ASC\n",
                ")WITH (PAD_INDEX = OFF, STATISTICS_NORECOMPUTE = OFF, IGNORE_DUP_KEY = OFF, ALLOW_ROW_LOCKS = ON, ALLOW_PAGE_LOCKS = ON) ON [PRIMARY]\n",
                ") ON [PRIMARY]\n",
                "GO"
            ],
            "metadata": {
                "azdata_cell_guid": "52612495-f7c6-489e-84a5-c0472bf73892",
                "language": "sql"
            },
            "outputs": [
                {
                    "output_type": "display_data",
                    "data": {
                        "text/html": "Commands completed successfully."
                    },
                    "metadata": {}
                },
                {
                    "output_type": "display_data",
                    "data": {
                        "text/html": "Commands completed successfully."
                    },
                    "metadata": {}
                },
                {
                    "output_type": "display_data",
                    "data": {
                        "text/html": "Commands completed successfully."
                    },
                    "metadata": {}
                },
                {
                    "output_type": "display_data",
                    "data": {
                        "text/html": "Total execution time: 00:00:00.003"
                    },
                    "metadata": {}
                }
            ],
            "execution_count": 32
        },
        {
            "cell_type": "code",
            "source": [
                "INSERT INTO #MASKED_GUEST (USERNEV, NEV, EMAIL, SZAML_CIM, SZUL_DAT)\n",
                "SELECT \n",
                "    USERNEV, \n",
                "    CASE \n",
                "        WHEN LEN(NEV) <= 5 THEN NEV\n",
                "        ELSE LEFT(NEV, 2) + REPLICATE('X', LEN(NEV) - 5) + RIGHT(NEV, 3)\n",
                "    END AS NEV,\n",
                "    EMAIL,\n",
                "    SZAML_CIM,\n",
                "    SZUL_DAT\n",
                "FROM [dbo].[Vendeg];"
            ],
            "metadata": {
                "azdata_cell_guid": "5b9fd7d2-93c7-4be8-83d6-2f86c0460fff",
                "language": "sql"
            },
            "outputs": [
                {
                    "output_type": "display_data",
                    "data": {
                        "text/html": "(196 rows affected)"
                    },
                    "metadata": {}
                },
                {
                    "output_type": "display_data",
                    "data": {
                        "text/html": "Total execution time: 00:00:00.006"
                    },
                    "metadata": {}
                }
            ],
            "execution_count": 33
        },
        {
            "cell_type": "code",
            "source": [
                "SELECT * FROM #MASKED_GUEST;"
            ],
            "metadata": {
                "azdata_cell_guid": "daf04369-b290-498d-a38e-71c350b9b05d",
                "language": "sql"
            },
            "outputs": [
                {
                    "output_type": "display_data",
                    "data": {
                        "text/html": "(196 rows affected)"
                    },
                    "metadata": {}
                },
                {
                    "output_type": "display_data",
                    "data": {
                        "text/html": "Total execution time: 00:00:00.006"
                    },
                    "metadata": {}
                },
                {
                    "output_type": "execute_result",
                    "metadata": {},
                    "execution_count": 34,
                    "data": {
                        "application/vnd.dataresource+json": {
                            "schema": {
                                "fields": [
                                    {
                                        "name": "USERNEV"
                                    },
                                    {
                                        "name": "NEV"
                                    },
                                    {
                                        "name": "EMAIL"
                                    },
                                    {
                                        "name": "SZAML_CIM"
                                    },
                                    {
                                        "name": "SZUL_DAT"
                                    }
                                ]
                            },
                            "data": [
                                {
                                    "USERNEV": "adam1",
                                    "NEV": "KiXXXXdám",
                                    "EMAIL": "ádám.kiss@mail.hu",
                                    "SZAML_CIM": "5630 Békés Szolnoki út 8.",
                                    "SZUL_DAT": "1991-12-28"
                                },
                                {
                                    "USERNEV": "adam3",
                                    "NEV": "BaXXXXXXXdám",
                                    "EMAIL": "adam3@gmail.com",
                                    "SZAML_CIM": "3910 Tokaj Dózsa György utca 37.",
                                    "SZUL_DAT": "1970-06-07"
                                },
                                {
                                    "USERNEV": "adam4",
                                    "NEV": "BiXXXXXXXdám",
                                    "EMAIL": "ádám.bieniek@mail.hu",
                                    "SZAML_CIM": "8630 Balatonboglár Juhászföldi út 1.",
                                    "SZUL_DAT": "1976-08-01"
                                },
                                {
                                    "USERNEV": "agnes",
                                    "NEV": "LeXXXXXXXXnes",
                                    "EMAIL": "agnes@gmail.com",
                                    "SZAML_CIM": "5200 Törökszentmiklós Deák Ferenc út 5.",
                                    "SZUL_DAT": "1979-12-10"
                                },
                                {
                                    "USERNEV": "agnes3",
                                    "NEV": "HaXXXXXXXXXXXXnes",
                                    "EMAIL": "agnes3@gmail.com",
                                    "SZAML_CIM": "6430 Bácsalmás Posta köz 2.",
                                    "SZUL_DAT": "1967-04-11"
                                },
                                {
                                    "USERNEV": "AGNESH",
                                    "NEV": "HoXXXXXXXXnes",
                                    "EMAIL": "AGNESH@gmail.com",
                                    "SZAML_CIM": "8200 Veszprém Rákóczi utca 21.",
                                    "SZUL_DAT": "1981-12-24"
                                },
                                {
                                    "USERNEV": "AGNESK",
                                    "NEV": "KoXXXXXXXnes",
                                    "EMAIL": "AGNESK@gmail.com",
                                    "SZAML_CIM": "1084 Budapest Endrődi Sándor utca 47.",
                                    "SZUL_DAT": "1988-10-02"
                                },
                                {
                                    "USERNEV": "akos",
                                    "NEV": "BíXXXXkos",
                                    "EMAIL": "ákos.bíró@mail.hu",
                                    "SZAML_CIM": "9023 Győr Kossuth Lajos utca 47/b.",
                                    "SZUL_DAT": "1982-04-24"
                                },
                                {
                                    "USERNEV": "aladar",
                                    "NEV": "DuXXXXXXXdár",
                                    "EMAIL": "aladár.dunai@mail.hu",
                                    "SZAML_CIM": "5931 Nagyszénás Árpád utca 23.",
                                    "SZUL_DAT": "1980-11-01"
                                },
                                {
                                    "USERNEV": "alexandra",
                                    "NEV": "BaXXXXXXXXXXXXXdra",
                                    "EMAIL": "alexandra.bagóczki@mail.hu",
                                    "SZAML_CIM": "2381 Táborfalva Petőfi utca 1/2.",
                                    "SZUL_DAT": "1992-03-25"
                                },
                                {
                                    "USERNEV": "andi",
                                    "NEV": "MaXXXXXXXXrea",
                                    "EMAIL": "andrea.maródi@mail.hu",
                                    "SZAML_CIM": "5465 Cserkeszőlő Árpád utca 4.",
                                    "SZUL_DAT": "1968-05-07"
                                },
                                {
                                    "USERNEV": "andras2",
                                    "NEV": "TóXXXXXXrás",
                                    "EMAIL": "andrás.tóth@mail.hu",
                                    "SZAML_CIM": "4071 Egyek Petőfi utca 30.",
                                    "SZUL_DAT": "1997-10-31"
                                },
                                {
                                    "USERNEV": "andras21",
                                    "NEV": "MoXXXXXXXXrás",
                                    "EMAIL": "andrás.molnár@mail.hu",
                                    "SZAML_CIM": "7900 Szigetvár Rákóczi utca 67.",
                                    "SZUL_DAT": "1977-11-16"
                                },
                                {
                                    "USERNEV": "andras3",
                                    "NEV": "VíXXXXXXrás",
                                    "EMAIL": "andrás.vígh@mail.hu",
                                    "SZAML_CIM": "1118 Budapest Arany János utca 1.",
                                    "SZUL_DAT": "1971-04-02"
                                },
                                {
                                    "USERNEV": "andras4",
                                    "NEV": "BaXXXXXXrás",
                                    "EMAIL": "andras4@gmail.com",
                                    "SZAML_CIM": "3783 Edelény Fő út 169.",
                                    "SZUL_DAT": "1984-04-07"
                                },
                                {
                                    "USERNEV": "andras41",
                                    "NEV": "KoXXXXXXXXXrás",
                                    "EMAIL": "andras41@gmail.com",
                                    "SZAML_CIM": "5065 Nagykörű Kossuth út 24.",
                                    "SZUL_DAT": "1997-10-25"
                                },
                                {
                                    "USERNEV": "ANDRASE",
                                    "NEV": "ErXXXXXXXrás",
                                    "EMAIL": "ANDRASE@gmail.com",
                                    "SZAML_CIM": "5071 Besenyszög Szolnoki út 8.",
                                    "SZUL_DAT": "1997-05-29"
                                },
                                {
                                    "USERNEV": "ANDRASN",
                                    "NEV": "NaXXXXXXrás",
                                    "EMAIL": "andrás.nagy@mail.hu",
                                    "SZAML_CIM": "6500 Baja Fő út 169.",
                                    "SZUL_DAT": "1980-09-05"
                                },
                                {
                                    "USERNEV": "andrea",
                                    "NEV": "KiXXXXXXrea",
                                    "EMAIL": "andrea.kiss@mail.hu",
                                    "SZAML_CIM": "1113 Budapest Petőfi Sándor utca 87.",
                                    "SZUL_DAT": "1993-03-25"
                                },
                                {
                                    "USERNEV": "andrea3",
                                    "NEV": "SzXXXXXXXXrea",
                                    "EMAIL": "andrea3@gmail.com",
                                    "SZAML_CIM": "7960 Sellye Bécsi utca 82.",
                                    "SZUL_DAT": "1996-05-10"
                                },
                                {
                                    "USERNEV": "andrea4",
                                    "NEV": "NeXXXXXXXXrea",
                                    "EMAIL": "andrea4@gmail.com",
                                    "SZAML_CIM": "1124 Budapest Kiss u. 8.",
                                    "SZUL_DAT": "1981-05-17"
                                },
                                {
                                    "USERNEV": "ANDREAT",
                                    "NEV": "ToXXXXXXXXXrea",
                                    "EMAIL": "ANDREAT@gmail.com",
                                    "SZAML_CIM": "6131 Szank Bécsi utca 82.",
                                    "SZUL_DAT": "1986-11-14"
                                },
                                {
                                    "USERNEV": "anett3",
                                    "NEV": "PiXXXXXXXXXett",
                                    "EMAIL": "anett.pivarcsi@mail.hu",
                                    "SZAML_CIM": "1149 Budapest Fő út 60.",
                                    "SZUL_DAT": "1967-01-03"
                                },
                                {
                                    "USERNEV": "aniko",
                                    "NEV": "TóXXXXXikó",
                                    "EMAIL": "aniko@gmail.com",
                                    "SZAML_CIM": "2085 Pilisvörösvár Deák Ferenc út 5.",
                                    "SZUL_DAT": "1973-06-03"
                                },
                                {
                                    "USERNEV": "aniko4",
                                    "NEV": "BöXXXXXXXikó",
                                    "EMAIL": "aniko4@gmail.com",
                                    "SZAML_CIM": "2484 Agárd Petőfi Sándor tér 1.",
                                    "SZUL_DAT": "1978-03-26"
                                },
                                {
                                    "USERNEV": "ANIKOS",
                                    "NEV": "SiXXXXXXikó",
                                    "EMAIL": "ANIKOS@gmail.com",
                                    "SZAML_CIM": "5137 Jászkisér Bécsi utca 82.",
                                    "SZUL_DAT": "1988-12-14"
                                },
                                {
                                    "USERNEV": "anita",
                                    "NEV": "HaXXXXXXXXXXXXXXita",
                                    "EMAIL": "anita.hamvay-kovács@mail.hu",
                                    "SZAML_CIM": "7220 Sarkad Táncsics utca 19.",
                                    "SZUL_DAT": "1971-03-20"
                                },
                                {
                                    "USERNEV": "annamaria1",
                                    "NEV": "SzXXXXXXXXXXria",
                                    "EMAIL": "annamária.szűcs@mail.hu",
                                    "SZAML_CIM": "1191 Budapest Rendeki utca 21.",
                                    "SZUL_DAT": "1990-04-27"
                                },
                                {
                                    "USERNEV": "ANNAMARIAR",
                                    "NEV": "ReXXXXXXXXXXria",
                                    "EMAIL": "ANNAMARIAR@gmail.com",
                                    "SZAML_CIM": "8283 Káptalantóti Petőfi Sándor tér 1.",
                                    "SZUL_DAT": "1977-09-26"
                                },
                                {
                                    "USERNEV": "aron2",
                                    "NEV": "JaXXXXXron",
                                    "EMAIL": "aron2@gmail.com",
                                    "SZAML_CIM": "7133 Fadd Bajcsy-Zsilinszky utca 4.",
                                    "SZUL_DAT": "1971-04-26"
                                },
                                {
                                    "USERNEV": "ARONK",
                                    "NEV": "KeXXXXXXXron",
                                    "EMAIL": "áron.kelemen@mail.hu",
                                    "SZAML_CIM": "8200 Veszprém Petőfi utca 8.",
                                    "SZUL_DAT": "1989-08-10"
                                },
                                {
                                    "USERNEV": "arpad2",
                                    "NEV": "ÖtXXXXXXpád",
                                    "EMAIL": "árpád.ötvös@mail.hu",
                                    "SZAML_CIM": "2600 Vác Padragi út 158.",
                                    "SZUL_DAT": "1990-06-08"
                                },
                                {
                                    "USERNEV": "ARPADH",
                                    "NEV": "HoXXXXXXXXpád",
                                    "EMAIL": "árpád.horváth@mail.hu",
                                    "SZAML_CIM": "7349 Szászvár Dózsa György u. 1.",
                                    "SZUL_DAT": "1990-05-18"
                                },
                                {
                                    "USERNEV": "ARPADM",
                                    "NEV": "MóXXXXXXXpád",
                                    "EMAIL": "árpád.móricz@mail.hu",
                                    "SZAML_CIM": "3910 Tokaj Rákóczi utca 67.",
                                    "SZUL_DAT": "1986-04-20"
                                },
                                {
                                    "USERNEV": "attila",
                                    "NEV": "CsXXXXXXXila",
                                    "EMAIL": "attila@gmail.com",
                                    "SZAML_CIM": "3000 Hatvan Bajcsy-Zsilinszky utca 4.",
                                    "SZUL_DAT": "1979-12-25"
                                },
                                {
                                    "USERNEV": "attila1",
                                    "NEV": "GuXXXXXXXXila",
                                    "EMAIL": "attila.gulyás@mail.hu",
                                    "SZAML_CIM": "3881 Abaújszántó Szolnoki út 8.",
                                    "SZUL_DAT": "1982-08-16"
                                },
                                {
                                    "USERNEV": "attila4",
                                    "NEV": "BaXXXXXXXXila",
                                    "EMAIL": "attila.baróti@mail.hu",
                                    "SZAML_CIM": "7149 Báta Arany János utca 3.",
                                    "SZUL_DAT": "1975-11-06"
                                },
                                {
                                    "USERNEV": "ATTILAO",
                                    "NEV": "OpXXXXXXila",
                                    "EMAIL": "ATTILAO@gmail.com",
                                    "SZAML_CIM": "8283 Káptalantóti Rákóczi út 200.",
                                    "SZUL_DAT": "1995-05-08"
                                },
                                {
                                    "USERNEV": "balazs1",
                                    "NEV": "BoXXXXXXXXázs",
                                    "EMAIL": "balázs.bozsik@mail.hu",
                                    "SZAML_CIM": "2300 Ráckeve Bécsi utca 82.",
                                    "SZUL_DAT": "1992-11-03"
                                },
                                {
                                    "USERNEV": "balazs2",
                                    "NEV": "SzXXXXXXXázs",
                                    "EMAIL": "balázs.szűcs@mail.hu",
                                    "SZAML_CIM": "3170 Szécsény Szabadság utca 95.",
                                    "SZUL_DAT": "1984-10-31"
                                },
                                {
                                    "USERNEV": "balazs3",
                                    "NEV": "BaXXXXXXXXázs",
                                    "EMAIL": "balazs3@gmail.com",
                                    "SZAML_CIM": "2131 Göd Arany János utca 1.",
                                    "SZUL_DAT": "1986-09-09"
                                },
                                {
                                    "USERNEV": "balint",
                                    "NEV": "HoXXXXXXXXXint",
                                    "EMAIL": "balint@gmail.com",
                                    "SZAML_CIM": "6646 Tömörkény Endrődi Sándor utca 47.",
                                    "SZUL_DAT": "1996-03-17"
                                },
                                {
                                    "USERNEV": "balint1",
                                    "NEV": "MoXXXXXXXXint",
                                    "EMAIL": "balint1@gmail.com",
                                    "SZAML_CIM": "9181 Kimle Fő út 169.",
                                    "SZUL_DAT": "1989-08-24"
                                },
                                {
                                    "USERNEV": "balint2",
                                    "NEV": "VuXXXXXXXXXXXXXXint",
                                    "EMAIL": "balint2@gmail.com",
                                    "SZAML_CIM": "2330 Dunaharaszti Béke utca 7.",
                                    "SZUL_DAT": "1997-09-03"
                                },
                                {
                                    "USERNEV": "balu",
                                    "NEV": "EnXXXXXXXXXint",
                                    "EMAIL": "bálint.endresz@mail.hu",
                                    "SZAML_CIM": "3973 Cigánd Fő út 169.",
                                    "SZUL_DAT": "1976-08-01"
                                },
                                {
                                    "USERNEV": "beata4",
                                    "NEV": "BaXXXXXáta",
                                    "EMAIL": "beáta.bagi@mail.hu",
                                    "SZAML_CIM": "8477 Tüskevár Felszabadulás utca 32.",
                                    "SZUL_DAT": "1994-03-19"
                                },
                                {
                                    "USERNEV": "BEATRIXK",
                                    "NEV": "KeXXXXXXXXXXrix",
                                    "EMAIL": "beatrix.kerényi@mail.hu",
                                    "SZAML_CIM": "7396 Magyarszék Kossuth Lajos utca 47/b.",
                                    "SZUL_DAT": "1972-04-06"
                                },
                                {
                                    "USERNEV": "BEATRIXS",
                                    "NEV": "SzXXXXXXXXXXXrix",
                                    "EMAIL": "beatrix.szekendi@mail.hu",
                                    "SZAML_CIM": "4060 Balmazújváros Jászai tér 21.",
                                    "SZUL_DAT": "1981-04-06"
                                },
                                {
                                    "USERNEV": "BELAF",
                                    "NEV": "FaXXXXXXéla",
                                    "EMAIL": "BELAF@gmail.com",
                                    "SZAML_CIM": "5530 Vésztő Petőfi Sándor utca 3.",
                                    "SZUL_DAT": "1995-02-24"
                                },
                                {
                                    "USERNEV": "bence",
                                    "NEV": "GyXXXXXXXXnce",
                                    "EMAIL": "bence@gmail.com",
                                    "SZAML_CIM": "6900 Makó Árpád utca 23.",
                                    "SZUL_DAT": "1987-07-09"
                                },
                                {
                                    "USERNEV": "BENCEB",
                                    "NEV": "BaXXXXXXXnce",
                                    "EMAIL": "bence.bajusz@mail.hu",
                                    "SZAML_CIM": "8391 Sármellék Fő utca 56.",
                                    "SZUL_DAT": "1973-06-21"
                                },
                                {
                                    "USERNEV": "bernadett1",
                                    "NEV": "SiXXXXXXXXXXett",
                                    "EMAIL": "bernadett1@gmail.com",
                                    "SZAML_CIM": "2300 Ráckeve Fő utca 108.",
                                    "SZUL_DAT": "1984-10-13"
                                },
                                {
                                    "USERNEV": "bernadett2",
                                    "NEV": "KoXXXXXXXXXXXett",
                                    "EMAIL": "bernadett.kovács@mail.hu",
                                    "SZAML_CIM": "4200 Hajdúszoboszló Fő út 122.",
                                    "SZUL_DAT": "1996-08-20"
                                },
                                {
                                    "USERNEV": "BERNADETTO",
                                    "NEV": "OrXXXXXXXXXXett",
                                    "EMAIL": "bernadett.orbán@mail.hu",
                                    "SZAML_CIM": "5085 Rákóczifalva Arany János utca 1.",
                                    "SZUL_DAT": "1987-12-07"
                                },
                                {
                                    "USERNEV": "bertalan",
                                    "NEV": "CsXXXXXXXXXXlan",
                                    "EMAIL": "bertalan@gmail.com",
                                    "SZAML_CIM": "1192 Budapest Fő út 169.",
                                    "SZUL_DAT": "1977-10-15"
                                },
                                {
                                    "USERNEV": "brigitta",
                                    "NEV": "SzXXXXXXXXXXXtta",
                                    "EMAIL": "brigitta.székely@mail.hu",
                                    "SZAML_CIM": "2462 Martonvásár Fő utca 47.",
                                    "SZUL_DAT": "1978-09-13"
                                },
                                {
                                    "USERNEV": "brigitta3",
                                    "NEV": "PaXXXXXXXXXXtta",
                                    "EMAIL": "brigitta.pataki@mail.hu",
                                    "SZAML_CIM": "2730 Albertirsa Rendeki utca 21.",
                                    "SZUL_DAT": "1991-05-23"
                                },
                                {
                                    "USERNEV": "csongor3",
                                    "NEV": "NaXXXXXXXXXXXXXgor",
                                    "EMAIL": "csongor.nagymihály@mail.hu",
                                    "SZAML_CIM": "9181 Kimle Deák Ferenc út 5.",
                                    "SZUL_DAT": "1984-03-05"
                                },
                                {
                                    "USERNEV": "dani",
                                    "NEV": "VöXXXXXXXiel",
                                    "EMAIL": "daniel@gmail.com",
                                    "SZAML_CIM": "7150 Bonyhád Dózsa György u. 1.",
                                    "SZUL_DAT": "1986-10-14"
                                },
                                {
                                    "USERNEV": "daniel",
                                    "NEV": "RáXXXXXXiel",
                                    "EMAIL": "dániel.rácz@mail.hu",
                                    "SZAML_CIM": "9181 Kimle Szabadság tér 9.",
                                    "SZUL_DAT": "1978-11-28"
                                },
                                {
                                    "USERNEV": "daniel1",
                                    "NEV": "KeXXXXXXXXXiel",
                                    "EMAIL": "dániel.keszler@mail.hu",
                                    "SZAML_CIM": "3580 Tiszaújváros Kossuth Lajos utca 6.",
                                    "SZUL_DAT": "1969-07-16"
                                },
                                {
                                    "USERNEV": "david",
                                    "NEV": "AmXXXXXXXvid",
                                    "EMAIL": "david@gmail.com",
                                    "SZAML_CIM": "1149 Budapest Fő út 18.",
                                    "SZUL_DAT": "1974-02-11"
                                },
                                {
                                    "USERNEV": "david1",
                                    "NEV": "SoXXXXXXXvid",
                                    "EMAIL": "david1@gmail.com",
                                    "SZAML_CIM": "5083 Kengyel Arany János utca 3.",
                                    "SZUL_DAT": "1970-08-16"
                                },
                                {
                                    "USERNEV": "david4",
                                    "NEV": "BeXXXXXXvid",
                                    "EMAIL": "david4@gmail.com",
                                    "SZAML_CIM": "3500 Miskolc Balatoni út 12.",
                                    "SZUL_DAT": "1990-10-08"
                                },
                                {
                                    "USERNEV": "debora",
                                    "NEV": "BaXXXXXXXóra",
                                    "EMAIL": "debóra.barna@mail.hu",
                                    "SZAML_CIM": "1155 Budapest Fő út 169.",
                                    "SZUL_DAT": "1976-10-14"
                                },
                                {
                                    "USERNEV": "denes",
                                    "NEV": "TöXXXXXXXXnes",
                                    "EMAIL": "denes@gmail.com",
                                    "SZAML_CIM": "2400 Dunaújváros Kossuth út 39.",
                                    "SZUL_DAT": "1975-03-14"
                                },
                                {
                                    "USERNEV": "dora3",
                                    "NEV": "SaXXXXXXóra",
                                    "EMAIL": "dóra.sarodi@mail.hu",
                                    "SZAML_CIM": "2855 Bokod Fő út 18.",
                                    "SZUL_DAT": "1995-05-18"
                                },
                                {
                                    "USERNEV": "edit",
                                    "NEV": "BiXXXXXXXXdit",
                                    "EMAIL": "edit.bittmann@mail.hu",
                                    "SZAML_CIM": "6077 Orgovány Fő utca 60.",
                                    "SZUL_DAT": "1984-04-20"
                                },
                                {
                                    "USERNEV": "emese",
                                    "NEV": "KuXXXXXXese",
                                    "EMAIL": "emese.kuruc@mail.hu",
                                    "SZAML_CIM": "6700 Szeged Rákóczi utca 67.",
                                    "SZUL_DAT": "1989-08-10"
                                },
                                {
                                    "USERNEV": "eszter",
                                    "NEV": "MoXXXXXXXXter",
                                    "EMAIL": "eszter.molnár@mail.hu",
                                    "SZAML_CIM": "6800 Hódmezővásárhely Fő út 77.",
                                    "SZUL_DAT": "1987-05-10"
                                },
                                {
                                    "USERNEV": "eszter2",
                                    "NEV": "BaXXXXXXXXter",
                                    "EMAIL": "eszter.balogh@mail.hu",
                                    "SZAML_CIM": "6760 Kistelek Kossuth utca 11.",
                                    "SZUL_DAT": "1998-01-31"
                                },
                                {
                                    "USERNEV": "eszter4",
                                    "NEV": "FüXXXXXXXter",
                                    "EMAIL": "eszter.fülöp@mail.hu",
                                    "SZAML_CIM": "3643 Dédestapolcsány Kossuth Lajos utca 47/b.",
                                    "SZUL_DAT": "1993-06-28"
                                },
                                {
                                    "USERNEV": "ESZTERE",
                                    "NEV": "ÉrXXXXXXXter",
                                    "EMAIL": "eszter.érsek@mail.hu",
                                    "SZAML_CIM": "6785 Pusztamérges Kossuth Lajos utca 6.",
                                    "SZUL_DAT": "1978-08-28"
                                },
                                {
                                    "USERNEV": "eva",
                                    "NEV": "EnXXXXXÉva",
                                    "EMAIL": "eva@gmail.com",
                                    "SZAML_CIM": "4231 Bököny Petőfi utca 8.",
                                    "SZUL_DAT": "1967-06-30"
                                },
                                {
                                    "USERNEV": "eva2",
                                    "NEV": "PeXXXXXXXXÉva",
                                    "EMAIL": "eva2@gmail.com",
                                    "SZAML_CIM": "9653 Répcelak Bécsi utca 82.",
                                    "SZUL_DAT": "1971-08-19"
                                },
                                {
                                    "USERNEV": "EVAV",
                                    "NEV": "ViXXXXXÉva",
                                    "EMAIL": "EVAV@gmail.com",
                                    "SZAML_CIM": "6913 Csanádpalota Arany János utca 3.",
                                    "SZUL_DAT": "1980-12-26"
                                },
                                {
                                    "USERNEV": "ferenc1",
                                    "NEV": "OrXXXXXXXenc",
                                    "EMAIL": "ferenc.orosz@mail.hu",
                                    "SZAML_CIM": "5061 Tiszasüly Arany János utca 3.",
                                    "SZUL_DAT": "1983-10-08"
                                },
                                {
                                    "USERNEV": "fruzsina4",
                                    "NEV": "FrXXXXXXXXXina",
                                    "EMAIL": "fruzsina4@gmail.com",
                                    "SZAML_CIM": "9700 Szombathely Szabadság utca 95.",
                                    "SZUL_DAT": "1996-08-16"
                                },
                                {
                                    "USERNEV": "gabor1",
                                    "NEV": "KöXXXXXXbor",
                                    "EMAIL": "gabor1@gmail.com",
                                    "SZAML_CIM": "6762 Sándorfalva Árpád utca 23.",
                                    "SZUL_DAT": "1973-07-15"
                                },
                                {
                                    "USERNEV": "gabor4",
                                    "NEV": "TeXXXXXXbor",
                                    "EMAIL": "gábor.telek@mail.hu",
                                    "SZAML_CIM": "9071 Görbeháza Fő út 169.",
                                    "SZUL_DAT": "1987-03-15"
                                },
                                {
                                    "USERNEV": "GABORS",
                                    "NEV": "SzXXXXXXXXXbor",
                                    "EMAIL": "GABORS@gmail.com",
                                    "SZAML_CIM": "3630 Putnok Kossuth utca 27.",
                                    "SZUL_DAT": "1990-05-31"
                                },
                                {
                                    "USERNEV": "gabriella1",
                                    "NEV": "NaXXXXXXXXXlla",
                                    "EMAIL": "gabriella1@gmail.com",
                                    "SZAML_CIM": "1077 Budapest Dob utca 1",
                                    "SZUL_DAT": "1982-11-01"
                                },
                                {
                                    "USERNEV": "gabriella10",
                                    "NEV": "ViXXXXXXXXXlla",
                                    "EMAIL": "gabriella10@gmail.com",
                                    "SZAML_CIM": "2484 Agárd Arany János utca 3.",
                                    "SZUL_DAT": "1969-06-18"
                                },
                                {
                                    "USERNEV": "georgij",
                                    "NEV": "NyXXXXXXXXgij",
                                    "EMAIL": "georgij.nyíri@mail.hu",
                                    "SZAML_CIM": "8391 Sármellék Grassalkovich út 10.",
                                    "SZUL_DAT": "1983-02-23"
                                },
                                {
                                    "USERNEV": "gusztav",
                                    "NEV": "BáXXXXXXXXtáv",
                                    "EMAIL": "gusztav@gmail.com",
                                    "SZAML_CIM": "3643 Dédestapolcsány Endrődi Sándor utca 47.",
                                    "SZUL_DAT": "1967-02-25"
                                },
                                {
                                    "USERNEV": "GYONGYIK",
                                    "NEV": "KoXXXXXXXXXXgyi",
                                    "EMAIL": "gyöngyi.kornseé@mail.hu",
                                    "SZAML_CIM": "8800 Nagykanizsa Fő út 60.",
                                    "SZUL_DAT": "1974-06-07"
                                },
                                {
                                    "USERNEV": "GYORGYO",
                                    "NEV": "OrXXXXXXXXrgy",
                                    "EMAIL": "GYORGYO@gmail.com",
                                    "SZAML_CIM": "7220 Sarkad Dózsa György u. 1.",
                                    "SZUL_DAT": "1980-03-23"
                                },
                                {
                                    "USERNEV": "henrik3",
                                    "NEV": "NáXXXXXXXXXXXrik",
                                    "EMAIL": "henrik.nádudvari@mail.hu",
                                    "SZAML_CIM": "1077 Budapest Tanácsköztársaság tér 1.",
                                    "SZUL_DAT": "1986-12-05"
                                },
                                {
                                    "USERNEV": "IBOLYAA",
                                    "NEV": "AnXXXXXXXlya",
                                    "EMAIL": "ibolya.andor@mail.hu",
                                    "SZAML_CIM": "9023 Győr Posta köz 2.",
                                    "SZUL_DAT": "1983-11-27"
                                },
                                {
                                    "USERNEV": "ilona3",
                                    "NEV": "BoXXXXXXXXona",
                                    "EMAIL": "ilona3@gmail.com",
                                    "SZAML_CIM": "2483 Gárdony Posta köz 2.",
                                    "SZUL_DAT": "1990-08-06"
                                },
                                {
                                    "USERNEV": "imre",
                                    "NEV": "BúXXXXmre",
                                    "EMAIL": "imre.búza@mail.hu",
                                    "SZAML_CIM": "9181 Kimle Petőfi Sándor tér 1.",
                                    "SZUL_DAT": "1988-09-30"
                                },
                                {
                                    "USERNEV": "imre1",
                                    "NEV": "PaXXXXmre",
                                    "EMAIL": "imre.papp@mail.hu",
                                    "SZAML_CIM": "1077 Budapest Szolnoki út 8.",
                                    "SZUL_DAT": "1976-06-25"
                                },
                                {
                                    "USERNEV": "istvan",
                                    "NEV": "SoXXXXXXván",
                                    "EMAIL": "istvan@gmail.com",
                                    "SZAML_CIM": "2370 Dabas Kossuth utca 27.",
                                    "SZUL_DAT": "1986-06-28"
                                },
                                {
                                    "USERNEV": "istvan1",
                                    "NEV": "ViXXXXXXván",
                                    "EMAIL": "istván.vizi@mail.hu",
                                    "SZAML_CIM": "7086 Ozora Rákóczi utca 1.",
                                    "SZUL_DAT": "1997-12-01"
                                },
                                {
                                    "USERNEV": "ISTVANV",
                                    "NEV": "VaXXXXXXXván",
                                    "EMAIL": "ISTVANV@gmail.com",
                                    "SZAML_CIM": "6320 Solt Hősök tere 11.",
                                    "SZUL_DAT": "1989-04-09"
                                },
                                {
                                    "USERNEV": "janos3",
                                    "NEV": "HaXXXXXXXXXXnos",
                                    "EMAIL": "janos3@gmail.com",
                                    "SZAML_CIM": "8700 Marcali Petőfi Sándor tér 1.",
                                    "SZUL_DAT": "1967-11-02"
                                },
                                {
                                    "USERNEV": "JANOSG",
                                    "NEV": "GiXXXXXXXnos",
                                    "EMAIL": "JANOSG@gmail.com",
                                    "SZAML_CIM": "3300 Eger Deák Ferenc út 5.",
                                    "SZUL_DAT": "1975-01-03"
                                },
                                {
                                    "USERNEV": "JANOSP",
                                    "NEV": "PáXXXXXXXXXnos",
                                    "EMAIL": "JANOSP@gmail.com",
                                    "SZAML_CIM": "5920 Csorvás Padragi út 158.",
                                    "SZUL_DAT": "1984-10-12"
                                },
                                {
                                    "USERNEV": "jozsef",
                                    "NEV": "GeXXXXXXXXXsef",
                                    "EMAIL": "jozsef@gmail.com",
                                    "SZAML_CIM": "6050 Lajosmizse Fő út 18.",
                                    "SZUL_DAT": "1985-11-01"
                                },
                                {
                                    "USERNEV": "jozsef2",
                                    "NEV": "VaXXXXXXXsef",
                                    "EMAIL": "józsef.vajda@mail.hu",
                                    "SZAML_CIM": "6700 Szeged Baracsi László utca 14.",
                                    "SZUL_DAT": "1978-09-04"
                                },
                                {
                                    "USERNEV": "JOZSEFG",
                                    "NEV": "GyXXXXXXXXsef",
                                    "EMAIL": "józsef.gyuris@mail.hu",
                                    "SZAML_CIM": "2660 Balassagyarmat Petőfi utca 1/2.",
                                    "SZUL_DAT": "1975-05-26"
                                },
                                {
                                    "USERNEV": "JUDITH",
                                    "NEV": "HíXXXXXXXdit",
                                    "EMAIL": "JUDITH@gmail.com",
                                    "SZAML_CIM": "2100 Gödöllő Fő út 169.",
                                    "SZUL_DAT": "1997-07-12"
                                },
                                {
                                    "USERNEV": "julia",
                                    "NEV": "TóXXXXXlia",
                                    "EMAIL": "julia@gmail.com",
                                    "SZAML_CIM": "5310 Kisújszállás Árpád utca 4.",
                                    "SZUL_DAT": "1993-03-02"
                                },
                                {
                                    "USERNEV": "julia4",
                                    "NEV": "NaXXXXXlia",
                                    "EMAIL": "julia4@gmail.com",
                                    "SZAML_CIM": "7000 Sárbogárd Jászai tér 21.",
                                    "SZUL_DAT": "1985-08-11"
                                },
                                {
                                    "USERNEV": "julianna4",
                                    "NEV": "SzXXXXXXXXXnna",
                                    "EMAIL": "julianna4@gmail.com",
                                    "SZAML_CIM": "6700 Szeged Kossuth Lajos utca 6.",
                                    "SZUL_DAT": "1990-09-29"
                                },
                                {
                                    "USERNEV": "kata",
                                    "NEV": "GoXXXXXXXXXlin",
                                    "EMAIL": "katalin.gondos@mail.hu",
                                    "SZAML_CIM": "8237 Tihany Kossuth Lajos utca 6.",
                                    "SZUL_DAT": "1968-06-22"
                                },
                                {
                                    "USERNEV": "katalin",
                                    "NEV": "HoXXXXXXXXXXlin",
                                    "EMAIL": "katalin.horváth@mail.hu",
                                    "SZAML_CIM": "2424 Előszállás Rákóczi út 200.",
                                    "SZUL_DAT": "1968-01-01"
                                },
                                {
                                    "USERNEV": "katalin4",
                                    "NEV": "KeXXXXXXXXXXlin",
                                    "EMAIL": "katalin4@gmail.com",
                                    "SZAML_CIM": "2800 Tatabánya Búvár utca 4.",
                                    "SZUL_DAT": "1986-04-13"
                                },
                                {
                                    "USERNEV": "kati",
                                    "NEV": "ZaXXXXXXXXXlin",
                                    "EMAIL": "katalin.zatykó@mail.hu",
                                    "SZAML_CIM": "7511 Ötvöskónyi Kossuth Lajos utca 6.",
                                    "SZUL_DAT": "1995-05-01"
                                },
                                {
                                    "USERNEV": "katka",
                                    "NEV": "KoXXXXXXXXXlin",
                                    "EMAIL": "katalin.kovács@mail.hu",
                                    "SZAML_CIM": "8254 Kővágóörs Petőfi utca 22.",
                                    "SZUL_DAT": "1975-03-31"
                                },
                                {
                                    "USERNEV": "klaudia2",
                                    "NEV": "BaXXXXXXXdia",
                                    "EMAIL": "klaudia.bakó@mail.hu",
                                    "SZAML_CIM": "8254 Kővágóörs Kossuth Lajos utca 6.",
                                    "SZUL_DAT": "1982-04-16"
                                },
                                {
                                    "USERNEV": "kornel4",
                                    "NEV": "LuXXXXXXXXnél",
                                    "EMAIL": "kornél.lukács@mail.hu",
                                    "SZAML_CIM": "2053 Herceghalom Bécsi utca 82.",
                                    "SZUL_DAT": "1975-09-30"
                                },
                                {
                                    "USERNEV": "kristof4",
                                    "NEV": "PoXXXXXXXXXXtóf",
                                    "EMAIL": "kristof4@gmail.com",
                                    "SZAML_CIM": "8220 Balatonalmádi Mészáros utca 7.",
                                    "SZUL_DAT": "1984-01-15"
                                },
                                {
                                    "USERNEV": "kriszti",
                                    "NEV": "HoXXXXXXXXXXXXina",
                                    "EMAIL": "kriszti@gmail.com",
                                    "SZAML_CIM": "6060 Tiszakécske Árpád utca 4.",
                                    "SZUL_DAT": "1978-06-12"
                                },
                                {
                                    "USERNEV": "krisztian4",
                                    "NEV": "CzXXXXXXXXXXXián",
                                    "EMAIL": "krisztián.czérna@mail.hu",
                                    "SZAML_CIM": "1107 Budapest Dózsa György utca 37.",
                                    "SZUL_DAT": "1970-08-01"
                                },
                                {
                                    "USERNEV": "KRISZTIANM",
                                    "NEV": "MoXXXXXXXXXXXXXián",
                                    "EMAIL": "KRISZTIANM@gmail.com",
                                    "SZAML_CIM": "9155 Lébény Jászai tér 21.",
                                    "SZUL_DAT": "1968-05-27"
                                },
                                {
                                    "USERNEV": "krisztina",
                                    "NEV": "SzXXXXXXXXXXXXina",
                                    "EMAIL": "krisztina@gmail.com",
                                    "SZAML_CIM": "6646 Tömörkény Arany János utca 1.",
                                    "SZUL_DAT": "1979-05-10"
                                },
                                {
                                    "USERNEV": "krisztina1",
                                    "NEV": "BoXXXXXXXXXina",
                                    "EMAIL": "krisztina.bori@mail.hu",
                                    "SZAML_CIM": "2115 Vácszentlászló Fő utca 47.",
                                    "SZUL_DAT": "1969-10-13"
                                },
                                {
                                    "USERNEV": "KRISZTINAG",
                                    "NEV": "GyXXXXXXXXXXXXina",
                                    "EMAIL": "KRISZTINAG@gmail.com",
                                    "SZAML_CIM": "6762 Sándorfalva Arany János utca 1.",
                                    "SZUL_DAT": "1987-09-19"
                                },
                                {
                                    "USERNEV": "lajos",
                                    "NEV": "KiXXXXXjos",
                                    "EMAIL": "lajos.kiss@mail.hu",
                                    "SZAML_CIM": "1077 Budapest Dob utca 1",
                                    "SZUL_DAT": "1978-10-31"
                                },
                                {
                                    "USERNEV": "lala",
                                    "NEV": "NaXXXXXXXXXXXjos",
                                    "EMAIL": "lajos.nagymihály@mail.hu",
                                    "SZAML_CIM": "8638 Balatonlelle Rákóczi út 200.",
                                    "SZUL_DAT": "1997-02-24"
                                },
                                {
                                    "USERNEV": "laszlo1",
                                    "NEV": "FaXXXXXXXXzló",
                                    "EMAIL": "lászló.farkas@mail.hu",
                                    "SZAML_CIM": "5200 Törökszentmiklós Rendeki utca 21.",
                                    "SZUL_DAT": "1967-10-30"
                                },
                                {
                                    "USERNEV": "laszlo2",
                                    "NEV": "MóXXXXXXzló",
                                    "EMAIL": "lászló.móra@mail.hu",
                                    "SZAML_CIM": "9970 Szentgotthárd Petőfi utca 1/2.",
                                    "SZUL_DAT": "1975-02-19"
                                },
                                {
                                    "USERNEV": "LASZLOA",
                                    "NEV": "AnXXXXXXXzló",
                                    "EMAIL": "lászló.antal@mail.hu",
                                    "SZAML_CIM": "2484 Agárd Bécsi utca 82.",
                                    "SZUL_DAT": "1969-06-29"
                                },
                                {
                                    "USERNEV": "LASZLON",
                                    "NEV": "NaXXXXXXzló",
                                    "EMAIL": "lászló.nagy@mail.hu",
                                    "SZAML_CIM": "1173 Budapest Jászai tér 21.",
                                    "SZUL_DAT": "1969-04-12"
                                },
                                {
                                    "USERNEV": "maria1",
                                    "NEV": "BaXXXXXXXria",
                                    "EMAIL": "mária.baráth@mail.hu",
                                    "SZAML_CIM": "1047 Budapest Posta köz 2.",
                                    "SZUL_DAT": "1995-11-19"
                                },
                                {
                                    "USERNEV": "mark",
                                    "NEV": "KiXXXXXXárk",
                                    "EMAIL": "márk.kispál@mail.hu",
                                    "SZAML_CIM": "1086 Budapest Juhászföldi út 1.",
                                    "SZUL_DAT": "1996-01-23"
                                },
                                {
                                    "USERNEV": "MARKH",
                                    "NEV": "HoXXXXXXXárk",
                                    "EMAIL": "márk.horváth@mail.hu",
                                    "SZAML_CIM": "4400 Nyíregyháza Badacsonyi utca 12.",
                                    "SZUL_DAT": "1997-09-23"
                                },
                                {
                                    "USERNEV": "marton",
                                    "NEV": "KaXXXXXXXXXton",
                                    "EMAIL": "marton@gmail.com",
                                    "SZAML_CIM": "5137 Jászkisér Fő út 169.",
                                    "SZUL_DAT": "1989-06-24"
                                },
                                {
                                    "USERNEV": "MATEK",
                                    "NEV": "KoXXXXáté",
                                    "EMAIL": "máté.koza@mail.hu",
                                    "SZAML_CIM": "1011 Budapest Központi telep 3.",
                                    "SZUL_DAT": "1997-02-28"
                                },
                                {
                                    "USERNEV": "matyas2",
                                    "NEV": "BoXXXXXXXyás",
                                    "EMAIL": "matyas2@gmail.com",
                                    "SZAML_CIM": "2700 Cegléd Kossuth Lajos utca 6.",
                                    "SZUL_DAT": "1972-07-07"
                                },
                                {
                                    "USERNEV": "MATYASS",
                                    "NEV": "SzXXXXXXXXXXyás",
                                    "EMAIL": "mátyás.szilágyi@mail.hu",
                                    "SZAML_CIM": "9023 Győr Kossuth Lajos utca 6.",
                                    "SZUL_DAT": "1975-03-22"
                                },
                                {
                                    "USERNEV": "MIHALYJ",
                                    "NEV": "JuXXXXXXXXály",
                                    "EMAIL": "mihály.juhász@mail.hu",
                                    "SZAML_CIM": "6786 Ruzsa Rákóczi utca 1.",
                                    "SZUL_DAT": "1979-10-12"
                                },
                                {
                                    "USERNEV": "miklos2",
                                    "NEV": "GoXXXXXXXXlós",
                                    "EMAIL": "miklos2@gmail.com",
                                    "SZAML_CIM": "2100 Gödöllő Árpád utca 23.",
                                    "SZUL_DAT": "1995-10-07"
                                },
                                {
                                    "USERNEV": "MIKLOSB",
                                    "NEV": "BaXXXXXXXlós",
                                    "EMAIL": "miklós.balla@mail.hu",
                                    "SZAML_CIM": "4060 Balmazújváros Szent István utca 2.",
                                    "SZUL_DAT": "1979-02-16"
                                },
                                {
                                    "USERNEV": "MONIKAM",
                                    "NEV": "MoXXXXXXXika",
                                    "EMAIL": "mónika.mohos@mail.hu",
                                    "SZAML_CIM": "2241 Sülysáp Baracsi László utca 14.",
                                    "SZUL_DAT": "1974-10-01"
                                },
                                {
                                    "USERNEV": "NANDORF",
                                    "NEV": "FőXXXXdor",
                                    "EMAIL": "nándor.fő@mail.hu",
                                    "SZAML_CIM": "5920 Csorvás Bécsi utca 82.",
                                    "SZUL_DAT": "1968-11-12"
                                },
                                {
                                    "USERNEV": "nikolett3",
                                    "NEV": "HoXXXXXXXXXXXett",
                                    "EMAIL": "nikolett3@gmail.com",
                                    "SZAML_CIM": "1072 Budapest Arany János utca 1.",
                                    "SZUL_DAT": "1981-09-29"
                                },
                                {
                                    "USERNEV": "nikoletta4",
                                    "NEV": "KőXXXXXXXtta",
                                    "EMAIL": "nikoletta4@gmail.com",
                                    "SZAML_CIM": "5537 Zsadány Fő út 18.",
                                    "SZUL_DAT": "1972-01-10"
                                },
                                {
                                    "USERNEV": "NIKOLETTAT",
                                    "NEV": "TaXXXXXXXXXXtta",
                                    "EMAIL": "nikoletta.tatár@mail.hu",
                                    "SZAML_CIM": "1067 Budapest Győri utca 12.",
                                    "SZUL_DAT": "1997-10-19"
                                },
                                {
                                    "USERNEV": "norbert",
                                    "NEV": "SzXXXXXXXXert",
                                    "EMAIL": "norbert@gmail.com",
                                    "SZAML_CIM": "5071 Besenyszög Győri utca 12.",
                                    "SZUL_DAT": "1969-07-17"
                                },
                                {
                                    "USERNEV": "norbert2",
                                    "NEV": "HeXXXXXXXXXXert",
                                    "EMAIL": "norbert.hegedűs@mail.hu",
                                    "SZAML_CIM": "2081 Piliscsaba Rendeki utca 21.",
                                    "SZUL_DAT": "1991-07-17"
                                },
                                {
                                    "USERNEV": "norbert4",
                                    "NEV": "MiXXXXXXXert",
                                    "EMAIL": "norbert4@gmail.com",
                                    "SZAML_CIM": "3973 Cigánd Bajcsy-Zsilinszky utca 4.",
                                    "SZUL_DAT": "1983-06-15"
                                },
                                {
                                    "USERNEV": "norbert5",
                                    "NEV": "BéXXXXXXXXert",
                                    "EMAIL": "norbert5@gmail.com",
                                    "SZAML_CIM": "8640 Fonyód Bajcsy-Zsilinszky utca 4.",
                                    "SZUL_DAT": "1975-07-27"
                                },
                                {
                                    "USERNEV": "pal",
                                    "NEV": "BaXXXXXXPál",
                                    "EMAIL": "pál.barabás@mail.hu",
                                    "SZAML_CIM": "1183 Budapest Szolnoki út 8.",
                                    "SZUL_DAT": "1968-02-06"
                                },
                                {
                                    "USERNEV": "peter1",
                                    "NEV": "KoXXXXXXter",
                                    "EMAIL": "peter1@gmail.com",
                                    "SZAML_CIM": "6913 Csanádpalota Központi telep 3.",
                                    "SZUL_DAT": "1976-03-18"
                                },
                                {
                                    "USERNEV": "peter2",
                                    "NEV": "BoXXXXXXter",
                                    "EMAIL": "peter2@gmail.com",
                                    "SZAML_CIM": "4800 Vásárosnamény Zombori út 2/A",
                                    "SZUL_DAT": "1976-01-26"
                                },
                                {
                                    "USERNEV": "peter3",
                                    "NEV": "SzXXXXXXXter",
                                    "EMAIL": "peter3@gmail.com",
                                    "SZAML_CIM": "1155 Budapest Arany János utca 3.",
                                    "SZUL_DAT": "1983-07-18"
                                },
                                {
                                    "USERNEV": "peter4",
                                    "NEV": "BíXXXXXter",
                                    "EMAIL": "péter.bíró@mail.hu",
                                    "SZAML_CIM": "5137 Jászkisér Rákóczi utca 67.",
                                    "SZUL_DAT": "1985-09-01"
                                },
                                {
                                    "USERNEV": "PETERB",
                                    "NEV": "BeXXXXXXXXter",
                                    "EMAIL": "péter.berendi@mail.hu",
                                    "SZAML_CIM": "3980 Sátoraljaújhely Vasút utca 4/10.",
                                    "SZUL_DAT": "1969-01-01"
                                },
                                {
                                    "USERNEV": "polla",
                                    "NEV": "PaXXXXXXXXlla",
                                    "EMAIL": "polla@gmail.com",
                                    "SZAML_CIM": "2484 Agárd Fő út 18.",
                                    "SZUL_DAT": "1994-02-04"
                                },
                                {
                                    "USERNEV": "rajmond4",
                                    "NEV": "RáXXXXXXXond",
                                    "EMAIL": "rajmond.rácz@mail.hu",
                                    "SZAML_CIM": "9155 Lébény Petőfi utca 1/2.",
                                    "SZUL_DAT": "1993-09-25"
                                },
                                {
                                    "USERNEV": "reka4",
                                    "NEV": "SzXXXXXXXXéka",
                                    "EMAIL": "réka.szikszai@mail.hu",
                                    "SZAML_CIM": "8254 Kővágóörs Templom utca 73.",
                                    "SZUL_DAT": "1969-11-27"
                                },
                                {
                                    "USERNEV": "RENATAK",
                                    "NEV": "KaXXXXXXXXáta",
                                    "EMAIL": "renáta.kardos@mail.hu",
                                    "SZAML_CIM": "7086 Ozora Bécsi utca 82.",
                                    "SZUL_DAT": "1988-05-17"
                                },
                                {
                                    "USERNEV": "RENATAS",
                                    "NEV": "SzXXXXXXXXXáta",
                                    "EMAIL": "RENATAS@gmail.com",
                                    "SZAML_CIM": "2053 Herceghalom Kossuth utca 27.",
                                    "SZUL_DAT": "1991-03-26"
                                },
                                {
                                    "USERNEV": "robert2",
                                    "NEV": "PaXXXXXXXert",
                                    "EMAIL": "robert2@gmail.com",
                                    "SZAML_CIM": "2370 Dabas Rákóczi utca 21.",
                                    "SZUL_DAT": "1977-01-08"
                                },
                                {
                                    "USERNEV": "ROBERTI",
                                    "NEV": "IvXXXXXXert",
                                    "EMAIL": "róbert.iván@mail.hu",
                                    "SZAML_CIM": "2377 Örkény Petőfi Sándor utca 3.",
                                    "SZUL_DAT": "1967-07-02"
                                },
                                {
                                    "USERNEV": "ROBERTP",
                                    "NEV": "PáXXXXXXXXXert",
                                    "EMAIL": "ROBERTP@gmail.com",
                                    "SZAML_CIM": "5137 Jászkisér Ady Endre út 27.",
                                    "SZUL_DAT": "1972-05-16"
                                },
                                {
                                    "USERNEV": "roland",
                                    "NEV": "TóXXXXXXand",
                                    "EMAIL": "roland@gmail.com",
                                    "SZAML_CIM": "2000 Szentendre Fő út 169.",
                                    "SZUL_DAT": "1968-03-21"
                                },
                                {
                                    "USERNEV": "roland1",
                                    "NEV": "FeXXXXXXXXXand",
                                    "EMAIL": "roland.ferencz@mail.hu",
                                    "SZAML_CIM": "2424 Előszállás Fő út 169.",
                                    "SZUL_DAT": "1985-12-31"
                                },
                                {
                                    "USERNEV": "roza2",
                                    "NEV": "BuXXXXXXóza",
                                    "EMAIL": "roza2@gmail.com",
                                    "SZAML_CIM": "5661 Újkígyós Arany János utca 3.",
                                    "SZUL_DAT": "1988-12-26"
                                },
                                {
                                    "USERNEV": "sandor",
                                    "NEV": "KaXXXXXXXXdor",
                                    "EMAIL": "sandor@gmail.com",
                                    "SZAML_CIM": "8283 Káptalantóti Kossuth Lajos utca 1/a.",
                                    "SZUL_DAT": "1970-01-27"
                                },
                                {
                                    "USERNEV": "sandor3",
                                    "NEV": "FaXXXXXXXXdor",
                                    "EMAIL": "sándor.farkas@mail.hu",
                                    "SZAML_CIM": "8640 Fonyód Tanácsköztársaság tér 1.",
                                    "SZUL_DAT": "1989-01-27"
                                },
                                {
                                    "USERNEV": "sandor4",
                                    "NEV": "NaXXXXXXdor",
                                    "EMAIL": "sandor4@gmail.com",
                                    "SZAML_CIM": "4600 Kisvárda Fő utca 47.",
                                    "SZUL_DAT": "1997-06-11"
                                },
                                {
                                    "USERNEV": "sara",
                                    "NEV": "FaXXXXXXára",
                                    "EMAIL": "sára.farkas@mail.hu",
                                    "SZAML_CIM": "5940 Tótkomlós Felszabadulás utca 32.",
                                    "SZUL_DAT": "1973-04-05"
                                },
                                {
                                    "USERNEV": "SEBASTIANF",
                                    "NEV": "FoXXXXXXXXXXXXXián",
                                    "EMAIL": "SEBASTIANF@gmail.com",
                                    "SZAML_CIM": "7960 Sellye Grassalkovich út 10.",
                                    "SZUL_DAT": "1992-09-09"
                                },
                                {
                                    "USERNEV": "sebestyen",
                                    "NEV": "RaXXXXXXXXyén",
                                    "EMAIL": "sebestyen@gmail.com",
                                    "SZAML_CIM": "7130 Tolna Központi telep 3.",
                                    "SZUL_DAT": "1992-03-03"
                                },
                                {
                                    "USERNEV": "szabolcs",
                                    "NEV": "BoXXXXXXXXXlcs",
                                    "EMAIL": "szabolcs.bodor@mail.hu",
                                    "SZAML_CIM": "6786 Ruzsa Ady Endre út 27.",
                                    "SZUL_DAT": "1990-07-16"
                                },
                                {
                                    "USERNEV": "SZABOLCSM",
                                    "NEV": "MiXXXXXXXXXXlcs",
                                    "EMAIL": "szabolcs.miklós@mail.hu",
                                    "SZAML_CIM": "1102 Budapest Fő út 169.",
                                    "SZUL_DAT": "1980-08-11"
                                },
                                {
                                    "USERNEV": "SZILARDS",
                                    "NEV": "SzXXXXXXXXXárd",
                                    "EMAIL": "szilárd.szalai@mail.hu",
                                    "SZAML_CIM": "1077 Budapest Fő út 18.",
                                    "SZUL_DAT": "1967-09-28"
                                },
                                {
                                    "USERNEV": "szilvia1",
                                    "NEV": "TaXXXXXXXvia",
                                    "EMAIL": "szilvia.tari@mail.hu",
                                    "SZAML_CIM": "6080 Szabadszállás Bécsi utca 82.",
                                    "SZUL_DAT": "1971-03-09"
                                },
                                {
                                    "USERNEV": "tamara2",
                                    "NEV": "MiXXXXXXXXara",
                                    "EMAIL": "tamara.miklós@mail.hu",
                                    "SZAML_CIM": "3910 Tokaj Kossuth út 39.",
                                    "SZUL_DAT": "1980-08-11"
                                },
                                {
                                    "USERNEV": "tamas",
                                    "NEV": "AnXXXXXXmás",
                                    "EMAIL": "tamás.antal@mail.hu",
                                    "SZAML_CIM": "4440 Tiszavasvári Posta köz 2.",
                                    "SZUL_DAT": "1984-09-05"
                                },
                                {
                                    "USERNEV": "TAMASF",
                                    "NEV": "FéXXXXXXXmás",
                                    "EMAIL": "TAMASF@gmail.com",
                                    "SZAML_CIM": "9023 Győr Arany János utca 1.",
                                    "SZUL_DAT": "1997-11-06"
                                },
                                {
                                    "USERNEV": "tibor",
                                    "NEV": "GoXXXXXXXbor",
                                    "EMAIL": "tibor.gombos@mail.hu",
                                    "SZAML_CIM": "7100 Szekszárd Kossuth utca 77.",
                                    "SZUL_DAT": "1993-11-28"
                                },
                                {
                                    "USERNEV": "tibor2",
                                    "NEV": "DáXXXXXXXbor",
                                    "EMAIL": "tibor2@gmail.com",
                                    "SZAML_CIM": "6646 Tömörkény Árpád utca 23.",
                                    "SZUL_DAT": "1985-02-02"
                                },
                                {
                                    "USERNEV": "tihamer",
                                    "NEV": "KaXXXXXXXmér",
                                    "EMAIL": "tihamér.kazy@mail.hu",
                                    "SZAML_CIM": "2370 Dabas Fő utca 60.",
                                    "SZUL_DAT": "1991-07-05"
                                },
                                {
                                    "USERNEV": "timea",
                                    "NEV": "PaXXXXXXmea",
                                    "EMAIL": "timea@gmail.com",
                                    "SZAML_CIM": "1035 Budapest  Kossuth út 77.",
                                    "SZUL_DAT": "1996-01-08"
                                },
                                {
                                    "USERNEV": "timea2",
                                    "NEV": "DuXXXXXXmea",
                                    "EMAIL": "tímea.dusha@mail.hu",
                                    "SZAML_CIM": "5920 Csorvás Kossuth utca 8.",
                                    "SZUL_DAT": "1975-08-22"
                                },
                                {
                                    "USERNEV": "tunde",
                                    "NEV": "TuXXXXXXXXnde",
                                    "EMAIL": "tunde@gmail.com",
                                    "SZAML_CIM": "7130 Tolna Fő út 122.",
                                    "SZUL_DAT": "1974-02-12"
                                },
                                {
                                    "USERNEV": "valentin",
                                    "NEV": "FeXXXXXXXXtin",
                                    "EMAIL": "valentin.feró@mail.hu",
                                    "SZAML_CIM": "3895 Gönc Búvár utca 4.",
                                    "SZUL_DAT": "1986-01-09"
                                },
                                {
                                    "USERNEV": "veronika4",
                                    "NEV": "TaXXXXXXXXXika",
                                    "EMAIL": "veronika4@gmail.com",
                                    "SZAML_CIM": "6412 Balotaszállás Rendeki utca 21.",
                                    "SZUL_DAT": "1983-08-28"
                                },
                                {
                                    "USERNEV": "VIKTORIAU",
                                    "NEV": "UrXXXXXXXXXria",
                                    "EMAIL": "viktoria.urbán@mail.hu",
                                    "SZAML_CIM": "3860 Encs Népboltsor  2.",
                                    "SZUL_DAT": "1996-05-03"
                                },
                                {
                                    "USERNEV": "VIKTORK",
                                    "NEV": "KeXXXXXXXXXXXXtor",
                                    "EMAIL": "viktor.keresztúri@mail.hu",
                                    "SZAML_CIM": "2532 Tokodaltáró Nagy Lajos tér 4.",
                                    "SZUL_DAT": "1989-05-05"
                                },
                                {
                                    "USERNEV": "vivien3",
                                    "NEV": "BoXXXXXXXien",
                                    "EMAIL": "vivien3@gmail.com",
                                    "SZAML_CIM": "2117 Isaszeg Fő út 122.",
                                    "SZUL_DAT": "1991-07-01"
                                },
                                {
                                    "USERNEV": "zoltan",
                                    "NEV": "FoXXXXXXXtán",
                                    "EMAIL": "zoltán.fodor@mail.hu",
                                    "SZAML_CIM": "3441 Mezőkeresztes Fő utca 23.",
                                    "SZUL_DAT": "1979-11-25"
                                },
                                {
                                    "USERNEV": "zoltan4",
                                    "NEV": "BaXXXXXXXtán",
                                    "EMAIL": "zoltan4@gmail.com",
                                    "SZAML_CIM": "8313 Balatongyörök Jászai tér 21.",
                                    "SZUL_DAT": "1986-05-20"
                                },
                                {
                                    "USERNEV": "ZOLTANP",
                                    "NEV": "PiXXXXXXXXtán",
                                    "EMAIL": "zoltán.pintér@mail.hu",
                                    "SZAML_CIM": "6050 Lajosmizse Fő út 18.",
                                    "SZUL_DAT": "1977-06-07"
                                },
                                {
                                    "USERNEV": "ZOLTANT",
                                    "NEV": "TóXXXXXXtán",
                                    "EMAIL": "zoltán.tóth@mail.hu",
                                    "SZAML_CIM": "4244 Újfehértó Posta köz 2.",
                                    "SZUL_DAT": "1985-12-14"
                                },
                                {
                                    "USERNEV": "zsofi1",
                                    "NEV": "MoXXXXXXXófi",
                                    "EMAIL": "zsofi1@gmail.com",
                                    "SZAML_CIM": "2730 Albertirsa Árpád utca 23.",
                                    "SZUL_DAT": "1983-11-17"
                                },
                                {
                                    "USERNEV": "zsolt1",
                                    "NEV": "PuXXXXXXolt",
                                    "EMAIL": "zsolt.pulai@mail.hu",
                                    "SZAML_CIM": "8391 Sármellék Fő utca 60.",
                                    "SZUL_DAT": "1988-05-27"
                                },
                                {
                                    "USERNEV": "ZSOLTJ",
                                    "NEV": "JóXXXXXXolt",
                                    "EMAIL": "ZSOLTJ@gmail.com",
                                    "SZAML_CIM": "8315 Gyenesdiás Bajcsy-Zsilinszky utca 4.",
                                    "SZUL_DAT": "1983-09-29"
                                },
                                {
                                    "USERNEV": "zsuzsa",
                                    "NEV": "PuXXXXXXXXXXXXnna",
                                    "EMAIL": "zsuzsanna@gmail.com",
                                    "SZAML_CIM": "6783 Ásotthalom Badacsonyi utca 12.",
                                    "SZUL_DAT": "1980-09-17"
                                },
                                {
                                    "USERNEV": "zsuzsa3",
                                    "NEV": "VaXXXXXXXXXXzsa",
                                    "EMAIL": "zsuzsa.varsányi@mail.hu",
                                    "SZAML_CIM": "8600 Siófok Árpád utca 4.",
                                    "SZUL_DAT": "1979-03-06"
                                },
                                {
                                    "USERNEV": "zsuzsanna",
                                    "NEV": "BaXXXXXXXXXXnna",
                                    "EMAIL": "zsuzsanna.barta@mail.hu",
                                    "SZAML_CIM": "4172 Biharnagybajom Dózsa György utca 37.",
                                    "SZUL_DAT": "1994-10-07"
                                },
                                {
                                    "USERNEV": "ZSUZSAV",
                                    "NEV": "VaXXXXXXXzsa",
                                    "EMAIL": "zsuzsa.vajda@mail.hu",
                                    "SZAML_CIM": "6786 Ruzsa Kossuth utca 77.",
                                    "SZUL_DAT": "1976-12-11"
                                }
                            ]
                        },
                        "text/html": [
                            "<table>",
                            "<tr><th>USERNEV</th><th>NEV</th><th>EMAIL</th><th>SZAML_CIM</th><th>SZUL_DAT</th></tr>",
                            "<tr><td>adam1</td><td>KiXXXXdám</td><td>ádám.kiss@mail.hu</td><td>5630 Békés Szolnoki út 8.</td><td>1991-12-28</td></tr>",
                            "<tr><td>adam3</td><td>BaXXXXXXXdám</td><td>adam3@gmail.com</td><td>3910 Tokaj Dózsa György utca 37.</td><td>1970-06-07</td></tr>",
                            "<tr><td>adam4</td><td>BiXXXXXXXdám</td><td>ádám.bieniek@mail.hu</td><td>8630 Balatonboglár Juhászföldi út 1.</td><td>1976-08-01</td></tr>",
                            "<tr><td>agnes</td><td>LeXXXXXXXXnes</td><td>agnes@gmail.com</td><td>5200 Törökszentmiklós Deák Ferenc út 5.</td><td>1979-12-10</td></tr>",
                            "<tr><td>agnes3</td><td>HaXXXXXXXXXXXXnes</td><td>agnes3@gmail.com</td><td>6430 Bácsalmás Posta köz 2.</td><td>1967-04-11</td></tr>",
                            "<tr><td>AGNESH</td><td>HoXXXXXXXXnes</td><td>AGNESH@gmail.com</td><td>8200 Veszprém Rákóczi utca 21.</td><td>1981-12-24</td></tr>",
                            "<tr><td>AGNESK</td><td>KoXXXXXXXnes</td><td>AGNESK@gmail.com</td><td>1084 Budapest Endrődi Sándor utca 47.</td><td>1988-10-02</td></tr>",
                            "<tr><td>akos</td><td>BíXXXXkos</td><td>ákos.bíró@mail.hu</td><td>9023 Győr Kossuth Lajos utca 47/b.</td><td>1982-04-24</td></tr>",
                            "<tr><td>aladar</td><td>DuXXXXXXXdár</td><td>aladár.dunai@mail.hu</td><td>5931 Nagyszénás Árpád utca 23.</td><td>1980-11-01</td></tr>",
                            "<tr><td>alexandra</td><td>BaXXXXXXXXXXXXXdra</td><td>alexandra.bagóczki@mail.hu</td><td>2381 Táborfalva Petőfi utca 1/2.</td><td>1992-03-25</td></tr>",
                            "<tr><td>andi</td><td>MaXXXXXXXXrea</td><td>andrea.maródi@mail.hu</td><td>5465 Cserkeszőlő Árpád utca 4.</td><td>1968-05-07</td></tr>",
                            "<tr><td>andras2</td><td>TóXXXXXXrás</td><td>andrás.tóth@mail.hu</td><td>4071 Egyek Petőfi utca 30.</td><td>1997-10-31</td></tr>",
                            "<tr><td>andras21</td><td>MoXXXXXXXXrás</td><td>andrás.molnár@mail.hu</td><td>7900 Szigetvár Rákóczi utca 67.</td><td>1977-11-16</td></tr>",
                            "<tr><td>andras3</td><td>VíXXXXXXrás</td><td>andrás.vígh@mail.hu</td><td>1118 Budapest Arany János utca 1.</td><td>1971-04-02</td></tr>",
                            "<tr><td>andras4</td><td>BaXXXXXXrás</td><td>andras4@gmail.com</td><td>3783 Edelény Fő út 169.</td><td>1984-04-07</td></tr>",
                            "<tr><td>andras41</td><td>KoXXXXXXXXXrás</td><td>andras41@gmail.com</td><td>5065 Nagykörű Kossuth út 24.</td><td>1997-10-25</td></tr>",
                            "<tr><td>ANDRASE</td><td>ErXXXXXXXrás</td><td>ANDRASE@gmail.com</td><td>5071 Besenyszög Szolnoki út 8.</td><td>1997-05-29</td></tr>",
                            "<tr><td>ANDRASN</td><td>NaXXXXXXrás</td><td>andrás.nagy@mail.hu</td><td>6500 Baja Fő út 169.</td><td>1980-09-05</td></tr>",
                            "<tr><td>andrea</td><td>KiXXXXXXrea</td><td>andrea.kiss@mail.hu</td><td>1113 Budapest Petőfi Sándor utca 87.</td><td>1993-03-25</td></tr>",
                            "<tr><td>andrea3</td><td>SzXXXXXXXXrea</td><td>andrea3@gmail.com</td><td>7960 Sellye Bécsi utca 82.</td><td>1996-05-10</td></tr>",
                            "<tr><td>andrea4</td><td>NeXXXXXXXXrea</td><td>andrea4@gmail.com</td><td>1124 Budapest Kiss u. 8.</td><td>1981-05-17</td></tr>",
                            "<tr><td>ANDREAT</td><td>ToXXXXXXXXXrea</td><td>ANDREAT@gmail.com</td><td>6131 Szank Bécsi utca 82.</td><td>1986-11-14</td></tr>",
                            "<tr><td>anett3</td><td>PiXXXXXXXXXett</td><td>anett.pivarcsi@mail.hu</td><td>1149 Budapest Fő út 60.</td><td>1967-01-03</td></tr>",
                            "<tr><td>aniko</td><td>TóXXXXXikó</td><td>aniko@gmail.com</td><td>2085 Pilisvörösvár Deák Ferenc út 5.</td><td>1973-06-03</td></tr>",
                            "<tr><td>aniko4</td><td>BöXXXXXXXikó</td><td>aniko4@gmail.com</td><td>2484 Agárd Petőfi Sándor tér 1.</td><td>1978-03-26</td></tr>",
                            "<tr><td>ANIKOS</td><td>SiXXXXXXikó</td><td>ANIKOS@gmail.com</td><td>5137 Jászkisér Bécsi utca 82.</td><td>1988-12-14</td></tr>",
                            "<tr><td>anita</td><td>HaXXXXXXXXXXXXXXita</td><td>anita.hamvay-kovács@mail.hu</td><td>7220 Sarkad Táncsics utca 19.</td><td>1971-03-20</td></tr>",
                            "<tr><td>annamaria1</td><td>SzXXXXXXXXXXria</td><td>annamária.szűcs@mail.hu</td><td>1191 Budapest Rendeki utca 21.</td><td>1990-04-27</td></tr>",
                            "<tr><td>ANNAMARIAR</td><td>ReXXXXXXXXXXria</td><td>ANNAMARIAR@gmail.com</td><td>8283 Káptalantóti Petőfi Sándor tér 1.</td><td>1977-09-26</td></tr>",
                            "<tr><td>aron2</td><td>JaXXXXXron</td><td>aron2@gmail.com</td><td>7133 Fadd Bajcsy-Zsilinszky utca 4.</td><td>1971-04-26</td></tr>",
                            "<tr><td>ARONK</td><td>KeXXXXXXXron</td><td>áron.kelemen@mail.hu</td><td>8200 Veszprém Petőfi utca 8.</td><td>1989-08-10</td></tr>",
                            "<tr><td>arpad2</td><td>ÖtXXXXXXpád</td><td>árpád.ötvös@mail.hu</td><td>2600 Vác Padragi út 158.</td><td>1990-06-08</td></tr>",
                            "<tr><td>ARPADH</td><td>HoXXXXXXXXpád</td><td>árpád.horváth@mail.hu</td><td>7349 Szászvár Dózsa György u. 1.</td><td>1990-05-18</td></tr>",
                            "<tr><td>ARPADM</td><td>MóXXXXXXXpád</td><td>árpád.móricz@mail.hu</td><td>3910 Tokaj Rákóczi utca 67.</td><td>1986-04-20</td></tr>",
                            "<tr><td>attila</td><td>CsXXXXXXXila</td><td>attila@gmail.com</td><td>3000 Hatvan Bajcsy-Zsilinszky utca 4.</td><td>1979-12-25</td></tr>",
                            "<tr><td>attila1</td><td>GuXXXXXXXXila</td><td>attila.gulyás@mail.hu</td><td>3881 Abaújszántó Szolnoki út 8.</td><td>1982-08-16</td></tr>",
                            "<tr><td>attila4</td><td>BaXXXXXXXXila</td><td>attila.baróti@mail.hu</td><td>7149 Báta Arany János utca 3.</td><td>1975-11-06</td></tr>",
                            "<tr><td>ATTILAO</td><td>OpXXXXXXila</td><td>ATTILAO@gmail.com</td><td>8283 Káptalantóti Rákóczi út 200.</td><td>1995-05-08</td></tr>",
                            "<tr><td>balazs1</td><td>BoXXXXXXXXázs</td><td>balázs.bozsik@mail.hu</td><td>2300 Ráckeve Bécsi utca 82.</td><td>1992-11-03</td></tr>",
                            "<tr><td>balazs2</td><td>SzXXXXXXXázs</td><td>balázs.szűcs@mail.hu</td><td>3170 Szécsény Szabadság utca 95.</td><td>1984-10-31</td></tr>",
                            "<tr><td>balazs3</td><td>BaXXXXXXXXázs</td><td>balazs3@gmail.com</td><td>2131 Göd Arany János utca 1.</td><td>1986-09-09</td></tr>",
                            "<tr><td>balint</td><td>HoXXXXXXXXXint</td><td>balint@gmail.com</td><td>6646 Tömörkény Endrődi Sándor utca 47.</td><td>1996-03-17</td></tr>",
                            "<tr><td>balint1</td><td>MoXXXXXXXXint</td><td>balint1@gmail.com</td><td>9181 Kimle Fő út 169.</td><td>1989-08-24</td></tr>",
                            "<tr><td>balint2</td><td>VuXXXXXXXXXXXXXXint</td><td>balint2@gmail.com</td><td>2330 Dunaharaszti Béke utca 7.</td><td>1997-09-03</td></tr>",
                            "<tr><td>balu</td><td>EnXXXXXXXXXint</td><td>bálint.endresz@mail.hu</td><td>3973 Cigánd Fő út 169.</td><td>1976-08-01</td></tr>",
                            "<tr><td>beata4</td><td>BaXXXXXáta</td><td>beáta.bagi@mail.hu</td><td>8477 Tüskevár Felszabadulás utca 32.</td><td>1994-03-19</td></tr>",
                            "<tr><td>BEATRIXK</td><td>KeXXXXXXXXXXrix</td><td>beatrix.kerényi@mail.hu</td><td>7396 Magyarszék Kossuth Lajos utca 47/b.</td><td>1972-04-06</td></tr>",
                            "<tr><td>BEATRIXS</td><td>SzXXXXXXXXXXXrix</td><td>beatrix.szekendi@mail.hu</td><td>4060 Balmazújváros Jászai tér 21.</td><td>1981-04-06</td></tr>",
                            "<tr><td>BELAF</td><td>FaXXXXXXéla</td><td>BELAF@gmail.com</td><td>5530 Vésztő Petőfi Sándor utca 3.</td><td>1995-02-24</td></tr>",
                            "<tr><td>bence</td><td>GyXXXXXXXXnce</td><td>bence@gmail.com</td><td>6900 Makó Árpád utca 23.</td><td>1987-07-09</td></tr>",
                            "<tr><td>BENCEB</td><td>BaXXXXXXXnce</td><td>bence.bajusz@mail.hu</td><td>8391 Sármellék Fő utca 56.</td><td>1973-06-21</td></tr>",
                            "<tr><td>bernadett1</td><td>SiXXXXXXXXXXett</td><td>bernadett1@gmail.com</td><td>2300 Ráckeve Fő utca 108.</td><td>1984-10-13</td></tr>",
                            "<tr><td>bernadett2</td><td>KoXXXXXXXXXXXett</td><td>bernadett.kovács@mail.hu</td><td>4200 Hajdúszoboszló Fő út 122.</td><td>1996-08-20</td></tr>",
                            "<tr><td>BERNADETTO</td><td>OrXXXXXXXXXXett</td><td>bernadett.orbán@mail.hu</td><td>5085 Rákóczifalva Arany János utca 1.</td><td>1987-12-07</td></tr>",
                            "<tr><td>bertalan</td><td>CsXXXXXXXXXXlan</td><td>bertalan@gmail.com</td><td>1192 Budapest Fő út 169.</td><td>1977-10-15</td></tr>",
                            "<tr><td>brigitta</td><td>SzXXXXXXXXXXXtta</td><td>brigitta.székely@mail.hu</td><td>2462 Martonvásár Fő utca 47.</td><td>1978-09-13</td></tr>",
                            "<tr><td>brigitta3</td><td>PaXXXXXXXXXXtta</td><td>brigitta.pataki@mail.hu</td><td>2730 Albertirsa Rendeki utca 21.</td><td>1991-05-23</td></tr>",
                            "<tr><td>csongor3</td><td>NaXXXXXXXXXXXXXgor</td><td>csongor.nagymihály@mail.hu</td><td>9181 Kimle Deák Ferenc út 5.</td><td>1984-03-05</td></tr>",
                            "<tr><td>dani</td><td>VöXXXXXXXiel</td><td>daniel@gmail.com</td><td>7150 Bonyhád Dózsa György u. 1.</td><td>1986-10-14</td></tr>",
                            "<tr><td>daniel</td><td>RáXXXXXXiel</td><td>dániel.rácz@mail.hu</td><td>9181 Kimle Szabadság tér 9.</td><td>1978-11-28</td></tr>",
                            "<tr><td>daniel1</td><td>KeXXXXXXXXXiel</td><td>dániel.keszler@mail.hu</td><td>3580 Tiszaújváros Kossuth Lajos utca 6.</td><td>1969-07-16</td></tr>",
                            "<tr><td>david</td><td>AmXXXXXXXvid</td><td>david@gmail.com</td><td>1149 Budapest Fő út 18.</td><td>1974-02-11</td></tr>",
                            "<tr><td>david1</td><td>SoXXXXXXXvid</td><td>david1@gmail.com</td><td>5083 Kengyel Arany János utca 3.</td><td>1970-08-16</td></tr>",
                            "<tr><td>david4</td><td>BeXXXXXXvid</td><td>david4@gmail.com</td><td>3500 Miskolc Balatoni út 12.</td><td>1990-10-08</td></tr>",
                            "<tr><td>debora</td><td>BaXXXXXXXóra</td><td>debóra.barna@mail.hu</td><td>1155 Budapest Fő út 169.</td><td>1976-10-14</td></tr>",
                            "<tr><td>denes</td><td>TöXXXXXXXXnes</td><td>denes@gmail.com</td><td>2400 Dunaújváros Kossuth út 39.</td><td>1975-03-14</td></tr>",
                            "<tr><td>dora3</td><td>SaXXXXXXóra</td><td>dóra.sarodi@mail.hu</td><td>2855 Bokod Fő út 18.</td><td>1995-05-18</td></tr>",
                            "<tr><td>edit</td><td>BiXXXXXXXXdit</td><td>edit.bittmann@mail.hu</td><td>6077 Orgovány Fő utca 60.</td><td>1984-04-20</td></tr>",
                            "<tr><td>emese</td><td>KuXXXXXXese</td><td>emese.kuruc@mail.hu</td><td>6700 Szeged Rákóczi utca 67.</td><td>1989-08-10</td></tr>",
                            "<tr><td>eszter</td><td>MoXXXXXXXXter</td><td>eszter.molnár@mail.hu</td><td>6800 Hódmezővásárhely Fő út 77.</td><td>1987-05-10</td></tr>",
                            "<tr><td>eszter2</td><td>BaXXXXXXXXter</td><td>eszter.balogh@mail.hu</td><td>6760 Kistelek Kossuth utca 11.</td><td>1998-01-31</td></tr>",
                            "<tr><td>eszter4</td><td>FüXXXXXXXter</td><td>eszter.fülöp@mail.hu</td><td>3643 Dédestapolcsány Kossuth Lajos utca 47/b.</td><td>1993-06-28</td></tr>",
                            "<tr><td>ESZTERE</td><td>ÉrXXXXXXXter</td><td>eszter.érsek@mail.hu</td><td>6785 Pusztamérges Kossuth Lajos utca 6.</td><td>1978-08-28</td></tr>",
                            "<tr><td>eva</td><td>EnXXXXXÉva</td><td>eva@gmail.com</td><td>4231 Bököny Petőfi utca 8.</td><td>1967-06-30</td></tr>",
                            "<tr><td>eva2</td><td>PeXXXXXXXXÉva</td><td>eva2@gmail.com</td><td>9653 Répcelak Bécsi utca 82.</td><td>1971-08-19</td></tr>",
                            "<tr><td>EVAV</td><td>ViXXXXXÉva</td><td>EVAV@gmail.com</td><td>6913 Csanádpalota Arany János utca 3.</td><td>1980-12-26</td></tr>",
                            "<tr><td>ferenc1</td><td>OrXXXXXXXenc</td><td>ferenc.orosz@mail.hu</td><td>5061 Tiszasüly Arany János utca 3.</td><td>1983-10-08</td></tr>",
                            "<tr><td>fruzsina4</td><td>FrXXXXXXXXXina</td><td>fruzsina4@gmail.com</td><td>9700 Szombathely Szabadság utca 95.</td><td>1996-08-16</td></tr>",
                            "<tr><td>gabor1</td><td>KöXXXXXXbor</td><td>gabor1@gmail.com</td><td>6762 Sándorfalva Árpád utca 23.</td><td>1973-07-15</td></tr>",
                            "<tr><td>gabor4</td><td>TeXXXXXXbor</td><td>gábor.telek@mail.hu</td><td>9071 Görbeháza Fő út 169.</td><td>1987-03-15</td></tr>",
                            "<tr><td>GABORS</td><td>SzXXXXXXXXXbor</td><td>GABORS@gmail.com</td><td>3630 Putnok Kossuth utca 27.</td><td>1990-05-31</td></tr>",
                            "<tr><td>gabriella1</td><td>NaXXXXXXXXXlla</td><td>gabriella1@gmail.com</td><td>1077 Budapest Dob utca 1</td><td>1982-11-01</td></tr>",
                            "<tr><td>gabriella10</td><td>ViXXXXXXXXXlla</td><td>gabriella10@gmail.com</td><td>2484 Agárd Arany János utca 3.</td><td>1969-06-18</td></tr>",
                            "<tr><td>georgij</td><td>NyXXXXXXXXgij</td><td>georgij.nyíri@mail.hu</td><td>8391 Sármellék Grassalkovich út 10.</td><td>1983-02-23</td></tr>",
                            "<tr><td>gusztav</td><td>BáXXXXXXXXtáv</td><td>gusztav@gmail.com</td><td>3643 Dédestapolcsány Endrődi Sándor utca 47.</td><td>1967-02-25</td></tr>",
                            "<tr><td>GYONGYIK</td><td>KoXXXXXXXXXXgyi</td><td>gyöngyi.kornseé@mail.hu</td><td>8800 Nagykanizsa Fő út 60.</td><td>1974-06-07</td></tr>",
                            "<tr><td>GYORGYO</td><td>OrXXXXXXXXrgy</td><td>GYORGYO@gmail.com</td><td>7220 Sarkad Dózsa György u. 1.</td><td>1980-03-23</td></tr>",
                            "<tr><td>henrik3</td><td>NáXXXXXXXXXXXrik</td><td>henrik.nádudvari@mail.hu</td><td>1077 Budapest Tanácsköztársaság tér 1.</td><td>1986-12-05</td></tr>",
                            "<tr><td>IBOLYAA</td><td>AnXXXXXXXlya</td><td>ibolya.andor@mail.hu</td><td>9023 Győr Posta köz 2.</td><td>1983-11-27</td></tr>",
                            "<tr><td>ilona3</td><td>BoXXXXXXXXona</td><td>ilona3@gmail.com</td><td>2483 Gárdony Posta köz 2.</td><td>1990-08-06</td></tr>",
                            "<tr><td>imre</td><td>BúXXXXmre</td><td>imre.búza@mail.hu</td><td>9181 Kimle Petőfi Sándor tér 1.</td><td>1988-09-30</td></tr>",
                            "<tr><td>imre1</td><td>PaXXXXmre</td><td>imre.papp@mail.hu</td><td>1077 Budapest Szolnoki út 8.</td><td>1976-06-25</td></tr>",
                            "<tr><td>istvan</td><td>SoXXXXXXván</td><td>istvan@gmail.com</td><td>2370 Dabas Kossuth utca 27.</td><td>1986-06-28</td></tr>",
                            "<tr><td>istvan1</td><td>ViXXXXXXván</td><td>istván.vizi@mail.hu</td><td>7086 Ozora Rákóczi utca 1.</td><td>1997-12-01</td></tr>",
                            "<tr><td>ISTVANV</td><td>VaXXXXXXXván</td><td>ISTVANV@gmail.com</td><td>6320 Solt Hősök tere 11.</td><td>1989-04-09</td></tr>",
                            "<tr><td>janos3</td><td>HaXXXXXXXXXXnos</td><td>janos3@gmail.com</td><td>8700 Marcali Petőfi Sándor tér 1.</td><td>1967-11-02</td></tr>",
                            "<tr><td>JANOSG</td><td>GiXXXXXXXnos</td><td>JANOSG@gmail.com</td><td>3300 Eger Deák Ferenc út 5.</td><td>1975-01-03</td></tr>",
                            "<tr><td>JANOSP</td><td>PáXXXXXXXXXnos</td><td>JANOSP@gmail.com</td><td>5920 Csorvás Padragi út 158.</td><td>1984-10-12</td></tr>",
                            "<tr><td>jozsef</td><td>GeXXXXXXXXXsef</td><td>jozsef@gmail.com</td><td>6050 Lajosmizse Fő út 18.</td><td>1985-11-01</td></tr>",
                            "<tr><td>jozsef2</td><td>VaXXXXXXXsef</td><td>józsef.vajda@mail.hu</td><td>6700 Szeged Baracsi László utca 14.</td><td>1978-09-04</td></tr>",
                            "<tr><td>JOZSEFG</td><td>GyXXXXXXXXsef</td><td>józsef.gyuris@mail.hu</td><td>2660 Balassagyarmat Petőfi utca 1/2.</td><td>1975-05-26</td></tr>",
                            "<tr><td>JUDITH</td><td>HíXXXXXXXdit</td><td>JUDITH@gmail.com</td><td>2100 Gödöllő Fő út 169.</td><td>1997-07-12</td></tr>",
                            "<tr><td>julia</td><td>TóXXXXXlia</td><td>julia@gmail.com</td><td>5310 Kisújszállás Árpád utca 4.</td><td>1993-03-02</td></tr>",
                            "<tr><td>julia4</td><td>NaXXXXXlia</td><td>julia4@gmail.com</td><td>7000 Sárbogárd Jászai tér 21.</td><td>1985-08-11</td></tr>",
                            "<tr><td>julianna4</td><td>SzXXXXXXXXXnna</td><td>julianna4@gmail.com</td><td>6700 Szeged Kossuth Lajos utca 6.</td><td>1990-09-29</td></tr>",
                            "<tr><td>kata</td><td>GoXXXXXXXXXlin</td><td>katalin.gondos@mail.hu</td><td>8237 Tihany Kossuth Lajos utca 6.</td><td>1968-06-22</td></tr>",
                            "<tr><td>katalin</td><td>HoXXXXXXXXXXlin</td><td>katalin.horváth@mail.hu</td><td>2424 Előszállás Rákóczi út 200.</td><td>1968-01-01</td></tr>",
                            "<tr><td>katalin4</td><td>KeXXXXXXXXXXlin</td><td>katalin4@gmail.com</td><td>2800 Tatabánya Búvár utca 4.</td><td>1986-04-13</td></tr>",
                            "<tr><td>kati</td><td>ZaXXXXXXXXXlin</td><td>katalin.zatykó@mail.hu</td><td>7511 Ötvöskónyi Kossuth Lajos utca 6.</td><td>1995-05-01</td></tr>",
                            "<tr><td>katka</td><td>KoXXXXXXXXXlin</td><td>katalin.kovács@mail.hu</td><td>8254 Kővágóörs Petőfi utca 22.</td><td>1975-03-31</td></tr>",
                            "<tr><td>klaudia2</td><td>BaXXXXXXXdia</td><td>klaudia.bakó@mail.hu</td><td>8254 Kővágóörs Kossuth Lajos utca 6.</td><td>1982-04-16</td></tr>",
                            "<tr><td>kornel4</td><td>LuXXXXXXXXnél</td><td>kornél.lukács@mail.hu</td><td>2053 Herceghalom Bécsi utca 82.</td><td>1975-09-30</td></tr>",
                            "<tr><td>kristof4</td><td>PoXXXXXXXXXXtóf</td><td>kristof4@gmail.com</td><td>8220 Balatonalmádi Mészáros utca 7.</td><td>1984-01-15</td></tr>",
                            "<tr><td>kriszti</td><td>HoXXXXXXXXXXXXina</td><td>kriszti@gmail.com</td><td>6060 Tiszakécske Árpád utca 4.</td><td>1978-06-12</td></tr>",
                            "<tr><td>krisztian4</td><td>CzXXXXXXXXXXXián</td><td>krisztián.czérna@mail.hu</td><td>1107 Budapest Dózsa György utca 37.</td><td>1970-08-01</td></tr>",
                            "<tr><td>KRISZTIANM</td><td>MoXXXXXXXXXXXXXián</td><td>KRISZTIANM@gmail.com</td><td>9155 Lébény Jászai tér 21.</td><td>1968-05-27</td></tr>",
                            "<tr><td>krisztina</td><td>SzXXXXXXXXXXXXina</td><td>krisztina@gmail.com</td><td>6646 Tömörkény Arany János utca 1.</td><td>1979-05-10</td></tr>",
                            "<tr><td>krisztina1</td><td>BoXXXXXXXXXina</td><td>krisztina.bori@mail.hu</td><td>2115 Vácszentlászló Fő utca 47.</td><td>1969-10-13</td></tr>",
                            "<tr><td>KRISZTINAG</td><td>GyXXXXXXXXXXXXina</td><td>KRISZTINAG@gmail.com</td><td>6762 Sándorfalva Arany János utca 1.</td><td>1987-09-19</td></tr>",
                            "<tr><td>lajos</td><td>KiXXXXXjos</td><td>lajos.kiss@mail.hu</td><td>1077 Budapest Dob utca 1</td><td>1978-10-31</td></tr>",
                            "<tr><td>lala</td><td>NaXXXXXXXXXXXjos</td><td>lajos.nagymihály@mail.hu</td><td>8638 Balatonlelle Rákóczi út 200.</td><td>1997-02-24</td></tr>",
                            "<tr><td>laszlo1</td><td>FaXXXXXXXXzló</td><td>lászló.farkas@mail.hu</td><td>5200 Törökszentmiklós Rendeki utca 21.</td><td>1967-10-30</td></tr>",
                            "<tr><td>laszlo2</td><td>MóXXXXXXzló</td><td>lászló.móra@mail.hu</td><td>9970 Szentgotthárd Petőfi utca 1/2.</td><td>1975-02-19</td></tr>",
                            "<tr><td>LASZLOA</td><td>AnXXXXXXXzló</td><td>lászló.antal@mail.hu</td><td>2484 Agárd Bécsi utca 82.</td><td>1969-06-29</td></tr>",
                            "<tr><td>LASZLON</td><td>NaXXXXXXzló</td><td>lászló.nagy@mail.hu</td><td>1173 Budapest Jászai tér 21.</td><td>1969-04-12</td></tr>",
                            "<tr><td>maria1</td><td>BaXXXXXXXria</td><td>mária.baráth@mail.hu</td><td>1047 Budapest Posta köz 2.</td><td>1995-11-19</td></tr>",
                            "<tr><td>mark</td><td>KiXXXXXXárk</td><td>márk.kispál@mail.hu</td><td>1086 Budapest Juhászföldi út 1.</td><td>1996-01-23</td></tr>",
                            "<tr><td>MARKH</td><td>HoXXXXXXXárk</td><td>márk.horváth@mail.hu</td><td>4400 Nyíregyháza Badacsonyi utca 12.</td><td>1997-09-23</td></tr>",
                            "<tr><td>marton</td><td>KaXXXXXXXXXton</td><td>marton@gmail.com</td><td>5137 Jászkisér Fő út 169.</td><td>1989-06-24</td></tr>",
                            "<tr><td>MATEK</td><td>KoXXXXáté</td><td>máté.koza@mail.hu</td><td>1011 Budapest Központi telep 3.</td><td>1997-02-28</td></tr>",
                            "<tr><td>matyas2</td><td>BoXXXXXXXyás</td><td>matyas2@gmail.com</td><td>2700 Cegléd Kossuth Lajos utca 6.</td><td>1972-07-07</td></tr>",
                            "<tr><td>MATYASS</td><td>SzXXXXXXXXXXyás</td><td>mátyás.szilágyi@mail.hu</td><td>9023 Győr Kossuth Lajos utca 6.</td><td>1975-03-22</td></tr>",
                            "<tr><td>MIHALYJ</td><td>JuXXXXXXXXály</td><td>mihály.juhász@mail.hu</td><td>6786 Ruzsa Rákóczi utca 1.</td><td>1979-10-12</td></tr>",
                            "<tr><td>miklos2</td><td>GoXXXXXXXXlós</td><td>miklos2@gmail.com</td><td>2100 Gödöllő Árpád utca 23.</td><td>1995-10-07</td></tr>",
                            "<tr><td>MIKLOSB</td><td>BaXXXXXXXlós</td><td>miklós.balla@mail.hu</td><td>4060 Balmazújváros Szent István utca 2.</td><td>1979-02-16</td></tr>",
                            "<tr><td>MONIKAM</td><td>MoXXXXXXXika</td><td>mónika.mohos@mail.hu</td><td>2241 Sülysáp Baracsi László utca 14.</td><td>1974-10-01</td></tr>",
                            "<tr><td>NANDORF</td><td>FőXXXXdor</td><td>nándor.fő@mail.hu</td><td>5920 Csorvás Bécsi utca 82.</td><td>1968-11-12</td></tr>",
                            "<tr><td>nikolett3</td><td>HoXXXXXXXXXXXett</td><td>nikolett3@gmail.com</td><td>1072 Budapest Arany János utca 1.</td><td>1981-09-29</td></tr>",
                            "<tr><td>nikoletta4</td><td>KőXXXXXXXtta</td><td>nikoletta4@gmail.com</td><td>5537 Zsadány Fő út 18.</td><td>1972-01-10</td></tr>",
                            "<tr><td>NIKOLETTAT</td><td>TaXXXXXXXXXXtta</td><td>nikoletta.tatár@mail.hu</td><td>1067 Budapest Győri utca 12.</td><td>1997-10-19</td></tr>",
                            "<tr><td>norbert</td><td>SzXXXXXXXXert</td><td>norbert@gmail.com</td><td>5071 Besenyszög Győri utca 12.</td><td>1969-07-17</td></tr>",
                            "<tr><td>norbert2</td><td>HeXXXXXXXXXXert</td><td>norbert.hegedűs@mail.hu</td><td>2081 Piliscsaba Rendeki utca 21.</td><td>1991-07-17</td></tr>",
                            "<tr><td>norbert4</td><td>MiXXXXXXXert</td><td>norbert4@gmail.com</td><td>3973 Cigánd Bajcsy-Zsilinszky utca 4.</td><td>1983-06-15</td></tr>",
                            "<tr><td>norbert5</td><td>BéXXXXXXXXert</td><td>norbert5@gmail.com</td><td>8640 Fonyód Bajcsy-Zsilinszky utca 4.</td><td>1975-07-27</td></tr>",
                            "<tr><td>pal</td><td>BaXXXXXXPál</td><td>pál.barabás@mail.hu</td><td>1183 Budapest Szolnoki út 8.</td><td>1968-02-06</td></tr>",
                            "<tr><td>peter1</td><td>KoXXXXXXter</td><td>peter1@gmail.com</td><td>6913 Csanádpalota Központi telep 3.</td><td>1976-03-18</td></tr>",
                            "<tr><td>peter2</td><td>BoXXXXXXter</td><td>peter2@gmail.com</td><td>4800 Vásárosnamény Zombori út 2/A</td><td>1976-01-26</td></tr>",
                            "<tr><td>peter3</td><td>SzXXXXXXXter</td><td>peter3@gmail.com</td><td>1155 Budapest Arany János utca 3.</td><td>1983-07-18</td></tr>",
                            "<tr><td>peter4</td><td>BíXXXXXter</td><td>péter.bíró@mail.hu</td><td>5137 Jászkisér Rákóczi utca 67.</td><td>1985-09-01</td></tr>",
                            "<tr><td>PETERB</td><td>BeXXXXXXXXter</td><td>péter.berendi@mail.hu</td><td>3980 Sátoraljaújhely Vasút utca 4/10.</td><td>1969-01-01</td></tr>",
                            "<tr><td>polla</td><td>PaXXXXXXXXlla</td><td>polla@gmail.com</td><td>2484 Agárd Fő út 18.</td><td>1994-02-04</td></tr>",
                            "<tr><td>rajmond4</td><td>RáXXXXXXXond</td><td>rajmond.rácz@mail.hu</td><td>9155 Lébény Petőfi utca 1/2.</td><td>1993-09-25</td></tr>",
                            "<tr><td>reka4</td><td>SzXXXXXXXXéka</td><td>réka.szikszai@mail.hu</td><td>8254 Kővágóörs Templom utca 73.</td><td>1969-11-27</td></tr>",
                            "<tr><td>RENATAK</td><td>KaXXXXXXXXáta</td><td>renáta.kardos@mail.hu</td><td>7086 Ozora Bécsi utca 82.</td><td>1988-05-17</td></tr>",
                            "<tr><td>RENATAS</td><td>SzXXXXXXXXXáta</td><td>RENATAS@gmail.com</td><td>2053 Herceghalom Kossuth utca 27.</td><td>1991-03-26</td></tr>",
                            "<tr><td>robert2</td><td>PaXXXXXXXert</td><td>robert2@gmail.com</td><td>2370 Dabas Rákóczi utca 21.</td><td>1977-01-08</td></tr>",
                            "<tr><td>ROBERTI</td><td>IvXXXXXXert</td><td>róbert.iván@mail.hu</td><td>2377 Örkény Petőfi Sándor utca 3.</td><td>1967-07-02</td></tr>",
                            "<tr><td>ROBERTP</td><td>PáXXXXXXXXXert</td><td>ROBERTP@gmail.com</td><td>5137 Jászkisér Ady Endre út 27.</td><td>1972-05-16</td></tr>",
                            "<tr><td>roland</td><td>TóXXXXXXand</td><td>roland@gmail.com</td><td>2000 Szentendre Fő út 169.</td><td>1968-03-21</td></tr>",
                            "<tr><td>roland1</td><td>FeXXXXXXXXXand</td><td>roland.ferencz@mail.hu</td><td>2424 Előszállás Fő út 169.</td><td>1985-12-31</td></tr>",
                            "<tr><td>roza2</td><td>BuXXXXXXóza</td><td>roza2@gmail.com</td><td>5661 Újkígyós Arany János utca 3.</td><td>1988-12-26</td></tr>",
                            "<tr><td>sandor</td><td>KaXXXXXXXXdor</td><td>sandor@gmail.com</td><td>8283 Káptalantóti Kossuth Lajos utca 1/a.</td><td>1970-01-27</td></tr>",
                            "<tr><td>sandor3</td><td>FaXXXXXXXXdor</td><td>sándor.farkas@mail.hu</td><td>8640 Fonyód Tanácsköztársaság tér 1.</td><td>1989-01-27</td></tr>",
                            "<tr><td>sandor4</td><td>NaXXXXXXdor</td><td>sandor4@gmail.com</td><td>4600 Kisvárda Fő utca 47.</td><td>1997-06-11</td></tr>",
                            "<tr><td>sara</td><td>FaXXXXXXára</td><td>sára.farkas@mail.hu</td><td>5940 Tótkomlós Felszabadulás utca 32.</td><td>1973-04-05</td></tr>",
                            "<tr><td>SEBASTIANF</td><td>FoXXXXXXXXXXXXXián</td><td>SEBASTIANF@gmail.com</td><td>7960 Sellye Grassalkovich út 10.</td><td>1992-09-09</td></tr>",
                            "<tr><td>sebestyen</td><td>RaXXXXXXXXyén</td><td>sebestyen@gmail.com</td><td>7130 Tolna Központi telep 3.</td><td>1992-03-03</td></tr>",
                            "<tr><td>szabolcs</td><td>BoXXXXXXXXXlcs</td><td>szabolcs.bodor@mail.hu</td><td>6786 Ruzsa Ady Endre út 27.</td><td>1990-07-16</td></tr>",
                            "<tr><td>SZABOLCSM</td><td>MiXXXXXXXXXXlcs</td><td>szabolcs.miklós@mail.hu</td><td>1102 Budapest Fő út 169.</td><td>1980-08-11</td></tr>",
                            "<tr><td>SZILARDS</td><td>SzXXXXXXXXXárd</td><td>szilárd.szalai@mail.hu</td><td>1077 Budapest Fő út 18.</td><td>1967-09-28</td></tr>",
                            "<tr><td>szilvia1</td><td>TaXXXXXXXvia</td><td>szilvia.tari@mail.hu</td><td>6080 Szabadszállás Bécsi utca 82.</td><td>1971-03-09</td></tr>",
                            "<tr><td>tamara2</td><td>MiXXXXXXXXara</td><td>tamara.miklós@mail.hu</td><td>3910 Tokaj Kossuth út 39.</td><td>1980-08-11</td></tr>",
                            "<tr><td>tamas</td><td>AnXXXXXXmás</td><td>tamás.antal@mail.hu</td><td>4440 Tiszavasvári Posta köz 2.</td><td>1984-09-05</td></tr>",
                            "<tr><td>TAMASF</td><td>FéXXXXXXXmás</td><td>TAMASF@gmail.com</td><td>9023 Győr Arany János utca 1.</td><td>1997-11-06</td></tr>",
                            "<tr><td>tibor</td><td>GoXXXXXXXbor</td><td>tibor.gombos@mail.hu</td><td>7100 Szekszárd Kossuth utca 77.</td><td>1993-11-28</td></tr>",
                            "<tr><td>tibor2</td><td>DáXXXXXXXbor</td><td>tibor2@gmail.com</td><td>6646 Tömörkény Árpád utca 23.</td><td>1985-02-02</td></tr>",
                            "<tr><td>tihamer</td><td>KaXXXXXXXmér</td><td>tihamér.kazy@mail.hu</td><td>2370 Dabas Fő utca 60.</td><td>1991-07-05</td></tr>",
                            "<tr><td>timea</td><td>PaXXXXXXmea</td><td>timea@gmail.com</td><td>1035 Budapest  Kossuth út 77.</td><td>1996-01-08</td></tr>",
                            "<tr><td>timea2</td><td>DuXXXXXXmea</td><td>tímea.dusha@mail.hu</td><td>5920 Csorvás Kossuth utca 8.</td><td>1975-08-22</td></tr>",
                            "<tr><td>tunde</td><td>TuXXXXXXXXnde</td><td>tunde@gmail.com</td><td>7130 Tolna Fő út 122.</td><td>1974-02-12</td></tr>",
                            "<tr><td>valentin</td><td>FeXXXXXXXXtin</td><td>valentin.feró@mail.hu</td><td>3895 Gönc Búvár utca 4.</td><td>1986-01-09</td></tr>",
                            "<tr><td>veronika4</td><td>TaXXXXXXXXXika</td><td>veronika4@gmail.com</td><td>6412 Balotaszállás Rendeki utca 21.</td><td>1983-08-28</td></tr>",
                            "<tr><td>VIKTORIAU</td><td>UrXXXXXXXXXria</td><td>viktoria.urbán@mail.hu</td><td>3860 Encs Népboltsor  2.</td><td>1996-05-03</td></tr>",
                            "<tr><td>VIKTORK</td><td>KeXXXXXXXXXXXXtor</td><td>viktor.keresztúri@mail.hu</td><td>2532 Tokodaltáró Nagy Lajos tér 4.</td><td>1989-05-05</td></tr>",
                            "<tr><td>vivien3</td><td>BoXXXXXXXien</td><td>vivien3@gmail.com</td><td>2117 Isaszeg Fő út 122.</td><td>1991-07-01</td></tr>",
                            "<tr><td>zoltan</td><td>FoXXXXXXXtán</td><td>zoltán.fodor@mail.hu</td><td>3441 Mezőkeresztes Fő utca 23.</td><td>1979-11-25</td></tr>",
                            "<tr><td>zoltan4</td><td>BaXXXXXXXtán</td><td>zoltan4@gmail.com</td><td>8313 Balatongyörök Jászai tér 21.</td><td>1986-05-20</td></tr>",
                            "<tr><td>ZOLTANP</td><td>PiXXXXXXXXtán</td><td>zoltán.pintér@mail.hu</td><td>6050 Lajosmizse Fő út 18.</td><td>1977-06-07</td></tr>",
                            "<tr><td>ZOLTANT</td><td>TóXXXXXXtán</td><td>zoltán.tóth@mail.hu</td><td>4244 Újfehértó Posta köz 2.</td><td>1985-12-14</td></tr>",
                            "<tr><td>zsofi1</td><td>MoXXXXXXXófi</td><td>zsofi1@gmail.com</td><td>2730 Albertirsa Árpád utca 23.</td><td>1983-11-17</td></tr>",
                            "<tr><td>zsolt1</td><td>PuXXXXXXolt</td><td>zsolt.pulai@mail.hu</td><td>8391 Sármellék Fő utca 60.</td><td>1988-05-27</td></tr>",
                            "<tr><td>ZSOLTJ</td><td>JóXXXXXXolt</td><td>ZSOLTJ@gmail.com</td><td>8315 Gyenesdiás Bajcsy-Zsilinszky utca 4.</td><td>1983-09-29</td></tr>",
                            "<tr><td>zsuzsa</td><td>PuXXXXXXXXXXXXnna</td><td>zsuzsanna@gmail.com</td><td>6783 Ásotthalom Badacsonyi utca 12.</td><td>1980-09-17</td></tr>",
                            "<tr><td>zsuzsa3</td><td>VaXXXXXXXXXXzsa</td><td>zsuzsa.varsányi@mail.hu</td><td>8600 Siófok Árpád utca 4.</td><td>1979-03-06</td></tr>",
                            "<tr><td>zsuzsanna</td><td>BaXXXXXXXXXXnna</td><td>zsuzsanna.barta@mail.hu</td><td>4172 Biharnagybajom Dózsa György utca 37.</td><td>1994-10-07</td></tr>",
                            "<tr><td>ZSUZSAV</td><td>VaXXXXXXXzsa</td><td>zsuzsa.vajda@mail.hu</td><td>6786 Ruzsa Kossuth utca 77.</td><td>1976-12-11</td></tr>",
                            "</table>"
                        ]
                    }
                }
            ],
            "execution_count": 34
        },
        {
            "cell_type": "markdown",
            "source": [
                "6. Valósítsa meg REDIS-ben a következő táblákat:\n",
                "    \n",
                "    - <span style=\"box-sizing: border-box; font-size: 0.9375rem;\">IRO(ID, nev, nemzetiseg)</span>\n",
                "    - KONYV(ID, cim, mufaj, IRO\\_ID)\n",
                "    \n",
                "    Vigyen fel táblánként legalább 2-2 sornyi adatot!"
            ],
            "metadata": {
                "azdata_cell_guid": "a8e4483e-6665-4f2f-a2fd-50e4897c1b3b"
            },
            "attachments": {}
        },
        {
            "cell_type": "markdown",
            "source": [
                "**Connection string:** redis-cli -h redis-18292.c311.eu-central-1-1.ec2.redns.redis-cloud.com -p 18292 -a ASpOouE9Rfv0iAoigwx42THXQ8h2DRAs"
            ],
            "metadata": {
                "azdata_cell_guid": "97a3519e-4675-404e-b467-b37cebd0ac0b"
            },
            "attachments": {}
        },
        {
            "cell_type": "code",
            "source": [
                "HSET IRO:1 nev \"Kiss Béla\"\n",
                "HSET IRO:1 nemzetiseg \"magyar\"\n",
                "\n",
                "HSET IRO:2 nev \"Nagy Béla\"\n",
                "HSET IRO:2 nemzetiseg \"ungárn\"\n",
                "\n",
                "HSET KONYV:1 cim \"Star Wars 1\"\n",
                "HSET KONYV:1 mufaj \"űrhajós\"\n",
                "HSET KONYV:1 IRO_ID 1\n",
                "\n",
                "HSET KONYV:2 cim \"Sütés művészete\"\n",
                "HSET KONYV:2 mufaj \"Fikció\"\n",
                "HSET KONYV:2 IRO_ID 2"
            ],
            "metadata": {
                "azdata_cell_guid": "1f5f213a-5213-4896-baa8-de459caa770d",
                "language": "sql"
            },
            "outputs": [],
            "execution_count": null
        },
        {
            "cell_type": "markdown",
            "source": [
                "7. Cassandra CQL Shellben hozza létre a következő táblát:\n",
                "    \n",
                "    STUDENT(ID, Nev, Teljesitett\\_felevek, Eredmenyek, Nyelvtudas)\n",
                "    \n",
                "    - Az ID legyen az elsődleges kulcs\n",
                "    - A Teljesitett félévek legyen LIST, tartalma egész számok, pl: 1, 2, 3\n",
                "    - Az Eredmenyek legyen MAP, tartalma, hogy melyik félévben mennyi volt az átlag, pl: 1: 3,00, 2: 4.55, 3: 4,10\n",
                "    - A Nyelvtudas legyen SET, tartalma a nyelvek megnevezése\n",
                "    \n",
                "    Vigyen fel legalább 2 rekordot!"
            ],
            "metadata": {
                "azdata_cell_guid": "340dd3d5-7657-4ffb-81c2-cc7d8698ca9a"
            },
            "attachments": {}
        },
        {
            "cell_type": "code",
            "source": [
                "CREATE TABLE STUDENT (\n",
                "    ID INT PRIMARY KEY,\n",
                "    Nev TEXT,\n",
                "    Teljesitett_felevek LIST<INT>,\n",
                "    Eredmenyek MAP<INT, FLOAT>,\n",
                "    Nyelvtudas SET<TEXT>\n",
                ");\n"
            ],
            "metadata": {
                "azdata_cell_guid": "2feb1efe-b1fe-4784-b60c-1db3227b5873",
                "language": "sql"
            },
            "outputs": [],
            "execution_count": null
        },
        {
            "cell_type": "code",
            "source": [
                "INSERT INTO STUDENT (ID, Nev, Teljesitett_felevek, Eredmenyek, Nyelvtudas) VALUES (1, 'Kiss Béla', [1, 4], {1: 2.00, 4: 4.55}, {'angol', 'német'});\n",
                "INSERT INTO STUDENT (ID, Nev, Teljesitett_felevek, Eredmenyek, Nyelvtudas) VALUES (2, 'Nagy Béla', [2, 3], {2: 4.00, 3: 1.55}, {'francia', 'olasz'});"
            ],
            "metadata": {
                "azdata_cell_guid": "fe63fc3c-b984-45c4-a885-2ed7bdb90251",
                "language": "sql"
            },
            "outputs": [],
            "execution_count": null
        },
        {
            "cell_type": "markdown",
            "source": [
                "8. A Neo4j Sandbox-ban vagy a Desktopban jelenítsük meg azon személyeket, akik egy filmben szerepeltek Tom Hanks-sel.\n",
                "    \n",
                "    - Egy szereplő neve csak egyszer jelenjen meg\n",
                "    - Tom Hanks ne legyen benne a listában"
            ],
            "metadata": {
                "azdata_cell_guid": "a44686ff-81ce-4ccf-932c-89ebec1a8f16"
            },
            "attachments": {}
        },
        {
            "cell_type": "code",
            "source": [
                "MATCH (p1:Person)-[:ACTED_IN]->(:Movie)<-[:ACTED_IN]-(p2:Person)\n",
                "WHERE p1.name = 'Tom Hanks' AND p1 <> p2\n",
                "RETURN DISTINCT p2.name AS Színész"
            ],
            "metadata": {
                "azdata_cell_guid": "fa61c832-823f-4227-8634-e61faa2917a9",
                "language": "sql"
            },
            "outputs": [],
            "execution_count": null
        }
    ]
}