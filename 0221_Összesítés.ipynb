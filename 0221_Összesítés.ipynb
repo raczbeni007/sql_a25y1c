{
    "metadata": {
        "kernelspec": {
            "name": "SQL",
            "display_name": "SQL",
            "language": "sql"
        },
        "language_info": {
            "name": "sql",
            "version": ""
        },
        "extensions": {
            "azuredatastudio": {
                "version": 1,
                "views": []
            }
        }
    },
    "nbformat_minor": 2,
    "nbformat": 4,
    "cells": [
        {
            "cell_type": "markdown",
            "source": [
                "1. <span style=\"color:rgb(36, 41, 47);font-family:-apple-system, BlinkMacSystemFont, &quot;Segoe UI&quot;, Helvetica, Arial, sans-serif, &quot;Apple Color Emoji&quot;, &quot;Segoe UI Emoji&quot;;font-size:16px;\">Készítsünk lekérdezést, amely listázza, hogy mely napokon hány db kölcsönzés történt!</span>\n",
                "\n",
                "<span style=\"font-size: 16px;\">a.&nbsp;</span> Az oszlopok neve legyen 'Dátum' és 'Kölcsönzések száma'  \n",
                "b. A listát rendezzük a kölcsönzés dátuma szerint csökkenő sorrendbe!"
            ],
            "metadata": {
                "azdata_cell_guid": "77f2d5b3-38e9-41cc-893f-f5afd02b97ef"
            },
            "attachments": {}
        },
        {
            "cell_type": "code",
            "source": [
                "SELECT ki_datum AS 'Dátum'\n",
                "    , COUNT(id) AS 'Kölcsönzések száma'\n",
                "FROM kolcsonzesek\n",
                "GROUP BY ki_datum\n",
                "ORDER BY COUNT(id) DESC\n",
                ""
            ],
            "metadata": {
                "azdata_cell_guid": "bd3cef1a-4e6e-4ece-9dc3-aaa9d2b5d66d",
                "language": "sql"
            },
            "outputs": [
                {
                    "output_type": "display_data",
                    "data": {
                        "text/html": "(3 rows affected)"
                    },
                    "metadata": {}
                },
                {
                    "output_type": "display_data",
                    "data": {
                        "text/html": "Total execution time: 00:00:00.025"
                    },
                    "metadata": {}
                },
                {
                    "output_type": "execute_result",
                    "metadata": {},
                    "execution_count": 6,
                    "data": {
                        "application/vnd.dataresource+json": {
                            "schema": {
                                "fields": [
                                    {
                                        "name": "Dátum"
                                    },
                                    {
                                        "name": "Kölcsönzések száma"
                                    }
                                ]
                            },
                            "data": [
                                {
                                    "Dátum": "2003-12-11",
                                    "Kölcsönzések száma": "3"
                                },
                                {
                                    "Dátum": "2006-10-01",
                                    "Kölcsönzések száma": "1"
                                },
                                {
                                    "Dátum": "2006-10-02",
                                    "Kölcsönzések száma": "1"
                                }
                            ]
                        },
                        "text/html": [
                            "<table>",
                            "<tr><th>Dátum</th><th>Kölcsönzések száma</th></tr>",
                            "<tr><td>2003-12-11</td><td>3</td></tr>",
                            "<tr><td>2006-10-01</td><td>1</td></tr>",
                            "<tr><td>2006-10-02</td><td>1</td></tr>",
                            "</table>"
                        ]
                    }
                }
            ],
            "execution_count": 6
        },
        {
            "cell_type": "markdown",
            "source": [
                "2. <span style=\"font-weight: 600; color: rgb(36, 41, 47); font-family: -apple-system, BlinkMacSystemFont, &quot;Segoe UI&quot;, Helvetica, Arial, sans-serif, &quot;Apple Color Emoji&quot;, &quot;Segoe UI Emoji&quot;; font-size: 16px;\">Mennyi a dvd-k átlagos ára stílusonkénti bontásban?</span>\n",
                "\n",
                "1. Csak azokat a stílusokat vegyük figyelembe, ahol az átlagos ár 4500 Ft feletti!\n",
                "2. Az oszlopokat nevezzük el értelemszerűen!\n",
                "3. A listát rendezzük átlagos ár szerint csökkenő sorrendbe!"
            ],
            "metadata": {
                "azdata_cell_guid": "88f5b4bb-f4c1-4bad-a0c7-b2592687b422"
            },
            "attachments": {}
        },
        {
            "cell_type": "code",
            "source": [
                "SELECT stilus AS 'Stílus'\n",
                "    , round(avg(nettoar), 0) AS 'Átlagár'\n",
                "FROM dvd\n",
                "GROUP BY stilus\n",
                "HAVING avg(nettoar) > 4500\n",
                "ORDER BY avg(nettoar) DESC\n",
                ""
            ],
            "metadata": {
                "azdata_cell_guid": "e9de5726-f036-4fb9-8c33-a873955ed886",
                "language": "sql"
            },
            "outputs": [
                {
                    "output_type": "display_data",
                    "data": {
                        "text/html": "(30 rows affected)"
                    },
                    "metadata": {}
                },
                {
                    "output_type": "display_data",
                    "data": {
                        "text/html": "Total execution time: 00:00:00.022"
                    },
                    "metadata": {}
                },
                {
                    "output_type": "execute_result",
                    "metadata": {},
                    "execution_count": 18,
                    "data": {
                        "application/vnd.dataresource+json": {
                            "schema": {
                                "fields": [
                                    {
                                        "name": "Stílus"
                                    },
                                    {
                                        "name": "Átlagár"
                                    }
                                ]
                            },
                            "data": [
                                {
                                    "Stílus": "ásványtan",
                                    "Átlagár": "5624"
                                },
                                {
                                    "Stílus": "játék (rodeó)",
                                    "Átlagár": "5591"
                                },
                                {
                                    "Stílus": "humor",
                                    "Átlagár": "5573"
                                },
                                {
                                    "Stílus": "környezetvédelem",
                                    "Átlagár": "5508"
                                },
                                {
                                    "Stílus": "kresz",
                                    "Átlagár": "5476"
                                },
                                {
                                    "Stílus": "játék (jégkorong)",
                                    "Átlagár": "5242"
                                },
                                {
                                    "Stílus": "színház",
                                    "Átlagár": "5158"
                                },
                                {
                                    "Stílus": "múvészet",
                                    "Átlagár": "5118"
                                },
                                {
                                    "Stílus": "kémia",
                                    "Átlagár": "5094"
                                },
                                {
                                    "Stílus": "fordító program",
                                    "Átlagár": "5036"
                                },
                                {
                                    "Stílus": "kerttervező",
                                    "Átlagár": "4951"
                                },
                                {
                                    "Stílus": "művészet",
                                    "Átlagár": "4939"
                                },
                                {
                                    "Stílus": "festészet",
                                    "Átlagár": "4901"
                                },
                                {
                                    "Stílus": "zene",
                                    "Átlagár": "4855"
                                },
                                {
                                    "Stílus": "játék",
                                    "Átlagár": "4850"
                                },
                                {
                                    "Stílus": "játék (labdarúgás)",
                                    "Átlagár": "4817"
                                },
                                {
                                    "Stílus": "állattan",
                                    "Átlagár": "4784"
                                },
                                {
                                    "Stílus": "nyelvtan",
                                    "Átlagár": "4771"
                                },
                                {
                                    "Stílus": "fizika",
                                    "Átlagár": "4769"
                                },
                                {
                                    "Stílus": "nyelvtanító",
                                    "Átlagár": "4759"
                                },
                                {
                                    "Stílus": "csillagászat",
                                    "Átlagár": "4734"
                                },
                                {
                                    "Stílus": "ismeretterjesztő",
                                    "Átlagár": "4727"
                                },
                                {
                                    "Stílus": "irodalom, nyelv",
                                    "Átlagár": "4704"
                                },
                                {
                                    "Stílus": "gasztronómia",
                                    "Átlagár": "4691"
                                },
                                {
                                    "Stílus": "történelem",
                                    "Átlagár": "4656"
                                },
                                {
                                    "Stílus": "szótár",
                                    "Átlagár": "4624"
                                },
                                {
                                    "Stílus": "sport",
                                    "Átlagár": "4607"
                                },
                                {
                                    "Stílus": "földrajz",
                                    "Átlagár": "4580"
                                },
                                {
                                    "Stílus": "matematika",
                                    "Átlagár": "4521"
                                },
                                {
                                    "Stílus": "felvételi",
                                    "Átlagár": "4501"
                                }
                            ]
                        },
                        "text/html": [
                            "<table>",
                            "<tr><th>Stílus</th><th>Átlagár</th></tr>",
                            "<tr><td>ásványtan</td><td>5624</td></tr>",
                            "<tr><td>játék (rodeó)</td><td>5591</td></tr>",
                            "<tr><td>humor</td><td>5573</td></tr>",
                            "<tr><td>környezetvédelem</td><td>5508</td></tr>",
                            "<tr><td>kresz</td><td>5476</td></tr>",
                            "<tr><td>játék (jégkorong)</td><td>5242</td></tr>",
                            "<tr><td>színház</td><td>5158</td></tr>",
                            "<tr><td>múvészet</td><td>5118</td></tr>",
                            "<tr><td>kémia</td><td>5094</td></tr>",
                            "<tr><td>fordító program</td><td>5036</td></tr>",
                            "<tr><td>kerttervező</td><td>4951</td></tr>",
                            "<tr><td>művészet</td><td>4939</td></tr>",
                            "<tr><td>festészet</td><td>4901</td></tr>",
                            "<tr><td>zene</td><td>4855</td></tr>",
                            "<tr><td>játék</td><td>4850</td></tr>",
                            "<tr><td>játék (labdarúgás)</td><td>4817</td></tr>",
                            "<tr><td>állattan</td><td>4784</td></tr>",
                            "<tr><td>nyelvtan</td><td>4771</td></tr>",
                            "<tr><td>fizika</td><td>4769</td></tr>",
                            "<tr><td>nyelvtanító</td><td>4759</td></tr>",
                            "<tr><td>csillagászat</td><td>4734</td></tr>",
                            "<tr><td>ismeretterjesztő</td><td>4727</td></tr>",
                            "<tr><td>irodalom, nyelv</td><td>4704</td></tr>",
                            "<tr><td>gasztronómia</td><td>4691</td></tr>",
                            "<tr><td>történelem</td><td>4656</td></tr>",
                            "<tr><td>szótár</td><td>4624</td></tr>",
                            "<tr><td>sport</td><td>4607</td></tr>",
                            "<tr><td>földrajz</td><td>4580</td></tr>",
                            "<tr><td>matematika</td><td>4521</td></tr>",
                            "<tr><td>felvételi</td><td>4501</td></tr>",
                            "</table>"
                        ]
                    }
                }
            ],
            "execution_count": 18
        },
        {
            "cell_type": "markdown",
            "source": [
                "3. <span style=\"color:rgb(36, 41, 47);font-family:-apple-system, BlinkMacSystemFont, &quot;Segoe UI&quot;, Helvetica, Arial, sans-serif, &quot;Apple Color Emoji&quot;, &quot;Segoe UI Emoji&quot;;font-size:16px;\">Listázzuk nyelvenkénti, azon belül stílusonkénti bontásban, hogy mennyi a dvd-k legkisebb és legnagyobb ára!&nbsp;</span> \n",
                "\n",
                "<span style=\"font-size: 16px;\">a. Az oszlopok neve legyen 'Nyelv', 'Stílus', 'MinÁr' és 'MaxÁr'!<br>b.&nbsp;</span> A listából hagyjuk ki azokat a sorokat, ahol a nyelv vagy a stílus nincs megadva!  \n",
                "c. Szintén hagyjuk ki azokat a csoportokat, ahol a csoport elemszáma 3-nál kisebb!"
            ],
            "metadata": {
                "azdata_cell_guid": "9e7249de-1b59-43d8-84b1-26fa7d81fc5a"
            },
            "attachments": {}
        },
        {
            "cell_type": "code",
            "source": [
                "SELECT lang as 'Nyelv'\n",
                "    , stilus as 'Stílus'\n",
                "    , min(nettoar) as 'MinÁr'\n",
                "    , max(nettoar) as 'MaxÁr'\n",
                "FROM dvd\n",
                "WHERE lang IS NOT NULL\n",
                "    AND stilus IS NOT NULL\n",
                "GROUP BY lang\n",
                "    , stilus\n",
                "HAVING count(*) >= 3\n",
                ""
            ],
            "metadata": {
                "azdata_cell_guid": "6405d3e8-a9b1-45d7-aa76-3b1e785ef6cc",
                "language": "sql"
            },
            "outputs": [
                {
                    "output_type": "display_data",
                    "data": {
                        "text/html": "(25 rows affected)"
                    },
                    "metadata": {}
                },
                {
                    "output_type": "display_data",
                    "data": {
                        "text/html": "Total execution time: 00:00:00.022"
                    },
                    "metadata": {}
                },
                {
                    "output_type": "execute_result",
                    "metadata": {},
                    "execution_count": 37,
                    "data": {
                        "application/vnd.dataresource+json": {
                            "schema": {
                                "fields": [
                                    {
                                        "name": "Nyelv"
                                    },
                                    {
                                        "name": "Stílus"
                                    },
                                    {
                                        "name": "MinÁr"
                                    },
                                    {
                                        "name": "MaxÁr"
                                    }
                                ]
                            },
                            "data": [
                                {
                                    "Nyelv": "1",
                                    "Stílus": "állattan",
                                    "MinÁr": "4153",
                                    "MaxÁr": "5235"
                                },
                                {
                                    "Nyelv": "1",
                                    "Stílus": "biológia",
                                    "MinÁr": "3482",
                                    "MaxÁr": "5543"
                                },
                                {
                                    "Nyelv": "1",
                                    "Stílus": "csillagászat",
                                    "MinÁr": "3582",
                                    "MaxÁr": "5992"
                                },
                                {
                                    "Nyelv": "1",
                                    "Stílus": "felvételi",
                                    "MinÁr": "3215",
                                    "MaxÁr": "5955"
                                },
                                {
                                    "Nyelv": "1",
                                    "Stílus": "fizika",
                                    "MinÁr": "3734",
                                    "MaxÁr": "5763"
                                },
                                {
                                    "Nyelv": "1",
                                    "Stílus": "földrajz",
                                    "MinÁr": "3123",
                                    "MaxÁr": "6065"
                                },
                                {
                                    "Nyelv": "1",
                                    "Stílus": "gasztronómia",
                                    "MinÁr": "3258",
                                    "MaxÁr": "5706"
                                },
                                {
                                    "Nyelv": "1",
                                    "Stílus": "irodalom",
                                    "MinÁr": "3391",
                                    "MaxÁr": "5654"
                                },
                                {
                                    "Nyelv": "1",
                                    "Stílus": "ismeretterjesztő",
                                    "MinÁr": "3256",
                                    "MaxÁr": "6072"
                                },
                                {
                                    "Nyelv": "2",
                                    "Stílus": "ismeretterjesztő",
                                    "MinÁr": "5334",
                                    "MaxÁr": "5900"
                                },
                                {
                                    "Nyelv": "1",
                                    "Stílus": "játék",
                                    "MinÁr": "3110",
                                    "MaxÁr": "6078"
                                },
                                {
                                    "Nyelv": "2",
                                    "Stílus": "játék",
                                    "MinÁr": "3144",
                                    "MaxÁr": "6062"
                                },
                                {
                                    "Nyelv": "2",
                                    "Stílus": "játék (autóverseny)",
                                    "MinÁr": "3106",
                                    "MaxÁr": "5005"
                                },
                                {
                                    "Nyelv": "1",
                                    "Stílus": "matematika",
                                    "MinÁr": "3105",
                                    "MaxÁr": "5995"
                                },
                                {
                                    "Nyelv": "1",
                                    "Stílus": "művészet",
                                    "MinÁr": "3490",
                                    "MaxÁr": "6098"
                                },
                                {
                                    "Nyelv": "1",
                                    "Stílus": "nyelvtan",
                                    "MinÁr": "3688",
                                    "MaxÁr": "5845"
                                },
                                {
                                    "Nyelv": "2",
                                    "Stílus": "nyelvtanító",
                                    "MinÁr": "3115",
                                    "MaxÁr": "6068"
                                },
                                {
                                    "Nyelv": "3",
                                    "Stílus": "nyelvtanító",
                                    "MinÁr": "3313",
                                    "MaxÁr": "5990"
                                },
                                {
                                    "Nyelv": "4",
                                    "Stílus": "nyelvtanító",
                                    "MinÁr": "3419",
                                    "MaxÁr": "6082"
                                },
                                {
                                    "Nyelv": "6",
                                    "Stílus": "nyelvtanító",
                                    "MinÁr": "3775",
                                    "MaxÁr": "5882"
                                },
                                {
                                    "Nyelv": "7",
                                    "Stílus": "nyelvtanító",
                                    "MinÁr": "3770",
                                    "MaxÁr": "5619"
                                },
                                {
                                    "Nyelv": "1",
                                    "Stílus": "számítástechnika",
                                    "MinÁr": "3277",
                                    "MaxÁr": "5260"
                                },
                                {
                                    "Nyelv": "2",
                                    "Stílus": "szótár",
                                    "MinÁr": "3509",
                                    "MaxÁr": "5638"
                                },
                                {
                                    "Nyelv": "1",
                                    "Stílus": "történelem",
                                    "MinÁr": "3122",
                                    "MaxÁr": "6084"
                                },
                                {
                                    "Nyelv": "1",
                                    "Stílus": "zene",
                                    "MinÁr": "3391",
                                    "MaxÁr": "5730"
                                }
                            ]
                        },
                        "text/html": [
                            "<table>",
                            "<tr><th>Nyelv</th><th>Stílus</th><th>MinÁr</th><th>MaxÁr</th></tr>",
                            "<tr><td>1</td><td>állattan</td><td>4153</td><td>5235</td></tr>",
                            "<tr><td>1</td><td>biológia</td><td>3482</td><td>5543</td></tr>",
                            "<tr><td>1</td><td>csillagászat</td><td>3582</td><td>5992</td></tr>",
                            "<tr><td>1</td><td>felvételi</td><td>3215</td><td>5955</td></tr>",
                            "<tr><td>1</td><td>fizika</td><td>3734</td><td>5763</td></tr>",
                            "<tr><td>1</td><td>földrajz</td><td>3123</td><td>6065</td></tr>",
                            "<tr><td>1</td><td>gasztronómia</td><td>3258</td><td>5706</td></tr>",
                            "<tr><td>1</td><td>irodalom</td><td>3391</td><td>5654</td></tr>",
                            "<tr><td>1</td><td>ismeretterjesztő</td><td>3256</td><td>6072</td></tr>",
                            "<tr><td>2</td><td>ismeretterjesztő</td><td>5334</td><td>5900</td></tr>",
                            "<tr><td>1</td><td>játék</td><td>3110</td><td>6078</td></tr>",
                            "<tr><td>2</td><td>játék</td><td>3144</td><td>6062</td></tr>",
                            "<tr><td>2</td><td>játék (autóverseny)</td><td>3106</td><td>5005</td></tr>",
                            "<tr><td>1</td><td>matematika</td><td>3105</td><td>5995</td></tr>",
                            "<tr><td>1</td><td>művészet</td><td>3490</td><td>6098</td></tr>",
                            "<tr><td>1</td><td>nyelvtan</td><td>3688</td><td>5845</td></tr>",
                            "<tr><td>2</td><td>nyelvtanító</td><td>3115</td><td>6068</td></tr>",
                            "<tr><td>3</td><td>nyelvtanító</td><td>3313</td><td>5990</td></tr>",
                            "<tr><td>4</td><td>nyelvtanító</td><td>3419</td><td>6082</td></tr>",
                            "<tr><td>6</td><td>nyelvtanító</td><td>3775</td><td>5882</td></tr>",
                            "<tr><td>7</td><td>nyelvtanító</td><td>3770</td><td>5619</td></tr>",
                            "<tr><td>1</td><td>számítástechnika</td><td>3277</td><td>5260</td></tr>",
                            "<tr><td>2</td><td>szótár</td><td>3509</td><td>5638</td></tr>",
                            "<tr><td>1</td><td>történelem</td><td>3122</td><td>6084</td></tr>",
                            "<tr><td>1</td><td>zene</td><td>3391</td><td>5730</td></tr>",
                            "</table>"
                        ]
                    }
                }
            ],
            "execution_count": 37
        },
        {
            "cell_type": "markdown",
            "source": [
                "4. <span style=\"color: rgb(36, 41, 47); font-family: -apple-system, BlinkMacSystemFont, &quot;Segoe UI&quot;, Helvetica, Arial, sans-serif, &quot;Apple Color Emoji&quot;, &quot;Segoe UI Emoji&quot;; font-size: 16px;\">Készítsünk listát, amely a csoportokat hoz létre aszerint, hogy a mai naptól számítva hány nap telt el a kölcsönzés kezdete óta. A lista jelenítse meg csoportonkénti bontásban a kikölcsönzött dvd-k számát!</span>\n",
                "\n",
                "1. Az oszlopokat nevezzük el értelemszerűen!\n",
                "2. A listát rendezzük az eltelt napok száma szerint csökkenő sorrendbe!"
            ],
            "metadata": {
                "azdata_cell_guid": "6478e469-c094-472c-a772-ccd5b5c61516"
            },
            "attachments": {}
        },
        {
            "cell_type": "code",
            "source": [
                "SELECT DATEDIFF(day, ki_datum, GETDATE()) as 'Eltelt napok'\n",
                "    , count(id) as 'Kölcsönzések száma'\n",
                "FROM kolcsonzesek\n",
                "GROUP BY DATEDIFF(day, ki_datum, GETDATE())\n",
                "ORDER BY DATEDIFF(day, ki_datum, GETDATE()) DESC\n",
                ""
            ],
            "metadata": {
                "azdata_cell_guid": "02031ea2-3838-458d-839c-228e3b362b61",
                "language": "sql"
            },
            "outputs": [
                {
                    "output_type": "display_data",
                    "data": {
                        "text/html": "(3 rows affected)"
                    },
                    "metadata": {}
                },
                {
                    "output_type": "display_data",
                    "data": {
                        "text/html": "Total execution time: 00:00:00.017"
                    },
                    "metadata": {}
                },
                {
                    "output_type": "execute_result",
                    "metadata": {},
                    "execution_count": 36,
                    "data": {
                        "application/vnd.dataresource+json": {
                            "schema": {
                                "fields": [
                                    {
                                        "name": "Eltelt napok"
                                    },
                                    {
                                        "name": "Kölcsönzések száma"
                                    }
                                ]
                            },
                            "data": [
                                {
                                    "Eltelt napok": "7382",
                                    "Kölcsönzések száma": "3"
                                },
                                {
                                    "Eltelt napok": "6357",
                                    "Kölcsönzések száma": "1"
                                },
                                {
                                    "Eltelt napok": "6356",
                                    "Kölcsönzések száma": "1"
                                }
                            ]
                        },
                        "text/html": [
                            "<table>",
                            "<tr><th>Eltelt napok</th><th>Kölcsönzések száma</th></tr>",
                            "<tr><td>7382</td><td>3</td></tr>",
                            "<tr><td>6357</td><td>1</td></tr>",
                            "<tr><td>6356</td><td>1</td></tr>",
                            "</table>"
                        ]
                    }
                }
            ],
            "execution_count": 36
        },
        {
            "cell_type": "markdown",
            "source": [
                "5. <span style=\"color: rgb(36, 41, 47); font-family: -apple-system, BlinkMacSystemFont, &quot;Segoe UI&quot;, Helvetica, Arial, sans-serif, &quot;Apple Color Emoji&quot;, &quot;Segoe UI Emoji&quot;; font-size: 16px;\">A kölcsönző tulajdonosa elhatározza, hogy ezentúl kerekebb árakat alkalmaz. Ezért minden dvd árát 1000 Ft-ra kerekíti. Készítsünk lekérdezést, amely megmutatja, hogy melyik 1000 Ft-ra kerekített ár szerint, azon belül stílus szerint hány db dvd összesen raktáron! **</span>\n",
                "\n",
                "1. Csak olyan csoportokat listázzunk, ahol a raktárkészlet legalább 30!\n",
                "2. A listát rendezzük kerekített ár szerint, azon belül raktárkészlet szerint növekvő sorrendbe!"
            ],
            "metadata": {
                "azdata_cell_guid": "9edbbaf9-c276-4898-9a01-e1b2993c089f"
            },
            "attachments": {}
        },
        {
            "cell_type": "code",
            "source": [
                "SELECT round(nettoar, - 3) as 'Új ár'\n",
                "    , stilus as 'Stílus'\n",
                "    , sum([raktár készlet]) as 'Raktárkészlet'\n",
                "FROM dvd\n",
                "GROUP BY round(nettoar, - 3)\n",
                "    , stilus\n",
                "HAVING sum([raktár készlet]) >= 30\n",
                "ORDER BY round(nettoar, - 3) ASC\n",
                "    , sum([raktár készlet]) ASC\n",
                ""
            ],
            "metadata": {
                "azdata_cell_guid": "5ad5fdcb-2878-4111-861a-833bcd50e935",
                "language": "sql"
            },
            "outputs": [
                {
                    "output_type": "display_data",
                    "data": {
                        "text/html": "(27 rows affected)"
                    },
                    "metadata": {}
                },
                {
                    "output_type": "display_data",
                    "data": {
                        "text/html": "Total execution time: 00:00:00.033"
                    },
                    "metadata": {}
                },
                {
                    "output_type": "execute_result",
                    "metadata": {},
                    "execution_count": 50,
                    "data": {
                        "application/vnd.dataresource+json": {
                            "schema": {
                                "fields": [
                                    {
                                        "name": "Új ár"
                                    },
                                    {
                                        "name": "Stílus"
                                    },
                                    {
                                        "name": "Raktárkészlet"
                                    }
                                ]
                            },
                            "data": [
                                {
                                    "Új ár": "3000",
                                    "Stílus": "földrajz",
                                    "Raktárkészlet": "30"
                                },
                                {
                                    "Új ár": "3000",
                                    "Stílus": "nyelvtanító",
                                    "Raktárkészlet": "30"
                                },
                                {
                                    "Új ár": "3000",
                                    "Stílus": "játék",
                                    "Raktárkészlet": "40"
                                },
                                {
                                    "Új ár": "3000",
                                    "Stílus": "történelem",
                                    "Raktárkészlet": "40"
                                },
                                {
                                    "Új ár": "3000",
                                    "Stílus": "ismeretterjesztő",
                                    "Raktárkészlet": "70"
                                },
                                {
                                    "Új ár": "4000",
                                    "Stílus": "szótár",
                                    "Raktárkészlet": "30"
                                },
                                {
                                    "Új ár": "4000",
                                    "Stílus": "csillagászat",
                                    "Raktárkészlet": "40"
                                },
                                {
                                    "Új ár": "4000",
                                    "Stílus": "földrajz",
                                    "Raktárkészlet": "50"
                                },
                                {
                                    "Új ár": "4000",
                                    "Stílus": "irodalom",
                                    "Raktárkészlet": "90"
                                },
                                {
                                    "Új ár": "4000",
                                    "Stílus": "ismeretterjesztő",
                                    "Raktárkészlet": "130"
                                },
                                {
                                    "Új ár": "4000",
                                    "Stílus": "nyelvtanító",
                                    "Raktárkészlet": "140"
                                },
                                {
                                    "Új ár": "4000",
                                    "Stílus": "történelem",
                                    "Raktárkészlet": "160"
                                },
                                {
                                    "Új ár": "4000",
                                    "Stílus": "játék",
                                    "Raktárkészlet": "180"
                                },
                                {
                                    "Új ár": "5000",
                                    "Stílus": "irodalom",
                                    "Raktárkészlet": "30"
                                },
                                {
                                    "Új ár": "5000",
                                    "Stílus": "matematika",
                                    "Raktárkészlet": "30"
                                },
                                {
                                    "Új ár": "5000",
                                    "Stílus": "zene",
                                    "Raktárkészlet": "30"
                                },
                                {
                                    "Új ár": "5000",
                                    "Stílus": "földrajz",
                                    "Raktárkészlet": "60"
                                },
                                {
                                    "Új ár": "5000",
                                    "Stílus": "történelem",
                                    "Raktárkészlet": "120"
                                },
                                {
                                    "Új ár": "5000",
                                    "Stílus": "nyelvtanító",
                                    "Raktárkészlet": "140"
                                },
                                {
                                    "Új ár": "5000",
                                    "Stílus": "ismeretterjesztő",
                                    "Raktárkészlet": "170"
                                },
                                {
                                    "Új ár": "5000",
                                    "Stílus": "játék",
                                    "Raktárkészlet": "210"
                                },
                                {
                                    "Új ár": "6000",
                                    "Stílus": "csillagászat",
                                    "Raktárkészlet": "30"
                                },
                                {
                                    "Új ár": "6000",
                                    "Stílus": "irodalom",
                                    "Raktárkészlet": "30"
                                },
                                {
                                    "Új ár": "6000",
                                    "Stílus": "történelem",
                                    "Raktárkészlet": "88"
                                },
                                {
                                    "Új ár": "6000",
                                    "Stílus": "ismeretterjesztő",
                                    "Raktárkészlet": "90"
                                },
                                {
                                    "Új ár": "6000",
                                    "Stílus": "nyelvtanító",
                                    "Raktárkészlet": "110"
                                },
                                {
                                    "Új ár": "6000",
                                    "Stílus": "játék",
                                    "Raktárkészlet": "170"
                                }
                            ]
                        },
                        "text/html": [
                            "<table>",
                            "<tr><th>Új ár</th><th>Stílus</th><th>Raktárkészlet</th></tr>",
                            "<tr><td>3000</td><td>földrajz</td><td>30</td></tr>",
                            "<tr><td>3000</td><td>nyelvtanító</td><td>30</td></tr>",
                            "<tr><td>3000</td><td>játék</td><td>40</td></tr>",
                            "<tr><td>3000</td><td>történelem</td><td>40</td></tr>",
                            "<tr><td>3000</td><td>ismeretterjesztő</td><td>70</td></tr>",
                            "<tr><td>4000</td><td>szótár</td><td>30</td></tr>",
                            "<tr><td>4000</td><td>csillagászat</td><td>40</td></tr>",
                            "<tr><td>4000</td><td>földrajz</td><td>50</td></tr>",
                            "<tr><td>4000</td><td>irodalom</td><td>90</td></tr>",
                            "<tr><td>4000</td><td>ismeretterjesztő</td><td>130</td></tr>",
                            "<tr><td>4000</td><td>nyelvtanító</td><td>140</td></tr>",
                            "<tr><td>4000</td><td>történelem</td><td>160</td></tr>",
                            "<tr><td>4000</td><td>játék</td><td>180</td></tr>",
                            "<tr><td>5000</td><td>irodalom</td><td>30</td></tr>",
                            "<tr><td>5000</td><td>matematika</td><td>30</td></tr>",
                            "<tr><td>5000</td><td>zene</td><td>30</td></tr>",
                            "<tr><td>5000</td><td>földrajz</td><td>60</td></tr>",
                            "<tr><td>5000</td><td>történelem</td><td>120</td></tr>",
                            "<tr><td>5000</td><td>nyelvtanító</td><td>140</td></tr>",
                            "<tr><td>5000</td><td>ismeretterjesztő</td><td>170</td></tr>",
                            "<tr><td>5000</td><td>játék</td><td>210</td></tr>",
                            "<tr><td>6000</td><td>csillagászat</td><td>30</td></tr>",
                            "<tr><td>6000</td><td>irodalom</td><td>30</td></tr>",
                            "<tr><td>6000</td><td>történelem</td><td>88</td></tr>",
                            "<tr><td>6000</td><td>ismeretterjesztő</td><td>90</td></tr>",
                            "<tr><td>6000</td><td>nyelvtanító</td><td>110</td></tr>",
                            "<tr><td>6000</td><td>játék</td><td>170</td></tr>",
                            "</table>"
                        ]
                    }
                }
            ],
            "execution_count": 50
        },
        {
            "cell_type": "markdown",
            "source": [
                "6. <span style=\"font-weight: 600; color: rgb(36, 41, 47); font-family: -apple-system, BlinkMacSystemFont, &quot;Segoe UI&quot;, Helvetica, Arial, sans-serif, &quot;Apple Color Emoji&quot;, &quot;Segoe UI Emoji&quot;; font-size: 16px;\">A dvd-ket csoportosíthatjuk aszerint, hogy milyen hosszú a címük. Amelyiknél a cím hosszúsága 10 karakter alatt van, az legyen Rövid, 10-20-ig Átlagos, 20 felett Hosszú. Hány Rövid, Átlagos, illetve Hosszú dvd-van összesen raktáron?</span>\n",
                "\n",
                "1. Az oszlopok neve legyen 'Cím hosszúság' és 'Darabszám"
            ],
            "metadata": {
                "azdata_cell_guid": "5fe65c1c-2479-45ac-ad03-ec99d12eae21"
            },
            "attachments": {}
        },
        {
            "cell_type": "code",
            "source": [
                "SELECT CASE \n",
                "        WHEN len(cim) < 10\n",
                "            THEN 'rövid'\n",
                "        WHEN len(cim) >= 10\n",
                "            AND len(cim) <= 20\n",
                "            THEN 'átlagos'\n",
                "        ELSE 'hosszú'\n",
                "        END AS 'Címhossz'\n",
                "    , sum([raktár készlet]) AS 'Raktárkészlet'\n",
                "FROM dvd\n",
                "GROUP BY CASE \n",
                "        WHEN len(cim) < 10\n",
                "            THEN 'rövid'\n",
                "        WHEN len(cim) >= 10\n",
                "            AND len(cim) <= 20\n",
                "            THEN 'átlagos'\n",
                "        ELSE 'hosszú'\n",
                "        END\n",
                ""
            ],
            "metadata": {
                "azdata_cell_guid": "924f2dde-f1c2-4def-a7f9-dbf4bace7735",
                "language": "sql"
            },
            "outputs": [
                {
                    "output_type": "display_data",
                    "data": {
                        "text/html": "(3 rows affected)"
                    },
                    "metadata": {}
                },
                {
                    "output_type": "display_data",
                    "data": {
                        "text/html": "Total execution time: 00:00:00.021"
                    },
                    "metadata": {}
                },
                {
                    "output_type": "execute_result",
                    "metadata": {},
                    "execution_count": 54,
                    "data": {
                        "application/vnd.dataresource+json": {
                            "schema": {
                                "fields": [
                                    {
                                        "name": "Címhossz"
                                    },
                                    {
                                        "name": "Raktárkészlet"
                                    }
                                ]
                            },
                            "data": [
                                {
                                    "Címhossz": "átlagos",
                                    "Raktárkészlet": "930"
                                },
                                {
                                    "Címhossz": "hosszú",
                                    "Raktárkészlet": "2128"
                                },
                                {
                                    "Címhossz": "rövid",
                                    "Raktárkészlet": "120"
                                }
                            ]
                        },
                        "text/html": [
                            "<table>",
                            "<tr><th>Címhossz</th><th>Raktárkészlet</th></tr>",
                            "<tr><td>átlagos</td><td>930</td></tr>",
                            "<tr><td>hosszú</td><td>2128</td></tr>",
                            "<tr><td>rövid</td><td>120</td></tr>",
                            "</table>"
                        ]
                    }
                }
            ],
            "execution_count": 54
        },
        {
            "cell_type": "markdown",
            "source": [
                "7. <span style=\"color: rgb(36, 41, 47); font-family: -apple-system, BlinkMacSystemFont, &quot;Segoe UI&quot;, Helvetica, Arial, sans-serif, &quot;Apple Color Emoji&quot;, &quot;Segoe UI Emoji&quot;; font-size: 16px;\">Készítsünk listát arról, hogy melyik teremben hány óra van!</span>\n",
                "\n",
                "1. Jelenítsük meg a termek azonosítóit és a teremben tartott órák számát!\n",
                "2. Az oszlopokat nevezzük el értelemszerűen!\n",
                "3. Szűrjünk azokra a termekre, ahol az órák száma legalább 3!"
            ],
            "metadata": {
                "azdata_cell_guid": "3aeb6bf5-b111-40d5-92b2-9712ce335696"
            },
            "attachments": {}
        },
        {
            "cell_type": "code",
            "source": [
                "SELECT terem AS 'Terem'\n",
                "    , count(*) AS 'Órák száma'\n",
                "FROM orak\n",
                "GROUP BY terem\n",
                "HAVING COUNT(*) >= 3\n",
                ""
            ],
            "metadata": {
                "azdata_cell_guid": "3e89b651-f56f-4102-af52-30eb2bbe360d",
                "language": "sql"
            },
            "outputs": [
                {
                    "output_type": "display_data",
                    "data": {
                        "text/html": "(11 rows affected)"
                    },
                    "metadata": {}
                },
                {
                    "output_type": "display_data",
                    "data": {
                        "text/html": "Total execution time: 00:00:00.019"
                    },
                    "metadata": {}
                },
                {
                    "output_type": "execute_result",
                    "metadata": {},
                    "execution_count": 68,
                    "data": {
                        "application/vnd.dataresource+json": {
                            "schema": {
                                "fields": [
                                    {
                                        "name": "Terem"
                                    },
                                    {
                                        "name": "Órák száma"
                                    }
                                ]
                            },
                            "data": [
                                {
                                    "Terem": "2",
                                    "Órák száma": "5"
                                },
                                {
                                    "Terem": "3",
                                    "Órák száma": "11"
                                },
                                {
                                    "Terem": "4",
                                    "Órák száma": "8"
                                },
                                {
                                    "Terem": "5",
                                    "Órák száma": "5"
                                },
                                {
                                    "Terem": "6",
                                    "Órák száma": "6"
                                },
                                {
                                    "Terem": "7",
                                    "Órák száma": "6"
                                },
                                {
                                    "Terem": "8",
                                    "Órák száma": "6"
                                },
                                {
                                    "Terem": "10",
                                    "Órák száma": "3"
                                },
                                {
                                    "Terem": "12",
                                    "Órák száma": "3"
                                },
                                {
                                    "Terem": "13",
                                    "Órák száma": "5"
                                },
                                {
                                    "Terem": "14",
                                    "Órák száma": "3"
                                }
                            ]
                        },
                        "text/html": [
                            "<table>",
                            "<tr><th>Terem</th><th>Órák száma</th></tr>",
                            "<tr><td>2</td><td>5</td></tr>",
                            "<tr><td>3</td><td>11</td></tr>",
                            "<tr><td>4</td><td>8</td></tr>",
                            "<tr><td>5</td><td>5</td></tr>",
                            "<tr><td>6</td><td>6</td></tr>",
                            "<tr><td>7</td><td>6</td></tr>",
                            "<tr><td>8</td><td>6</td></tr>",
                            "<tr><td>10</td><td>3</td></tr>",
                            "<tr><td>12</td><td>3</td></tr>",
                            "<tr><td>13</td><td>5</td></tr>",
                            "<tr><td>14</td><td>3</td></tr>",
                            "</table>"
                        ]
                    }
                }
            ],
            "execution_count": 68
        },
        {
            "cell_type": "markdown",
            "source": [
                "8. <span style=\"color: rgb(36, 41, 47); font-family: -apple-system, BlinkMacSystemFont, &quot;Segoe UI&quot;, Helvetica, Arial, sans-serif, &quot;Apple Color Emoji&quot;, &quot;Segoe UI Emoji&quot;; font-size: 16px;\">Készítsünk lekérdezést, amely megadja, hogy minimálian és maximálisan hány kreditet ér egy tantárgy!</span>\n",
                "\n",
                "1. Az oszlopokat nevezzük el értelemszerűen!\n",
                "2. Ne vegyük figyelembe azokat a tantárgyakat, amelyek nevében az „alapjai” szó szerepel, vagy a tantárgy neve 10 karakternél rövidebb!"
            ],
            "metadata": {
                "azdata_cell_guid": "26a504dc-ff6a-439f-94c0-4580eca3eacf"
            },
            "attachments": {}
        },
        {
            "cell_type": "code",
            "source": [
                "SELECT min(kredit) AS 'MinKredit'\n",
                "    , max(kredit) AS 'MaxKredit'\n",
                "FROM Tantárgyak\n",
                "WHERE tantárgynév NOT LIKE '%alapjai%'\n",
                "    AND len(Tantárgynév) >= 10\n",
                ""
            ],
            "metadata": {
                "azdata_cell_guid": "1cbb8aeb-78b5-4350-aa45-e3202fdab85b",
                "language": "sql"
            },
            "outputs": [
                {
                    "output_type": "display_data",
                    "data": {
                        "text/html": "(1 row affected)"
                    },
                    "metadata": {}
                },
                {
                    "output_type": "display_data",
                    "data": {
                        "text/html": "Total execution time: 00:00:00.019"
                    },
                    "metadata": {}
                },
                {
                    "output_type": "execute_result",
                    "metadata": {},
                    "execution_count": 67,
                    "data": {
                        "application/vnd.dataresource+json": {
                            "schema": {
                                "fields": [
                                    {
                                        "name": "MinKredit"
                                    },
                                    {
                                        "name": "MaxKredit"
                                    }
                                ]
                            },
                            "data": [
                                {
                                    "MinKredit": "1",
                                    "MaxKredit": "5"
                                }
                            ]
                        },
                        "text/html": [
                            "<table>",
                            "<tr><th>MinKredit</th><th>MaxKredit</th></tr>",
                            "<tr><td>1</td><td>5</td></tr>",
                            "</table>"
                        ]
                    }
                }
            ],
            "execution_count": 67
        },
        {
            "cell_type": "markdown",
            "source": [
                "9. <span style=\"color: rgb(36, 41, 47); font-family: -apple-system, BlinkMacSystemFont, &quot;Segoe UI&quot;, Helvetica, Arial, sans-serif, &quot;Apple Color Emoji&quot;, &quot;Segoe UI Emoji&quot;; font-size: 16px;\">A tapasztalat alapján a tanársegédeknek 8, az óraadóknak 10 órájuk van egy héten. A többiek annyi órát tartanak, amennyi az elvárt óraszámuk. Készítsünk lekérdezést, amely minden beosztáshoz megjeleníti, hogy hetente hány túlóra tartozik hozzá!</span>\n",
                "\n",
                "1. A lekérdezés csak a beosztások nevét és a heti túlórák számát jelenítse meg!"
            ],
            "metadata": {
                "azdata_cell_guid": "435e2860-2dd5-4877-90f4-34a43baeb53c"
            },
            "attachments": {}
        },
        {
            "cell_type": "code",
            "source": [
                "SELECT beosztasnev AS 'Beosztás'\n",
                "    , elvart AS 'Elvárt órák'\n",
                "    , CASE \n",
                "        WHEN beosztasnev = 'Tanársegéd'\n",
                "            THEN 2\n",
                "        WHEN beosztasnev = 'Óraadó'\n",
                "            THEN 4\n",
                "        ELSE 0\n",
                "        END AS 'Túlóra'\n",
                "FROM Beosztasok\n",
                ""
            ],
            "metadata": {
                "azdata_cell_guid": "ce846351-ddbe-4d8e-b8fb-2a92c73ac80b",
                "language": "sql"
            },
            "outputs": [
                {
                    "output_type": "display_data",
                    "data": {
                        "text/html": "(7 rows affected)"
                    },
                    "metadata": {}
                },
                {
                    "output_type": "display_data",
                    "data": {
                        "text/html": "Total execution time: 00:00:00.036"
                    },
                    "metadata": {}
                },
                {
                    "output_type": "execute_result",
                    "metadata": {},
                    "execution_count": 77,
                    "data": {
                        "application/vnd.dataresource+json": {
                            "schema": {
                                "fields": [
                                    {
                                        "name": "Beosztás"
                                    },
                                    {
                                        "name": "Elvárt órák"
                                    },
                                    {
                                        "name": "Túlóra"
                                    }
                                ]
                            },
                            "data": [
                                {
                                    "Beosztás": "Óraadó",
                                    "Elvárt órák": "6",
                                    "Túlóra": "4"
                                },
                                {
                                    "Beosztás": "Tanársegéd",
                                    "Elvárt órák": "6",
                                    "Túlóra": "2"
                                },
                                {
                                    "Beosztás": "Adjunktus",
                                    "Elvárt órák": "5",
                                    "Túlóra": "0"
                                },
                                {
                                    "Beosztás": "Docens",
                                    "Elvárt órák": "4",
                                    "Túlóra": "0"
                                },
                                {
                                    "Beosztás": "Professzor",
                                    "Elvárt órák": "3",
                                    "Túlóra": "0"
                                },
                                {
                                    "Beosztás": "Egyetemi tanár",
                                    "Elvárt órák": "2",
                                    "Túlóra": "0"
                                },
                                {
                                    "Beosztás": "Tudományos munkatárs",
                                    "Elvárt órák": "4",
                                    "Túlóra": "0"
                                }
                            ]
                        },
                        "text/html": [
                            "<table>",
                            "<tr><th>Beosztás</th><th>Elvárt órák</th><th>Túlóra</th></tr>",
                            "<tr><td>Óraadó</td><td>6</td><td>4</td></tr>",
                            "<tr><td>Tanársegéd</td><td>6</td><td>2</td></tr>",
                            "<tr><td>Adjunktus</td><td>5</td><td>0</td></tr>",
                            "<tr><td>Docens</td><td>4</td><td>0</td></tr>",
                            "<tr><td>Professzor</td><td>3</td><td>0</td></tr>",
                            "<tr><td>Egyetemi tanár</td><td>2</td><td>0</td></tr>",
                            "<tr><td>Tudományos munkatárs</td><td>4</td><td>0</td></tr>",
                            "</table>"
                        ]
                    }
                }
            ],
            "execution_count": 77
        },
        {
            "cell_type": "markdown",
            "source": [
                "10. <span style=\"font-weight: 600; color: rgb(36, 41, 47); font-family: -apple-system, BlinkMacSystemFont, &quot;Segoe UI&quot;, Helvetica, Arial, sans-serif, &quot;Apple Color Emoji&quot;, &quot;Segoe UI Emoji&quot;; font-size: 16px;\">Melyek azok az oktatók, akiknek nincs órájuk?</span>\n",
                "\n",
                "1. Csak az oktatók neve jelenjen meg!\n",
                "2. ÖTLET: használjunk LEFT JOIN-t, és szűrjünk azokra a rekordokra, ahol NULL érték van a JOIN utáni feltétel jobb oldalán!"
            ],
            "metadata": {
                "azdata_cell_guid": "217c5772-afe2-4a7c-b913-e3a3e09d6411"
            },
            "attachments": {}
        },
        {
            "cell_type": "code",
            "source": [
                "SELECT okt.nev\n",
                "FROM Oktatok okt\n",
                "LEFT JOIN Orak orak\n",
                "    ON okt.oktato_id = orak.tanar\n",
                "WHERE orak.tanar IS NULL\n",
                ""
            ],
            "metadata": {
                "azdata_cell_guid": "a9cc0926-3dbd-4ed8-8179-1c39d64a0762",
                "language": "sql"
            },
            "outputs": [
                {
                    "output_type": "display_data",
                    "data": {
                        "text/html": "(5 rows affected)"
                    },
                    "metadata": {}
                },
                {
                    "output_type": "display_data",
                    "data": {
                        "text/html": "Total execution time: 00:00:00.019"
                    },
                    "metadata": {}
                },
                {
                    "output_type": "execute_result",
                    "metadata": {},
                    "execution_count": 89,
                    "data": {
                        "application/vnd.dataresource+json": {
                            "schema": {
                                "fields": [
                                    {
                                        "name": "nev"
                                    }
                                ]
                            },
                            "data": [
                                {
                                    "nev": "Józsa Gábor"
                                },
                                {
                                    "nev": "Rácz András"
                                },
                                {
                                    "nev": "Kiss István"
                                },
                                {
                                    "nev": "Mészáros Kriszta"
                                },
                                {
                                    "nev": "Kovacs Istvan"
                                }
                            ]
                        },
                        "text/html": [
                            "<table>",
                            "<tr><th>nev</th></tr>",
                            "<tr><td>Józsa Gábor</td></tr>",
                            "<tr><td>Rácz András</td></tr>",
                            "<tr><td>Kiss István</td></tr>",
                            "<tr><td>Mészáros Kriszta</td></tr>",
                            "<tr><td>Kovacs Istvan</td></tr>",
                            "</table>"
                        ]
                    }
                }
            ],
            "execution_count": 89
        },
        {
            "cell_type": "markdown",
            "source": [
                "11. <span style=\"font-weight: 600; color: rgb(36, 41, 47); font-family: -apple-system, BlinkMacSystemFont, &quot;Segoe UI&quot;, Helvetica, Arial, sans-serif, &quot;Apple Color Emoji&quot;, &quot;Segoe UI Emoji&quot;; font-size: 16px;\">Készítsünk lekérdezést, amely részletesen megjeleníti az egyes órák fontosabb adatait, azaz</span>\n",
                "\n",
                "1. Az órák azonosítóit, a tanár nevét, a tantárgy nevét, a terem nevét és a kezdési időpontot!\n",
                "2. Az oszlopokat nevezzük el értelemszerűen!"
            ],
            "metadata": {
                "azdata_cell_guid": "d2340f5f-1614-473c-b937-85740d67f7c1"
            },
            "attachments": {}
        },
        {
            "cell_type": "code",
            "source": [
                "SELECT o.ora_id AS 'Óra ID'\n",
                "    , okt.nev AS 'Tanár neve'\n",
                "    , targy.tantárgynév AS 'Tárgy neve'\n",
                "    , t.terem AS 'Terem neve'\n",
                "    , s.időpont AS 'Időpont'\n",
                "FROM orak o\n",
                "JOIN oktatok okt\n",
                "    ON o.tanar = okt.oktato_id\n",
                "JOIN Tantárgyak targy\n",
                "    ON o.targy = targy.Tkód\n",
                "JOIN termek t\n",
                "    ON o.terem = t.Tkód\n",
                "JOIN savok s\n",
                "    ON o.sav = s.Sav_id\n",
                ""
            ],
            "metadata": {
                "azdata_cell_guid": "e99c2c53-898f-4787-b0e6-182d106dc16f",
                "language": "sql"
            },
            "outputs": [
                {
                    "output_type": "display_data",
                    "data": {
                        "text/html": "(67 rows affected)"
                    },
                    "metadata": {}
                },
                {
                    "output_type": "display_data",
                    "data": {
                        "text/html": "Total execution time: 00:00:00.037"
                    },
                    "metadata": {}
                },
                {
                    "output_type": "execute_result",
                    "metadata": {},
                    "execution_count": 92,
                    "data": {
                        "application/vnd.dataresource+json": {
                            "schema": {
                                "fields": [
                                    {
                                        "name": "Óra ID"
                                    },
                                    {
                                        "name": "Tanár neve"
                                    },
                                    {
                                        "name": "Tárgy neve"
                                    },
                                    {
                                        "name": "Terem neve"
                                    },
                                    {
                                        "name": "Időpont"
                                    }
                                ]
                            },
                            "data": [
                                {
                                    "Óra ID": "159",
                                    "Tanár neve": "Ujfalussi István",
                                    "Tárgy neve": "Az ürgeöntés alapjai",
                                    "Terem neve": "117",
                                    "Időpont": "8.00"
                                },
                                {
                                    "Óra ID": "160",
                                    "Tanár neve": "Pelikán József",
                                    "Tárgy neve": "Az ürgeöntés alapjai",
                                    "Terem neve": "118",
                                    "Időpont": "14.00"
                                },
                                {
                                    "Óra ID": "161",
                                    "Tanár neve": "Pelikán József",
                                    "Tárgy neve": "Az ürgeöntés alapjai",
                                    "Terem neve": "118",
                                    "Időpont": "9.30"
                                },
                                {
                                    "Óra ID": "162",
                                    "Tanár neve": "Kovács András",
                                    "Tárgy neve": "Az ürgeöntés alapjai",
                                    "Terem neve": "119",
                                    "Időpont": "12.30"
                                },
                                {
                                    "Óra ID": "163",
                                    "Tanár neve": "Szerb László",
                                    "Tárgy neve": "Az ürgeöntés alapjai",
                                    "Terem neve": "120",
                                    "Időpont": "9.30"
                                },
                                {
                                    "Óra ID": "164",
                                    "Tanár neve": "Kiss János",
                                    "Tárgy neve": "Az ürgeöntés alapjai",
                                    "Terem neve": "119",
                                    "Időpont": "11.00"
                                },
                                {
                                    "Óra ID": "165",
                                    "Tanár neve": "Szerb László",
                                    "Tárgy neve": "Az ürgeöntés alapjai",
                                    "Terem neve": "119",
                                    "Időpont": "11.00"
                                },
                                {
                                    "Óra ID": "166",
                                    "Tanár neve": "Szerb László",
                                    "Tárgy neve": "Az ürgeöntés alapjai",
                                    "Terem neve": "119",
                                    "Időpont": "12.30"
                                },
                                {
                                    "Óra ID": "167",
                                    "Tanár neve": "Szentágotai Istvás",
                                    "Tárgy neve": "Az ürgeöntés alapjai",
                                    "Terem neve": "120",
                                    "Időpont": "12.30"
                                },
                                {
                                    "Óra ID": "168",
                                    "Tanár neve": "Ujfalussi István",
                                    "Tárgy neve": "Az ürgeöntés alapjai",
                                    "Terem neve": "217",
                                    "Időpont": "11.00"
                                },
                                {
                                    "Óra ID": "169",
                                    "Tanár neve": "Kovács András",
                                    "Tárgy neve": "Az ürgeöntés alapjai",
                                    "Terem neve": "218",
                                    "Időpont": "9.30"
                                },
                                {
                                    "Óra ID": "170",
                                    "Tanár neve": "Ludas Mátyás",
                                    "Tárgy neve": "Az ürgeöntés alapjai",
                                    "Terem neve": "120",
                                    "Időpont": "9.30"
                                },
                                {
                                    "Óra ID": "171",
                                    "Tanár neve": "Szénási ászló",
                                    "Tárgy neve": "Az ürgeöntés alapjai",
                                    "Terem neve": "220",
                                    "Időpont": "9.30"
                                },
                                {
                                    "Óra ID": "172",
                                    "Tanár neve": "Kiss János",
                                    "Tárgy neve": "Az ürgeöntés alapjai",
                                    "Terem neve": "119",
                                    "Időpont": "9.30"
                                },
                                {
                                    "Óra ID": "173",
                                    "Tanár neve": "Kovács András",
                                    "Tárgy neve": "Az ürgeöntés alapjai",
                                    "Terem neve": "119",
                                    "Időpont": "11.00"
                                },
                                {
                                    "Óra ID": "174",
                                    "Tanár neve": "Ludas Mátyás",
                                    "Tárgy neve": "Az ürgeöntés alapjai",
                                    "Terem neve": "219",
                                    "Időpont": "11.00"
                                },
                                {
                                    "Óra ID": "175",
                                    "Tanár neve": "Szénási ászló",
                                    "Tárgy neve": "Az ürgeöntés alapjai",
                                    "Terem neve": "120",
                                    "Időpont": "12.30"
                                },
                                {
                                    "Óra ID": "176",
                                    "Tanár neve": "Kovács András",
                                    "Tárgy neve": "Az ürgeöntés alapjai",
                                    "Terem neve": "118",
                                    "Időpont": "12.30"
                                },
                                {
                                    "Óra ID": "177",
                                    "Tanár neve": "Szentágotai Istvás",
                                    "Tárgy neve": "Az ürgeöntés alapjai",
                                    "Terem neve": "119",
                                    "Időpont": "14.00"
                                },
                                {
                                    "Óra ID": "178",
                                    "Tanár neve": "Vitéz János",
                                    "Tárgy neve": "Az ürgeöntés alapjai",
                                    "Terem neve": "220",
                                    "Időpont": "14.00"
                                },
                                {
                                    "Óra ID": "179",
                                    "Tanár neve": "Szentágotai Istvás",
                                    "Tárgy neve": "Az ürgeöntés alapjai",
                                    "Terem neve": "120",
                                    "Időpont": "15.30"
                                },
                                {
                                    "Óra ID": "180",
                                    "Tanár neve": "Vitéz János",
                                    "Tárgy neve": "Az ürgeöntés alapjai",
                                    "Terem neve": "119",
                                    "Időpont": "15.30"
                                },
                                {
                                    "Óra ID": "181",
                                    "Tanár neve": "Szentágotai Istvás",
                                    "Tárgy neve": "Az ürgeöntés alapjai",
                                    "Terem neve": "118",
                                    "Időpont": "8.00"
                                },
                                {
                                    "Óra ID": "182",
                                    "Tanár neve": "Vitéz János",
                                    "Tárgy neve": "Az ürgeöntés alapjai",
                                    "Terem neve": "219",
                                    "Időpont": "8.00"
                                },
                                {
                                    "Óra ID": "183",
                                    "Tanár neve": "Szentágotai Istvás",
                                    "Tárgy neve": "Az ürgeöntés alapjai",
                                    "Terem neve": "220",
                                    "Időpont": "9.30"
                                },
                                {
                                    "Óra ID": "184",
                                    "Tanár neve": "Vitéz János",
                                    "Tárgy neve": "Az ürgeöntés alapjai",
                                    "Terem neve": "218",
                                    "Időpont": "9.30"
                                },
                                {
                                    "Óra ID": "185",
                                    "Tanár neve": "Szentágotai Istvás",
                                    "Tárgy neve": "Az ürgeöntés alapjai",
                                    "Terem neve": "120",
                                    "Időpont": "11.00"
                                },
                                {
                                    "Óra ID": "186",
                                    "Tanár neve": "Nógrádi Kata",
                                    "Tárgy neve": "ü-business",
                                    "Terem neve": "219",
                                    "Időpont": "12.30"
                                },
                                {
                                    "Óra ID": "187",
                                    "Tanár neve": "Balkán András",
                                    "Tárgy neve": "Bevezetés az ürgeöntésbe",
                                    "Terem neve": "217",
                                    "Időpont": "9.30"
                                },
                                {
                                    "Óra ID": "188",
                                    "Tanár neve": "Farkasos Piroska",
                                    "Tárgy neve": "Bevezetés az ürgeöntésbe",
                                    "Terem neve": "VP 203.",
                                    "Időpont": "15.30"
                                },
                                {
                                    "Óra ID": "189",
                                    "Tanár neve": "Farkasos Piroska",
                                    "Tárgy neve": "Bevezetés az ürgeöntésbe",
                                    "Terem neve": "VP 203.",
                                    "Időpont": "9.30"
                                },
                                {
                                    "Óra ID": "190",
                                    "Tanár neve": "Farkasos Piroska",
                                    "Tárgy neve": "Bevezetés az ürgeöntésbe",
                                    "Terem neve": "E.2.238",
                                    "Időpont": "11.00"
                                },
                                {
                                    "Óra ID": "191",
                                    "Tanár neve": "Varga Kata",
                                    "Tárgy neve": "Az ürgeöntés hydrológiai alapjai II.",
                                    "Terem neve": "220",
                                    "Időpont": "14.00"
                                },
                                {
                                    "Óra ID": "192",
                                    "Tanár neve": "Varga Kata",
                                    "Tárgy neve": "Az ürgeöntés hydrológiai alapjai II.",
                                    "Terem neve": "119",
                                    "Időpont": "15.30"
                                },
                                {
                                    "Óra ID": "193",
                                    "Tanár neve": "Farkasos Piroska",
                                    "Tárgy neve": "Az ürgeöntés hydrológiai alapjai II.",
                                    "Terem neve": "217",
                                    "Időpont": "14.00"
                                },
                                {
                                    "Óra ID": "194",
                                    "Tanár neve": "Farkasos Piroska",
                                    "Tárgy neve": "Az ürgeöntés hydrológiai alapjai II.",
                                    "Terem neve": "E.fsz.I",
                                    "Időpont": "15.30"
                                },
                                {
                                    "Óra ID": "195",
                                    "Tanár neve": "Balkán András",
                                    "Tárgy neve": "Az ürgeöntés hydrológiai alapjai II.",
                                    "Terem neve": "116",
                                    "Időpont": "14.00"
                                },
                                {
                                    "Óra ID": "196",
                                    "Tanár neve": "Balkán András",
                                    "Tárgy neve": "Az ürgeöntés hydrológiai alapjai II.",
                                    "Terem neve": "218",
                                    "Időpont": "15.30"
                                },
                                {
                                    "Óra ID": "197",
                                    "Tanár neve": "Farkasos Piroska",
                                    "Tárgy neve": "Az ürgeöntés hydrológiai alapjai II.",
                                    "Terem neve": "116",
                                    "Időpont": "8.00"
                                },
                                {
                                    "Óra ID": "198",
                                    "Tanár neve": "Farkasos Piroska",
                                    "Tárgy neve": "Az ürgeöntés hydrológiai alapjai II.",
                                    "Terem neve": "119",
                                    "Időpont": "9.30"
                                },
                                {
                                    "Óra ID": "199",
                                    "Tanár neve": "Szabó Andrera",
                                    "Tárgy neve": "Az ürgeöntés hydrológiai alapjai II.",
                                    "Terem neve": "218",
                                    "Időpont": "8.00"
                                },
                                {
                                    "Óra ID": "200",
                                    "Tanár neve": "Szabó Andrera",
                                    "Tárgy neve": "Az ürgeöntés hydrológiai alapjai II.",
                                    "Terem neve": "220",
                                    "Időpont": "9.30"
                                },
                                {
                                    "Óra ID": "201",
                                    "Tanár neve": "Juhász András",
                                    "Tárgy neve": "Öntési gyakorlat",
                                    "Terem neve": "E.2.238",
                                    "Időpont": "12.30"
                                },
                                {
                                    "Óra ID": "202",
                                    "Tanár neve": "Juhász András",
                                    "Tárgy neve": "Öntési gyakorlat",
                                    "Terem neve": "E.3.332",
                                    "Időpont": "14.00"
                                },
                                {
                                    "Óra ID": "203",
                                    "Tanár neve": "Aranyi Mária",
                                    "Tárgy neve": "Az ürgeöntés hydrológiai alapjai I.",
                                    "Terem neve": "S.Asor.S3",
                                    "Időpont": "12.30"
                                },
                                {
                                    "Óra ID": "204",
                                    "Tanár neve": "Róbert Gida",
                                    "Tárgy neve": "Az ürgeöntés hydrológiai alapjai I.",
                                    "Terem neve": "120",
                                    "Időpont": "14.00"
                                },
                                {
                                    "Óra ID": "205",
                                    "Tanár neve": "Ujfalussi István",
                                    "Tárgy neve": "Az öntés elmélete",
                                    "Terem neve": "220",
                                    "Időpont": "12.30"
                                },
                                {
                                    "Óra ID": "206",
                                    "Tanár neve": "Varga Kata",
                                    "Tárgy neve": "Az öntés elmélete",
                                    "Terem neve": "S.Asor.S3",
                                    "Időpont": "8.00"
                                },
                                {
                                    "Óra ID": "207",
                                    "Tanár neve": "Varga Kata",
                                    "Tárgy neve": "Az öntés elmélete",
                                    "Terem neve": "219",
                                    "Időpont": "12.30"
                                },
                                {
                                    "Óra ID": "208",
                                    "Tanár neve": "Jogrerős Pál",
                                    "Tárgy neve": "Ürgevitel",
                                    "Terem neve": "VP 203.",
                                    "Időpont": "8.00"
                                },
                                {
                                    "Óra ID": "209",
                                    "Tanár neve": "Jogrerős Pál",
                                    "Tárgy neve": "Ürgevitel",
                                    "Terem neve": "VP 203.",
                                    "Időpont": "9.30"
                                },
                                {
                                    "Óra ID": "210",
                                    "Tanár neve": "Szép llonka",
                                    "Tárgy neve": "Ürgeöntés az EU-ban",
                                    "Terem neve": "E.2.238",
                                    "Időpont": "15.30"
                                },
                                {
                                    "Óra ID": "211",
                                    "Tanár neve": "Szép llonka",
                                    "Tárgy neve": "Ürgeöntés az EU-ban",
                                    "Terem neve": "217",
                                    "Időpont": "17.00"
                                },
                                {
                                    "Óra ID": "212",
                                    "Tanár neve": "Kiss János",
                                    "Tárgy neve": "Ürgeöntés az EU-ban",
                                    "Terem neve": "120",
                                    "Időpont": "18.30"
                                },
                                {
                                    "Óra ID": "213",
                                    "Tanár neve": "Kiss János",
                                    "Tárgy neve": "Ürgeöntés az EU-ban",
                                    "Terem neve": "218",
                                    "Időpont": "20.00"
                                },
                                {
                                    "Óra ID": "214",
                                    "Tanár neve": "Pelikán József",
                                    "Tárgy neve": "Az ürge anatómiája",
                                    "Terem neve": "219",
                                    "Időpont": "11.00"
                                },
                                {
                                    "Óra ID": "215",
                                    "Tanár neve": "Pelikán József",
                                    "Tárgy neve": "Az ürge anatómiája",
                                    "Terem neve": "E.fsz.IV.",
                                    "Időpont": "12.30"
                                },
                                {
                                    "Óra ID": "216",
                                    "Tanár neve": "Szép llonka",
                                    "Tárgy neve": "Az ürge anatómiája",
                                    "Terem neve": "218",
                                    "Időpont": "11.00"
                                },
                                {
                                    "Óra ID": "217",
                                    "Tanár neve": "Szép llonka",
                                    "Tárgy neve": "Az ürge anatómiája",
                                    "Terem neve": "217",
                                    "Időpont": "12.30"
                                },
                                {
                                    "Óra ID": "218",
                                    "Tanár neve": "Pelikán József",
                                    "Tárgy neve": "Az ürge anatómiája",
                                    "Terem neve": "118",
                                    "Időpont": "15.30"
                                },
                                {
                                    "Óra ID": "219",
                                    "Tanár neve": "Pelikán József",
                                    "Tárgy neve": "Az ürge anatómiája",
                                    "Terem neve": "219",
                                    "Időpont": "17.00"
                                },
                                {
                                    "Óra ID": "220",
                                    "Tanár neve": "Kovács László",
                                    "Tárgy neve": "Fejezetek az ürgék jogaiból",
                                    "Terem neve": "119",
                                    "Időpont": "11.00"
                                },
                                {
                                    "Óra ID": "221",
                                    "Tanár neve": "Kovács László",
                                    "Tárgy neve": "Fejezetek az ürgék jogaiból",
                                    "Terem neve": "VP 203.",
                                    "Időpont": "11.00"
                                },
                                {
                                    "Óra ID": "222",
                                    "Tanár neve": "Kovács László",
                                    "Tárgy neve": "Fejezetek az ürgék jogaiból",
                                    "Terem neve": "116",
                                    "Időpont": "14.00"
                                },
                                {
                                    "Óra ID": "223",
                                    "Tanár neve": "Kovács László",
                                    "Tárgy neve": "Fejezetek az ürgék jogaiból",
                                    "Terem neve": "S.Asor.S3",
                                    "Időpont": "8.00"
                                },
                                {
                                    "Óra ID": "226",
                                    "Tanár neve": "Szentágotai Istvás",
                                    "Tárgy neve": "ürgefőzés",
                                    "Terem neve": "117",
                                    "Időpont": "11.00"
                                },
                                {
                                    "Óra ID": "227",
                                    "Tanár neve": "Szentágotai Istvás",
                                    "Tárgy neve": "Az ürgeöntés hydrológiai alapjai I.",
                                    "Terem neve": "116",
                                    "Időpont": "14.00"
                                }
                            ]
                        },
                        "text/html": [
                            "<table>",
                            "<tr><th>Óra ID</th><th>Tanár neve</th><th>Tárgy neve</th><th>Terem neve</th><th>Időpont</th></tr>",
                            "<tr><td>159</td><td>Ujfalussi István</td><td>Az ürgeöntés alapjai</td><td>117</td><td>8.00</td></tr>",
                            "<tr><td>160</td><td>Pelikán József</td><td>Az ürgeöntés alapjai</td><td>118</td><td>14.00</td></tr>",
                            "<tr><td>161</td><td>Pelikán József</td><td>Az ürgeöntés alapjai</td><td>118</td><td>9.30</td></tr>",
                            "<tr><td>162</td><td>Kovács András</td><td>Az ürgeöntés alapjai</td><td>119</td><td>12.30</td></tr>",
                            "<tr><td>163</td><td>Szerb László</td><td>Az ürgeöntés alapjai</td><td>120</td><td>9.30</td></tr>",
                            "<tr><td>164</td><td>Kiss János</td><td>Az ürgeöntés alapjai</td><td>119</td><td>11.00</td></tr>",
                            "<tr><td>165</td><td>Szerb László</td><td>Az ürgeöntés alapjai</td><td>119</td><td>11.00</td></tr>",
                            "<tr><td>166</td><td>Szerb László</td><td>Az ürgeöntés alapjai</td><td>119</td><td>12.30</td></tr>",
                            "<tr><td>167</td><td>Szentágotai Istvás</td><td>Az ürgeöntés alapjai</td><td>120</td><td>12.30</td></tr>",
                            "<tr><td>168</td><td>Ujfalussi István</td><td>Az ürgeöntés alapjai</td><td>217</td><td>11.00</td></tr>",
                            "<tr><td>169</td><td>Kovács András</td><td>Az ürgeöntés alapjai</td><td>218</td><td>9.30</td></tr>",
                            "<tr><td>170</td><td>Ludas Mátyás</td><td>Az ürgeöntés alapjai</td><td>120</td><td>9.30</td></tr>",
                            "<tr><td>171</td><td>Szénási ászló</td><td>Az ürgeöntés alapjai</td><td>220</td><td>9.30</td></tr>",
                            "<tr><td>172</td><td>Kiss János</td><td>Az ürgeöntés alapjai</td><td>119</td><td>9.30</td></tr>",
                            "<tr><td>173</td><td>Kovács András</td><td>Az ürgeöntés alapjai</td><td>119</td><td>11.00</td></tr>",
                            "<tr><td>174</td><td>Ludas Mátyás</td><td>Az ürgeöntés alapjai</td><td>219</td><td>11.00</td></tr>",
                            "<tr><td>175</td><td>Szénási ászló</td><td>Az ürgeöntés alapjai</td><td>120</td><td>12.30</td></tr>",
                            "<tr><td>176</td><td>Kovács András</td><td>Az ürgeöntés alapjai</td><td>118</td><td>12.30</td></tr>",
                            "<tr><td>177</td><td>Szentágotai Istvás</td><td>Az ürgeöntés alapjai</td><td>119</td><td>14.00</td></tr>",
                            "<tr><td>178</td><td>Vitéz János</td><td>Az ürgeöntés alapjai</td><td>220</td><td>14.00</td></tr>",
                            "<tr><td>179</td><td>Szentágotai Istvás</td><td>Az ürgeöntés alapjai</td><td>120</td><td>15.30</td></tr>",
                            "<tr><td>180</td><td>Vitéz János</td><td>Az ürgeöntés alapjai</td><td>119</td><td>15.30</td></tr>",
                            "<tr><td>181</td><td>Szentágotai Istvás</td><td>Az ürgeöntés alapjai</td><td>118</td><td>8.00</td></tr>",
                            "<tr><td>182</td><td>Vitéz János</td><td>Az ürgeöntés alapjai</td><td>219</td><td>8.00</td></tr>",
                            "<tr><td>183</td><td>Szentágotai Istvás</td><td>Az ürgeöntés alapjai</td><td>220</td><td>9.30</td></tr>",
                            "<tr><td>184</td><td>Vitéz János</td><td>Az ürgeöntés alapjai</td><td>218</td><td>9.30</td></tr>",
                            "<tr><td>185</td><td>Szentágotai Istvás</td><td>Az ürgeöntés alapjai</td><td>120</td><td>11.00</td></tr>",
                            "<tr><td>186</td><td>Nógrádi Kata</td><td>ü-business</td><td>219</td><td>12.30</td></tr>",
                            "<tr><td>187</td><td>Balkán András</td><td>Bevezetés az ürgeöntésbe</td><td>217</td><td>9.30</td></tr>",
                            "<tr><td>188</td><td>Farkasos Piroska</td><td>Bevezetés az ürgeöntésbe</td><td>VP 203.</td><td>15.30</td></tr>",
                            "<tr><td>189</td><td>Farkasos Piroska</td><td>Bevezetés az ürgeöntésbe</td><td>VP 203.</td><td>9.30</td></tr>",
                            "<tr><td>190</td><td>Farkasos Piroska</td><td>Bevezetés az ürgeöntésbe</td><td>E.2.238</td><td>11.00</td></tr>",
                            "<tr><td>191</td><td>Varga Kata</td><td>Az ürgeöntés hydrológiai alapjai II.</td><td>220</td><td>14.00</td></tr>",
                            "<tr><td>192</td><td>Varga Kata</td><td>Az ürgeöntés hydrológiai alapjai II.</td><td>119</td><td>15.30</td></tr>",
                            "<tr><td>193</td><td>Farkasos Piroska</td><td>Az ürgeöntés hydrológiai alapjai II.</td><td>217</td><td>14.00</td></tr>",
                            "<tr><td>194</td><td>Farkasos Piroska</td><td>Az ürgeöntés hydrológiai alapjai II.</td><td>E.fsz.I</td><td>15.30</td></tr>",
                            "<tr><td>195</td><td>Balkán András</td><td>Az ürgeöntés hydrológiai alapjai II.</td><td>116</td><td>14.00</td></tr>",
                            "<tr><td>196</td><td>Balkán András</td><td>Az ürgeöntés hydrológiai alapjai II.</td><td>218</td><td>15.30</td></tr>",
                            "<tr><td>197</td><td>Farkasos Piroska</td><td>Az ürgeöntés hydrológiai alapjai II.</td><td>116</td><td>8.00</td></tr>",
                            "<tr><td>198</td><td>Farkasos Piroska</td><td>Az ürgeöntés hydrológiai alapjai II.</td><td>119</td><td>9.30</td></tr>",
                            "<tr><td>199</td><td>Szabó Andrera</td><td>Az ürgeöntés hydrológiai alapjai II.</td><td>218</td><td>8.00</td></tr>",
                            "<tr><td>200</td><td>Szabó Andrera</td><td>Az ürgeöntés hydrológiai alapjai II.</td><td>220</td><td>9.30</td></tr>",
                            "<tr><td>201</td><td>Juhász András</td><td>Öntési gyakorlat</td><td>E.2.238</td><td>12.30</td></tr>",
                            "<tr><td>202</td><td>Juhász András</td><td>Öntési gyakorlat</td><td>E.3.332</td><td>14.00</td></tr>",
                            "<tr><td>203</td><td>Aranyi Mária</td><td>Az ürgeöntés hydrológiai alapjai I.</td><td>S.Asor.S3</td><td>12.30</td></tr>",
                            "<tr><td>204</td><td>Róbert Gida</td><td>Az ürgeöntés hydrológiai alapjai I.</td><td>120</td><td>14.00</td></tr>",
                            "<tr><td>205</td><td>Ujfalussi István</td><td>Az öntés elmélete</td><td>220</td><td>12.30</td></tr>",
                            "<tr><td>206</td><td>Varga Kata</td><td>Az öntés elmélete</td><td>S.Asor.S3</td><td>8.00</td></tr>",
                            "<tr><td>207</td><td>Varga Kata</td><td>Az öntés elmélete</td><td>219</td><td>12.30</td></tr>",
                            "<tr><td>208</td><td>Jogrerős Pál</td><td>Ürgevitel</td><td>VP 203.</td><td>8.00</td></tr>",
                            "<tr><td>209</td><td>Jogrerős Pál</td><td>Ürgevitel</td><td>VP 203.</td><td>9.30</td></tr>",
                            "<tr><td>210</td><td>Szép llonka</td><td>Ürgeöntés az EU-ban</td><td>E.2.238</td><td>15.30</td></tr>",
                            "<tr><td>211</td><td>Szép llonka</td><td>Ürgeöntés az EU-ban</td><td>217</td><td>17.00</td></tr>",
                            "<tr><td>212</td><td>Kiss János</td><td>Ürgeöntés az EU-ban</td><td>120</td><td>18.30</td></tr>",
                            "<tr><td>213</td><td>Kiss János</td><td>Ürgeöntés az EU-ban</td><td>218</td><td>20.00</td></tr>",
                            "<tr><td>214</td><td>Pelikán József</td><td>Az ürge anatómiája</td><td>219</td><td>11.00</td></tr>",
                            "<tr><td>215</td><td>Pelikán József</td><td>Az ürge anatómiája</td><td>E.fsz.IV.</td><td>12.30</td></tr>",
                            "<tr><td>216</td><td>Szép llonka</td><td>Az ürge anatómiája</td><td>218</td><td>11.00</td></tr>",
                            "<tr><td>217</td><td>Szép llonka</td><td>Az ürge anatómiája</td><td>217</td><td>12.30</td></tr>",
                            "<tr><td>218</td><td>Pelikán József</td><td>Az ürge anatómiája</td><td>118</td><td>15.30</td></tr>",
                            "<tr><td>219</td><td>Pelikán József</td><td>Az ürge anatómiája</td><td>219</td><td>17.00</td></tr>",
                            "<tr><td>220</td><td>Kovács László</td><td>Fejezetek az ürgék jogaiból</td><td>119</td><td>11.00</td></tr>",
                            "<tr><td>221</td><td>Kovács László</td><td>Fejezetek az ürgék jogaiból</td><td>VP 203.</td><td>11.00</td></tr>",
                            "<tr><td>222</td><td>Kovács László</td><td>Fejezetek az ürgék jogaiból</td><td>116</td><td>14.00</td></tr>",
                            "<tr><td>223</td><td>Kovács László</td><td>Fejezetek az ürgék jogaiból</td><td>S.Asor.S3</td><td>8.00</td></tr>",
                            "<tr><td>226</td><td>Szentágotai Istvás</td><td>ürgefőzés</td><td>117</td><td>11.00</td></tr>",
                            "<tr><td>227</td><td>Szentágotai Istvás</td><td>Az ürgeöntés hydrológiai alapjai I.</td><td>116</td><td>14.00</td></tr>",
                            "</table>"
                        ]
                    }
                }
            ],
            "execution_count": 92
        },
        {
            "cell_type": "markdown",
            "source": [
                "12. <span style=\"color: rgb(36, 41, 47); font-family: -apple-system, BlinkMacSystemFont, &quot;Segoe UI&quot;, Helvetica, Arial, sans-serif, &quot;Apple Color Emoji&quot;, &quot;Segoe UI Emoji&quot;; font-size: 16px;\">Készítsünk listát, amely tartalmazza az egyes órák azonosítóit, és az órán oktatott tantárgy felelősének nevét!</span>\n",
                "\n",
                "1. Rendezzük a listát a tantárgyfelelős neve szerint csökkenő sorrendbe!"
            ],
            "metadata": {
                "azdata_cell_guid": "a765e9d6-58b3-4171-872a-78f3118fd6e3"
            },
            "attachments": {}
        },
        {
            "cell_type": "code",
            "source": [
                "SELECT o.ora_id AS 'Óra ID'\n",
                "    , okt.nev AS 'Tárgyfelelős'\n",
                "FROM orak o\n",
                "JOIN tantárgyak targy\n",
                "    ON o.targy = targy.tkód\n",
                "JOIN oktatok okt\n",
                "    ON okt.oktato_id = targy.Tantárgyfelelős\n",
                "ORDER BY okt.nev DESC\n",
                ""
            ],
            "metadata": {
                "azdata_cell_guid": "422e8127-b652-4d3a-bfd7-9b1637b5781e",
                "language": "sql"
            },
            "outputs": [
                {
                    "output_type": "display_data",
                    "data": {
                        "text/html": "(67 rows affected)"
                    },
                    "metadata": {}
                },
                {
                    "output_type": "display_data",
                    "data": {
                        "text/html": "Total execution time: 00:00:00.021"
                    },
                    "metadata": {}
                },
                {
                    "output_type": "execute_result",
                    "metadata": {},
                    "execution_count": 98,
                    "data": {
                        "application/vnd.dataresource+json": {
                            "schema": {
                                "fields": [
                                    {
                                        "name": "Óra ID"
                                    },
                                    {
                                        "name": "Tárgyfelelős"
                                    }
                                ]
                            },
                            "data": [
                                {
                                    "Óra ID": "203",
                                    "Tárgyfelelős": "Ujfalussi István"
                                },
                                {
                                    "Óra ID": "204",
                                    "Tárgyfelelős": "Ujfalussi István"
                                },
                                {
                                    "Óra ID": "227",
                                    "Tárgyfelelős": "Ujfalussi István"
                                },
                                {
                                    "Óra ID": "210",
                                    "Tárgyfelelős": "Pelikán József"
                                },
                                {
                                    "Óra ID": "211",
                                    "Tárgyfelelős": "Pelikán József"
                                },
                                {
                                    "Óra ID": "212",
                                    "Tárgyfelelős": "Pelikán József"
                                },
                                {
                                    "Óra ID": "213",
                                    "Tárgyfelelős": "Pelikán József"
                                },
                                {
                                    "Óra ID": "214",
                                    "Tárgyfelelős": "Pelikán József"
                                },
                                {
                                    "Óra ID": "215",
                                    "Tárgyfelelős": "Pelikán József"
                                },
                                {
                                    "Óra ID": "216",
                                    "Tárgyfelelős": "Pelikán József"
                                },
                                {
                                    "Óra ID": "217",
                                    "Tárgyfelelős": "Pelikán József"
                                },
                                {
                                    "Óra ID": "218",
                                    "Tárgyfelelős": "Pelikán József"
                                },
                                {
                                    "Óra ID": "219",
                                    "Tárgyfelelős": "Pelikán József"
                                },
                                {
                                    "Óra ID": "201",
                                    "Tárgyfelelős": "Pelikán József"
                                },
                                {
                                    "Óra ID": "202",
                                    "Tárgyfelelős": "Pelikán József"
                                },
                                {
                                    "Óra ID": "205",
                                    "Tárgyfelelős": "Kovács László"
                                },
                                {
                                    "Óra ID": "206",
                                    "Tárgyfelelős": "Kovács László"
                                },
                                {
                                    "Óra ID": "207",
                                    "Tárgyfelelős": "Kovács László"
                                },
                                {
                                    "Óra ID": "226",
                                    "Tárgyfelelős": "Kovács László"
                                },
                                {
                                    "Óra ID": "186",
                                    "Tárgyfelelős": "Kovács László"
                                },
                                {
                                    "Óra ID": "220",
                                    "Tárgyfelelős": "Kovács László"
                                },
                                {
                                    "Óra ID": "221",
                                    "Tárgyfelelős": "Kovács László"
                                },
                                {
                                    "Óra ID": "222",
                                    "Tárgyfelelős": "Kovács László"
                                },
                                {
                                    "Óra ID": "223",
                                    "Tárgyfelelős": "Kovács László"
                                },
                                {
                                    "Óra ID": "208",
                                    "Tárgyfelelős": "Jogrerős Pál"
                                },
                                {
                                    "Óra ID": "209",
                                    "Tárgyfelelős": "Jogrerős Pál"
                                },
                                {
                                    "Óra ID": "191",
                                    "Tárgyfelelős": "Balkán András"
                                },
                                {
                                    "Óra ID": "192",
                                    "Tárgyfelelős": "Balkán András"
                                },
                                {
                                    "Óra ID": "193",
                                    "Tárgyfelelős": "Balkán András"
                                },
                                {
                                    "Óra ID": "194",
                                    "Tárgyfelelős": "Balkán András"
                                },
                                {
                                    "Óra ID": "195",
                                    "Tárgyfelelős": "Balkán András"
                                },
                                {
                                    "Óra ID": "196",
                                    "Tárgyfelelős": "Balkán András"
                                },
                                {
                                    "Óra ID": "197",
                                    "Tárgyfelelős": "Balkán András"
                                },
                                {
                                    "Óra ID": "198",
                                    "Tárgyfelelős": "Balkán András"
                                },
                                {
                                    "Óra ID": "199",
                                    "Tárgyfelelős": "Balkán András"
                                },
                                {
                                    "Óra ID": "200",
                                    "Tárgyfelelős": "Balkán András"
                                },
                                {
                                    "Óra ID": "159",
                                    "Tárgyfelelős": "Balkán András"
                                },
                                {
                                    "Óra ID": "160",
                                    "Tárgyfelelős": "Balkán András"
                                },
                                {
                                    "Óra ID": "161",
                                    "Tárgyfelelős": "Balkán András"
                                },
                                {
                                    "Óra ID": "162",
                                    "Tárgyfelelős": "Balkán András"
                                },
                                {
                                    "Óra ID": "163",
                                    "Tárgyfelelős": "Balkán András"
                                },
                                {
                                    "Óra ID": "164",
                                    "Tárgyfelelős": "Balkán András"
                                },
                                {
                                    "Óra ID": "165",
                                    "Tárgyfelelős": "Balkán András"
                                },
                                {
                                    "Óra ID": "166",
                                    "Tárgyfelelős": "Balkán András"
                                },
                                {
                                    "Óra ID": "167",
                                    "Tárgyfelelős": "Balkán András"
                                },
                                {
                                    "Óra ID": "168",
                                    "Tárgyfelelős": "Balkán András"
                                },
                                {
                                    "Óra ID": "169",
                                    "Tárgyfelelős": "Balkán András"
                                },
                                {
                                    "Óra ID": "170",
                                    "Tárgyfelelős": "Balkán András"
                                },
                                {
                                    "Óra ID": "171",
                                    "Tárgyfelelős": "Balkán András"
                                },
                                {
                                    "Óra ID": "172",
                                    "Tárgyfelelős": "Balkán András"
                                },
                                {
                                    "Óra ID": "173",
                                    "Tárgyfelelős": "Balkán András"
                                },
                                {
                                    "Óra ID": "174",
                                    "Tárgyfelelős": "Balkán András"
                                },
                                {
                                    "Óra ID": "175",
                                    "Tárgyfelelős": "Balkán András"
                                },
                                {
                                    "Óra ID": "176",
                                    "Tárgyfelelős": "Balkán András"
                                },
                                {
                                    "Óra ID": "177",
                                    "Tárgyfelelős": "Balkán András"
                                },
                                {
                                    "Óra ID": "178",
                                    "Tárgyfelelős": "Balkán András"
                                },
                                {
                                    "Óra ID": "179",
                                    "Tárgyfelelős": "Balkán András"
                                },
                                {
                                    "Óra ID": "180",
                                    "Tárgyfelelős": "Balkán András"
                                },
                                {
                                    "Óra ID": "181",
                                    "Tárgyfelelős": "Balkán András"
                                },
                                {
                                    "Óra ID": "182",
                                    "Tárgyfelelős": "Balkán András"
                                },
                                {
                                    "Óra ID": "183",
                                    "Tárgyfelelős": "Balkán András"
                                },
                                {
                                    "Óra ID": "184",
                                    "Tárgyfelelős": "Balkán András"
                                },
                                {
                                    "Óra ID": "185",
                                    "Tárgyfelelős": "Balkán András"
                                },
                                {
                                    "Óra ID": "187",
                                    "Tárgyfelelős": "Balkán András"
                                },
                                {
                                    "Óra ID": "188",
                                    "Tárgyfelelős": "Balkán András"
                                },
                                {
                                    "Óra ID": "189",
                                    "Tárgyfelelős": "Balkán András"
                                },
                                {
                                    "Óra ID": "190",
                                    "Tárgyfelelős": "Balkán András"
                                }
                            ]
                        },
                        "text/html": [
                            "<table>",
                            "<tr><th>Óra ID</th><th>Tárgyfelelős</th></tr>",
                            "<tr><td>203</td><td>Ujfalussi István</td></tr>",
                            "<tr><td>204</td><td>Ujfalussi István</td></tr>",
                            "<tr><td>227</td><td>Ujfalussi István</td></tr>",
                            "<tr><td>210</td><td>Pelikán József</td></tr>",
                            "<tr><td>211</td><td>Pelikán József</td></tr>",
                            "<tr><td>212</td><td>Pelikán József</td></tr>",
                            "<tr><td>213</td><td>Pelikán József</td></tr>",
                            "<tr><td>214</td><td>Pelikán József</td></tr>",
                            "<tr><td>215</td><td>Pelikán József</td></tr>",
                            "<tr><td>216</td><td>Pelikán József</td></tr>",
                            "<tr><td>217</td><td>Pelikán József</td></tr>",
                            "<tr><td>218</td><td>Pelikán József</td></tr>",
                            "<tr><td>219</td><td>Pelikán József</td></tr>",
                            "<tr><td>201</td><td>Pelikán József</td></tr>",
                            "<tr><td>202</td><td>Pelikán József</td></tr>",
                            "<tr><td>205</td><td>Kovács László</td></tr>",
                            "<tr><td>206</td><td>Kovács László</td></tr>",
                            "<tr><td>207</td><td>Kovács László</td></tr>",
                            "<tr><td>226</td><td>Kovács László</td></tr>",
                            "<tr><td>186</td><td>Kovács László</td></tr>",
                            "<tr><td>220</td><td>Kovács László</td></tr>",
                            "<tr><td>221</td><td>Kovács László</td></tr>",
                            "<tr><td>222</td><td>Kovács László</td></tr>",
                            "<tr><td>223</td><td>Kovács László</td></tr>",
                            "<tr><td>208</td><td>Jogrerős Pál</td></tr>",
                            "<tr><td>209</td><td>Jogrerős Pál</td></tr>",
                            "<tr><td>191</td><td>Balkán András</td></tr>",
                            "<tr><td>192</td><td>Balkán András</td></tr>",
                            "<tr><td>193</td><td>Balkán András</td></tr>",
                            "<tr><td>194</td><td>Balkán András</td></tr>",
                            "<tr><td>195</td><td>Balkán András</td></tr>",
                            "<tr><td>196</td><td>Balkán András</td></tr>",
                            "<tr><td>197</td><td>Balkán András</td></tr>",
                            "<tr><td>198</td><td>Balkán András</td></tr>",
                            "<tr><td>199</td><td>Balkán András</td></tr>",
                            "<tr><td>200</td><td>Balkán András</td></tr>",
                            "<tr><td>159</td><td>Balkán András</td></tr>",
                            "<tr><td>160</td><td>Balkán András</td></tr>",
                            "<tr><td>161</td><td>Balkán András</td></tr>",
                            "<tr><td>162</td><td>Balkán András</td></tr>",
                            "<tr><td>163</td><td>Balkán András</td></tr>",
                            "<tr><td>164</td><td>Balkán András</td></tr>",
                            "<tr><td>165</td><td>Balkán András</td></tr>",
                            "<tr><td>166</td><td>Balkán András</td></tr>",
                            "<tr><td>167</td><td>Balkán András</td></tr>",
                            "<tr><td>168</td><td>Balkán András</td></tr>",
                            "<tr><td>169</td><td>Balkán András</td></tr>",
                            "<tr><td>170</td><td>Balkán András</td></tr>",
                            "<tr><td>171</td><td>Balkán András</td></tr>",
                            "<tr><td>172</td><td>Balkán András</td></tr>",
                            "<tr><td>173</td><td>Balkán András</td></tr>",
                            "<tr><td>174</td><td>Balkán András</td></tr>",
                            "<tr><td>175</td><td>Balkán András</td></tr>",
                            "<tr><td>176</td><td>Balkán András</td></tr>",
                            "<tr><td>177</td><td>Balkán András</td></tr>",
                            "<tr><td>178</td><td>Balkán András</td></tr>",
                            "<tr><td>179</td><td>Balkán András</td></tr>",
                            "<tr><td>180</td><td>Balkán András</td></tr>",
                            "<tr><td>181</td><td>Balkán András</td></tr>",
                            "<tr><td>182</td><td>Balkán András</td></tr>",
                            "<tr><td>183</td><td>Balkán András</td></tr>",
                            "<tr><td>184</td><td>Balkán András</td></tr>",
                            "<tr><td>185</td><td>Balkán András</td></tr>",
                            "<tr><td>187</td><td>Balkán András</td></tr>",
                            "<tr><td>188</td><td>Balkán András</td></tr>",
                            "<tr><td>189</td><td>Balkán András</td></tr>",
                            "<tr><td>190</td><td>Balkán András</td></tr>",
                            "</table>"
                        ]
                    }
                }
            ],
            "execution_count": 98
        },
        {
            "cell_type": "markdown",
            "source": [
                "13. <span style=\"color: rgb(36, 41, 47); font-family: -apple-system, BlinkMacSystemFont, &quot;Segoe UI&quot;, Helvetica, Arial, sans-serif, &quot;Apple Color Emoji&quot;, &quot;Segoe UI Emoji&quot;; font-size: 16px;\">Készítsünk listát, amely megjeleníti, hogy az Orak táblában lévő órák közül hányat tart Dr., illetve nem Dr. titulusú tanár!</span>\n",
                "\n",
                "1. Az oszlopokat nevezzük el értelemszerűen!"
            ],
            "metadata": {
                "azdata_cell_guid": "3f9237ae-f109-401c-acb9-31d75e73331b"
            },
            "attachments": {}
        },
        {
            "cell_type": "code",
            "source": [
                "SELECT CASE \n",
                "        WHEN okt.titulus LIKE 'Dr.'\n",
                "            THEN 'Dr.'\n",
                "        ELSE 'Nem Dr.'\n",
                "        END AS 'Titulus'\n",
                "    , count(o.ora_id)\n",
                "FROM orak o\n",
                "JOIN oktatok okt\n",
                "    ON okt.oktato_id = o.tanar\n",
                "GROUP BY CASE \n",
                "        WHEN okt.titulus LIKE 'Dr.'\n",
                "            THEN 'Dr.'\n",
                "        ELSE 'Nem Dr.'\n",
                "        END\n",
                ""
            ],
            "metadata": {
                "azdata_cell_guid": "4b31bb89-cfbc-46b1-8639-85c462877786",
                "language": "sql"
            },
            "outputs": [
                {
                    "output_type": "display_data",
                    "data": {
                        "text/html": "(2 rows affected)"
                    },
                    "metadata": {}
                },
                {
                    "output_type": "display_data",
                    "data": {
                        "text/html": "Total execution time: 00:00:00.021"
                    },
                    "metadata": {}
                },
                {
                    "output_type": "execute_result",
                    "metadata": {},
                    "execution_count": 100,
                    "data": {
                        "application/vnd.dataresource+json": {
                            "schema": {
                                "fields": [
                                    {
                                        "name": "Titulus"
                                    },
                                    {
                                        "name": "(No column name)"
                                    }
                                ]
                            },
                            "data": [
                                {
                                    "Titulus": "Dr.",
                                    "(No column name)": "25"
                                },
                                {
                                    "Titulus": "Nem Dr.",
                                    "(No column name)": "42"
                                }
                            ]
                        },
                        "text/html": [
                            "<table>",
                            "<tr><th>Titulus</th><th>(No column name)</th></tr>",
                            "<tr><td>Dr.</td><td>25</td></tr>",
                            "<tr><td>Nem Dr.</td><td>42</td></tr>",
                            "</table>"
                        ]
                    }
                }
            ],
            "execution_count": 100
        },
        {
            "cell_type": "markdown",
            "source": [
                "14. <span style=\"color: rgb(36, 41, 47); font-family: -apple-system, BlinkMacSystemFont, &quot;Segoe UI&quot;, Helvetica, Arial, sans-serif, &quot;Apple Color Emoji&quot;, &quot;Segoe UI Emoji&quot;; font-size: 16px;\">Készítsünk listát arról, hogy beosztásonként hány óra szerepel az Orak táblában!</span>\n",
                "\n",
                "1. Jelenítsük meg a beosztások nevét és az órák számát!\n",
                "2. A listát szűrjük azokra a beosztásokra, ahol ez az óraszám 10 feletti!"
            ],
            "metadata": {
                "azdata_cell_guid": "f634e09a-85ef-4e70-8ec6-ef355dfddaa7"
            },
            "attachments": {}
        },
        {
            "cell_type": "code",
            "source": [
                "SELECT beo.beosztasnev AS 'Beosztás'\n",
                "    , count(o.ora_id) AS 'Órák száma'\n",
                "FROM Orak o\n",
                "JOIN oktatok okt\n",
                "    ON okt.oktato_id = o.tanar\n",
                "JOIN Beosztasok beo\n",
                "    ON okt.beosztás = beo.beosztas_id\n",
                "GROUP BY beo.beosztasnev\n",
                "HAVING count(o.ora_id) > 10\n",
                ""
            ],
            "metadata": {
                "azdata_cell_guid": "88abc55b-2c78-495b-a72f-3f8f4eb5fe70",
                "language": "sql"
            },
            "outputs": [
                {
                    "output_type": "display_data",
                    "data": {
                        "text/html": "(3 rows affected)"
                    },
                    "metadata": {}
                },
                {
                    "output_type": "display_data",
                    "data": {
                        "text/html": "Total execution time: 00:00:00.020"
                    },
                    "metadata": {}
                },
                {
                    "output_type": "execute_result",
                    "metadata": {},
                    "execution_count": 104,
                    "data": {
                        "application/vnd.dataresource+json": {
                            "schema": {
                                "fields": [
                                    {
                                        "name": "Beosztás"
                                    },
                                    {
                                        "name": "Órák száma"
                                    }
                                ]
                            },
                            "data": [
                                {
                                    "Beosztás": "Adjunktus",
                                    "Órák száma": "14"
                                },
                                {
                                    "Beosztás": "Egyetemi tanár",
                                    "Órák száma": "11"
                                },
                                {
                                    "Beosztás": "Tanársegéd",
                                    "Órák száma": "22"
                                }
                            ]
                        },
                        "text/html": [
                            "<table>",
                            "<tr><th>Beosztás</th><th>Órák száma</th></tr>",
                            "<tr><td>Adjunktus</td><td>14</td></tr>",
                            "<tr><td>Egyetemi tanár</td><td>11</td></tr>",
                            "<tr><td>Tanársegéd</td><td>22</td></tr>",
                            "</table>"
                        ]
                    }
                }
            ],
            "execution_count": 104
        },
        {
            "cell_type": "markdown",
            "source": [
                "15. <span style=\"color: rgb(36, 41, 47); font-family: -apple-system, BlinkMacSystemFont, &quot;Segoe UI&quot;, Helvetica, Arial, sans-serif, &quot;Apple Color Emoji&quot;, &quot;Segoe UI Emoji&quot;; font-size: 16px;\">Melyek azok az órák, amelyek kezdési időpontja olyan sávba esik, amely a mostani időpont (óra:perc) után van?</span>\n",
                "\n",
                "1. Listázzuk az órák azonosítóit, valamint az órakezdés napját és időpontját!\n",
                "2. A listát rendezzük az időpont szerint növekvő sorrendbe!"
            ],
            "metadata": {
                "azdata_cell_guid": "4cbf2f0d-a65d-480a-8186-ccdb24498443"
            },
            "attachments": {}
        },
        {
            "cell_type": "code",
            "source": [
                ""
            ],
            "metadata": {
                "azdata_cell_guid": "c148aee8-bc85-40bf-b80a-a4898a6c05cb",
                "language": "sql"
            },
            "outputs": [],
            "execution_count": null
        }
    ]
}